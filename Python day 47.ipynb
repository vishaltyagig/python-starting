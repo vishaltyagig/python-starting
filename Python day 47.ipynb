{
 "cells": [
  {
   "cell_type": "markdown",
   "id": "a9f3c3d3",
   "metadata": {},
   "source": [
    "# Input and Output in Python"
   ]
  },
  {
   "cell_type": "code",
   "execution_count": 1,
   "id": "3ec5bfc8",
   "metadata": {},
   "outputs": [
    {
     "name": "stdout",
     "output_type": "stream",
     "text": [
      "Enter your name: Dadda Tyagi\n",
      "Hello, Dadda Tyagi\n",
      "<class 'str'>\n"
     ]
    }
   ],
   "source": [
    "# Taking input from the user\n",
    "name = input(\"Enter your name: \")\n",
    " \n",
    "# Output\n",
    "print(\"Hello, \" + name)\n",
    "print(type(name))"
   ]
  },
  {
   "cell_type": "code",
   "execution_count": 2,
   "id": "40bdbd17",
   "metadata": {},
   "outputs": [
    {
     "name": "stdout",
     "output_type": "stream",
     "text": [
      "Enter a number: 15\n",
      "16\n"
     ]
    }
   ],
   "source": [
    "# Taking input from the user as integer\n",
    "num = int(input(\"Enter a number: \"))\n",
    " \n",
    "add = num + 1\n",
    " \n",
    "# Output\n",
    "print(add)"
   ]
  },
  {
   "cell_type": "code",
   "execution_count": 4,
   "id": "6da6de36",
   "metadata": {},
   "outputs": [
    {
     "name": "stdout",
     "output_type": "stream",
     "text": [
      "Enter the Numbers : 2 3 4\n",
      "The Numbers are :  2 3 4\n"
     ]
    }
   ],
   "source": [
    "a, b, c = map(int, input(\"Enter the Numbers : \").split())\n",
    "print(\"The Numbers are : \",end = \" \")\n",
    "print(a, b, c) "
   ]
  },
  {
   "cell_type": "code",
   "execution_count": 5,
   "id": "c81050ea",
   "metadata": {},
   "outputs": [
    {
     "name": "stdout",
     "output_type": "stream",
     "text": [
      "Enter the size of the List : 4\n",
      "Enter the size of the Set  : 5\n",
      "Enter the List elements : \n",
      "5\n",
      "6\n",
      "7\n",
      "8\n",
      "Enter the Set elements : \n",
      "5\n",
      "6\n",
      "7\n",
      "8\n",
      "9\n",
      "[5, 6, 7, 8]\n",
      "{5, 6, 7, 8, 9}\n"
     ]
    }
   ],
   "source": [
    "List = list()\n",
    "Set = set()\n",
    "l = int(input(\"Enter the size of the List : \"))\n",
    "s = int(input(\"Enter the size of the Set  : \"))\n",
    "print(\"Enter the List elements : \")\n",
    "for i in range(0, l):\n",
    "    List.append(int(input()))\n",
    "print(\"Enter the Set elements : \")\n",
    "for i in range(0, s):\n",
    "    Set.add(int(input()))\n",
    "print(List)\n",
    "print(Set)"
   ]
  },
  {
   "cell_type": "code",
   "execution_count": 6,
   "id": "f5b573c0",
   "metadata": {},
   "outputs": [
    {
     "name": "stdout",
     "output_type": "stream",
     "text": [
      "Enter the size of the List : 2\n",
      "Enter the size of the Set  : 3\n",
      "Enter the List elements : \n",
      "1\n",
      "2\n",
      "Enter the Set elements : \n",
      "3\n",
      "5\n",
      "6\n",
      "[1, 2]\n",
      "{3, 5, 6}\n"
     ]
    }
   ],
   "source": [
    "List = list()\n",
    "Set = set()\n",
    "l = int(input(\"Enter the size of the List : \"))\n",
    "s = int(input(\"Enter the size of the Set  : \"))\n",
    "print(\"Enter the List elements : \")\n",
    "for i in range(0, l):\n",
    "    List.append(int(input()))\n",
    "print(\"Enter the Set elements : \")\n",
    "for i in range(0, s):\n",
    "    Set.add(int(input()))\n",
    "print(List)\n",
    "print(Set)"
   ]
  },
  {
   "cell_type": "code",
   "execution_count": 7,
   "id": "38214fbd",
   "metadata": {},
   "outputs": [
    {
     "name": "stdout",
     "output_type": "stream",
     "text": [
      "Enter List elements : 5 6 8 9 7 8\n",
      "Enter the Set elements :54 60 874 122 1220 433\n",
      "[5, 6, 8, 9, 7, 8]\n",
      "{1220, 874, 433, 54, 122, 60}\n"
     ]
    }
   ],
   "source": [
    "List = list(map(int, input(\"Enter List elements : \").split()))\n",
    "Set = set(map(int, input(\"Enter the Set elements :\").split()))\n",
    "print(List)\n",
    "print(Set)"
   ]
  },
  {
   "cell_type": "code",
   "execution_count": 8,
   "id": "98658c1b",
   "metadata": {},
   "outputs": [
    {
     "name": "stdout",
     "output_type": "stream",
     "text": [
      "Enter List elements : 52 56 6521 485 65\n",
      "[52, 56, 6521, 485, 65]\n"
     ]
    }
   ],
   "source": [
    "List = list(map(int, input(\"Enter List elements : \").split()))\n",
    "print(List)"
   ]
  },
  {
   "cell_type": "code",
   "execution_count": 9,
   "id": "f93ffce5",
   "metadata": {},
   "outputs": [
    {
     "name": "stdout",
     "output_type": "stream",
     "text": [
      "Tuple before adding new element\n",
      "(2, 3, 4, 5, 6)\n",
      "Enter the new element : 45632\n",
      "Tuple After adding the new element\n",
      "(2, 3, 4, 5, 6, 45632)\n"
     ]
    }
   ],
   "source": [
    "T = (2, 3, 4, 5, 6)\n",
    "print(\"Tuple before adding new element\")\n",
    "print(T)\n",
    "L = list(T)\n",
    "L.append(int(input(\"Enter the new element : \")))\n",
    "T = tuple(L)\n",
    "print(\"Tuple After adding the new element\")\n",
    "print(T)"
   ]
  },
  {
   "cell_type": "code",
   "execution_count": 10,
   "id": "f2fe5bed",
   "metadata": {},
   "outputs": [
    {
     "name": "stdout",
     "output_type": "stream",
     "text": [
      "Tuple before adding new element\n",
      "(2, 3, 4, 5, 6)\n"
     ]
    }
   ],
   "source": [
    "T = (2, 3, 4, 5, 6)\n",
    "print(\"Tuple before adding new element\")\n",
    "print(T)"
   ]
  },
  {
   "cell_type": "code",
   "execution_count": 11,
   "id": "941d93fb",
   "metadata": {},
   "outputs": [
    {
     "name": "stdout",
     "output_type": "stream",
     "text": [
      "GFG\n",
      "G F G\n"
     ]
    }
   ],
   "source": [
    "# Python program to demonstrate\n",
    "# print() method\n",
    "print(\"GFG\")\n",
    " \n",
    "# code for disabling the softspace feature  \n",
    "print('G', 'F', 'G')"
   ]
  },
  {
   "cell_type": "code",
   "execution_count": 12,
   "id": "7820b935",
   "metadata": {},
   "outputs": [
    {
     "name": "stdout",
     "output_type": "stream",
     "text": [
      "GFG@G#F#G\n"
     ]
    }
   ],
   "source": [
    "# Python program to demonstrate\n",
    "# print() method\n",
    "print(\"GFG\", end = \"@\")\n",
    " \n",
    "# code for disabling the softspace feature  \n",
    "print('G', 'F', 'G', sep=\"#\")"
   ]
  },
  {
   "cell_type": "code",
   "execution_count": 13,
   "id": "835f0221",
   "metadata": {},
   "outputs": [
    {
     "name": "stdout",
     "output_type": "stream",
     "text": [
      "Hello Gfg! How are you?\n"
     ]
    }
   ],
   "source": [
    "# Declaring a variable\n",
    "name = \"Gfg\"\n",
    " \n",
    "# Output\n",
    "print(f'Hello {name}! How are you?')"
   ]
  },
  {
   "cell_type": "code",
   "execution_count": 14,
   "id": "a84199b3",
   "metadata": {},
   "outputs": [
    {
     "name": "stdout",
     "output_type": "stream",
     "text": [
      "The value of a is 20 and b is 10\n",
      "30 is the sum of 20 and 10\n",
      "10 is the subtraction of 20 and 10\n"
     ]
    }
   ],
   "source": [
    "# Initializing variables\n",
    "a = 20\n",
    "b = 10\n",
    " \n",
    "# addition\n",
    "sum = a + b\n",
    " \n",
    "# subtraction\n",
    "sub = a- b\n",
    " \n",
    "# Output\n",
    "print('The value of a is {} and b is {}'.format(a,b))\n",
    " \n",
    "print('{2} is the sum of {0} and {1}'.format(a,b,sum))\n",
    " \n",
    "print('{sub_value} is the subtraction of {value_a} and {value_b}'.format(value_a = a , \n",
    "                                                                         value_b = b,\n",
    "                                                                         sub_value = sub))"
   ]
  },
  {
   "cell_type": "code",
   "execution_count": 15,
   "id": "4679f06d",
   "metadata": {},
   "outputs": [
    {
     "name": "stdout",
     "output_type": "stream",
     "text": [
      "Enter a value: 50\n",
      "The sum is 55\n"
     ]
    }
   ],
   "source": [
    "# Taking input from the user\n",
    "num = int(input(\"Enter a value: \"))\n",
    " \n",
    "add = num + 5\n",
    " \n",
    "# Output\n",
    "print(\"The sum is %d\" %add)"
   ]
  },
  {
   "cell_type": "code",
   "execution_count": null,
   "id": "36882247",
   "metadata": {},
   "outputs": [],
   "source": []
  }
 ],
 "metadata": {
  "kernelspec": {
   "display_name": "Python 3 (ipykernel)",
   "language": "python",
   "name": "python3"
  },
  "language_info": {
   "codemirror_mode": {
    "name": "ipython",
    "version": 3
   },
   "file_extension": ".py",
   "mimetype": "text/x-python",
   "name": "python",
   "nbconvert_exporter": "python",
   "pygments_lexer": "ipython3",
   "version": "3.10.9"
  }
 },
 "nbformat": 4,
 "nbformat_minor": 5
}
