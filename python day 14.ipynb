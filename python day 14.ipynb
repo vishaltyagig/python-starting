{
 "cells": [
  {
   "cell_type": "markdown",
   "id": "8223808f",
   "metadata": {},
   "source": [
    "## list"
   ]
  },
  {
   "cell_type": "code",
   "execution_count": 1,
   "id": "8b639740",
   "metadata": {},
   "outputs": [
    {
     "name": "stdout",
     "output_type": "stream",
     "text": [
      "[1, 2, 7, 8, 15, 21]\n"
     ]
    }
   ],
   "source": [
    "# list methods\n",
    "\n",
    "l1 = [1,8,7,2,21,15]\n",
    "l1.sort()\n",
    "print(l1)"
   ]
  },
  {
   "cell_type": "code",
   "execution_count": 2,
   "id": "0d3247cb",
   "metadata": {},
   "outputs": [
    {
     "name": "stdout",
     "output_type": "stream",
     "text": [
      "[15, 21, 2, 7, 8, 1]\n"
     ]
    }
   ],
   "source": [
    "# list methods\n",
    "\n",
    "l1 = [1,8,7,2,21,15]\n",
    "l1.reverse()\n",
    "print(l1)"
   ]
  },
  {
   "cell_type": "code",
   "execution_count": 3,
   "id": "2fe67aee",
   "metadata": {},
   "outputs": [
    {
     "name": "stdout",
     "output_type": "stream",
     "text": [
      "[1, 8, 7, 2, 21, 15, 3]\n"
     ]
    }
   ],
   "source": [
    "# list methods\n",
    "\n",
    "l1 = [1,8,7,2,21,15]\n",
    "l1.append(3) # add at the end of the list\n",
    "print(l1)"
   ]
  },
  {
   "cell_type": "code",
   "execution_count": 4,
   "id": "c99e6d2c",
   "metadata": {},
   "outputs": [
    {
     "name": "stdout",
     "output_type": "stream",
     "text": [
      "[5, 1, 8, 7, 2, 21, 15]\n"
     ]
    }
   ],
   "source": [
    "# list methods\n",
    "\n",
    "l1 = [1,8,7,2,21,15]\n",
    "l1.insert(0,5) # at 0 position add 5\n",
    "print(l1)"
   ]
  },
  {
   "cell_type": "code",
   "execution_count": 5,
   "id": "d5671640",
   "metadata": {},
   "outputs": [
    {
     "name": "stdout",
     "output_type": "stream",
     "text": [
      "[1, 7, 2, 21, 15]\n"
     ]
    }
   ],
   "source": [
    "# list methods\n",
    "\n",
    "l1 = [1,8,7,2,21,15]\n",
    "l1.pop(1)\n",
    "print(l1)"
   ]
  },
  {
   "cell_type": "code",
   "execution_count": 6,
   "id": "85646776",
   "metadata": {},
   "outputs": [
    {
     "name": "stdout",
     "output_type": "stream",
     "text": [
      "[1, 8, 7, 2, 15]\n"
     ]
    }
   ],
   "source": [
    "# list methods\n",
    "\n",
    "l1 = [1,8,7,2,21,15]\n",
    "l1.remove(21) # remove 21 from the list\n",
    "print(l1)"
   ]
  },
  {
   "cell_type": "markdown",
   "id": "c25b8dd7",
   "metadata": {},
   "source": [
    "## tuples"
   ]
  },
  {
   "cell_type": "code",
   "execution_count": 7,
   "id": "f259d680",
   "metadata": {},
   "outputs": [
    {
     "name": "stdout",
     "output_type": "stream",
     "text": [
      "1\n"
     ]
    }
   ],
   "source": [
    "# creting a tuple using()\n",
    "t = (1,2,4,5)\n",
    "\n",
    "# printing elements of tuple\n",
    "print(t[0])\n",
    "\n",
    "# we can't update tuple value"
   ]
  },
  {
   "cell_type": "code",
   "execution_count": 8,
   "id": "4b408a2d",
   "metadata": {},
   "outputs": [
    {
     "name": "stdout",
     "output_type": "stream",
     "text": [
      "()\n"
     ]
    }
   ],
   "source": [
    "t1 = () # empty tuple\n",
    "print(t1)"
   ]
  },
  {
   "cell_type": "code",
   "execution_count": 10,
   "id": "9071e031",
   "metadata": {},
   "outputs": [
    {
     "name": "stdout",
     "output_type": "stream",
     "text": [
      "(1,)\n"
     ]
    }
   ],
   "source": [
    "t = (1,) # tuple with single elements, it always use , \n",
    "print(t)"
   ]
  },
  {
   "cell_type": "code",
   "execution_count": 11,
   "id": "9e61f206",
   "metadata": {},
   "outputs": [
    {
     "name": "stdout",
     "output_type": "stream",
     "text": [
      "Enter fruit number 1 apple\n",
      "Enter fruit number 2 banana\n",
      "Enter fruit number 3 mango\n",
      "Enter fruit number 4 guvava\n",
      "Enter fruit number 5 grapes\n",
      "Enter fruit number 6 orange\n",
      "Enter fruit number 7 kiwi\n",
      "['apple', 'banana', 'mango', 'guvava', 'grapes', 'orange', 'kiwi']\n"
     ]
    }
   ],
   "source": [
    "# wap to store seven fruits in a list entered by the user.\n",
    "\n",
    "f1 = input(\"Enter fruit number 1 \")\n",
    "f2 = input(\"Enter fruit number 2 \")\n",
    "f3 = input(\"Enter fruit number 3 \")\n",
    "f4 = input(\"Enter fruit number 4 \")\n",
    "f5 = input(\"Enter fruit number 5 \")\n",
    "f6 = input(\"Enter fruit number 6 \")\n",
    "f7 = input(\"Enter fruit number 7 \")\n",
    "\n",
    "myfruitlist = [f1, f2, f3, f4, f5, f6, f7]\n",
    "print(myfruitlist)"
   ]
  },
  {
   "cell_type": "code",
   "execution_count": 13,
   "id": "0fa87444",
   "metadata": {},
   "outputs": [
    {
     "name": "stdout",
     "output_type": "stream",
     "text": [
      "Enter marks for student number 1: 52\n",
      "Enter marks for student number 2: 53\n",
      "Enter marks for student number 3: 54\n",
      "Enter marks for student number 4: 62\n",
      "Enter marks for student number 5: 64\n",
      "Enter marks for student number 6: 63\n",
      "[52, 53, 54, 62, 63, 64]\n"
     ]
    }
   ],
   "source": [
    " # wap to accept marks of 6 students and display them in sorted manner\n",
    "    \n",
    "m1 = int(input(\"Enter marks for student number 1: \"))\n",
    "m2 = int(input(\"Enter marks for student number 2: \"))\n",
    "m3 = int(input(\"Enter marks for student number 3: \"))\n",
    "m4 = int(input(\"Enter marks for student number 4: \"))\n",
    "m5 = int(input(\"Enter marks for student number 5: \"))\n",
    "m6 = int(input(\"Enter marks for student number 6: \"))\n",
    "\n",
    "mylist =[m1, m2, m3, m4, m5, m6]\n",
    "mylist.sort()\n",
    "print(mylist)"
   ]
  },
  {
   "cell_type": "code",
   "execution_count": 14,
   "id": "2403339c",
   "metadata": {},
   "outputs": [
    {
     "ename": "TypeError",
     "evalue": "'tuple' object does not support item assignment",
     "output_type": "error",
     "traceback": [
      "\u001b[1;31m---------------------------------------------------------------------------\u001b[0m",
      "\u001b[1;31mTypeError\u001b[0m                                 Traceback (most recent call last)",
      "Cell \u001b[1;32mIn[14], line 4\u001b[0m\n\u001b[0;32m      1\u001b[0m \u001b[38;5;66;03m# change tuple test\u001b[39;00m\n\u001b[0;32m      3\u001b[0m a \u001b[38;5;241m=\u001b[39m (\u001b[38;5;241m2\u001b[39m,\u001b[38;5;241m5\u001b[39m,\u001b[38;5;241m6\u001b[39m,\u001b[38;5;241m7\u001b[39m)\n\u001b[1;32m----> 4\u001b[0m \u001b[43ma\u001b[49m\u001b[43m[\u001b[49m\u001b[38;5;241;43m0\u001b[39;49m\u001b[43m]\u001b[49m \u001b[38;5;241m=\u001b[39m \u001b[38;5;241m9\u001b[39m\n",
      "\u001b[1;31mTypeError\u001b[0m: 'tuple' object does not support item assignment"
     ]
    }
   ],
   "source": [
    "# change tuple test\n",
    "\n",
    "a = (2,5,6,7)\n",
    "a[0] = 9"
   ]
  },
  {
   "cell_type": "code",
   "execution_count": 15,
   "id": "1a9033af",
   "metadata": {},
   "outputs": [
    {
     "name": "stdout",
     "output_type": "stream",
     "text": [
      "20\n"
     ]
    }
   ],
   "source": [
    "# wap to sum a list with 4 numbers\n",
    "\n",
    "\n",
    "a = (2,4,6,8)\n",
    "print(a[0] + a[1] + a[2] + a[3])"
   ]
  },
  {
   "cell_type": "code",
   "execution_count": 16,
   "id": "63e1335d",
   "metadata": {},
   "outputs": [
    {
     "name": "stdout",
     "output_type": "stream",
     "text": [
      "20\n"
     ]
    }
   ],
   "source": [
    "print(sum(a))"
   ]
  },
  {
   "cell_type": "code",
   "execution_count": 18,
   "id": "0f02691f",
   "metadata": {},
   "outputs": [
    {
     "data": {
      "text/plain": [
       "3"
      ]
     },
     "execution_count": 18,
     "metadata": {},
     "output_type": "execute_result"
    }
   ],
   "source": [
    "# wap to count the number of zero in the following tuple\n",
    "# a = (7,0,8,0,0,9)\n",
    "\n",
    "a = (7,0,8,0,0,9)\n",
    "a = a.count(0)\n",
    "a"
   ]
  },
  {
   "cell_type": "markdown",
   "id": "7203bd09",
   "metadata": {},
   "source": [
    "## dictonary"
   ]
  },
  {
   "cell_type": "code",
   "execution_count": 19,
   "id": "3ada8fcb",
   "metadata": {},
   "outputs": [
    {
     "name": "stdout",
     "output_type": "stream",
     "text": [
      "in a quick manner\n"
     ]
    }
   ],
   "source": [
    "# it is collections of key and value pair\n",
    "\n",
    "mydict = {\n",
    "    \"fast\": \"in a quick manner\",\n",
    "    \"harry\": \"a coder\"\n",
    "}\n",
    "\n",
    "print(mydict['fast'])"
   ]
  },
  {
   "cell_type": "code",
   "execution_count": null,
   "id": "dec3a41a",
   "metadata": {},
   "outputs": [],
   "source": []
  }
 ],
 "metadata": {
  "kernelspec": {
   "display_name": "Python 3 (ipykernel)",
   "language": "python",
   "name": "python3"
  },
  "language_info": {
   "codemirror_mode": {
    "name": "ipython",
    "version": 3
   },
   "file_extension": ".py",
   "mimetype": "text/x-python",
   "name": "python",
   "nbconvert_exporter": "python",
   "pygments_lexer": "ipython3",
   "version": "3.10.9"
  }
 },
 "nbformat": 4,
 "nbformat_minor": 5
}
