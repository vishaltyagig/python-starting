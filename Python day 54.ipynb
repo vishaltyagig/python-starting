{
 "cells": [
  {
   "cell_type": "code",
   "execution_count": 1,
   "id": "e2de78e0",
   "metadata": {},
   "outputs": [
    {
     "name": "stdout",
     "output_type": "stream",
     "text": [
      "Enter two values: 45 54\n",
      "Number of boys:  45\n",
      "Number of girls:  54\n",
      "Enter three values: 12 22 21\n",
      "Total number of students:  12\n",
      "Number of boys is :  22\n",
      "Number of girls is :  21\n",
      "Enter two values: 26 62\n",
      "First number is 26 and second number is 62\n",
      "Enter multiple values: 15 78 8 9 4 5 3 6\n",
      "List of students:  [15, 78, 8, 9, 4, 5, 3, 6]\n"
     ]
    }
   ],
   "source": [
    "# Python program showing how to\n",
    "# multiple input using split\n",
    " \n",
    "# taking two inputs at a time\n",
    "x, y = input(\"Enter two values: \").split()\n",
    "print(\"Number of boys: \", x)\n",
    "print(\"Number of girls: \", y)\n",
    " \n",
    "# taking three inputs at a time\n",
    "x, y, z = input(\"Enter three values: \").split()\n",
    "print(\"Total number of students: \", x)\n",
    "print(\"Number of boys is : \", y)\n",
    "print(\"Number of girls is : \", z)\n",
    " \n",
    "# taking two inputs at a time\n",
    "a, b = input(\"Enter two values: \").split()\n",
    "print(\"First number is {} and second number is {}\".format(a, b))\n",
    " \n",
    "# taking multiple inputs at a time \n",
    "# and type casting using list() function\n",
    "x = list(map(int, input(\"Enter multiple values: \").split()))\n",
    "print(\"List of students: \", x)"
   ]
  },
  {
   "cell_type": "code",
   "execution_count": 3,
   "id": "70d5c04f",
   "metadata": {},
   "outputs": [
    {
     "name": "stdout",
     "output_type": "stream",
     "text": [
      "Enter two values: 45 54\n",
      "First Number is:  45\n",
      "Second Number is:  54\n",
      "Enter three values: 45 54 55\n",
      "First Number is:  45\n",
      "Second Number is:  54\n",
      "Third Number is:  55\n",
      "Enter two values: 45 65\n",
      "First number is 45 and second number is 65\n",
      "Enter multiple values: 4 5 6 7 8 9\n",
      "Number of list is:  [4, 5, 6, 7, 8, 9]\n"
     ]
    }
   ],
   "source": [
    "# Python program showing\n",
    "# how to take multiple input\n",
    "# using List comprehension\n",
    " \n",
    "# taking two input at a time\n",
    "x, y = [int(x) for x in input(\"Enter two values: \").split()]\n",
    "print(\"First Number is: \", x)\n",
    "print(\"Second Number is: \", y)\n",
    " \n",
    "# taking three input at a time\n",
    "x, y, z = [int(x) for x in input(\"Enter three values: \").split()]\n",
    "print(\"First Number is: \", x)\n",
    "print(\"Second Number is: \", y)\n",
    "print(\"Third Number is: \", z)\n",
    " \n",
    "# taking two inputs at a time\n",
    "x, y = [int(x) for x in input(\"Enter two values: \").split()]\n",
    "print(\"First number is {} and second number is {}\".format(x, y))\n",
    " \n",
    "# taking multiple inputs at a time \n",
    "x = [int(x) for x in input(\"Enter multiple values: \").split()]\n",
    "print(\"Number of list is: \", x) "
   ]
  },
  {
   "cell_type": "code",
   "execution_count": 4,
   "id": "12992b16",
   "metadata": {},
   "outputs": [
    {
     "name": "stdout",
     "output_type": "stream",
     "text": [
      "Enter multiple value: 7 8 9 6 5 4 3 2 1\n"
     ]
    },
    {
     "ename": "ValueError",
     "evalue": "invalid literal for int() with base 10: '7 8 9 6 5 4 3 2 1'",
     "output_type": "error",
     "traceback": [
      "\u001b[1;31m---------------------------------------------------------------------------\u001b[0m",
      "\u001b[1;31mValueError\u001b[0m                                Traceback (most recent call last)",
      "Cell \u001b[1;32mIn[4], line 2\u001b[0m\n\u001b[0;32m      1\u001b[0m \u001b[38;5;66;03m# taking multiple inputs at a time separated by comma\u001b[39;00m\n\u001b[1;32m----> 2\u001b[0m x \u001b[38;5;241m=\u001b[39m [\u001b[38;5;28mint\u001b[39m(x) \u001b[38;5;28;01mfor\u001b[39;00m x \u001b[38;5;129;01min\u001b[39;00m \u001b[38;5;28minput\u001b[39m(\u001b[38;5;124m\"\u001b[39m\u001b[38;5;124mEnter multiple value: \u001b[39m\u001b[38;5;124m\"\u001b[39m)\u001b[38;5;241m.\u001b[39msplit(\u001b[38;5;124m\"\u001b[39m\u001b[38;5;124m,\u001b[39m\u001b[38;5;124m\"\u001b[39m)]\n\u001b[0;32m      3\u001b[0m \u001b[38;5;28mprint\u001b[39m(\u001b[38;5;124m\"\u001b[39m\u001b[38;5;124mNumber of list is: \u001b[39m\u001b[38;5;124m\"\u001b[39m, x) \n",
      "Cell \u001b[1;32mIn[4], line 2\u001b[0m, in \u001b[0;36m<listcomp>\u001b[1;34m(.0)\u001b[0m\n\u001b[0;32m      1\u001b[0m \u001b[38;5;66;03m# taking multiple inputs at a time separated by comma\u001b[39;00m\n\u001b[1;32m----> 2\u001b[0m x \u001b[38;5;241m=\u001b[39m [\u001b[38;5;28;43mint\u001b[39;49m\u001b[43m(\u001b[49m\u001b[43mx\u001b[49m\u001b[43m)\u001b[49m \u001b[38;5;28;01mfor\u001b[39;00m x \u001b[38;5;129;01min\u001b[39;00m \u001b[38;5;28minput\u001b[39m(\u001b[38;5;124m\"\u001b[39m\u001b[38;5;124mEnter multiple value: \u001b[39m\u001b[38;5;124m\"\u001b[39m)\u001b[38;5;241m.\u001b[39msplit(\u001b[38;5;124m\"\u001b[39m\u001b[38;5;124m,\u001b[39m\u001b[38;5;124m\"\u001b[39m)]\n\u001b[0;32m      3\u001b[0m \u001b[38;5;28mprint\u001b[39m(\u001b[38;5;124m\"\u001b[39m\u001b[38;5;124mNumber of list is: \u001b[39m\u001b[38;5;124m\"\u001b[39m, x) \n",
      "\u001b[1;31mValueError\u001b[0m: invalid literal for int() with base 10: '7 8 9 6 5 4 3 2 1'"
     ]
    }
   ],
   "source": [
    "# taking multiple inputs at a time separated by comma\n",
    "x = [int(x) for x in input(\"Enter multiple value: \").split(\",\")]\n",
    "print(\"Number of list is: \", x) "
   ]
  },
  {
   "cell_type": "code",
   "execution_count": 6,
   "id": "e81163c8",
   "metadata": {},
   "outputs": [
    {
     "name": "stdout",
     "output_type": "stream",
     "text": [
      "Enter multiple values separated by comma: 4 5 6 7\n",
      "Invalid input. Please enter comma-separated integers only.\n",
      "Number of list is:  [4, 5, 6, 7, 8, 9]\n"
     ]
    }
   ],
   "source": [
    "try:\n",
    "    x = [int(x.strip()) for x in input(\"Enter multiple values separated by comma: \").split(\",\")]\n",
    "    print(\"List of numbers:\", x)\n",
    "except ValueError:\n",
    "    print(\"Invalid input. Please enter comma-separated integers only.\")\n",
    "    print(\"Number of list is: \", x) "
   ]
  },
  {
   "cell_type": "code",
   "execution_count": 7,
   "id": "35f85443",
   "metadata": {},
   "outputs": [
    {
     "name": "stdout",
     "output_type": "stream",
     "text": [
      "Enter multiple values separated by comma: 1 2 3\n",
      "Invalid input. Please enter comma-separated integers only.\n",
      "Number of list is:  [4, 5, 6, 7, 8, 9]\n"
     ]
    }
   ],
   "source": [
    "try:\n",
    "    x = [int(x.strip()) for x in input(\"Enter multiple values separated by comma: \").split(\",\")]\n",
    "    print(\"List of numbers:\", x)\n",
    "except ValueError:\n",
    "    print(\"Invalid input. Please enter comma-separated integers only.\")\n",
    "    print(\"Number of list is: \", x) "
   ]
  },
  {
   "cell_type": "code",
   "execution_count": 8,
   "id": "2a606e78",
   "metadata": {},
   "outputs": [
    {
     "name": "stdout",
     "output_type": "stream",
     "text": [
      "Enter a single character as input: 44\n",
      "Please enter a single character to continue\n",
      "\n",
      "Enter a single character as input: 45\n",
      "Please enter a single character to continue\n",
      "\n",
      "Enter a single character as input: 56\n",
      "Please enter a single character to continue\n",
      "\n",
      "Enter a single character as input: 65\n",
      "Please enter a single character to continue\n",
      "\n",
      "Enter a single character as input: 778\n",
      "Please enter a single character to continue\n",
      "\n",
      "Enter a single character as input: 87\n",
      "Please enter a single character to continue\n",
      "\n",
      "Enter a single character as input: 4\n",
      "Your single character input was: 4\n"
     ]
    }
   ],
   "source": [
    "usrInput = ''\n",
    " \n",
    "while True:\n",
    "    usrInput = input(\"Enter a single character as input: \")\n",
    "    if len(usrInput) == 1:\n",
    "        print(f'Your single character input was: {usrInput}')\n",
    "        break\n",
    "    print(\"Please enter a single character to continue\\n\")"
   ]
  },
  {
   "cell_type": "code",
   "execution_count": 9,
   "id": "3a63a187",
   "metadata": {},
   "outputs": [
    {
     "name": "stdout",
     "output_type": "stream",
     "text": [
      "Please enter a character:45\n",
      "Your single character input was: 4\n"
     ]
    }
   ],
   "source": [
    "usrInput = input('Please enter a character:')[0]\n",
    "print(f'Your single character input was: {usrInput}')"
   ]
  },
  {
   "cell_type": "code",
   "execution_count": 10,
   "id": "12e251ae",
   "metadata": {},
   "outputs": [
    {
     "name": "stdout",
     "output_type": "stream",
     "text": [
      "Please enter a character:54\n",
      "Your single character input was: 5\n"
     ]
    }
   ],
   "source": [
    "usrInput = input('Please enter a character:')[0]\n",
    "print(f'Your single character input was: {usrInput}')"
   ]
  },
  {
   "cell_type": "code",
   "execution_count": 11,
   "id": "e6c6c919",
   "metadata": {},
   "outputs": [
    {
     "name": "stdout",
     "output_type": "stream",
     "text": [
      "Please enter a character:5\n"
     ]
    },
    {
     "ename": "IndexError",
     "evalue": "string index out of range",
     "output_type": "error",
     "traceback": [
      "\u001b[1;31m---------------------------------------------------------------------------\u001b[0m",
      "\u001b[1;31mIndexError\u001b[0m                                Traceback (most recent call last)",
      "Cell \u001b[1;32mIn[11], line 3\u001b[0m\n\u001b[0;32m      1\u001b[0m i \u001b[38;5;241m=\u001b[39m \u001b[38;5;241m7\u001b[39m\n\u001b[1;32m----> 3\u001b[0m usrInput \u001b[38;5;241m=\u001b[39m \u001b[38;5;28;43minput\u001b[39;49m\u001b[43m(\u001b[49m\u001b[38;5;124;43m'\u001b[39;49m\u001b[38;5;124;43mPlease enter a character:\u001b[39;49m\u001b[38;5;124;43m'\u001b[39;49m\u001b[43m)\u001b[49m\u001b[43m[\u001b[49m\u001b[43mi\u001b[49m\u001b[43m]\u001b[49m\n\u001b[0;32m      4\u001b[0m \u001b[38;5;28mprint\u001b[39m(\u001b[38;5;124mf\u001b[39m\u001b[38;5;124m'\u001b[39m\u001b[38;5;124mYour single character input was: \u001b[39m\u001b[38;5;132;01m{\u001b[39;00musrInput\u001b[38;5;132;01m}\u001b[39;00m\u001b[38;5;124m'\u001b[39m)\n",
      "\u001b[1;31mIndexError\u001b[0m: string index out of range"
     ]
    }
   ],
   "source": [
    "i = 7\n",
    " \n",
    "usrInput = input('Please enter a character:')[i]\n",
    "print(f'Your single character input was: {usrInput}')"
   ]
  },
  {
   "cell_type": "code",
   "execution_count": 12,
   "id": "a2ecfbb9",
   "metadata": {},
   "outputs": [
    {
     "name": "stdout",
     "output_type": "stream",
     "text": [
      "Please enter a character:4 5 6 7 8 9 1\n",
      "Your single character input was:  \n"
     ]
    }
   ],
   "source": [
    "i = 7\n",
    " \n",
    "usrInput = input('Please enter a character:')[i]\n",
    "print(f'Your single character input was: {usrInput}')\n"
   ]
  },
  {
   "cell_type": "code",
   "execution_count": 13,
   "id": "9d825c90",
   "metadata": {},
   "outputs": [
    {
     "name": "stdout",
     "output_type": "stream",
     "text": [
      "Please enter a character:dfgvhjk\n",
      "Your single character input was: k\n"
     ]
    }
   ],
   "source": [
    "usrInput = input('Please enter a character:')[-1]\n",
    "print(f'Your single character input was: {usrInput}')"
   ]
  },
  {
   "cell_type": "code",
   "execution_count": null,
   "id": "ecc18be3",
   "metadata": {},
   "outputs": [],
   "source": []
  }
 ],
 "metadata": {
  "kernelspec": {
   "display_name": "Python 3 (ipykernel)",
   "language": "python",
   "name": "python3"
  },
  "language_info": {
   "codemirror_mode": {
    "name": "ipython",
    "version": 3
   },
   "file_extension": ".py",
   "mimetype": "text/x-python",
   "name": "python",
   "nbconvert_exporter": "python",
   "pygments_lexer": "ipython3",
   "version": "3.10.9"
  }
 },
 "nbformat": 4,
 "nbformat_minor": 5
}
