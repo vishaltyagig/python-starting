{
 "cells": [
  {
   "cell_type": "markdown",
   "id": "a9b23e80",
   "metadata": {},
   "source": [
    "## List"
   ]
  },
  {
   "cell_type": "code",
   "execution_count": 18,
   "id": "fbb0ab6a",
   "metadata": {},
   "outputs": [
    {
     "name": "stdout",
     "output_type": "stream",
     "text": [
      "Accessing element from the list\n",
      "Geeks\n",
      "Geeks\n",
      "Accessing element using negative indexing\n",
      "Geeks\n",
      "Geeks\n"
     ]
    }
   ],
   "source": [
    "List = [\"Geeks\", \"For\", \"Geeks\"] \n",
    "print(\"Accessing element from the list\") \n",
    "print(List[0]) \n",
    "print(List[2]) \n",
    "print(\"Accessing element using negative indexing\") \n",
    "print(List[-1]) \n",
    "print(List[-3]) "
   ]
  },
  {
   "cell_type": "code",
   "execution_count": 2,
   "id": "a5a907a2",
   "metadata": {},
   "outputs": [
    {
     "name": "stdout",
     "output_type": "stream",
     "text": [
      "Accessing element using negative indexing\n",
      "Geeks\n",
      "For\n"
     ]
    }
   ],
   "source": [
    "List = [\"Geeks\", \"For\", \"Geeks\"] \n",
    "print(\"Accessing element using negative indexing\") \n",
    "print(List[-1]) \n",
    "print(List[-2]) "
   ]
  },
  {
   "cell_type": "code",
   "execution_count": 3,
   "id": "36c5943a",
   "metadata": {},
   "outputs": [
    {
     "name": "stdout",
     "output_type": "stream",
     "text": [
      "Accessing element using negative indexing\n",
      "Tyagi\n",
      "For\n"
     ]
    }
   ],
   "source": [
    "List = [\"Geeks\", \"For\", \"Tyagi\"] \n",
    "print(\"Accessing element using negative indexing\") \n",
    "print(List[-1]) \n",
    "print(List[-2]) "
   ]
  },
  {
   "cell_type": "code",
   "execution_count": 4,
   "id": "9660caa6",
   "metadata": {},
   "outputs": [
    {
     "name": "stdout",
     "output_type": "stream",
     "text": [
      "Accessing element using negative indexing\n",
      "Tyagi\n",
      "For\n",
      "Geeks\n"
     ]
    }
   ],
   "source": [
    "List = [\"Geeks\", \"For\", \"Tyagi\"] \n",
    "print(\"Accessing element using negative indexing\") \n",
    "print(List[-1]) \n",
    "print(List[-2]) \n",
    "print(List[-3]) "
   ]
  },
  {
   "cell_type": "markdown",
   "id": "f9c583b8",
   "metadata": {},
   "source": [
    "## Tuple"
   ]
  },
  {
   "cell_type": "code",
   "execution_count": 5,
   "id": "0a5c1d68",
   "metadata": {},
   "outputs": [
    {
     "name": "stdout",
     "output_type": "stream",
     "text": [
      "Initial empty Tuple: \n",
      "()\n",
      "\n",
      "Tuple with the use of String: \n",
      "('Geeks', 'For')\n",
      "\n",
      "Tuple using List: \n",
      "(1, 2, 4, 5, 6)\n",
      "\n",
      "Tuple with the use of function: \n",
      "('G', 'e', 'e', 'k', 's')\n",
      "\n",
      "Tuple with nested tuples: \n",
      "((0, 1, 2, 3), ('python', 'geek'))\n"
     ]
    }
   ],
   "source": [
    "Tuple1 = () \n",
    "print(\"Initial empty Tuple: \") \n",
    "print(Tuple1) \n",
    "Tuple1 = ('Geeks', 'For') \n",
    "print(\"\\nTuple with the use of String: \") \n",
    "print(Tuple1) \n",
    "list1 = [1, 2, 4, 5, 6] \n",
    "print(\"\\nTuple using List: \") \n",
    "print(tuple(list1)) \n",
    "Tuple1 = tuple('Geeks') \n",
    "print(\"\\nTuple with the use of function: \") \n",
    "print(Tuple1) \n",
    "Tuple1 = (0, 1, 2, 3) \n",
    "Tuple2 = ('python', 'geek') \n",
    "Tuple3 = (Tuple1, Tuple2) \n",
    "print(\"\\nTuple with nested tuples: \") \n",
    "print(Tuple3) "
   ]
  },
  {
   "cell_type": "code",
   "execution_count": 6,
   "id": "c0ae641d",
   "metadata": {},
   "outputs": [
    {
     "name": "stdout",
     "output_type": "stream",
     "text": [
      "Initial empty Tuple: \n",
      "()\n"
     ]
    }
   ],
   "source": [
    "Tuple1 = () \n",
    "print(\"Initial empty Tuple: \") \n",
    "print(Tuple1) "
   ]
  },
  {
   "cell_type": "code",
   "execution_count": 7,
   "id": "f68ab445",
   "metadata": {},
   "outputs": [
    {
     "name": "stdout",
     "output_type": "stream",
     "text": [
      "\n",
      "Tuple with the use of String: \n",
      "('Geeks', 'For')\n"
     ]
    }
   ],
   "source": [
    "Tuple1 = ('Geeks', 'For') \n",
    "print(\"\\nTuple with the use of String: \") \n",
    "print(Tuple1) "
   ]
  },
  {
   "cell_type": "code",
   "execution_count": 8,
   "id": "0c48b324",
   "metadata": {},
   "outputs": [
    {
     "name": "stdout",
     "output_type": "stream",
     "text": [
      "\n",
      "Tuple using List: \n",
      "(1, 2, 4, 5, 6)\n"
     ]
    }
   ],
   "source": [
    "list1 = [1, 2, 4, 5, 6] \n",
    "print(\"\\nTuple using List: \") \n",
    "print(tuple(list1)) "
   ]
  },
  {
   "cell_type": "code",
   "execution_count": 9,
   "id": "70045ad3",
   "metadata": {},
   "outputs": [
    {
     "name": "stdout",
     "output_type": "stream",
     "text": [
      "\n",
      "Tuple with the use of function: \n",
      "('G', 'e', 'e', 'k', 's')\n"
     ]
    }
   ],
   "source": [
    "Tuple1 = tuple('Geeks') \n",
    "print(\"\\nTuple with the use of function: \") \n",
    "print(Tuple1)"
   ]
  },
  {
   "cell_type": "code",
   "execution_count": 10,
   "id": "29026824",
   "metadata": {},
   "outputs": [
    {
     "name": "stdout",
     "output_type": "stream",
     "text": [
      "\n",
      "Tuple with nested tuples: \n",
      "((0, 1, 2, 3), ('python', 'geek'))\n"
     ]
    }
   ],
   "source": [
    "Tuple1 = (0, 1, 2, 3) \n",
    "Tuple2 = ('python', 'geek') \n",
    "Tuple3 = (Tuple1, Tuple2) \n",
    "print(\"\\nTuple with nested tuples: \") \n",
    "print(Tuple3) "
   ]
  },
  {
   "cell_type": "code",
   "execution_count": 11,
   "id": "324e3af5",
   "metadata": {},
   "outputs": [
    {
     "name": "stdout",
     "output_type": "stream",
     "text": [
      "First element of tuple\n",
      "1\n",
      "\n",
      "Last element of tuple\n",
      "5\n",
      "\n",
      "Third last element of tuple\n",
      "3\n"
     ]
    }
   ],
   "source": [
    "tuple1 = tuple([1, 2, 3, 4, 5]) \n",
    "print(\"First element of tuple\") \n",
    "print(tuple1[0]) \n",
    "print(\"\\nLast element of tuple\") \n",
    "print(tuple1[-1]) \n",
    "  \n",
    "print(\"\\nThird last element of tuple\") \n",
    "print(tuple1[-3]) "
   ]
  },
  {
   "cell_type": "code",
   "execution_count": 12,
   "id": "be067ecc",
   "metadata": {},
   "outputs": [
    {
     "name": "stdout",
     "output_type": "stream",
     "text": [
      "<class 'bool'>\n",
      "<class 'bool'>\n"
     ]
    },
    {
     "ename": "NameError",
     "evalue": "name 'true' is not defined",
     "output_type": "error",
     "traceback": [
      "\u001b[1;31m---------------------------------------------------------------------------\u001b[0m",
      "\u001b[1;31mNameError\u001b[0m                                 Traceback (most recent call last)",
      "Cell \u001b[1;32mIn[12], line 4\u001b[0m\n\u001b[0;32m      1\u001b[0m \u001b[38;5;28mprint\u001b[39m(\u001b[38;5;28mtype\u001b[39m(\u001b[38;5;28;01mTrue\u001b[39;00m)) \n\u001b[0;32m      2\u001b[0m \u001b[38;5;28mprint\u001b[39m(\u001b[38;5;28mtype\u001b[39m(\u001b[38;5;28;01mFalse\u001b[39;00m)) \n\u001b[1;32m----> 4\u001b[0m \u001b[38;5;28mprint\u001b[39m(\u001b[38;5;28mtype\u001b[39m(\u001b[43mtrue\u001b[49m)) \n",
      "\u001b[1;31mNameError\u001b[0m: name 'true' is not defined"
     ]
    }
   ],
   "source": [
    "print(type(True)) \n",
    "print(type(False)) \n",
    "  \n",
    "print(type(true)) "
   ]
  },
  {
   "cell_type": "markdown",
   "id": "975081a6",
   "metadata": {},
   "source": [
    "## SET"
   ]
  },
  {
   "cell_type": "code",
   "execution_count": 13,
   "id": "df1fd7bf",
   "metadata": {},
   "outputs": [
    {
     "name": "stdout",
     "output_type": "stream",
     "text": [
      "Initial blank Set: \n",
      "set()\n",
      "\n",
      "Set with the use of String: \n",
      "{'k', 's', 'r', 'G', 'o', 'F', 'e'}\n",
      "\n",
      "Set with the use of List: \n",
      "{'For', 'Geeks'}\n",
      "\n",
      "Set with the use of Mixed Values\n",
      "{1, 2, 'For', 4, 6, 'Geeks'}\n"
     ]
    }
   ],
   "source": [
    "set1 = set() \n",
    "print(\"Initial blank Set: \") \n",
    "print(set1) \n",
    "set1 = set(\"GeeksForGeeks\") \n",
    "print(\"\\nSet with the use of String: \") \n",
    "print(set1) \n",
    "set1 = set([\"Geeks\", \"For\", \"Geeks\"]) \n",
    "print(\"\\nSet with the use of List: \") \n",
    "print(set1) \n",
    "set1 = set([1, 2, 'Geeks', 4, 'For', 6, 'Geeks']) \n",
    "print(\"\\nSet with the use of Mixed Values\") \n",
    "print(set1) "
   ]
  },
  {
   "cell_type": "code",
   "execution_count": 14,
   "id": "3c48c0e1",
   "metadata": {},
   "outputs": [
    {
     "name": "stdout",
     "output_type": "stream",
     "text": [
      "Initial blank Set: \n",
      "set()\n"
     ]
    }
   ],
   "source": [
    "set1 = set() \n",
    "print(\"Initial blank Set: \") \n",
    "print(set1) "
   ]
  },
  {
   "cell_type": "code",
   "execution_count": 15,
   "id": "67e08619",
   "metadata": {},
   "outputs": [
    {
     "name": "stdout",
     "output_type": "stream",
     "text": [
      "\n",
      "Set with the use of String: \n",
      "{'k', 's', 'r', 'G', 'o', 'F', 'e'}\n"
     ]
    }
   ],
   "source": [
    "set1 = set(\"GeeksForGeeks\") \n",
    "print(\"\\nSet with the use of String: \") \n",
    "print(set1) "
   ]
  },
  {
   "cell_type": "code",
   "execution_count": 16,
   "id": "ece46b73",
   "metadata": {},
   "outputs": [
    {
     "name": "stdout",
     "output_type": "stream",
     "text": [
      "\n",
      "Set with the use of List: \n",
      "{'For', 'Geeks'}\n"
     ]
    }
   ],
   "source": [
    "set1 = set([\"Geeks\", \"For\", \"Geeks\"]) \n",
    "print(\"\\nSet with the use of List: \") \n",
    "print(set1) "
   ]
  },
  {
   "cell_type": "code",
   "execution_count": 17,
   "id": "a6282c85",
   "metadata": {},
   "outputs": [
    {
     "name": "stdout",
     "output_type": "stream",
     "text": [
      "\n",
      "Set with the use of Mixed Values\n",
      "{1, 2, 'For', 4, 6, 'Geeks'}\n"
     ]
    }
   ],
   "source": [
    "set1 = set([1, 2, 'Geeks', 4, 'For', 6, 'Geeks']) \n",
    "print(\"\\nSet with the use of Mixed Values\") \n",
    "print(set1) "
   ]
  },
  {
   "cell_type": "code",
   "execution_count": 19,
   "id": "3283cad5",
   "metadata": {},
   "outputs": [
    {
     "name": "stdout",
     "output_type": "stream",
     "text": [
      "\n",
      "Set with the use of String: \n",
      "{'k', 's', 'r', 'G', 'o', 'F', 'e'}\n"
     ]
    }
   ],
   "source": [
    "set1 = set(\"GeeksForGeeks\") \n",
    "print(\"\\nSet with the use of String: \") \n",
    "print(set1) "
   ]
  },
  {
   "cell_type": "code",
   "execution_count": 20,
   "id": "15f7fe11",
   "metadata": {},
   "outputs": [
    {
     "name": "stdout",
     "output_type": "stream",
     "text": [
      "\n",
      "Set with the use of String: \n",
      "{'k', 's', 'r', 'G', 'o', 'F', 'e'}\n"
     ]
    }
   ],
   "source": [
    "set1 = set(\"GeeksForGeeks\") \n",
    "print(\"\\nSet with the use of String: \") \n",
    "print(set1) "
   ]
  },
  {
   "cell_type": "code",
   "execution_count": 21,
   "id": "12b1e4fb",
   "metadata": {},
   "outputs": [
    {
     "name": "stdout",
     "output_type": "stream",
     "text": [
      "\n",
      "Initial set\n",
      "{'For', 'Geeks'}\n",
      "\n",
      "Elements of set: \n",
      "For Geeks True\n"
     ]
    }
   ],
   "source": [
    "set1 = set([\"Geeks\", \"For\", \"Geeks\"]) \n",
    "print(\"\\nInitial set\") \n",
    "print(set1) \n",
    "print(\"\\nElements of set: \") \n",
    "for i in set1: \n",
    "    print(i, end=\" \") \n",
    "print(\"Geeks\" in set1) "
   ]
  },
  {
   "cell_type": "code",
   "execution_count": null,
   "id": "ce2f7d8d",
   "metadata": {},
   "outputs": [],
   "source": []
  }
 ],
 "metadata": {
  "kernelspec": {
   "display_name": "Python 3 (ipykernel)",
   "language": "python",
   "name": "python3"
  },
  "language_info": {
   "codemirror_mode": {
    "name": "ipython",
    "version": 3
   },
   "file_extension": ".py",
   "mimetype": "text/x-python",
   "name": "python",
   "nbconvert_exporter": "python",
   "pygments_lexer": "ipython3",
   "version": "3.10.9"
  }
 },
 "nbformat": 4,
 "nbformat_minor": 5
}
