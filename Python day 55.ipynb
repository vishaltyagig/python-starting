{
 "cells": [
  {
   "cell_type": "code",
   "execution_count": 1,
   "id": "d1388f8d",
   "metadata": {},
   "outputs": [
    {
     "name": "stdout",
     "output_type": "stream",
     "text": [
      "Enter number :45\n",
      "45\n",
      "Enter name : Dadda Tyagi\n",
      "Dadda Tyagi\n",
      "type of number <class 'str'>\n",
      "type of name <class 'str'>\n"
     ]
    }
   ],
   "source": [
    "# Program to check input   \n",
    "# type in Python  \n",
    "    \n",
    "num = input (\"Enter number :\")  \n",
    "print(num)  \n",
    "name1 = input(\"Enter name : \")  \n",
    "print(name1)  \n",
    "    \n",
    "# Printing type of input value  \n",
    "print (\"type of number\", type(num))  \n",
    "print (\"type of name\", type(name1)) "
   ]
  },
  {
   "cell_type": "code",
   "execution_count": 2,
   "id": "5cce4317",
   "metadata": {},
   "outputs": [
    {
     "name": "stdout",
     "output_type": "stream",
     "text": [
      "\n",
      "\n"
     ]
    }
   ],
   "source": [
    "# Python program to demonstrate \n",
    "# sys.stdin.readline() \n",
    "  \n",
    "\n",
    "import sys \n",
    "  \n",
    "name = sys.stdin.readline() \n",
    "print(name) \n",
    "  \n",
    "num = sys.stdin.readline(2) \n",
    "print(num) "
   ]
  },
  {
   "cell_type": "code",
   "execution_count": 3,
   "id": "da26e610",
   "metadata": {},
   "outputs": [
    {
     "ename": "SyntaxError",
     "evalue": "invalid syntax (1750583805.py, line 1)",
     "output_type": "error",
     "traceback": [
      "\u001b[1;36m  Cell \u001b[1;32mIn[3], line 1\u001b[1;36m\u001b[0m\n\u001b[1;33m    // Reads two values in one line\u001b[0m\n\u001b[1;37m    ^\u001b[0m\n\u001b[1;31mSyntaxError\u001b[0m\u001b[1;31m:\u001b[0m invalid syntax\n"
     ]
    }
   ],
   "source": [
    "// Reads two values in one line\n",
    "scanf(\"%d %d\", &x, &y) "
   ]
  },
  {
   "cell_type": "code",
   "execution_count": 4,
   "id": "492b8dba",
   "metadata": {},
   "outputs": [
    {
     "name": "stdout",
     "output_type": "stream",
     "text": [
      "45\n",
      "45\n"
     ]
    }
   ],
   "source": [
    "x, y = input(),  input()"
   ]
  },
  {
   "cell_type": "code",
   "execution_count": 5,
   "id": "258dfde3",
   "metadata": {},
   "outputs": [
    {
     "name": "stdout",
     "output_type": "stream",
     "text": [
      "45\n",
      "54\n"
     ]
    }
   ],
   "source": [
    "x, y = input(),  input()"
   ]
  },
  {
   "cell_type": "code",
   "execution_count": 6,
   "id": "b2c45d83",
   "metadata": {},
   "outputs": [
    {
     "name": "stdout",
     "output_type": "stream",
     "text": [
      "45\n"
     ]
    },
    {
     "ename": "ValueError",
     "evalue": "not enough values to unpack (expected 2, got 1)",
     "output_type": "error",
     "traceback": [
      "\u001b[1;31m---------------------------------------------------------------------------\u001b[0m",
      "\u001b[1;31mValueError\u001b[0m                                Traceback (most recent call last)",
      "Cell \u001b[1;32mIn[6], line 1\u001b[0m\n\u001b[1;32m----> 1\u001b[0m x, y \u001b[38;5;241m=\u001b[39m \u001b[38;5;28minput\u001b[39m()\u001b[38;5;241m.\u001b[39msplit()\n",
      "\u001b[1;31mValueError\u001b[0m: not enough values to unpack (expected 2, got 1)"
     ]
    }
   ],
   "source": [
    "x, y = input().split()"
   ]
  },
  {
   "cell_type": "code",
   "execution_count": 8,
   "id": "7a45b7c9",
   "metadata": {},
   "outputs": [
    {
     "name": "stdout",
     "output_type": "stream",
     "text": [
      "45 55\n"
     ]
    }
   ],
   "source": [
    "x, y = input().split()"
   ]
  },
  {
   "cell_type": "code",
   "execution_count": 9,
   "id": "77013004",
   "metadata": {},
   "outputs": [
    {
     "name": "stdout",
     "output_type": "stream",
     "text": [
      "15 51\n"
     ]
    }
   ],
   "source": [
    "# Reads two numbers from input and typecasts them to int using \n",
    "# list comprehension\n",
    "x, y = [int(x) for x in input().split()]  "
   ]
  },
  {
   "cell_type": "code",
   "execution_count": 12,
   "id": "bd0a44a9",
   "metadata": {},
   "outputs": [
    {
     "name": "stdout",
     "output_type": "stream",
     "text": [
      "45 78\n"
     ]
    }
   ],
   "source": [
    "# Reads two numbers from input and typecasts them to int using \n",
    "# list comprehension\n",
    "x, y = [int(x) for x in input().split()]  "
   ]
  },
  {
   "cell_type": "code",
   "execution_count": 13,
   "id": "d50dbd82",
   "metadata": {},
   "outputs": [
    {
     "name": "stdout",
     "output_type": "stream",
     "text": [
      "45 78\n"
     ]
    }
   ],
   "source": [
    "# Reads two numbers from input and typecasts them to int using \n",
    "# map function\n",
    "x, y = map(int, input().split())"
   ]
  },
  {
   "cell_type": "code",
   "execution_count": 14,
   "id": "d0fcd64a",
   "metadata": {},
   "outputs": [],
   "source": [
    "import sys\n",
    " \n",
    "# Read a line of input\n",
    "# Split the line into a list of values\n",
    "# Extract and convert the values to integers using a list comprehension\n",
    " \n",
    "line = [int(x) for x in sys.stdin.readline().split() ]"
   ]
  },
  {
   "cell_type": "code",
   "execution_count": 16,
   "id": "0e9fc1aa",
   "metadata": {},
   "outputs": [
    {
     "name": "stdout",
     "output_type": "stream",
     "text": [
      "23\n",
      "32\n",
      "32\n"
     ]
    }
   ],
   "source": [
    "# input N\n",
    "n = int(input())\n",
    " \n",
    "# input the array\n",
    "arr = [int(x) for x in input().split()]\n",
    " \n",
    "# initialize variable\n",
    "summation = 0\n",
    " \n",
    "# calculate sum\n",
    "for x in arr:\n",
    "    summation += x\n",
    "     \n",
    "# print answer\n",
    "print(summation)"
   ]
  },
  {
   "cell_type": "code",
   "execution_count": 17,
   "id": "2a48a20d",
   "metadata": {},
   "outputs": [
    {
     "name": "stdout",
     "output_type": "stream",
     "text": [
      "0"
     ]
    }
   ],
   "source": [
    "from sys import stdin, stdout \n",
    " \n",
    "# suppose a function called main() and\n",
    "# all the operations are performed\n",
    "def main():\n",
    " \n",
    "    # input via readline method\n",
    "    n = stdin.readline()\n",
    " \n",
    "    # array input similar method\n",
    "    arr = [int(x) for x in stdin.readline().split()]\n",
    " \n",
    "    #initialize variable\n",
    "    summation = 0\n",
    "     \n",
    "    # calculate sum\n",
    "    for x in arr:\n",
    "        summation += x\n",
    " \n",
    "    # could use inbuilt summation = sum(arr)\n",
    " \n",
    "    # print answer via write\n",
    "    # write method writes only\n",
    "    # string operations\n",
    "    # so we need to convert any\n",
    "    # data into string for input\n",
    "    stdout.write(str(summation))\n",
    "\n",
    "# call the main method\n",
    "if __name__ == \"__main__\":\n",
    "    main()    "
   ]
  },
  {
   "cell_type": "code",
   "execution_count": 18,
   "id": "691d4217",
   "metadata": {},
   "outputs": [
    {
     "ename": "ValueError",
     "evalue": "not enough values to unpack (expected 4, got 0)",
     "output_type": "error",
     "traceback": [
      "\u001b[1;31m---------------------------------------------------------------------------\u001b[0m",
      "\u001b[1;31mValueError\u001b[0m                                Traceback (most recent call last)",
      "Cell \u001b[1;32mIn[18], line 4\u001b[0m\n\u001b[0;32m      1\u001b[0m \u001b[38;5;28;01mimport\u001b[39;00m \u001b[38;5;21;01msys\u001b[39;00m\n\u001b[0;32m      2\u001b[0m \u001b[38;5;28;01mdef\u001b[39;00m \u001b[38;5;21mget_ints\u001b[39m(): \u001b[38;5;28;01mreturn\u001b[39;00m \u001b[38;5;28mmap\u001b[39m(\u001b[38;5;28mint\u001b[39m, sys\u001b[38;5;241m.\u001b[39mstdin\u001b[38;5;241m.\u001b[39mreadline()\u001b[38;5;241m.\u001b[39mstrip()\u001b[38;5;241m.\u001b[39msplit())\n\u001b[1;32m----> 4\u001b[0m a,b,c,d \u001b[38;5;241m=\u001b[39m get_ints()\n",
      "\u001b[1;31mValueError\u001b[0m: not enough values to unpack (expected 4, got 0)"
     ]
    }
   ],
   "source": [
    "import sys\n",
    "def get_ints(): return map(int, sys.stdin.readline().strip().split())\n",
    " \n",
    "a,b,c,d = get_ints()"
   ]
  },
  {
   "cell_type": "code",
   "execution_count": 19,
   "id": "6eadbe21",
   "metadata": {},
   "outputs": [],
   "source": [
    "import sys\n",
    "def get_ints(): return list(map(int, sys.stdin.readline().strip().split()))\n",
    " \n",
    "Arr = get_ints()"
   ]
  },
  {
   "cell_type": "code",
   "execution_count": 20,
   "id": "585ec238",
   "metadata": {},
   "outputs": [],
   "source": [
    "import sys\n",
    "def get_string(): return sys.stdin.readline().strip()\n",
    " \n",
    "string = get_string()"
   ]
  },
  {
   "cell_type": "code",
   "execution_count": 21,
   "id": "6062c925",
   "metadata": {},
   "outputs": [
    {
     "name": "stdout",
     "output_type": "stream",
     "text": [
      "12\n",
      "25\n"
     ]
    },
    {
     "ename": "TypeError",
     "evalue": "a bytes-like object is required, not 'str'",
     "output_type": "error",
     "traceback": [
      "\u001b[1;31m---------------------------------------------------------------------------\u001b[0m",
      "\u001b[1;31mTypeError\u001b[0m                                 Traceback (most recent call last)",
      "Cell \u001b[1;32mIn[21], line 31\u001b[0m\n\u001b[0;32m     28\u001b[0m     summation \u001b[38;5;241m+\u001b[39m\u001b[38;5;241m=\u001b[39m x\n\u001b[0;32m     30\u001b[0m \u001b[38;5;66;03m# print answer\u001b[39;00m\n\u001b[1;32m---> 31\u001b[0m \u001b[38;5;28;43mprint\u001b[39;49m\u001b[43m(\u001b[49m\u001b[43msummation\u001b[49m\u001b[43m)\u001b[49m\n",
      "\u001b[1;31mTypeError\u001b[0m: a bytes-like object is required, not 'str'"
     ]
    }
   ],
   "source": [
    "# import libraries for input/ output handling\n",
    "# on generic level\n",
    "import atexit, io, sys\n",
    " \n",
    "# A stream implementation using an in-memory bytes \n",
    "# buffer. It inherits BufferedIOBase.\n",
    "buffer = io.BytesIO()\n",
    "sys.stdout = buffer\n",
    " \n",
    "# print via here\n",
    "@atexit.register\n",
    "def write():\n",
    "    sys.stdout.write(buffer.getvalue())\n",
    "\n",
    "#####################################\n",
    "# template ends\n",
    " \n",
    "n = int(input())\n",
    " \n",
    "# input the array\n",
    "arr = [int(x) for x in input().split()]\n",
    " \n",
    "# initialize variable\n",
    "summation = 0\n",
    " \n",
    "# calculate sum\n",
    "for x in arr:\n",
    "    summation += x\n",
    "\n",
    "# print answer\n",
    "print(summation)"
   ]
  },
  {
   "cell_type": "code",
   "execution_count": 27,
   "id": "ebb67e3a",
   "metadata": {},
   "outputs": [
    {
     "ename": "SyntaxError",
     "evalue": "unexpected character after line continuation character (1307241615.py, line 27)",
     "output_type": "error",
     "traceback": [
      "\u001b[1;36m  Cell \u001b[1;32mIn[27], line 27\u001b[1;36m\u001b[0m\n\u001b[1;33m    print(\"\\nTime taken in Normal Output:\", \\\\end - start)\u001b[0m\n\u001b[1;37m                                             ^\u001b[0m\n\u001b[1;31mSyntaxError\u001b[0m\u001b[1;31m:\u001b[0m unexpected character after line continuation character\n"
     ]
    }
   ],
   "source": [
    "# Python program to illustrate the use \n",
    "# of fast Input / Output \n",
    "import time, sys \n",
    "\n",
    "# Function to take normal input \n",
    "def normal_out(): \n",
    "\t\n",
    "\t# Stores the start time \n",
    "\tstart = time.perf_counter() \n",
    "\n",
    "\t# Output Integer \n",
    "\tn = 5\n",
    "\tprint(n) \n",
    "\n",
    "\t# Output String \n",
    "\ts = \"GeeksforGeeks\"\n",
    "\tprint(s) \n",
    "\n",
    "\t# Output List \n",
    "\tarr = [1, 2, 3, 4] \n",
    "\tprint(*arr) \n",
    "\n",
    "\t# Stores the end time \n",
    "\tend = time.perf_counter() \n",
    "\t\n",
    "\t# Print the time taken \n",
    "\tprint(\"\\nTime taken in Normal Output:\", \\ \n",
    "\t\t\t\t\tend - start) \n",
    "\n",
    "# Function for Fast Output \n",
    "def fast_out(): \n",
    "\n",
    "\tstart = time.perf_counter() \n",
    "\t# Output Integer \n",
    "\tn = 5\n",
    "\tsys.stdout.write(str(n)+\"\\n\") \n",
    "\n",
    "\t# Output String \n",
    "\ts = \"GeeksforGeeks\\n\"\n",
    "\tsys.stdout.write(s) \n",
    "\n",
    "\t# Output Array \n",
    "\tarr = [1, 2, 3, 4] \n",
    "\tsys.stdout.write( \n",
    "\t\t\" \".join(map(str, arr)) + \"\\n\"\n",
    "\t) \n",
    "\t\t\n",
    "\t# Stores the end time \n",
    "\tend = time.perf_counter() \n",
    "\t\n",
    "\t# Print the time taken \n",
    "\tprint(\"\\nTime taken in Fast Output:\", \\ \n",
    "\t\t\t\t\tend - start) \n",
    "\n",
    "# Driver Code \n",
    "if __name__ == \"__main__\": \n",
    "\n",
    "\t# Function Call \n",
    "\tnormal_out() \n",
    "\t\n",
    "\tfast_out() "
   ]
  },
  {
   "cell_type": "code",
   "execution_count": 47,
   "id": "720e70f5",
   "metadata": {},
   "outputs": [
    {
     "ename": "TypeError",
     "evalue": "a bytes-like object is required, not 'str'",
     "output_type": "error",
     "traceback": [
      "\u001b[1;31m---------------------------------------------------------------------------\u001b[0m",
      "\u001b[1;31mTypeError\u001b[0m                                 Traceback (most recent call last)",
      "Cell \u001b[1;32mIn[47], line 59\u001b[0m\n\u001b[0;32m     55\u001b[0m \u001b[38;5;66;03m# Driver Code \u001b[39;00m\n\u001b[0;32m     56\u001b[0m \u001b[38;5;28;01mif\u001b[39;00m \u001b[38;5;18m__name__\u001b[39m \u001b[38;5;241m==\u001b[39m \u001b[38;5;124m\"\u001b[39m\u001b[38;5;124m__main__\u001b[39m\u001b[38;5;124m\"\u001b[39m: \n\u001b[0;32m     57\u001b[0m \n\u001b[0;32m     58\u001b[0m \t\u001b[38;5;66;03m# Function Call \u001b[39;00m\n\u001b[1;32m---> 59\u001b[0m \t\u001b[43mnormal_out\u001b[49m\u001b[43m(\u001b[49m\u001b[43m)\u001b[49m \n\u001b[0;32m     61\u001b[0m \tfast_out()\n",
      "Cell \u001b[1;32mIn[47], line 13\u001b[0m, in \u001b[0;36mnormal_out\u001b[1;34m()\u001b[0m\n\u001b[0;32m     11\u001b[0m \u001b[38;5;66;03m# Output Integer \u001b[39;00m\n\u001b[0;32m     12\u001b[0m n \u001b[38;5;241m=\u001b[39m \u001b[38;5;241m5\u001b[39m\n\u001b[1;32m---> 13\u001b[0m \u001b[38;5;28;43mprint\u001b[39;49m\u001b[43m(\u001b[49m\u001b[38;5;28;43mint\u001b[39;49m\u001b[43m(\u001b[49m\u001b[43mn\u001b[49m\u001b[43m)\u001b[49m\u001b[43m)\u001b[49m\n\u001b[0;32m     15\u001b[0m \u001b[38;5;66;03m# Output String \u001b[39;00m\n\u001b[0;32m     16\u001b[0m s \u001b[38;5;241m=\u001b[39m \u001b[38;5;124m\"\u001b[39m\u001b[38;5;124mGeeksforGeeks\u001b[39m\u001b[38;5;124m\"\u001b[39m\n",
      "\u001b[1;31mTypeError\u001b[0m: a bytes-like object is required, not 'str'"
     ]
    }
   ],
   "source": [
    "# Python program to illustrate the use \n",
    "# of fast Input / Output \n",
    "import time, sys \n",
    "\n",
    "# Function to take normal input \n",
    "def normal_out(): \n",
    "\t\n",
    "\t# Stores the start time \n",
    "\tstart = time.perf_counter() \n",
    "\n",
    "\t# Output Integer \n",
    "\tn = 5\n",
    "\tprint(int(n))\n",
    "    \n",
    "\t# Output String \n",
    "\ts = \"GeeksforGeeks\"\n",
    "\tprint(s) \n",
    "\n",
    "\t# Output List \n",
    "\tarr = [1, 2, 3, 4] \n",
    "\tprint(*arr) \n",
    "\n",
    "\t# Stores the end time \n",
    "\tend = time.perf_counter() \n",
    "\t\n",
    "\t# Print the time taken \n",
    "\tprint(\"\\nTime taken in Normal Output:\", \n",
    "\t\t\t\t\tend - start) \n",
    "\n",
    "# Function for Fast Output \n",
    "def fast_out(): \n",
    "\n",
    "\tstart = time.perf_counter() \n",
    "\t# Output Integer \n",
    "\tn = 5\n",
    "\tsys.stdout.write(str(n)+\"\\n\") \n",
    "\n",
    "\t# Output String \n",
    "\ts = \"GeeksforGeeks\\n\"\n",
    "\tsys.stdout.write(s) \n",
    "\n",
    "\t# Output Array \n",
    "\tarr = [1, 2, 3, 4] \n",
    "\tsys.stdout.write( \n",
    "\t\t\" \".join(map(str, arr)) + \"\\n\"\n",
    "\t) \n",
    "\t\t\n",
    "\t# Stores the end time \n",
    "\tend = time.perf_counter() \n",
    "\t\n",
    "\t# Print the time taken \n",
    "\tprint(\"\\nTime taken in Fast Output:\", \n",
    "\t\t\t\t\tend - start) \n",
    "\n",
    "# Driver Code \n",
    "if __name__ == \"__main__\": \n",
    "\n",
    "\t# Function Call \n",
    "\tnormal_out() \n",
    "\t\n",
    "\tfast_out()"
   ]
  },
  {
   "cell_type": "code",
   "execution_count": 35,
   "id": "6ee91d94",
   "metadata": {},
   "outputs": [],
   "source": [
    "# Function for Fast Output \n",
    "def fast_out(): \n",
    "\n",
    "    start = time.perf_counter() \n",
    "    # Output Integer \n",
    "    n = 5\n",
    "    print(n) \n",
    "\n",
    "    # Output String \n",
    "    s = \"GeeksforGeeks\"\n",
    "    print(s) \n",
    "\n",
    "    # Output Array \n",
    "    arr = [1, 2, 3, 4] \n",
    "    print(*arr)\n",
    "        \n",
    "    # Stores the end time \n",
    "    end = time.perf_counter() \n",
    "    \n",
    "    # Print the time taken \n",
    "    print(\"\\nTime taken in Fast Output:\", \n",
    "                    end - start) \n"
   ]
  },
  {
   "cell_type": "code",
   "execution_count": 36,
   "id": "cb0d758e",
   "metadata": {},
   "outputs": [],
   "source": [
    "# Function to take normal input \n",
    "def normal_out(): \n",
    "\t\n",
    "    start = time.perf_counter() \n",
    "\n",
    "    # Output Integer \n",
    "    n = 5\n",
    "    print(n) \n",
    "\n",
    "    # Output String \n",
    "    s = \"GeeksforGeeks\"\n",
    "    print(s) \n",
    "\n",
    "    # Output List \n",
    "    arr = [1, 2, 3, 4] \n",
    "    print(*arr) \n",
    "\n",
    "    end = time.perf_counter() \n",
    "\t\n",
    "    # Print the time taken \n",
    "    print(\"\\nTime taken in Normal Output:\", end - start) "
   ]
  },
  {
   "cell_type": "code",
   "execution_count": 51,
   "id": "391e8825",
   "metadata": {},
   "outputs": [
    {
     "ename": "TypeError",
     "evalue": "a bytes-like object is required, not 'str'",
     "output_type": "error",
     "traceback": [
      "\u001b[1;31m---------------------------------------------------------------------------\u001b[0m",
      "\u001b[1;31mTypeError\u001b[0m                                 Traceback (most recent call last)",
      "Cell \u001b[1;32mIn[51], line 54\u001b[0m\n\u001b[0;32m     50\u001b[0m \u001b[38;5;66;03m# Driver Code \u001b[39;00m\n\u001b[0;32m     51\u001b[0m \u001b[38;5;28;01mif\u001b[39;00m \u001b[38;5;18m__name__\u001b[39m \u001b[38;5;241m==\u001b[39m \u001b[38;5;124m\"\u001b[39m\u001b[38;5;124m__main__\u001b[39m\u001b[38;5;124m\"\u001b[39m: \n\u001b[0;32m     52\u001b[0m \n\u001b[0;32m     53\u001b[0m \t\u001b[38;5;66;03m# Function Call \u001b[39;00m\n\u001b[1;32m---> 54\u001b[0m \t\u001b[43mnormal_out\u001b[49m\u001b[43m(\u001b[49m\u001b[43m)\u001b[49m \n\u001b[0;32m     56\u001b[0m \tfast_out()\n",
      "Cell \u001b[1;32mIn[51], line 16\u001b[0m, in \u001b[0;36mnormal_out\u001b[1;34m()\u001b[0m\n\u001b[0;32m     10\u001b[0m \u001b[38;5;66;03m# Output Integer \u001b[39;00m\n\u001b[0;32m     11\u001b[0m \u001b[38;5;66;03m#n = 5\u001b[39;00m\n\u001b[0;32m     12\u001b[0m \u001b[38;5;66;03m#print(str(n))  # Convert n to string explicitly before printing\u001b[39;00m\n\u001b[0;32m     13\u001b[0m \n\u001b[0;32m     14\u001b[0m \u001b[38;5;66;03m# Output String \u001b[39;00m\n\u001b[0;32m     15\u001b[0m s \u001b[38;5;241m=\u001b[39m \u001b[38;5;124m\"\u001b[39m\u001b[38;5;124mGeeksforGeeks\u001b[39m\u001b[38;5;124m\"\u001b[39m\n\u001b[1;32m---> 16\u001b[0m \u001b[38;5;28;43mprint\u001b[39;49m\u001b[43m(\u001b[49m\u001b[38;5;28;43mstr\u001b[39;49m\u001b[43m(\u001b[49m\u001b[43ms\u001b[49m\u001b[43m)\u001b[49m\u001b[43m)\u001b[49m \n\u001b[0;32m     18\u001b[0m \u001b[38;5;66;03m# Output List \u001b[39;00m\n\u001b[0;32m     19\u001b[0m arr \u001b[38;5;241m=\u001b[39m [\u001b[38;5;241m1\u001b[39m, \u001b[38;5;241m2\u001b[39m, \u001b[38;5;241m3\u001b[39m, \u001b[38;5;241m4\u001b[39m] \n",
      "\u001b[1;31mTypeError\u001b[0m: a bytes-like object is required, not 'str'"
     ]
    }
   ],
   "source": [
    "# Python program to illustrate the use \n",
    "# of fast Input / Output \n",
    "import time, sys \n",
    "\n",
    "# Function to take normal input \n",
    "def normal_out(): \n",
    "\t\n",
    "    start = time.perf_counter() \n",
    "\n",
    "    # Output Integer \n",
    "    #n = 5\n",
    "    #print(str(n))  # Convert n to string explicitly before printing\n",
    "\n",
    "    # Output String \n",
    "    s = \"GeeksforGeeks\"\n",
    "    print(str(s)) \n",
    "\n",
    "    # Output List \n",
    "    arr = [1, 2, 3, 4] \n",
    "    print(*map(str, arr)) \n",
    "\n",
    "    end = time.perf_counter() \n",
    "\t\n",
    "    # Print the time taken \n",
    "    print(\"\\nTime taken in Normal Output:\", end - start) \n",
    "    \n",
    "# Function for Fast Output \n",
    "def fast_out(): \n",
    "\n",
    "    start = time.perf_counter() \n",
    "    # Output Integer \n",
    "    n = 5\n",
    "    print(n) \n",
    "\n",
    "    # Output String \n",
    "    s = \"GeeksforGeeks\"\n",
    "    print(s) \n",
    "\n",
    "    # Output Array \n",
    "    arr = [1, 2, 3, 4] \n",
    "    print(*arr)\n",
    "        \n",
    "    # Stores the end time \n",
    "    end = time.perf_counter() \n",
    "    \n",
    "    # Print the time taken \n",
    "    print(\"\\nTime taken in Fast Output:\", \n",
    "                    end - start) \n",
    "\n",
    "# Driver Code \n",
    "if __name__ == \"__main__\": \n",
    "\n",
    "\t# Function Call \n",
    "\tnormal_out() \n",
    "\t\n",
    "\tfast_out()\n"
   ]
  },
  {
   "cell_type": "code",
   "execution_count": null,
   "id": "684c8ace",
   "metadata": {},
   "outputs": [],
   "source": []
  }
 ],
 "metadata": {
  "kernelspec": {
   "display_name": "Python 3 (ipykernel)",
   "language": "python",
   "name": "python3"
  },
  "language_info": {
   "codemirror_mode": {
    "name": "ipython",
    "version": 3
   },
   "file_extension": ".py",
   "mimetype": "text/x-python",
   "name": "python",
   "nbconvert_exporter": "python",
   "pygments_lexer": "ipython3",
   "version": "3.10.9"
  }
 },
 "nbformat": 4,
 "nbformat_minor": 5
}
