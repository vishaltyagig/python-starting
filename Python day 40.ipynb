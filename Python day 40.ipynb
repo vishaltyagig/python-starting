{
 "cells": [
  {
   "cell_type": "code",
   "execution_count": 1,
   "id": "198fbec3",
   "metadata": {},
   "outputs": [
    {
     "name": "stdout",
     "output_type": "stream",
     "text": [
      "2\n",
      "3\n",
      "4\n",
      "5\n",
      "6\n"
     ]
    }
   ],
   "source": [
    "# define a anonymous using lambda keyword\n",
    "# this lambda function increment the value of b\n",
    "a = lambda b: b+1\n",
    " \n",
    "# run a for loop \n",
    "for i in range(1, 6):\n",
    "    print(a(i))"
   ]
  },
  {
   "cell_type": "code",
   "execution_count": 2,
   "id": "9d161e00",
   "metadata": {},
   "outputs": [
    {
     "name": "stdout",
     "output_type": "stream",
     "text": [
      "5\n"
     ]
    }
   ],
   "source": [
    "# use of return keyword.\n",
    "\n",
    "# define a function\n",
    "def fun():\n",
    "  # declare a variable\n",
    "    a = 5\n",
    "    # return the value of a\n",
    "    return a\n",
    "# call fun method and store\n",
    "# it's return value in a variable  \n",
    "t = fun()\n",
    "# print the value of t\n",
    "print(t)"
   ]
  },
  {
   "cell_type": "code",
   "execution_count": 2,
   "id": "dd2b1f7c",
   "metadata": {},
   "outputs": [
    {
     "name": "stdout",
     "output_type": "stream",
     "text": [
      "['a', 'b', 'c', 'd', 'e']\n",
      "['a', 'b', 'd', 'e']\n"
     ]
    }
   ],
   "source": [
    "# use a del keyword\n",
    "\n",
    "# create a list\n",
    "l = ['a', 'b', 'c', 'd', 'e']\n",
    " \n",
    "# print list before using del keyword\n",
    "print(l)\n",
    " \n",
    "del l[2]\n",
    " \n",
    "# print list after using del keyword\n",
    "print(l)"
   ]
  },
  {
   "cell_type": "code",
   "execution_count": 3,
   "id": "a9eb931f",
   "metadata": {},
   "outputs": [
    {
     "name": "stdout",
     "output_type": "stream",
     "text": [
      "['1', '2', '3', '4', '5']\n",
      "['1', '2', '4', '5']\n"
     ]
    }
   ],
   "source": [
    "l= ['1','2','3','4','5']\n",
    "print(l)\n",
    "del l[2]\n",
    "print(l)"
   ]
  },
  {
   "cell_type": "code",
   "execution_count": 4,
   "id": "9bfb5a76",
   "metadata": {},
   "outputs": [
    {
     "name": "stdout",
     "output_type": "stream",
     "text": [
      "10\n"
     ]
    }
   ],
   "source": [
    "# use a Global keyword\n",
    "\n",
    "\n",
    "#declare a variable\n",
    "gvar = 10\n",
    " \n",
    "# create a function\n",
    "def fun1():\n",
    "  # print the value of gvar\n",
    "    print(gvar)\n",
    " \n",
    "# declare fun2()\n",
    "def fun2():\n",
    "  # declare global value gvar\n",
    "    global gvar\n",
    "    gvar = 100\n",
    " \n",
    "# call fun1()\n",
    "fun1()\n",
    " \n",
    "# call fun2()\n",
    "fun2()"
   ]
  },
  {
   "cell_type": "code",
   "execution_count": 6,
   "id": "b2633e60",
   "metadata": {},
   "outputs": [
    {
     "name": "stdout",
     "output_type": "stream",
     "text": [
      "100\n"
     ]
    }
   ],
   "source": [
    "# declare fun2()\n",
    "def fun2():\n",
    "  # declare global value gvar\n",
    "    global gvar\n",
    "    gvar = 100\n",
    "    print(gvar)\n",
    "# call fun2()\n",
    "fun2()"
   ]
  },
  {
   "cell_type": "code",
   "execution_count": 7,
   "id": "23c97299",
   "metadata": {},
   "outputs": [
    {
     "name": "stdout",
     "output_type": "stream",
     "text": [
      "10\n",
      "100\n"
     ]
    }
   ],
   "source": [
    "# use a Global keyword\n",
    "\n",
    "\n",
    "#declare a variable\n",
    "gvar = 10\n",
    " \n",
    "# create a function\n",
    "def fun1():\n",
    "  # print the value of gvar\n",
    "    print(gvar)\n",
    " \n",
    "# declare fun2()\n",
    "def fun2():\n",
    "  # declare global value gvar\n",
    "    global gvar\n",
    "    gvar = 100\n",
    "    print(gvar)\n",
    "# call fun1()\n",
    "fun1()\n",
    " \n",
    "# call fun2()\n",
    "fun2()"
   ]
  },
  {
   "cell_type": "code",
   "execution_count": 9,
   "id": "1d44b5ff",
   "metadata": {},
   "outputs": [
    {
     "name": "stdout",
     "output_type": "stream",
     "text": [
      "100\n"
     ]
    }
   ],
   "source": [
    "# use a Global keyword\n",
    "\n",
    "\n",
    "#declare a variable\n",
    "gvar = 10\n",
    " \n",
    "# create a function\n",
    "def fun1():\n",
    "  # print the value of gvar\n",
    "    print(gvar)\n",
    " \n",
    "# declare fun2()\n",
    "def fun2():\n",
    "  # declare global value gvar\n",
    "    global gvar\n",
    "    gvar = 100\n",
    "    print(gvar)\n",
    "# call fun1()\n",
    "# fun1()\n",
    " \n",
    "# call fun2()\n",
    "fun2()"
   ]
  },
  {
   "cell_type": "code",
   "execution_count": 10,
   "id": "630a167d",
   "metadata": {},
   "outputs": [
    {
     "name": "stdout",
     "output_type": "stream",
     "text": [
      "1\n",
      "2\n",
      "3\n",
      "4\n",
      "5\n",
      "6\n"
     ]
    }
   ],
   "source": [
    "def Generator():\n",
    "    for i in range(6):\n",
    "        yield i+1\n",
    " \n",
    "t = Generator()\n",
    "for i in t:\n",
    "    print(i)"
   ]
  },
  {
   "cell_type": "code",
   "execution_count": 11,
   "id": "19ddd75f",
   "metadata": {},
   "outputs": [
    {
     "ename": "AssertionError",
     "evalue": "List is empty.",
     "output_type": "error",
     "traceback": [
      "\u001b[1;31m---------------------------------------------------------------------------\u001b[0m",
      "\u001b[1;31mAssertionError\u001b[0m                            Traceback (most recent call last)",
      "Cell \u001b[1;32mIn[11], line 8\u001b[0m\n\u001b[0;32m      5\u001b[0m     \u001b[38;5;28;01mreturn\u001b[39;00m \u001b[38;5;28msum\u001b[39m(money)\n\u001b[0;32m      7\u001b[0m money \u001b[38;5;241m=\u001b[39m []\n\u001b[1;32m----> 8\u001b[0m \u001b[38;5;28mprint\u001b[39m(\u001b[38;5;124m\"\u001b[39m\u001b[38;5;124msum of money:\u001b[39m\u001b[38;5;124m\"\u001b[39m,\u001b[43msumOfMoney\u001b[49m\u001b[43m(\u001b[49m\u001b[43mmoney\u001b[49m\u001b[43m)\u001b[49m)\n",
      "Cell \u001b[1;32mIn[11], line 4\u001b[0m, in \u001b[0;36msumOfMoney\u001b[1;34m(money)\u001b[0m\n\u001b[0;32m      3\u001b[0m \u001b[38;5;28;01mdef\u001b[39;00m \u001b[38;5;21msumOfMoney\u001b[39m(money):\n\u001b[1;32m----> 4\u001b[0m     \u001b[38;5;28;01massert\u001b[39;00m \u001b[38;5;28mlen\u001b[39m(money) \u001b[38;5;241m!=\u001b[39m \u001b[38;5;241m0\u001b[39m,\u001b[38;5;124m\"\u001b[39m\u001b[38;5;124mList is empty.\u001b[39m\u001b[38;5;124m\"\u001b[39m\n\u001b[0;32m      5\u001b[0m     \u001b[38;5;28;01mreturn\u001b[39;00m \u001b[38;5;28msum\u001b[39m(money)\n",
      "\u001b[1;31mAssertionError\u001b[0m: List is empty."
     ]
    }
   ],
   "source": [
    "#Use of assert keyword.\n",
    "\n",
    "def sumOfMoney(money):\n",
    "    assert len(money) != 0,\"List is empty.\"\n",
    "    return sum(money)\n",
    " \n",
    "money = []\n",
    "print(\"sum of money:\",sumOfMoney(money))"
   ]
  },
  {
   "cell_type": "code",
   "execution_count": 12,
   "id": "b526fec5",
   "metadata": {},
   "outputs": [
    {
     "name": "stdout",
     "output_type": "stream",
     "text": [
      "sum of money: 500\n"
     ]
    }
   ],
   "source": [
    "#Use of assert keyword.\n",
    "\n",
    "def sumOfMoney(money):\n",
    "    assert len(money) != 0,\"List is empty.\"\n",
    "    return sum(money)\n",
    " \n",
    "money = [500]\n",
    "print(\"sum of money:\",sumOfMoney(money))"
   ]
  },
  {
   "cell_type": "code",
   "execution_count": 13,
   "id": "f432d67e",
   "metadata": {},
   "outputs": [
    {
     "name": "stdout",
     "output_type": "stream",
     "text": [
      "sum of money: 700\n"
     ]
    }
   ],
   "source": [
    "#Use of assert keyword.\n",
    "\n",
    "def sumOfMoney(money):\n",
    "    assert len(money) != 0,\"List is empty.\"\n",
    "    return sum(money)\n",
    " \n",
    "money = [500,200]\n",
    "print(\"sum of money:\",sumOfMoney(money))"
   ]
  },
  {
   "cell_type": "code",
   "execution_count": 14,
   "id": "0b635e3b",
   "metadata": {},
   "outputs": [],
   "source": [
    "# use of Pass keyword\n",
    "\n",
    "class GFG:\n",
    "    pass\n",
    "g = GFG"
   ]
  },
  {
   "cell_type": "code",
   "execution_count": 15,
   "id": "9740ccae",
   "metadata": {},
   "outputs": [
    {
     "name": "stdout",
     "output_type": "stream",
     "text": [
      "Inside try block\n",
      "Inside finally block\n",
      "Inside Exception block\n",
      "Inside finally block\n"
     ]
    }
   ],
   "source": [
    "# use of finally keyword\n",
    "\n",
    "def divide(a, b):\n",
    "    try:\n",
    "        c = a/b\n",
    "        print(\"Inside try block\")\n",
    "    except:\n",
    "        print(\"Inside Exception block\")\n",
    "    finally:\n",
    "        print(\"Inside finally block\")\n",
    "divide(3,2)\n",
    "divide(3,0)"
   ]
  },
  {
   "cell_type": "code",
   "execution_count": null,
   "id": "4ad0234d",
   "metadata": {},
   "outputs": [],
   "source": []
  }
 ],
 "metadata": {
  "kernelspec": {
   "display_name": "Python 3 (ipykernel)",
   "language": "python",
   "name": "python3"
  },
  "language_info": {
   "codemirror_mode": {
    "name": "ipython",
    "version": 3
   },
   "file_extension": ".py",
   "mimetype": "text/x-python",
   "name": "python",
   "nbconvert_exporter": "python",
   "pygments_lexer": "ipython3",
   "version": "3.10.9"
  }
 },
 "nbformat": 4,
 "nbformat_minor": 5
}
