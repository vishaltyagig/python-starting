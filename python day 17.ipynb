{
 "cells": [
  {
   "cell_type": "code",
   "execution_count": 2,
   "id": "0e5bef9c",
   "metadata": {},
   "outputs": [
    {
     "name": "stdout",
     "output_type": "stream",
     "text": [
      "enter the text\n",
      "hlw tyagi ji kaise ho\n",
      "this text is not spam\n"
     ]
    }
   ],
   "source": [
    "# a spam comment is defineded as a text containing following keywords\n",
    "# make a lot of money\", \"buy now\", \"suscribe this\" \"click this\" wap to detech these spams\n",
    "\n",
    "text = input(\"enter the text\\n\")\n",
    "\n",
    "if(\"make a lot of money\" in text):\n",
    "    spam = True\n",
    "elif(\"buy now\" in text):\n",
    "    spam = True\n",
    "elif(\"suscribe this\" in text):\n",
    "    spam = True\n",
    "elif(\"click this\" in text):\n",
    "    spam = True\n",
    "else:\n",
    "    spam = False\n",
    "    \n",
    "if (spam):\n",
    "    print(\"this text is spam\")\n",
    "else:\n",
    "    print(\"this text is not spam\")"
   ]
  },
  {
   "cell_type": "code",
   "execution_count": 23,
   "id": "9df1dda2",
   "metadata": {},
   "outputs": [
    {
     "name": "stdout",
     "output_type": "stream",
     "text": [
      "Enter the username : gffggghjfjhfjf\n",
      "14\n",
      "name has not less than 10 characters\n"
     ]
    }
   ],
   "source": [
    "# wap to find weather a given username contains less than 10 characters or not\n",
    "\n",
    "name = input(\"Enter the username : \")\n",
    "characters = len(name)\n",
    "print(characters)\n",
    "\n",
    "if(characters<10):\n",
    "    print(\"name is less than 10 characters\")\n",
    "else:\n",
    "    print(\"name has not less than 10 characters\")"
   ]
  },
  {
   "cell_type": "code",
   "execution_count": 25,
   "id": "5ed626ad",
   "metadata": {},
   "outputs": [
    {
     "name": "stdout",
     "output_type": "stream",
     "text": [
      "Enter the username: vishal\n",
      "username contains less than 10 characters\n"
     ]
    }
   ],
   "source": [
    "# wap to find weather a given username contains less than 10 characters or not\n",
    "\n",
    "name = input(\"Enter the username: \")\n",
    "\n",
    "if(len(name)<10):\n",
    "    print(\"username contains less than 10 characters\")\n",
    "else:\n",
    "    print(\"username contains more than 10 characters\")"
   ]
  },
  {
   "cell_type": "code",
   "execution_count": 26,
   "id": "960616c3",
   "metadata": {},
   "outputs": [
    {
     "name": "stdout",
     "output_type": "stream",
     "text": [
      "enter the name to check : Tyagi\n",
      "your name is present in the list\n"
     ]
    }
   ],
   "source": [
    "#wap which find out weather a given name is present in a list or not\n",
    "\n",
    "names =[\"Tyagi\",\"subham\",\"harry\",\"rohit\",\"rohan\",\"aditi\",\"shipra\"]\n",
    "name =input(\"enter the name to check : \")\n",
    "\n",
    "if name in names:\n",
    "    print(\"your name is present in the list\")\n",
    "else:\n",
    "    print(\"your name is not present in the list\")"
   ]
  },
  {
   "cell_type": "code",
   "execution_count": 32,
   "id": "017e0a0c",
   "metadata": {},
   "outputs": [
    {
     "name": "stdout",
     "output_type": "stream",
     "text": [
      "Enter your marks : 97\n",
      "your grade is: Ex\n"
     ]
    }
   ],
   "source": [
    "# wap to calculate the grade of a student from his marks from following scheme\n",
    "# 90 - 100 Ex\n",
    "# 80 - 90 A\n",
    "# 70 - 80 B\n",
    "# 70 - 60 c\n",
    "# 60 - 50 D\n",
    "# >=50 \n",
    "\n",
    "marks = int(input(\"Enter your marks : \"))\n",
    "if marks>=90:\n",
    "    grade = \"Ex\"\n",
    "elif marks>= 80:\n",
    "    grade = \"A\"\n",
    "elif marks>= 70:\n",
    "    grade = \"B\"\n",
    "elif marks>= 60:\n",
    "    grade = \"C\"\n",
    "elif marks< 50:\n",
    "    grade = \"D\"\n",
    "else:\n",
    "    grade = \"F\"\n",
    "    \n",
    "print(\"your grade is: \" + grade)"
   ]
  },
  {
   "cell_type": "code",
   "execution_count": null,
   "id": "d7b59ce4",
   "metadata": {},
   "outputs": [],
   "source": [
    "# wap to find out weather a given post is talkin about harry or not"
   ]
  }
 ],
 "metadata": {
  "kernelspec": {
   "display_name": "Python 3 (ipykernel)",
   "language": "python",
   "name": "python3"
  },
  "language_info": {
   "codemirror_mode": {
    "name": "ipython",
    "version": 3
   },
   "file_extension": ".py",
   "mimetype": "text/x-python",
   "name": "python",
   "nbconvert_exporter": "python",
   "pygments_lexer": "ipython3",
   "version": "3.10.9"
  }
 },
 "nbformat": 4,
 "nbformat_minor": 5
}
