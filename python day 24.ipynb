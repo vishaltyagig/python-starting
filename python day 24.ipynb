{
 "cells": [
  {
   "cell_type": "code",
   "execution_count": 1,
   "id": "856279ec",
   "metadata": {},
   "outputs": [],
   "source": [
    "# file I/O\n",
    "\n",
    "# this is use for read, write, append,open, close\n",
    "\n",
    "# day 24 i m working with in also vs code\n",
    "\n",
    "f = open(\"another.txt\", 'w')\n",
    "f.write(\"please write this to the file\")\n",
    "f.close()"
   ]
  },
  {
   "cell_type": "code",
   "execution_count": 7,
   "id": "2c616f0e",
   "metadata": {},
   "outputs": [
    {
     "name": "stdout",
     "output_type": "stream",
     "text": [
      "\n",
      "\n"
     ]
    }
   ],
   "source": [
    "# f = open('sample.txt', 'r') # by default the mode is read\n",
    "# # data = f.read()\n",
    "# data = f.read(5)\n",
    "# print(data)\n",
    "# f.close()\n",
    "\n",
    "f = open('sample.txt','r')\n",
    "data = f.readline()\n",
    "print(data)\n",
    "data = f.readline()\n",
    "print(data)\n",
    "f.close()"
   ]
  },
  {
   "cell_type": "code",
   "execution_count": 11,
   "id": "c3d96c02",
   "metadata": {},
   "outputs": [
    {
     "name": "stdout",
     "output_type": "stream",
     "text": [
      "please write this to the file\n"
     ]
    }
   ],
   "source": [
    "with open('another.txt', 'r') as f:\n",
    "    a = f.read()\n",
    "print(a)"
   ]
  },
  {
   "cell_type": "code",
   "execution_count": 9,
   "id": "0921c8f3",
   "metadata": {},
   "outputs": [
    {
     "name": "stdout",
     "output_type": "stream",
     "text": [
      "twinkle is present\n"
     ]
    }
   ],
   "source": [
    "# wap to read the text from a given file 'poem.txt' and find out weather it combines the word 'twinkle'\n",
    "\n",
    "f = open('Poem.txt')\n",
    "\n",
    "t = f.read()\n",
    "if 'twinkle' in t:\n",
    "    print(\"twinkle is present\")\n",
    "else:\n",
    "    print(\"twinkle is not present\")\n",
    "f.close()"
   ]
  },
  {
   "cell_type": "code",
   "execution_count": 15,
   "id": "a708fa33",
   "metadata": {},
   "outputs": [],
   "source": [
    "# the game() func in a prg lets a user play a game and return a score as an integer you need to read a file 'hiscore.txt' \n",
    "# which is either block or contains the previous hi-score you need to write a program to update the hi-score whenever \n",
    "# game() breaks the hi-score.\n",
    "\n",
    "def game():\n",
    "    return 64\n",
    "\n",
    "score = game()\n",
    "with open(\"hiscore.txt\") as f:\n",
    "    hiscore = int(f.read())\n",
    "    \n",
    "if hiscore<score:\n",
    "    with open(\"hiscore.txt\",'w') as f:\n",
    "        f.write(str(score))"
   ]
  },
  {
   "cell_type": "code",
   "execution_count": 18,
   "id": "bc15db4c",
   "metadata": {},
   "outputs": [],
   "source": [
    "def game():\n",
    "    return 644\n",
    "\n",
    "score = game()\n",
    "with open(\"hiscore.txt\") as f:\n",
    "    hiscorestr = f.read()\n",
    "    \n",
    "if hiscorestr == '':\n",
    "    with open(\"hiscore.txt\",'w') as f:\n",
    "        f.write(str(score))\n",
    "    \n",
    "elif int(hiscorestr)<score:\n",
    "    with open(\"hiscore.txt\",'w') as f:\n",
    "        f.write(str(score))"
   ]
  },
  {
   "cell_type": "code",
   "execution_count": 20,
   "id": "a38c75c9",
   "metadata": {},
   "outputs": [],
   "source": [
    "# wap to genrate multiplication table from 2 to 20 and write it to the different file places these files for a 13 year old\n",
    "\n",
    "for i in range(2, 21):\n",
    "    with open(f\"tables folder/multiplication_table_of_{i}.txt\", 'w') as f:\n",
    "        for j in range(1, 11):\n",
    "            f.write(f\"{i}X{j} = {i*j}\\n\")"
   ]
  },
  {
   "cell_type": "code",
   "execution_count": null,
   "id": "9f9684b6",
   "metadata": {},
   "outputs": [],
   "source": []
  }
 ],
 "metadata": {
  "kernelspec": {
   "display_name": "Python 3 (ipykernel)",
   "language": "python",
   "name": "python3"
  },
  "language_info": {
   "codemirror_mode": {
    "name": "ipython",
    "version": 3
   },
   "file_extension": ".py",
   "mimetype": "text/x-python",
   "name": "python",
   "nbconvert_exporter": "python",
   "pygments_lexer": "ipython3",
   "version": "3.10.9"
  }
 },
 "nbformat": 4,
 "nbformat_minor": 5
}
