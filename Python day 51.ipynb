{
 "cells": [
  {
   "cell_type": "code",
   "execution_count": 1,
   "id": "55f216f8",
   "metadata": {},
   "outputs": [
    {
     "name": "stdout",
     "output_type": "stream",
     "text": [
      "tyfv\n",
      "452\n",
      "45.025\n"
     ]
    }
   ],
   "source": [
    "#For string\n",
    "str = input()\n",
    " \n",
    "# For integers\n",
    "n = int(input())\n",
    " \n",
    "# For floating or decimal numbers\n",
    "n = float(input())"
   ]
  },
  {
   "cell_type": "code",
   "execution_count": 2,
   "id": "ab8773d6",
   "metadata": {},
   "outputs": [
    {
     "name": "stdout",
     "output_type": "stream",
     "text": [
      "Dadda Tyagi\n",
      "45 46\n",
      "56.02 556854.0552\n"
     ]
    }
   ],
   "source": [
    "# For Strings\n",
    "x, y = input().split()\n",
    " \n",
    "# For integers and floating point\n",
    "# numbers\n",
    "m, n = map(int, input().split()) \n",
    "m, n = map(float, input().split())"
   ]
  },
  {
   "cell_type": "code",
   "execution_count": 3,
   "id": "fb63a67d",
   "metadata": {},
   "outputs": [
    {
     "name": "stdout",
     "output_type": "stream",
     "text": [
      "4 5 6 1 56 21\n",
      "[4, 5, 6, 1, 56, 21]\n"
     ]
    }
   ],
   "source": [
    "# For Input - 4 5 6 1 56 21 \n",
    "# (Space separated inputs)\n",
    "n = list(map(int, input().split()))\n",
    "print(n)"
   ]
  },
  {
   "cell_type": "code",
   "execution_count": 4,
   "id": "66d7e2c6",
   "metadata": {},
   "outputs": [
    {
     "name": "stdout",
     "output_type": "stream",
     "text": [
      "2 0 2 0\n",
      "2 [0, 2, 0]\n"
     ]
    }
   ],
   "source": [
    "# Input: geeksforgeeks 2 0 2 0\n",
    "str, *lst = input().split()\n",
    "lst = list(map(int, lst))\n",
    " \n",
    "print(str, lst)"
   ]
  },
  {
   "cell_type": "markdown",
   "id": "8776db16",
   "metadata": {},
   "source": [
    "# Output on a different line: print() method is used in python"
   ]
  },
  {
   "cell_type": "code",
   "execution_count": 6,
   "id": "1891ee63",
   "metadata": {},
   "outputs": [
    {
     "name": "stdout",
     "output_type": "stream",
     "text": [
      "geeks\n",
      "for\n",
      "geeks\n"
     ]
    }
   ],
   "source": [
    "lst = ['geeks', 'for', 'geeks']\n",
    " \n",
    "for i in lst:\n",
    "    print(i)"
   ]
  },
  {
   "cell_type": "code",
   "execution_count": 7,
   "id": "19e6abb8",
   "metadata": {},
   "outputs": [
    {
     "name": "stdout",
     "output_type": "stream",
     "text": [
      "geeksforgeeks"
     ]
    }
   ],
   "source": [
    "lst = ['geeks', 'for', 'geeks']\n",
    " \n",
    "for i in lst:\n",
    "    print(i, end='')"
   ]
  },
  {
   "cell_type": "code",
   "execution_count": 8,
   "id": "6ea7b572",
   "metadata": {},
   "outputs": [
    {
     "name": "stdout",
     "output_type": "stream",
     "text": [
      "geeks for geeks "
     ]
    }
   ],
   "source": [
    "lst = ['geeks', 'for', 'geeks']\n",
    " \n",
    "for i in lst:\n",
    "    print(i,end=' ')"
   ]
  },
  {
   "cell_type": "code",
   "execution_count": 11,
   "id": "7229b017",
   "metadata": {},
   "outputs": [
    {
     "name": "stdout",
     "output_type": "stream",
     "text": [
      "I love geeksforgeeks.\n",
      "I love Python programming.\n"
     ]
    }
   ],
   "source": [
    "print('I love {}'.format('geeksforgeeks.'))\n",
    "\n",
    "print(\"I love {0} {1}\".format('Python', 'programming.'))"
   ]
  },
  {
   "cell_type": "code",
   "execution_count": 12,
   "id": "c748e8ae",
   "metadata": {},
   "outputs": [
    {
     "name": "stdout",
     "output_type": "stream",
     "text": [
      "Hello World!!!\n"
     ]
    }
   ],
   "source": [
    "val = \"Hello\"\n",
    "print(f\"{val} World!!!\")"
   ]
  },
  {
   "cell_type": "markdown",
   "id": "51e6e6f0",
   "metadata": {},
   "source": [
    "# How input() Function works in Python?"
   ]
  },
  {
   "cell_type": "code",
   "execution_count": 13,
   "id": "675674e4",
   "metadata": {},
   "outputs": [
    {
     "name": "stdout",
     "output_type": "stream",
     "text": [
      "Dadda Tyagi\n",
      "Dadda Tyagi\n"
     ]
    }
   ],
   "source": [
    "# Taking input from the user\n",
    "string = input()\n",
    " \n",
    "# Output\n",
    "print(string)"
   ]
  },
  {
   "cell_type": "code",
   "execution_count": 14,
   "id": "463de910",
   "metadata": {},
   "outputs": [
    {
     "name": "stdout",
     "output_type": "stream",
     "text": [
      "Enter your nameDadda Tyagi\n",
      "Hello Dadda Tyagi\n"
     ]
    }
   ],
   "source": [
    "# Taking input from the user\n",
    "name = input(\"Enter your name\")\n",
    " \n",
    "# Output\n",
    "print(\"Hello\", name)"
   ]
  },
  {
   "cell_type": "code",
   "execution_count": 15,
   "id": "c8a84b32",
   "metadata": {},
   "outputs": [
    {
     "name": "stdout",
     "output_type": "stream",
     "text": [
      "Enter a number:45\n",
      "46\n"
     ]
    }
   ],
   "source": [
    "# Taking input from the user as integer\n",
    "num = int(input(\"Enter a number:\"))\n",
    "add = num + 1\n",
    " \n",
    "# Output\n",
    "print(add)"
   ]
  },
  {
   "cell_type": "code",
   "execution_count": 16,
   "id": "b71d0184",
   "metadata": {},
   "outputs": [
    {
     "name": "stdout",
     "output_type": "stream",
     "text": [
      "Enter number 5\n",
      "6.0\n"
     ]
    }
   ],
   "source": [
    "# Taking input from the user as float\n",
    " \n",
    "num =float(input(\"Enter number \"))\n",
    "add = num + 1\n",
    " \n",
    "# output\n",
    "print(add)"
   ]
  },
  {
   "cell_type": "code",
   "execution_count": 17,
   "id": "82d6a80f",
   "metadata": {},
   "outputs": [
    {
     "name": "stdout",
     "output_type": "stream",
     "text": [
      "Enter number 48\n",
      "49.0\n"
     ]
    }
   ],
   "source": [
    "# Taking input from the user as float\n",
    " \n",
    "num =float(input(\"Enter number \"))\n",
    "add = num + 1\n",
    " \n",
    "# output\n",
    "print(add)"
   ]
  },
  {
   "cell_type": "code",
   "execution_count": 18,
   "id": "40f54fb1",
   "metadata": {},
   "outputs": [
    {
     "name": "stdout",
     "output_type": "stream",
     "text": [
      "Enter number 7\n",
      "['7']\n"
     ]
    }
   ],
   "source": [
    "# Taking input from the user as list\n",
    " \n",
    "li =list(input(\"Enter number \"))\n",
    " \n",
    "# output\n",
    "print(li)"
   ]
  },
  {
   "cell_type": "code",
   "execution_count": 19,
   "id": "43745f6e",
   "metadata": {},
   "outputs": [
    {
     "name": "stdout",
     "output_type": "stream",
     "text": [
      "Enter number 789654123\n",
      "['7', '8', '9', '6', '5', '4', '1', '2', '3']\n"
     ]
    }
   ],
   "source": [
    "# Taking input from the user as list\n",
    " \n",
    "li =list(input(\"Enter number \"))\n",
    " \n",
    "# output\n",
    "print(li)"
   ]
  },
  {
   "cell_type": "code",
   "execution_count": 20,
   "id": "28a96b44",
   "metadata": {},
   "outputs": [
    {
     "name": "stdout",
     "output_type": "stream",
     "text": [
      "Enter number 456\n",
      "('4', '5', '6')\n"
     ]
    }
   ],
   "source": [
    "# Taking input from the user as tuple\n",
    " \n",
    "num =tuple(input(\"Enter number \"))\n",
    " \n",
    "# output\n",
    "print(num)"
   ]
  },
  {
   "cell_type": "code",
   "execution_count": 21,
   "id": "9a404251",
   "metadata": {},
   "outputs": [
    {
     "name": "stdout",
     "output_type": "stream",
     "text": [
      "Enter a list of words, separated by spaces: Dadda Tyagi\n",
      "{'Dadda': 5, 'Tyagi': 5}\n"
     ]
    }
   ],
   "source": [
    "words_str = input(\"Enter a list of words, separated by spaces: \")\n",
    "words = {word: len(word) for word in words_str.split()}\n",
    "print(words)"
   ]
  },
  {
   "cell_type": "code",
   "execution_count": 22,
   "id": "dd4c7610",
   "metadata": {},
   "outputs": [
    {
     "name": "stdout",
     "output_type": "stream",
     "text": [
      "Enter a list of words, separated by spaces: Always on Top\n",
      "{'Always': 6, 'on': 2, 'Top': 3}\n"
     ]
    }
   ],
   "source": [
    "words_str = input(\"Enter a list of words, separated by spaces: \")\n",
    "words = {word: len(word) for word in words_str.split()}\n",
    "print(words)"
   ]
  },
  {
   "cell_type": "code",
   "execution_count": null,
   "id": "e4a456bd",
   "metadata": {},
   "outputs": [],
   "source": []
  }
 ],
 "metadata": {
  "kernelspec": {
   "display_name": "Python 3 (ipykernel)",
   "language": "python",
   "name": "python3"
  },
  "language_info": {
   "codemirror_mode": {
    "name": "ipython",
    "version": 3
   },
   "file_extension": ".py",
   "mimetype": "text/x-python",
   "name": "python",
   "nbconvert_exporter": "python",
   "pygments_lexer": "ipython3",
   "version": "3.10.9"
  }
 },
 "nbformat": 4,
 "nbformat_minor": 5
}
