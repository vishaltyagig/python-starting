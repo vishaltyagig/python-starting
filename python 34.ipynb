{
 "cells": [
  {
   "cell_type": "code",
   "execution_count": 2,
   "id": "2fa6832f",
   "metadata": {},
   "outputs": [
    {
     "name": "stdout",
     "output_type": "stream",
     "text": [
      "Hello World\n"
     ]
    }
   ],
   "source": [
    "# Python code for \"Hello World\" \n",
    "# nothing else to type...see how simple is the syntax. \n",
    "\n",
    "print(\"Hello World\")\n"
   ]
  },
  {
   "cell_type": "code",
   "execution_count": 5,
   "id": "7ddc8166",
   "metadata": {},
   "outputs": [
    {
     "name": "stdout",
     "output_type": "stream",
     "text": [
      "0\n",
      "1\n",
      "2\n",
      "3\n",
      "4\n"
     ]
    }
   ],
   "source": [
    "# Python program to illustrate \n",
    "# a simple while loop \n",
    "step = 0\n",
    "while(step < 5): \n",
    "\tprint(step) \n",
    "\tstep = step+1\n"
   ]
  },
  {
   "cell_type": "code",
   "execution_count": 19,
   "id": "c58983fc",
   "metadata": {},
   "outputs": [
    {
     "name": "stdout",
     "output_type": "stream",
     "text": [
      "{'Geeks', 'For'}\n"
     ]
    }
   ],
   "source": [
    "# Python program to illustrate a set \n",
    "\n",
    "# define a set and its elements \n",
    "myset = set([\"Geeks\", \"For\", \"Geeks\"]) \n",
    "\n",
    "#as set doesn't have duplicate elements so, 1 geeks will not be printed \n",
    "print(myset) \n",
    "\n"
   ]
  },
  {
   "cell_type": "code",
   "execution_count": 20,
   "id": "d04e435f",
   "metadata": {},
   "outputs": [
    {
     "name": "stdout",
     "output_type": "stream",
     "text": [
      "Enter your name: Dadda\n",
      "hello Dadda\n"
     ]
    }
   ],
   "source": [
    "# Python program to illustrate \n",
    "# getting input from user \n",
    "name = input(\"Enter your name: \") \n",
    "\n",
    "# user entered the name 'harssh' \n",
    "print(\"hello\", name)\n"
   ]
  },
  {
   "cell_type": "code",
   "execution_count": 21,
   "id": "3da72dfb",
   "metadata": {},
   "outputs": [
    {
     "name": "stdout",
     "output_type": "stream",
     "text": [
      "Enter num1: 5\n",
      "Enter num2: 6\n",
      "Product is:  30\n"
     ]
    }
   ],
   "source": [
    "# Python3 program to get input from user \n",
    "\n",
    "# accepting integer from the user \n",
    "# the return type of input() function is string , \n",
    "# so we need to convert the input to integer \n",
    "num1 = int(input(\"Enter num1: \")) \n",
    "num2 = int(input(\"Enter num2: \")) \n",
    "\n",
    "num3 = num1 * num2 \n",
    "print(\"Product is: \", num3)\n"
   ]
  },
  {
   "cell_type": "code",
   "execution_count": 27,
   "id": "7220c90a",
   "metadata": {},
   "outputs": [
    {
     "name": "stdout",
     "output_type": "stream",
     "text": [
      "Num1 is good\n"
     ]
    }
   ],
   "source": [
    "# Python program to illustrate \n",
    "# selection statement \n",
    "\n",
    "num1 = 34\n",
    "if (num1>12): \n",
    "    print(\"Num1 is good\") \n",
    "elif (num1>35): \n",
    "    print(\"Num2 is not gooooo....\") \n",
    "else: \n",
    "    print(\"Num2 is great\")\n"
   ]
  },
  {
   "cell_type": "code",
   "execution_count": 31,
   "id": "bcb14c25",
   "metadata": {},
   "outputs": [
    {
     "name": "stdout",
     "output_type": "stream",
     "text": [
      "hello\n",
      "hello again\n",
      "hello\n",
      "hello again\n",
      "hello\n",
      "hello again\n",
      "hello\n",
      "hello again\n"
     ]
    }
   ],
   "source": [
    "# Python program to illustrate \n",
    "# functions \n",
    "def hello(): \n",
    "    print(\"hello\") \n",
    "    print(\"hello again\") \n",
    "hello() \n",
    "# calling function \n",
    "hello()\n",
    "# calling function \n",
    "hello()\n",
    "# calling function \n",
    "hello()"
   ]
  },
  {
   "cell_type": "code",
   "execution_count": 32,
   "id": "f670fc2c",
   "metadata": {},
   "outputs": [
    {
     "name": "stdout",
     "output_type": "stream",
     "text": [
      "Started\n",
      "Enter integer: 5\n",
      "5\n"
     ]
    }
   ],
   "source": [
    "# Python program to illustrate  \n",
    "# function with main \n",
    "def getInteger(): \n",
    "   result = int(input(\"Enter integer: \")) \n",
    "   return result \n",
    "   \n",
    "def Main(): \n",
    "   print(\"Started\") \n",
    "   \n",
    "   # calling the getInteger function and  \n",
    "   # storing its returned value in the output variable \n",
    "   output = getInteger()      \n",
    "   print(output) \n",
    "   \n",
    "#now we are required to tell Python  \n",
    "# for 'Main' function existence \n",
    "if __name__==\"__main__\": \n",
    "   Main()"
   ]
  },
  {
   "cell_type": "code",
   "execution_count": 33,
   "id": "c1c92104",
   "metadata": {},
   "outputs": [
    {
     "name": "stdout",
     "output_type": "stream",
     "text": [
      "0\n",
      "1\n",
      "2\n",
      "3\n",
      "4\n"
     ]
    }
   ],
   "source": [
    "for step in range(5):     \n",
    "   print(step)\n"
   ]
  },
  {
   "cell_type": "code",
   "execution_count": null,
   "id": "f891a433",
   "metadata": {},
   "outputs": [],
   "source": []
  }
 ],
 "metadata": {
  "kernelspec": {
   "display_name": "Python 3 (ipykernel)",
   "language": "python",
   "name": "python3"
  },
  "language_info": {
   "codemirror_mode": {
    "name": "ipython",
    "version": 3
   },
   "file_extension": ".py",
   "mimetype": "text/x-python",
   "name": "python",
   "nbconvert_exporter": "python",
   "pygments_lexer": "ipython3",
   "version": "3.10.9"
  }
 },
 "nbformat": 4,
 "nbformat_minor": 5
}
