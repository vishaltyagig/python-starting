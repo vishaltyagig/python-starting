{
 "cells": [
  {
   "cell_type": "code",
   "execution_count": 3,
   "id": "20c913f9",
   "metadata": {},
   "outputs": [
    {
     "name": "stdout",
     "output_type": "stream",
     "text": [
      "this is an employee\n",
      "this is an employee\n",
      "google\n"
     ]
    }
   ],
   "source": [
    "# inheritance\n",
    "\n",
    "class employee:\n",
    "    company = \"google\"\n",
    "    \n",
    "    def showdetails(self):\n",
    "        print(\"this is an employee\")\n",
    "        \n",
    "class programmer(employee):\n",
    "    language = \"python\"\n",
    "    \n",
    "    def getlanguage(self):\n",
    "        print(f\"the language is {self.language}\")\n",
    "        \n",
    "e = employee()\n",
    "e.showdetails()\n",
    "p = programmer()\n",
    "p.showdetails()\n",
    "print(p.company)"
   ]
  },
  {
   "cell_type": "code",
   "execution_count": 5,
   "id": "91ef2c34",
   "metadata": {},
   "outputs": [
    {
     "name": "stdout",
     "output_type": "stream",
     "text": [
      "this is an employee\n",
      "this is an programmer\n"
     ]
    }
   ],
   "source": [
    "# it is example of single inheritance\n",
    "\n",
    "class employee:\n",
    "    company = \"google\"\n",
    "    \n",
    "    def showdetails(self):\n",
    "        print(\"this is an employee\")\n",
    "        \n",
    "class programmer(employee):\n",
    "    language = \"python\"\n",
    "    \n",
    "    def getlanguage(self):\n",
    "        print(f\"the language is {self.language}\")\n",
    "        \n",
    "    def showdetails(self):\n",
    "        print(\"this is an programmer\")   # override\n",
    "        \n",
    "e = employee()\n",
    "e.showdetails()\n",
    "p = programmer()\n",
    "p.showdetails()\n",
    "#print(p.company)"
   ]
  },
  {
   "cell_type": "code",
   "execution_count": 8,
   "id": "8f6621bb",
   "metadata": {},
   "outputs": [
    {
     "name": "stdout",
     "output_type": "stream",
     "text": [
      "1\n",
      "visa\n"
     ]
    }
   ],
   "source": [
    "# multiple inheritence    \n",
    "\n",
    "class employee:\n",
    "    company = \"visa\"\n",
    "    ecode = 120\n",
    "    \n",
    "class freelancer:\n",
    "    company = \"fiverr\"\n",
    "    level = 0\n",
    "    \n",
    "    def upgradelevel(self):\n",
    "        self.level = self.level + 1\n",
    "        \n",
    "class programmer(employee, freelancer):\n",
    "    name = \"Rohit\"\n",
    "    \n",
    "p = programmer()\n",
    "p.upgradelevel()\n",
    "print(p.level)\n",
    "print(p.company)"
   ]
  },
  {
   "cell_type": "code",
   "execution_count": 10,
   "id": "07c5185b",
   "metadata": {},
   "outputs": [
    {
     "name": "stdout",
     "output_type": "stream",
     "text": [
      "i m breathing....\n"
     ]
    }
   ],
   "source": [
    "# multilevel inheritance\n",
    "\n",
    "class person:\n",
    "    country = \"India\"\n",
    "    \n",
    "    def takebreath(self):\n",
    "        print(\"i m breathing....\")\n",
    "        \n",
    "class employee(person):\n",
    "    compny = \"honda\"\n",
    "    \n",
    "    def getsalary(self):\n",
    "        print(f\"salary is {self.salary}\")\n",
    "        \n",
    "    def takebreath(self):\n",
    "        print(\"i am an employee so i am breathing .....\")\n",
    "        \n",
    "class programmer(employee):\n",
    "    company = \"fiverr\"\n",
    "    \n",
    "    def getsalary(self):\n",
    "        print(\" no salary to programmer\")\n",
    "        \n",
    "p = person()\n",
    "p.takebreath()\n",
    "e = employee()\n",
    "pr = programmer()"
   ]
  },
  {
   "cell_type": "code",
   "execution_count": 12,
   "id": "db91e260",
   "metadata": {},
   "outputs": [
    {
     "name": "stdout",
     "output_type": "stream",
     "text": [
      "i m breathing....\n",
      "i am an employee so i am breathing .....\n",
      "i am an employee so i am breathing .....\n"
     ]
    }
   ],
   "source": [
    "class person:\n",
    "    country = \"India\"\n",
    "    \n",
    "    def takebreath(self):\n",
    "        print(\"i m breathing....\")\n",
    "        \n",
    "class employee(person):\n",
    "    compny = \"honda\"\n",
    "    \n",
    "    def getsalary(self):\n",
    "        print(f\"salary is {self.salary}\")\n",
    "        \n",
    "    def takebreath(self):\n",
    "        print(\"i am an employee so i am breathing .....\")\n",
    "        \n",
    "class programmer(employee):\n",
    "    company = \"fiverr\"\n",
    "    \n",
    "    def getsalary(self):\n",
    "        print(\" no salary to programmer\")\n",
    "        \n",
    "        \n",
    "p = person()\n",
    "p.takebreath()\n",
    "\n",
    "e = employee()\n",
    "e.takebreath()\n",
    "\n",
    "pr = programmer()\n",
    "pr.takebreath()"
   ]
  },
  {
   "cell_type": "code",
   "execution_count": 15,
   "id": "a5b3bce1",
   "metadata": {},
   "outputs": [
    {
     "name": "stdout",
     "output_type": "stream",
     "text": [
      "i m breathing....\n",
      "i m breathing....\n",
      "i am an employee so i am breathing .....\n",
      "i m breathing....\n",
      "i am an employee so i am breathing .....\n",
      "i am an programmer so i am breathing ******...\n"
     ]
    }
   ],
   "source": [
    "class person:\n",
    "    country = \"India\"\n",
    "    \n",
    "    def takebreath(self):\n",
    "        print(\"i m breathing....\")\n",
    "        \n",
    "class employee(person):\n",
    "    compny = \"honda\"\n",
    "    \n",
    "    def getsalary(self):\n",
    "        print(f\"salary is {self.salary}\")\n",
    "        \n",
    "    def takebreath(self):\n",
    "        super().takebreath()  #................**************\n",
    "        print(\"i am an employee so i am breathing .....\")\n",
    "        \n",
    "class programmer(employee):\n",
    "    company = \"fiverr\"\n",
    "    \n",
    "    def getsalary(self):\n",
    "        print(\" no salary to programmer\")\n",
    "        \n",
    "    def takebreath(self):\n",
    "        super().takebreath()\n",
    "        print(\"i am an programmer so i am breathing ******...\")\n",
    "        \n",
    "        \n",
    "p = person()\n",
    "p.takebreath()\n",
    "\n",
    "e = employee()\n",
    "e.takebreath()\n",
    "\n",
    "pr = programmer()\n",
    "pr.takebreath()"
   ]
  },
  {
   "cell_type": "code",
   "execution_count": 16,
   "id": "7582d5fc",
   "metadata": {},
   "outputs": [
    {
     "name": "stdout",
     "output_type": "stream",
     "text": [
      "i m breathing....\n",
      "i m breathing....\n",
      "i am an employee so i am breathing .....\n",
      "i m breathing....\n",
      "i am an employee so i am breathing .....\n",
      "i am an programmer so i am breathing ******...\n"
     ]
    }
   ],
   "source": [
    "class person:\n",
    "    country = \"India\"\n",
    "    \n",
    "    def takebreath(self):\n",
    "        print(\"i m breathing....\")\n",
    "        \n",
    "class employee(person):\n",
    "    compny = \"honda\"\n",
    "    \n",
    "    def getsalary(self):\n",
    "        print(f\"salary is {self.salary}\")\n",
    "        \n",
    "    def takebreath(self):\n",
    "        super().takebreath()  #................\n",
    "        print(\"i am an employee so i am breathing .....\")\n",
    "        \n",
    "class programmer(employee):\n",
    "    company = \"fiverr\"\n",
    "    \n",
    "    def getsalary(self):\n",
    "        print(\" no salary to programmer\")\n",
    "        \n",
    "    def takebreath(self):\n",
    "        super().takebreath()\n",
    "        print(\"i am an programmer so i am breathing ******...\")\n",
    "        \n",
    "        \n",
    "p = person()\n",
    "p.takebreath()\n",
    "\n",
    "e = employee()\n",
    "e.takebreath()\n",
    "\n",
    "pr = programmer()\n",
    "pr.takebreath()"
   ]
  },
  {
   "cell_type": "code",
   "execution_count": 17,
   "id": "0874ede4",
   "metadata": {},
   "outputs": [
    {
     "name": "stdout",
     "output_type": "stream",
     "text": [
      "100\n",
      "100\n"
     ]
    }
   ],
   "source": [
    "# class method\n",
    "\n",
    "class employee:\n",
    "    company = \"camel\"\n",
    "    salary = 100\n",
    "    location = \"delhi\"\n",
    "    \n",
    "e = employee()\n",
    "print(e.salary)\n",
    "print(employee.salary)"
   ]
  },
  {
   "cell_type": "code",
   "execution_count": 19,
   "id": "78023852",
   "metadata": {},
   "outputs": [
    {
     "name": "stdout",
     "output_type": "stream",
     "text": [
      "100\n",
      "455\n",
      "100\n"
     ]
    }
   ],
   "source": [
    "class employee:\n",
    "    company = \"camel\"\n",
    "    salary = 100\n",
    "    location = \"delhi\"\n",
    "    \n",
    "    def changesalary(self, sal):\n",
    "        self.salary = sal\n",
    "    \n",
    "e = employee()\n",
    "print(e.salary)\n",
    "e.changesalary(455)\n",
    "print(e.salary)\n",
    "print(employee.salary)"
   ]
  },
  {
   "cell_type": "code",
   "execution_count": 20,
   "id": "9083fd64",
   "metadata": {},
   "outputs": [
    {
     "name": "stdout",
     "output_type": "stream",
     "text": [
      "100\n",
      "455\n",
      "455\n"
     ]
    }
   ],
   "source": [
    "class employee:\n",
    "    company = \"camel\"\n",
    "    salary = 100\n",
    "    location = \"delhi\"\n",
    "    \n",
    "    def changesalary(self, sal):\n",
    "        self.__class__.salary = sal\n",
    "    \n",
    "e = employee()\n",
    "print(e.salary)\n",
    "e.changesalary(455)\n",
    "print(e.salary)\n",
    "print(employee.salary)"
   ]
  },
  {
   "cell_type": "code",
   "execution_count": 21,
   "id": "17b41a62",
   "metadata": {},
   "outputs": [
    {
     "name": "stdout",
     "output_type": "stream",
     "text": [
      "100\n",
      "455\n",
      "455\n"
     ]
    }
   ],
   "source": [
    "class employee:\n",
    "    company = \"camel\"\n",
    "    salary = 100\n",
    "    location = \"delhi\"\n",
    "    \n",
    "    @classmethod\n",
    "    def changesalary(cls, sal):\n",
    "        cls.salary = sal\n",
    "    \n",
    "e = employee()\n",
    "print(e.salary)\n",
    "e.changesalary(455)\n",
    "print(e.salary)\n",
    "print(employee.salary)"
   ]
  },
  {
   "cell_type": "code",
   "execution_count": 22,
   "id": "85d76083",
   "metadata": {},
   "outputs": [
    {
     "name": "stdout",
     "output_type": "stream",
     "text": [
      "6000\n"
     ]
    }
   ],
   "source": [
    "# property_decorator\n",
    "\n",
    "class employee:\n",
    "    company = \"bharat gas\"\n",
    "    salary = 5600\n",
    "    salarybonus = 400\n",
    "    \n",
    "    @property\n",
    "    def totalsalary(self):\n",
    "        return self.salary + self.salarybonus\n",
    "    \n",
    "e = employee()\n",
    "print(e.totalsalary)"
   ]
  },
  {
   "cell_type": "code",
   "execution_count": 23,
   "id": "97aab0e2",
   "metadata": {},
   "outputs": [
    {
     "name": "stdout",
     "output_type": "stream",
     "text": [
      "6000\n",
      "5600\n",
      "200\n"
     ]
    }
   ],
   "source": [
    "class employee:\n",
    "    company = \"bharat gas\"\n",
    "    salary = 5600\n",
    "    salarybonus = 400\n",
    "    \n",
    "    @property\n",
    "    def totalsalary(self):\n",
    "        return self.salary + self.salarybonus\n",
    "    \n",
    "    @totalsalary.setter\n",
    "    def totalsalary(self, val):\n",
    "        self.salarybonus = val - self.salary\n",
    "        \n",
    "    \n",
    "e = employee()\n",
    "print(e.totalsalary)\n",
    "e.totalsalary = 5800\n",
    "print(e.salary)\n",
    "print(e.salarybonus)"
   ]
  },
  {
   "cell_type": "code",
   "execution_count": 29,
   "id": "898db370",
   "metadata": {},
   "outputs": [
    {
     "name": "stdout",
     "output_type": "stream",
     "text": [
      "lets add\n",
      "lets multiply\n",
      "10\n",
      "24\n"
     ]
    }
   ],
   "source": [
    "# operator overloding\n",
    "\n",
    "class number:\n",
    "    def __init__(self, num):\n",
    "        self.num = num\n",
    "        \n",
    "    def __add__(self, num2):\n",
    "        print(\"lets add\")\n",
    "        return self.num + num2.num\n",
    "        \n",
    "    def __mul__(self, num2):\n",
    "        print(\"lets multiply\")\n",
    "        return self.num * num2.num\n",
    "        \n",
    "n1 = number(4)\n",
    "n2 = number(6)\n",
    "\n",
    "sum = n1 + n2\n",
    "mul = n1 * n2\n",
    "\n",
    "print(sum)\n",
    "print(mul)"
   ]
  },
  {
   "cell_type": "code",
   "execution_count": null,
   "id": "ca0977dd",
   "metadata": {},
   "outputs": [],
   "source": []
  }
 ],
 "metadata": {
  "kernelspec": {
   "display_name": "Python 3 (ipykernel)",
   "language": "python",
   "name": "python3"
  },
  "language_info": {
   "codemirror_mode": {
    "name": "ipython",
    "version": 3
   },
   "file_extension": ".py",
   "mimetype": "text/x-python",
   "name": "python",
   "nbconvert_exporter": "python",
   "pygments_lexer": "ipython3",
   "version": "3.10.9"
  }
 },
 "nbformat": 4,
 "nbformat_minor": 5
}
