{
 "cells": [
  {
   "cell_type": "code",
   "execution_count": 1,
   "id": "b2a11105",
   "metadata": {},
   "outputs": [
    {
     "name": "stdout",
     "output_type": "stream",
     "text": [
      "Tyagi\n",
      "22\n"
     ]
    }
   ],
   "source": [
    "name = \"Tyagi\"\n",
    "age = 22\n",
    "print(name)\n",
    "print(age)"
   ]
  },
  {
   "cell_type": "code",
   "execution_count": 2,
   "id": "49c720f0",
   "metadata": {},
   "outputs": [
    {
     "name": "stdout",
     "output_type": "stream",
     "text": [
      "Vishal\n",
      "23\n"
     ]
    }
   ],
   "source": [
    "name = \"Tyagi\"\n",
    "age = 22\n",
    "\n",
    "name = \"Vishal\"\n",
    "age = 23\n",
    "print(name)\n",
    "print(age)"
   ]
  },
  {
   "cell_type": "code",
   "execution_count": 3,
   "id": "2b383a6f",
   "metadata": {},
   "outputs": [
    {
     "name": "stdout",
     "output_type": "stream",
     "text": [
      "\n"
     ]
    }
   ],
   "source": [
    "first_name = \"Tony\"\n",
    "last_name = \"Stark\"\n",
    "age = 52\n",
    "is_genius = True\n",
    "print()"
   ]
  },
  {
   "cell_type": "code",
   "execution_count": 4,
   "id": "9aaf2203",
   "metadata": {},
   "outputs": [
    {
     "name": "stdout",
     "output_type": "stream",
     "text": [
      "what is your nameVishal\n",
      "helloVishal\n"
     ]
    }
   ],
   "source": [
    "name = input(\"what is your name\")\n",
    "print(\"hello\" + name)"
   ]
  },
  {
   "cell_type": "code",
   "execution_count": 5,
   "id": "ddc580d9",
   "metadata": {},
   "outputs": [
    {
     "name": "stdout",
     "output_type": "stream",
     "text": [
      "what is your nameVishal\n",
      "hello Vishal\n"
     ]
    }
   ],
   "source": [
    "name = input(\"what is your name\")\n",
    "print(\"hello \" + name)"
   ]
  },
  {
   "cell_type": "code",
   "execution_count": 6,
   "id": "5d7cc2de",
   "metadata": {},
   "outputs": [
    {
     "name": "stdout",
     "output_type": "stream",
     "text": [
      "what is your superhero name?Ram\n",
      "Ram\n"
     ]
    }
   ],
   "source": [
    "superhero = input(\"what is your superhero name?\")\n",
    "print(superhero)"
   ]
  },
  {
   "cell_type": "code",
   "execution_count": 7,
   "id": "1f604e92",
   "metadata": {},
   "outputs": [
    {
     "name": "stdout",
     "output_type": "stream",
     "text": [
      "write your first name Vishal\n",
      "write your last name Tyagi\n",
      "enter your age22\n",
      "Vishal Tyagi\n",
      "22\n",
      "True\n"
     ]
    }
   ],
   "source": [
    "first_name = input('write your first name ')\n",
    "last_name = input('write your last name ')\n",
    "age = int(input(\"enter your age\"))\n",
    "is_genius = True\n",
    "print(first_name +\" \"+ last_name)\n",
    "print(age)\n",
    "print(is_genius)"
   ]
  },
  {
   "cell_type": "code",
   "execution_count": 8,
   "id": "7a01cc2f",
   "metadata": {},
   "outputs": [
    {
     "name": "stdout",
     "output_type": "stream",
     "text": [
      "enter your old age20\n",
      "22\n"
     ]
    }
   ],
   "source": [
    "old_age = int(input(\"enter your old age\"))\n",
    "new_age = old_age + 2\n",
    "print(new_age)"
   ]
  },
  {
   "cell_type": "code",
   "execution_count": 9,
   "id": "383ce9ff",
   "metadata": {},
   "outputs": [
    {
     "name": "stdout",
     "output_type": "stream",
     "text": [
      "12.0\n"
     ]
    }
   ],
   "source": [
    "num = 12\n",
    "print(float(num))"
   ]
  },
  {
   "cell_type": "code",
   "execution_count": 10,
   "id": "165b9c2d",
   "metadata": {},
   "outputs": [
    {
     "name": "stdout",
     "output_type": "stream",
     "text": [
      "12.0\n"
     ]
    }
   ],
   "source": [
    "num = float(12)\n",
    "print(num)"
   ]
  },
  {
   "cell_type": "code",
   "execution_count": 11,
   "id": "a43868de",
   "metadata": {},
   "outputs": [
    {
     "name": "stdout",
     "output_type": "stream",
     "text": [
      "enter first number: 2\n",
      "enter second number: 3\n"
     ]
    },
    {
     "ename": "TypeError",
     "evalue": "can only concatenate str (not \"int\") to str",
     "output_type": "error",
     "traceback": [
      "\u001b[1;31m---------------------------------------------------------------------------\u001b[0m",
      "\u001b[1;31mTypeError\u001b[0m                                 Traceback (most recent call last)",
      "Cell \u001b[1;32mIn[11], line 5\u001b[0m\n\u001b[0;32m      3\u001b[0m second \u001b[38;5;241m=\u001b[39m \u001b[38;5;28mint\u001b[39m(\u001b[38;5;28minput\u001b[39m(\u001b[38;5;124m\"\u001b[39m\u001b[38;5;124menter second number: \u001b[39m\u001b[38;5;124m\"\u001b[39m))\n\u001b[0;32m      4\u001b[0m \u001b[38;5;28msum\u001b[39m \u001b[38;5;241m=\u001b[39m first \u001b[38;5;241m+\u001b[39m second\n\u001b[1;32m----> 5\u001b[0m \u001b[38;5;28mprint\u001b[39m(\u001b[38;5;124;43m\"\u001b[39;49m\u001b[38;5;124;43mThe sum is\u001b[39;49m\u001b[38;5;124;43m\"\u001b[39;49m\u001b[43m \u001b[49m\u001b[38;5;241;43m+\u001b[39;49m\u001b[43m \u001b[49m\u001b[38;5;28;43msum\u001b[39;49m)\n",
      "\u001b[1;31mTypeError\u001b[0m: can only concatenate str (not \"int\") to str"
     ]
    }
   ],
   "source": [
    "# add two numbers\n",
    "first = int(input(\"enter first number: \"))\n",
    "second = int(input(\"enter second number: \"))\n",
    "sum = first + second\n",
    "print(\"The sum is\" + sum)"
   ]
  },
  {
   "cell_type": "code",
   "execution_count": 13,
   "id": "45c6c687",
   "metadata": {},
   "outputs": [
    {
     "name": "stdout",
     "output_type": "stream",
     "text": [
      "enter first number: 2\n",
      "enter second number: 3\n",
      "The sum is 5\n"
     ]
    }
   ],
   "source": [
    "# add two numbers\n",
    "first = int(input(\"enter first number: \"))\n",
    "second = int(input(\"enter second number: \"))\n",
    "sum = first + second\n",
    "print(\"The sum is \" + str(sum))"
   ]
  },
  {
   "cell_type": "code",
   "execution_count": 14,
   "id": "e5db32f3",
   "metadata": {},
   "outputs": [
    {
     "name": "stdout",
     "output_type": "stream",
     "text": [
      "VISHAL TYAGI\n"
     ]
    }
   ],
   "source": [
    "name = \"Vishal Tyagi\"\n",
    "print(name.upper())"
   ]
  },
  {
   "cell_type": "code",
   "execution_count": 15,
   "id": "7667c29e",
   "metadata": {},
   "outputs": [
    {
     "name": "stdout",
     "output_type": "stream",
     "text": [
      "vishal tyagi\n"
     ]
    }
   ],
   "source": [
    "name = \"Vishal Tyagi\"\n",
    "print(name.lower())"
   ]
  },
  {
   "cell_type": "code",
   "execution_count": 16,
   "id": "919bb4b7",
   "metadata": {},
   "outputs": [
    {
     "ename": "SyntaxError",
     "evalue": "invalid syntax (2142652850.py, line 2)",
     "output_type": "error",
     "traceback": [
      "\u001b[1;36m  Cell \u001b[1;32mIn[16], line 2\u001b[1;36m\u001b[0m\n\u001b[1;33m    print(name.find(\"a\"))name = \"Vishal Tyagi\"\u001b[0m\n\u001b[1;37m                         ^\u001b[0m\n\u001b[1;31mSyntaxError\u001b[0m\u001b[1;31m:\u001b[0m invalid syntax\n"
     ]
    }
   ],
   "source": [
    "name = \"Vishal Tyagi\"\n",
    "print(name.find(\"a\"))name = \"Vishal Tyagi\"\n",
    "print(name.replace(\"Tyagi\", \"Tyagi ji\"))"
   ]
  },
  {
   "cell_type": "code",
   "execution_count": 17,
   "id": "5d895c00",
   "metadata": {},
   "outputs": [
    {
     "name": "stdout",
     "output_type": "stream",
     "text": [
      "Vishal Tyagi ji\n"
     ]
    }
   ],
   "source": [
    "name = \"Vishal Tyagi\"\n",
    "print(name.replace(\"Tyagi\", \"Tyagi ji\"))"
   ]
  },
  {
   "cell_type": "code",
   "execution_count": 18,
   "id": "dfa8c8c5",
   "metadata": {},
   "outputs": [
    {
     "name": "stdout",
     "output_type": "stream",
     "text": [
      "Vishal Tyagi ji\n",
      "Vishal Tyagi\n"
     ]
    }
   ],
   "source": [
    "name = \"Vishal Tyagi\"\n",
    "print(name.replace(\"Tyagi\", \"Tyagi ji\"))\n",
    "print(name)"
   ]
  },
  {
   "cell_type": "code",
   "execution_count": 19,
   "id": "093b0b7e",
   "metadata": {},
   "outputs": [
    {
     "name": "stdout",
     "output_type": "stream",
     "text": [
      "True\n"
     ]
    }
   ],
   "source": [
    "name = \"Vishal Tyagi\"\n",
    "print(\"T\" in name)"
   ]
  },
  {
   "cell_type": "code",
   "execution_count": 20,
   "id": "2c8cc92f",
   "metadata": {},
   "outputs": [
    {
     "name": "stdout",
     "output_type": "stream",
     "text": [
      "False\n"
     ]
    }
   ],
   "source": [
    "name = \"Vishal Tyagi\"\n",
    "print(\"m\" in name)"
   ]
  },
  {
   "cell_type": "code",
   "execution_count": 21,
   "id": "11992d9d",
   "metadata": {},
   "outputs": [
    {
     "name": "stdout",
     "output_type": "stream",
     "text": [
      "7\n"
     ]
    }
   ],
   "source": [
    "# operators\n",
    "\n",
    "print(5 + 2)"
   ]
  },
  {
   "cell_type": "code",
   "execution_count": 22,
   "id": "90959eb3",
   "metadata": {},
   "outputs": [
    {
     "name": "stdout",
     "output_type": "stream",
     "text": [
      "3\n"
     ]
    }
   ],
   "source": [
    "print(5 - 2)"
   ]
  },
  {
   "cell_type": "code",
   "execution_count": 23,
   "id": "d9b4c6c5",
   "metadata": {},
   "outputs": [
    {
     "name": "stdout",
     "output_type": "stream",
     "text": [
      "10\n"
     ]
    }
   ],
   "source": [
    "print(5 * 2)"
   ]
  },
  {
   "cell_type": "code",
   "execution_count": 24,
   "id": "d89334b5",
   "metadata": {},
   "outputs": [
    {
     "name": "stdout",
     "output_type": "stream",
     "text": [
      "2.5\n"
     ]
    }
   ],
   "source": [
    "print(5 / 2)"
   ]
  },
  {
   "cell_type": "code",
   "execution_count": 25,
   "id": "556ed516",
   "metadata": {},
   "outputs": [
    {
     "name": "stdout",
     "output_type": "stream",
     "text": [
      "2\n"
     ]
    }
   ],
   "source": [
    "print(5 // 2)"
   ]
  },
  {
   "cell_type": "code",
   "execution_count": 26,
   "id": "90454d8c",
   "metadata": {},
   "outputs": [
    {
     "name": "stdout",
     "output_type": "stream",
     "text": [
      "1\n"
     ]
    }
   ],
   "source": [
    "print(5 % 2)"
   ]
  },
  {
   "cell_type": "code",
   "execution_count": 27,
   "id": "73cb5e8f",
   "metadata": {},
   "outputs": [
    {
     "name": "stdout",
     "output_type": "stream",
     "text": [
      "25\n"
     ]
    }
   ],
   "source": [
    "print(5 ** 2)"
   ]
  },
  {
   "cell_type": "code",
   "execution_count": 28,
   "id": "1394ef84",
   "metadata": {},
   "outputs": [
    {
     "name": "stdout",
     "output_type": "stream",
     "text": [
      "7\n"
     ]
    }
   ],
   "source": [
    "i = 5\n",
    "i = i +2\n",
    "print(i)"
   ]
  },
  {
   "cell_type": "code",
   "execution_count": 29,
   "id": "fabc23f9",
   "metadata": {},
   "outputs": [
    {
     "name": "stdout",
     "output_type": "stream",
     "text": [
      "7\n"
     ]
    }
   ],
   "source": [
    "i = 5\n",
    "i += 2\n",
    "print(i)"
   ]
  },
  {
   "cell_type": "code",
   "execution_count": 30,
   "id": "6f398cee",
   "metadata": {},
   "outputs": [
    {
     "name": "stdout",
     "output_type": "stream",
     "text": [
      "3\n"
     ]
    }
   ],
   "source": [
    "i = 5\n",
    "i -= 2\n",
    "print(i)"
   ]
  },
  {
   "cell_type": "code",
   "execution_count": 31,
   "id": "edd05095",
   "metadata": {},
   "outputs": [
    {
     "name": "stdout",
     "output_type": "stream",
     "text": [
      "10\n"
     ]
    }
   ],
   "source": [
    "i = 5\n",
    "i *= 2\n",
    "print(i)"
   ]
  },
  {
   "cell_type": "code",
   "execution_count": 32,
   "id": "309e41f9",
   "metadata": {},
   "outputs": [
    {
     "name": "stdout",
     "output_type": "stream",
     "text": [
      "True\n"
     ]
    }
   ],
   "source": [
    "# comperision operator\n",
    "\n",
    "print(3>2)"
   ]
  },
  {
   "cell_type": "code",
   "execution_count": 33,
   "id": "d9760806",
   "metadata": {},
   "outputs": [
    {
     "name": "stdout",
     "output_type": "stream",
     "text": [
      "False\n"
     ]
    }
   ],
   "source": [
    "print(3<2)"
   ]
  },
  {
   "cell_type": "code",
   "execution_count": 34,
   "id": "f362a957",
   "metadata": {},
   "outputs": [
    {
     "name": "stdout",
     "output_type": "stream",
     "text": [
      "False\n"
     ]
    }
   ],
   "source": [
    "print(3<=2)"
   ]
  },
  {
   "cell_type": "code",
   "execution_count": 35,
   "id": "95660a74",
   "metadata": {},
   "outputs": [
    {
     "name": "stdout",
     "output_type": "stream",
     "text": [
      "True\n"
     ]
    }
   ],
   "source": [
    "print(3>=2)"
   ]
  },
  {
   "cell_type": "code",
   "execution_count": 36,
   "id": "0777bc45",
   "metadata": {},
   "outputs": [
    {
     "name": "stdout",
     "output_type": "stream",
     "text": [
      "False\n"
     ]
    }
   ],
   "source": [
    "print(3==2)"
   ]
  },
  {
   "cell_type": "code",
   "execution_count": 37,
   "id": "057257f9",
   "metadata": {},
   "outputs": [
    {
     "name": "stdout",
     "output_type": "stream",
     "text": [
      "True\n"
     ]
    }
   ],
   "source": [
    "print(3==3)"
   ]
  },
  {
   "cell_type": "code",
   "execution_count": 38,
   "id": "15bd7596",
   "metadata": {},
   "outputs": [
    {
     "name": "stdout",
     "output_type": "stream",
     "text": [
      "True\n"
     ]
    }
   ],
   "source": [
    "print(3!=2)"
   ]
  },
  {
   "cell_type": "code",
   "execution_count": 39,
   "id": "b8a81563",
   "metadata": {},
   "outputs": [
    {
     "name": "stdout",
     "output_type": "stream",
     "text": [
      "False\n"
     ]
    }
   ],
   "source": [
    "print(3!=3)"
   ]
  },
  {
   "cell_type": "code",
   "execution_count": 40,
   "id": "bd2acc6a",
   "metadata": {},
   "outputs": [
    {
     "name": "stdout",
     "output_type": "stream",
     "text": [
      "True\n"
     ]
    }
   ],
   "source": [
    "# logical operators\n",
    "\n",
    "print(2 > 3 or 2 > 1)"
   ]
  },
  {
   "cell_type": "code",
   "execution_count": 41,
   "id": "01bae838",
   "metadata": {},
   "outputs": [
    {
     "name": "stdout",
     "output_type": "stream",
     "text": [
      "False\n"
     ]
    }
   ],
   "source": [
    "print(2 > 3 and 2 > 1)"
   ]
  },
  {
   "cell_type": "code",
   "execution_count": 42,
   "id": "e184ad17",
   "metadata": {},
   "outputs": [
    {
     "name": "stdout",
     "output_type": "stream",
     "text": [
      "True\n"
     ]
    }
   ],
   "source": [
    "print(2 < 3 and 2 > 1)"
   ]
  },
  {
   "cell_type": "code",
   "execution_count": 43,
   "id": "987af39f",
   "metadata": {},
   "outputs": [
    {
     "name": "stdout",
     "output_type": "stream",
     "text": [
      "True\n"
     ]
    }
   ],
   "source": [
    "print(not 2 > 3)"
   ]
  },
  {
   "cell_type": "markdown",
   "id": "89ad4ab9",
   "metadata": {},
   "source": [
    "## condition"
   ]
  },
  {
   "cell_type": "code",
   "execution_count": 44,
   "id": "48ac4e77",
   "metadata": {},
   "outputs": [
    {
     "name": "stdout",
     "output_type": "stream",
     "text": [
      "enter your age22\n",
      "you are an adult\n",
      "you can vote\n"
     ]
    }
   ],
   "source": [
    "# condition\n",
    "\n",
    "age = int(input(\"enter your age\"))\n",
    "if age >= 18:\n",
    "    print(\"you are an adult\")\n",
    "    print(\"you can vote\")\n",
    "elif age < 18 and age > 5:\n",
    "    print(\"you are in school\")\n",
    "else:\n",
    "    print(\"you are a kid\")"
   ]
  },
  {
   "cell_type": "markdown",
   "id": "361e5296",
   "metadata": {},
   "source": [
    "## mini project \"calculator\""
   ]
  },
  {
   "cell_type": "code",
   "execution_count": 45,
   "id": "e1c18adc",
   "metadata": {},
   "outputs": [
    {
     "name": "stdout",
     "output_type": "stream",
     "text": [
      "enter first number : 5\n",
      "enter operator(+,-,*,/,%): *\n",
      "enter second number : 6\n",
      "30\n"
     ]
    }
   ],
   "source": [
    "# mini project \"calculator\"\n",
    "\n",
    "first = int(input(\"enter first number : \"))\n",
    "operator = input(\"enter operator(+,-,*,/,%): \")\n",
    "second = int(input(\"enter second number : \"))\n",
    "\n",
    "if operator == \"+\":\n",
    "    print(first + second)\n",
    "    \n",
    "elif operator == \"-\":\n",
    "    print(first - second)\n",
    "    \n",
    "elif operator == \"*\":\n",
    "    print(first * second)\n",
    "    \n",
    "elif operator == \"/\":\n",
    "    print(first / second)\n",
    "    \n",
    "elif operator == \"%\":\n",
    "    print(first % second)\n",
    "    \n",
    "else:\n",
    "    print(\"invalid operator\")"
   ]
  },
  {
   "cell_type": "markdown",
   "id": "702c7be7",
   "metadata": {},
   "source": [
    "## range"
   ]
  },
  {
   "cell_type": "code",
   "execution_count": 46,
   "id": "35d731f8",
   "metadata": {},
   "outputs": [
    {
     "name": "stdout",
     "output_type": "stream",
     "text": [
      "range(0, 5)\n"
     ]
    }
   ],
   "source": [
    "# range\n",
    "\n",
    "number = range(5) # 0,1,2,3,4\n",
    "print(number)"
   ]
  },
  {
   "cell_type": "markdown",
   "id": "17c0f6b2",
   "metadata": {},
   "source": [
    "## loop"
   ]
  },
  {
   "cell_type": "code",
   "execution_count": 47,
   "id": "a00f076f",
   "metadata": {},
   "outputs": [
    {
     "name": "stdout",
     "output_type": "stream",
     "text": [
      "1\n",
      "2\n",
      "3\n",
      "4\n",
      "5\n"
     ]
    }
   ],
   "source": [
    "# loop\n",
    "\n",
    "i = 1\n",
    "while i <= 5:\n",
    "    print(i)\n",
    "    i = i +1"
   ]
  },
  {
   "cell_type": "code",
   "execution_count": 48,
   "id": "8dced4b1",
   "metadata": {},
   "outputs": [
    {
     "name": "stdout",
     "output_type": "stream",
     "text": [
      "0\n",
      "1\n",
      "2\n",
      "3\n",
      "4\n",
      "5\n",
      "6\n",
      "7\n",
      "8\n",
      "9\n",
      "10\n",
      "11\n",
      "12\n",
      "13\n",
      "14\n",
      "15\n"
     ]
    }
   ],
   "source": [
    "i = 0\n",
    "while i <= 15:\n",
    "    print(i)\n",
    "    i = i +1"
   ]
  },
  {
   "cell_type": "code",
   "execution_count": 49,
   "id": "9d6913f8",
   "metadata": {},
   "outputs": [
    {
     "name": "stdout",
     "output_type": "stream",
     "text": [
      "*\n",
      "**\n",
      "***\n",
      "****\n",
      "*****\n"
     ]
    }
   ],
   "source": [
    "i = 1\n",
    "while i <= 5:\n",
    "    print(i * \"*\")\n",
    "    i = i +1"
   ]
  },
  {
   "cell_type": "code",
   "execution_count": 50,
   "id": "dd9cb3f7",
   "metadata": {},
   "outputs": [
    {
     "name": "stdout",
     "output_type": "stream",
     "text": [
      "*****\n",
      "****\n",
      "***\n",
      "**\n",
      "*\n",
      "\n"
     ]
    }
   ],
   "source": [
    "i = 5\n",
    "while i >= 0:\n",
    "    print(i * \"*\")\n",
    "    i = i-1"
   ]
  },
  {
   "cell_type": "code",
   "execution_count": 51,
   "id": "29b2d2bc",
   "metadata": {},
   "outputs": [
    {
     "name": "stdout",
     "output_type": "stream",
     "text": [
      "0\n",
      "1\n",
      "2\n",
      "3\n",
      "4\n",
      "5\n"
     ]
    }
   ],
   "source": [
    "for i in range(6):\n",
    "    print (i)"
   ]
  },
  {
   "cell_type": "code",
   "execution_count": 52,
   "id": "82e3dc13",
   "metadata": {},
   "outputs": [
    {
     "name": "stdout",
     "output_type": "stream",
     "text": [
      "1\n",
      "2\n",
      "3\n",
      "4\n",
      "5\n",
      "6\n"
     ]
    }
   ],
   "source": [
    "for i in range(6):\n",
    "    print (i + 1)"
   ]
  },
  {
   "cell_type": "markdown",
   "id": "9d4c8785",
   "metadata": {},
   "source": [
    "## list"
   ]
  },
  {
   "cell_type": "code",
   "execution_count": 53,
   "id": "3abf2bc1",
   "metadata": {},
   "outputs": [
    {
     "name": "stdout",
     "output_type": "stream",
     "text": [
      "[95, 98, 97]\n"
     ]
    }
   ],
   "source": [
    "# list []\n",
    "\n",
    "marks = [95, 98,97]\n",
    "print(marks)"
   ]
  },
  {
   "cell_type": "code",
   "execution_count": 54,
   "id": "a27a8da1",
   "metadata": {},
   "outputs": [
    {
     "name": "stdout",
     "output_type": "stream",
     "text": [
      "95\n"
     ]
    }
   ],
   "source": [
    "marks = [95, 98,97]\n",
    "print(marks[0])"
   ]
  },
  {
   "cell_type": "code",
   "execution_count": 55,
   "id": "8a2feff9",
   "metadata": {},
   "outputs": [
    {
     "name": "stdout",
     "output_type": "stream",
     "text": [
      "98\n"
     ]
    }
   ],
   "source": [
    "marks = [95, 98,97]\n",
    "print(marks[1])"
   ]
  },
  {
   "cell_type": "code",
   "execution_count": 56,
   "id": "c23cadae",
   "metadata": {},
   "outputs": [
    {
     "name": "stdout",
     "output_type": "stream",
     "text": [
      "97\n"
     ]
    }
   ],
   "source": [
    "marks = [95, 98,97]\n",
    "print(marks[-1])"
   ]
  },
  {
   "cell_type": "code",
   "execution_count": 57,
   "id": "4dcde9c3",
   "metadata": {},
   "outputs": [
    {
     "name": "stdout",
     "output_type": "stream",
     "text": [
      "98\n"
     ]
    }
   ],
   "source": [
    "marks = [95, 98,97]\n",
    "print(marks[-2])"
   ]
  },
  {
   "cell_type": "code",
   "execution_count": 58,
   "id": "a78b7c34",
   "metadata": {},
   "outputs": [
    {
     "name": "stdout",
     "output_type": "stream",
     "text": [
      "[95, 98]\n"
     ]
    }
   ],
   "source": [
    "marks = [95, 98,97]\n",
    "print(marks[0:2])"
   ]
  },
  {
   "cell_type": "code",
   "execution_count": 59,
   "id": "ef5a5821",
   "metadata": {},
   "outputs": [
    {
     "name": "stdout",
     "output_type": "stream",
     "text": [
      "[95, 98, 97]\n"
     ]
    }
   ],
   "source": [
    "marks = [95, 98,97]\n",
    "print(marks[0:3])"
   ]
  },
  {
   "cell_type": "code",
   "execution_count": 60,
   "id": "1484e8c3",
   "metadata": {},
   "outputs": [
    {
     "name": "stdout",
     "output_type": "stream",
     "text": [
      "95\n",
      "98\n",
      "97\n"
     ]
    }
   ],
   "source": [
    "marks = [95, 98,97]\n",
    "for score in marks:\n",
    "    print(score)"
   ]
  },
  {
   "cell_type": "code",
   "execution_count": 61,
   "id": "8797db27",
   "metadata": {},
   "outputs": [
    {
     "name": "stdout",
     "output_type": "stream",
     "text": [
      "[95, 98, 97, 99]\n"
     ]
    }
   ],
   "source": [
    "marks = [95, 98,97]\n",
    "\n",
    "marks.append(99)\n",
    "print(marks)"
   ]
  },
  {
   "cell_type": "code",
   "execution_count": 62,
   "id": "de05bd48",
   "metadata": {},
   "outputs": [
    {
     "name": "stdout",
     "output_type": "stream",
     "text": [
      "[99, 95, 98, 97]\n"
     ]
    }
   ],
   "source": [
    "marks = [95, 98,97]\n",
    "\n",
    "marks.insert(0,99)\n",
    "print(marks)"
   ]
  },
  {
   "cell_type": "code",
   "execution_count": 63,
   "id": "03a81d35",
   "metadata": {},
   "outputs": [
    {
     "name": "stdout",
     "output_type": "stream",
     "text": [
      "True\n"
     ]
    }
   ],
   "source": [
    "marks = [95, 98,97]\n",
    "\n",
    "marks.insert(0,99)\n",
    "print(99 in marks)"
   ]
  },
  {
   "cell_type": "code",
   "execution_count": 64,
   "id": "e4236bf8",
   "metadata": {},
   "outputs": [
    {
     "name": "stdout",
     "output_type": "stream",
     "text": [
      "4\n"
     ]
    }
   ],
   "source": [
    "marks = [95, 98,97]\n",
    "\n",
    "marks.insert(0,99)\n",
    "print(len(marks))"
   ]
  },
  {
   "cell_type": "code",
   "execution_count": 65,
   "id": "7bb3c9ea",
   "metadata": {},
   "outputs": [
    {
     "name": "stdout",
     "output_type": "stream",
     "text": [
      "ram\n",
      "shysm\n",
      "kishan\n"
     ]
    }
   ],
   "source": [
    "# break & continue\n",
    "\n",
    "students = [\"ram\",\"shysm\", \"kishan\", \"radha\", \"radhika\"]\n",
    "# only print the name when radha is not coming\n",
    "for student in students:\n",
    "    if student == \"radha\":\n",
    "        break;\n",
    "    print(student)"
   ]
  },
  {
   "cell_type": "code",
   "execution_count": 66,
   "id": "9c37acfe",
   "metadata": {},
   "outputs": [
    {
     "name": "stdout",
     "output_type": "stream",
     "text": [
      "ram\n",
      "shysm\n",
      "radha\n",
      "radhika\n"
     ]
    }
   ],
   "source": [
    "students = [\"ram\",\"shysm\", \"kishan\", \"radha\", \"radhika\"]\n",
    "# if name == kisan then continue\n",
    "for student in students:\n",
    "    if student == \"kishan\":\n",
    "        continue;\n",
    "    print(student)"
   ]
  },
  {
   "cell_type": "markdown",
   "id": "676acbee",
   "metadata": {},
   "source": [
    "## tuple"
   ]
  },
  {
   "cell_type": "code",
   "execution_count": 67,
   "id": "15393629",
   "metadata": {},
   "outputs": [
    {
     "name": "stdout",
     "output_type": "stream",
     "text": [
      "3\n"
     ]
    }
   ],
   "source": [
    "# tuple() - it is immutable\n",
    "\n",
    "marks = (95, 98, 97, 97, 97)\n",
    "print(marks.count(97))"
   ]
  },
  {
   "cell_type": "code",
   "execution_count": 68,
   "id": "dc8af751",
   "metadata": {},
   "outputs": [
    {
     "name": "stdout",
     "output_type": "stream",
     "text": [
      "2\n"
     ]
    }
   ],
   "source": [
    "marks = (95, 98, 97, 97, 97)\n",
    "print(marks.index(97))"
   ]
  },
  {
   "cell_type": "markdown",
   "id": "aaf002e0",
   "metadata": {},
   "source": [
    "## sets"
   ]
  },
  {
   "cell_type": "code",
   "execution_count": 69,
   "id": "a8a94055",
   "metadata": {},
   "outputs": [
    {
     "name": "stdout",
     "output_type": "stream",
     "text": [
      "('ram', 'shyam', 'abhi')\n"
     ]
    }
   ],
   "source": [
    "# set{} - it can't store duplicates, index does not exist in sets, unordered\n",
    "\n",
    "marks = {95, 98, 97, 97, 97}\n",
    "person = 'ram','shyam', 'abhi'\n",
    "print(person)"
   ]
  },
  {
   "cell_type": "code",
   "execution_count": 70,
   "id": "ee2332ae",
   "metadata": {},
   "outputs": [
    {
     "name": "stdout",
     "output_type": "stream",
     "text": [
      "{97, 98, 95}\n"
     ]
    }
   ],
   "source": [
    "marks = {95, 98, 97, 97, 97}\n",
    "print(marks)"
   ]
  },
  {
   "cell_type": "code",
   "execution_count": 71,
   "id": "d6424da2",
   "metadata": {},
   "outputs": [
    {
     "name": "stdout",
     "output_type": "stream",
     "text": [
      "97\n",
      "98\n",
      "95\n"
     ]
    }
   ],
   "source": [
    "marks = {95, 98, 97, 97, 97}\n",
    "\n",
    "for score in marks:\n",
    "    print(score)"
   ]
  },
  {
   "cell_type": "markdown",
   "id": "267c89ee",
   "metadata": {},
   "source": [
    "## Dictonary"
   ]
  },
  {
   "cell_type": "code",
   "execution_count": 72,
   "id": "2f7a4308",
   "metadata": {},
   "outputs": [
    {
     "name": "stdout",
     "output_type": "stream",
     "text": [
      "98\n"
     ]
    }
   ],
   "source": [
    "# dictonary {} - it has key and value pair\n",
    "\n",
    "marks = {\"english\": 95, \"chemistry\": 98}\n",
    "print(marks[\"chemistry\"])"
   ]
  },
  {
   "cell_type": "code",
   "execution_count": 73,
   "id": "4fd1e741",
   "metadata": {},
   "outputs": [
    {
     "name": "stdout",
     "output_type": "stream",
     "text": [
      "98\n",
      "{'english': 95, 'chemistry': 98, 'physics': 97}\n"
     ]
    }
   ],
   "source": [
    "marks = {\"english\": 95, \"chemistry\": 98}\n",
    "\n",
    "print(marks[\"chemistry\"])\n",
    "marks[\"physics\"] = 97;\n",
    "print(marks)"
   ]
  },
  {
   "cell_type": "code",
   "execution_count": 74,
   "id": "3ee830a6",
   "metadata": {},
   "outputs": [
    {
     "name": "stdout",
     "output_type": "stream",
     "text": [
      "98\n",
      "{'english': 95, 'chemistry': 98, 'physics': 97}\n",
      "{'english': 95, 'chemistry': 98, 'physics': 99}\n"
     ]
    }
   ],
   "source": [
    "marks = {\"english\": 95, \"chemistry\": 98}\n",
    "\n",
    "print(marks[\"chemistry\"])\n",
    "marks[\"physics\"] = 97;\n",
    "print(marks)\n",
    "\n",
    "marks[\"physics\"] = 99;\n",
    "print(marks)"
   ]
  },
  {
   "cell_type": "markdown",
   "id": "dc02c79b",
   "metadata": {},
   "source": [
    "## functions"
   ]
  },
  {
   "cell_type": "code",
   "execution_count": 75,
   "id": "e8d9a53b",
   "metadata": {},
   "outputs": [
    {
     "name": "stdout",
     "output_type": "stream",
     "text": [
      "['__doc__', '__loader__', '__name__', '__package__', '__spec__', 'acos', 'acosh', 'asin', 'asinh', 'atan', 'atan2', 'atanh', 'ceil', 'comb', 'copysign', 'cos', 'cosh', 'degrees', 'dist', 'e', 'erf', 'erfc', 'exp', 'expm1', 'fabs', 'factorial', 'floor', 'fmod', 'frexp', 'fsum', 'gamma', 'gcd', 'hypot', 'inf', 'isclose', 'isfinite', 'isinf', 'isnan', 'isqrt', 'lcm', 'ldexp', 'lgamma', 'log', 'log10', 'log1p', 'log2', 'modf', 'nan', 'nextafter', 'perm', 'pi', 'pow', 'prod', 'radians', 'remainder', 'sin', 'sinh', 'sqrt', 'tan', 'tanh', 'tau', 'trunc', 'ulp']\n"
     ]
    }
   ],
   "source": [
    "# function.....\n",
    "\n",
    "# in built function -- int, str, bool\n",
    "# module function  -- related functions and related variavle store in same file -- as math module\n",
    "# user define function\n",
    "\n",
    "import math\n",
    "print(dir(math))"
   ]
  },
  {
   "cell_type": "code",
   "execution_count": 76,
   "id": "2d4c0943",
   "metadata": {},
   "outputs": [
    {
     "name": "stdout",
     "output_type": "stream",
     "text": [
      "4.0\n"
     ]
    }
   ],
   "source": [
    "from math import sqrt\n",
    "print(sqrt(16))"
   ]
  },
  {
   "cell_type": "code",
   "execution_count": 77,
   "id": "9d4914b9",
   "metadata": {},
   "outputs": [
    {
     "name": "stdout",
     "output_type": "stream",
     "text": [
      "5\n"
     ]
    }
   ],
   "source": [
    "# user defined function\n",
    "\n",
    "# def function_name(perameters):\n",
    "\n",
    "def print_sum(first, second):\n",
    "    print(first + second)\n",
    "\n",
    "print_sum(2, 3)"
   ]
  },
  {
   "cell_type": "code",
   "execution_count": 78,
   "id": "3e3362e9",
   "metadata": {},
   "outputs": [
    {
     "name": "stdout",
     "output_type": "stream",
     "text": [
      "6\n"
     ]
    }
   ],
   "source": [
    "\n",
    "def print_sum(first, second = 4):\n",
    "    print(first + second)\n",
    "\n",
    "print_sum(2)"
   ]
  },
  {
   "cell_type": "code",
   "execution_count": null,
   "id": "0992feae",
   "metadata": {},
   "outputs": [],
   "source": []
  }
 ],
 "metadata": {
  "kernelspec": {
   "display_name": "Python 3 (ipykernel)",
   "language": "python",
   "name": "python3"
  },
  "language_info": {
   "codemirror_mode": {
    "name": "ipython",
    "version": 3
   },
   "file_extension": ".py",
   "mimetype": "text/x-python",
   "name": "python",
   "nbconvert_exporter": "python",
   "pygments_lexer": "ipython3",
   "version": "3.10.9"
  }
 },
 "nbformat": 4,
 "nbformat_minor": 5
}
