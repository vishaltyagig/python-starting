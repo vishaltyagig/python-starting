{
 "cells": [
  {
   "cell_type": "code",
   "execution_count": 1,
   "id": "200c318f",
   "metadata": {},
   "outputs": [
    {
     "name": "stdout",
     "output_type": "stream",
     "text": [
      "1i + 3j\n",
      "1i + 9j + 7k\n"
     ]
    }
   ],
   "source": [
    "# problem 1\n",
    "\n",
    "# wa class c- 2 d vector and use it to create another class representing a 3-d vector\n",
    "\n",
    "class c2dvec:\n",
    "    def __init__(self, i, j):\n",
    "        self.icap = i\n",
    "        self.jcap = j\n",
    "        \n",
    "    def __str__(self):\n",
    "        return f\"{self.icap}i + {self.jcap}j\"\n",
    "        \n",
    "class c3dvec(c2dvec):\n",
    "    def __init__(self, i, j, k):\n",
    "        super().__init__(i, j)\n",
    "        self.kcap = k\n",
    "        \n",
    "    def __str__(self):\n",
    "        return f\"{self.icap}i + {self.jcap}j + {self.kcap}k\"\n",
    "       \n",
    "        \n",
    "v2d = c2dvec(1, 3)\n",
    "v3d = c3dvec(1, 9, 7)\n",
    "\n",
    "print(v2d)\n",
    "print(v3d)"
   ]
  },
  {
   "cell_type": "code",
   "execution_count": 2,
   "id": "7cd9ae66",
   "metadata": {},
   "outputs": [
    {
     "name": "stdout",
     "output_type": "stream",
     "text": [
      "bow bow!\n"
     ]
    }
   ],
   "source": [
    "# problem 2\n",
    "\n",
    "# create a class pets from a class animals and further create class dog from pets. \n",
    "# add a method bark to class dog\n",
    "\n",
    "class animals:\n",
    "    animaltype = \"domestics\" \n",
    "    \n",
    "class pets:\n",
    "    color = \"white\"\n",
    "    \n",
    "class dog:\n",
    "    @staticmethod\n",
    "    def bark():\n",
    "        print(\"bow bow!\")\n",
    "        \n",
    "d = dog()\n",
    "d.bark()"
   ]
  },
  {
   "cell_type": "code",
   "execution_count": 3,
   "id": "9763d41f",
   "metadata": {},
   "outputs": [
    {
     "name": "stdout",
     "output_type": "stream",
     "text": [
      "1500.0\n"
     ]
    }
   ],
   "source": [
    "# problem 3\n",
    "\n",
    "# create a class employee and add salary and increment properties to it. wa method salary after increment\n",
    "# method with a @property decorator with a setter which change the value of increment based on the salary\n",
    "\n",
    "class employee:\n",
    "    salary = 1000\n",
    "    increment = 1.5\n",
    "    \n",
    "    @property\n",
    "    def salaryafterincrement(self):\n",
    "        return self.salary * self.increment\n",
    "    \n",
    "    @salaryafterincrement.setter\n",
    "    def salaryafterincrement(self):\n",
    "        self.increment = sai/self.salary\n",
    "        \n",
    "e = employee()\n",
    "print(e.salaryafterincrement)"
   ]
  },
  {
   "cell_type": "code",
   "execution_count": 6,
   "id": "fee77e58",
   "metadata": {},
   "outputs": [
    {
     "name": "stdout",
     "output_type": "stream",
     "text": [
      "1500.0\n",
      "1.5\n",
      "2.0\n"
     ]
    }
   ],
   "source": [
    "class employee:\n",
    "    salary = 1000\n",
    "    increment = 1.5\n",
    "    \n",
    "    @property\n",
    "    def salaryafterincrement(self):\n",
    "        return self.salary * self.increment\n",
    "    \n",
    "    @salaryafterincrement.setter\n",
    "    def salaryafterincrement(self, sai):\n",
    "        self.increment = sai/self.salary\n",
    "        \n",
    "e = employee()\n",
    "print(e.salaryafterincrement)\n",
    "\n",
    "print(e.increment)\n",
    "e.salaryafterincrement = 2000\n",
    "print(e.increment)"
   ]
  },
  {
   "cell_type": "code",
   "execution_count": 8,
   "id": "266d4141",
   "metadata": {},
   "outputs": [
    {
     "name": "stdout",
     "output_type": "stream",
     "text": [
      "9 + 9i\n"
     ]
    }
   ],
   "source": [
    "# problem 4\n",
    "\n",
    "# wa class complex to represent complex numbers, along with overloded operator + and * which adds and multiply them\n",
    "\n",
    "class complex:\n",
    "    def __init__(self, r, i):\n",
    "        self.real = r\n",
    "        self.imaginary = i\n",
    "        \n",
    "    def __add__(self, c):\n",
    "        return complex(self.real + c.real, self.imaginary + c.imaginary)\n",
    "    \n",
    "    def __str__(self):\n",
    "        return f\"{self.real} + {self.imaginary}i\"\n",
    "        \n",
    "c1 = complex(1, 4)\n",
    "c2 = complex(8,5)\n",
    "print(c1 + c2)"
   ]
  },
  {
   "cell_type": "code",
   "execution_count": 11,
   "id": "07f130e5",
   "metadata": {},
   "outputs": [
    {
     "name": "stdout",
     "output_type": "stream",
     "text": [
      "9 + 9i\n",
      "-12 + 37i\n"
     ]
    }
   ],
   "source": [
    "# multiply\n",
    "#(a+bi)(c+di) = (ac-bd) + (ad+bc)i\n",
    "\n",
    "class complex:\n",
    "    def __init__(self, r, i):\n",
    "        self.real = r\n",
    "        self.imaginary = i\n",
    "        \n",
    "    def __add__(self, c):\n",
    "        return complex(self.real + c.real, self.imaginary + c.imaginary)\n",
    "    \n",
    "    def __mul__(self, c):\n",
    "        mulreal = self.real * c.real - self.imaginary * c.imaginary\n",
    "        mulimg = self.real * c.imaginary + self.imaginary * c.real\n",
    "        return complex(mulreal, mulimg)\n",
    "    \n",
    "    \n",
    "    def __str__(self):\n",
    "        return f\"{self.real} + {self.imaginary}i\"\n",
    "        \n",
    "c1 = complex(1, 4)\n",
    "c2 = complex(8,5)\n",
    "print(c1 + c2)\n",
    "print(c1 * c2)"
   ]
  },
  {
   "cell_type": "code",
   "execution_count": 12,
   "id": "0f2a7991",
   "metadata": {},
   "outputs": [
    {
     "name": "stdout",
     "output_type": "stream",
     "text": [
      "4 + 9i\n",
      "-11 + 23i\n"
     ]
    }
   ],
   "source": [
    "class complex:\n",
    "    def __init__(self, r, i):\n",
    "        self.real = r\n",
    "        self.imaginary = i\n",
    "        \n",
    "    def __add__(self, c):\n",
    "        return complex(self.real + c.real, self.imaginary + c.imaginary)\n",
    "    \n",
    "    def __mul__(self, c):\n",
    "        mulreal = self.real * c.real - self.imaginary * c.imaginary\n",
    "        mulimg = self.real * c.imaginary + self.imaginary * c.real\n",
    "        return complex(mulreal, mulimg)\n",
    "    \n",
    "    \n",
    "    def __str__(self):\n",
    "        return f\"{self.real} + {self.imaginary}i\"\n",
    "        \n",
    "c1 = complex(3, 2)\n",
    "c2 = complex(1, 7)\n",
    "print(c1 + c2)\n",
    "print(c1 * c2)"
   ]
  },
  {
   "cell_type": "code",
   "execution_count": 13,
   "id": "a781940d",
   "metadata": {},
   "outputs": [
    {
     "name": "stdout",
     "output_type": "stream",
     "text": [
      "332 - 41i\n",
      "183 + 1287i\n"
     ]
    }
   ],
   "source": [
    "class complex:\n",
    "    def __init__(self, r, i):\n",
    "        self.real = r\n",
    "        self.imaginary = i\n",
    "        \n",
    "    def __add__(self, c):\n",
    "        return complex(self.real + c.real, self.imaginary + c.imaginary)\n",
    "    \n",
    "    def __mul__(self, c):\n",
    "        mulreal = self.real * c.real - self.imaginary * c.imaginary\n",
    "        mulimg = self.real * c.imaginary - self.imaginary * c.real\n",
    "        return complex(mulreal, mulimg)\n",
    "    \n",
    "    \n",
    "    def __str__(self):\n",
    "        if self.imaginary<0:\n",
    "            return f\"{self.real} - {-self.imaginary}i\"\n",
    "        else:\n",
    "            return f\"{self.real} + {self.imaginary}i\"\n",
    "        \n",
    "c1 = complex(1, -4)\n",
    "c2 = complex(331 ,-37)\n",
    "print(c1 + c2)\n",
    "print(c1 * c2)"
   ]
  },
  {
   "cell_type": "code",
   "execution_count": 15,
   "id": "e791cd5c",
   "metadata": {},
   "outputs": [
    {
     "name": "stdout",
     "output_type": "stream",
     "text": [
      " 1a0 + 4a1 + 6a2 \n"
     ]
    }
   ],
   "source": [
    "# problem 5\n",
    "\n",
    "# wa class vector representing a vector of n dimension. overload the + and * operator\n",
    "# which calculates the sum and the dot product of them.\n",
    "\n",
    "class vector:\n",
    "    def __init__(self, vec):\n",
    "        self.vec = vec\n",
    "        \n",
    "    def __str__(self):\n",
    "        str1 = \"\"\n",
    "        index = 0\n",
    "        for i in self.vec:\n",
    "            str1 += f\" {i}a{index} +\"\n",
    "            index +=1\n",
    "        return str1[:-1]\n",
    "    \n",
    "v1 = vector([1, 4, 6])\n",
    "print(v1)"
   ]
  },
  {
   "cell_type": "code",
   "execution_count": 16,
   "id": "8d1f4d3e",
   "metadata": {},
   "outputs": [
    {
     "name": "stdout",
     "output_type": "stream",
     "text": [
      " 1a0 + 4a1 + 6a2 + 5a3 + 67a4 + 9a5 + 8a6 + 7a7 + 5a8 \n"
     ]
    }
   ],
   "source": [
    "class vector:\n",
    "    def __init__(self, vec):\n",
    "        self.vec = vec\n",
    "        \n",
    "    def __str__(self):\n",
    "        str1 = \"\"\n",
    "        index = 0\n",
    "        for i in self.vec:\n",
    "            str1 += f\" {i}a{index} +\"\n",
    "            index +=1\n",
    "        return str1[:-1]\n",
    "    \n",
    "v1 = vector([1, 4, 6, 5, 67, 9, 8, 7, 5])\n",
    "print(v1)"
   ]
  },
  {
   "cell_type": "code",
   "execution_count": 24,
   "id": "5e141320",
   "metadata": {},
   "outputs": [
    {
     "name": "stdout",
     "output_type": "stream",
     "text": [
      " 1a0 + 4a1 + 6a2 \n",
      " 2a0 + 10a1 + 15a2 \n",
      "79\n"
     ]
    }
   ],
   "source": [
    "class vector:\n",
    "    def __init__(self, vec):\n",
    "        self.vec = vec\n",
    "        \n",
    "    def __str__(self):\n",
    "        str1 = \"\"\n",
    "        index = 0\n",
    "        for i in self.vec:\n",
    "            str1 += f\" {i}a{index} +\"\n",
    "            index +=1\n",
    "        return str1[:-1]\n",
    "    \n",
    "    def __add__(self, vec2):\n",
    "        newlist = []\n",
    "        for i in range(len(self.vec)):\n",
    "            newlist.append(self.vec[i] + vec2.vec[i])\n",
    "        return vector(newlist)\n",
    "    \n",
    "    def __mul__(self, vec2):\n",
    "        sum = 0\n",
    "        for i in range(len(self.vec)):\n",
    "            sum += self.vec[i] * vec2.vec[i]\n",
    "        return sum\n",
    "    \n",
    "    \n",
    "v1 = vector([1, 4, 6])\n",
    "v2 = vector([1, 6, 9])\n",
    "print(v1)\n",
    "print(v1 + v2)\n",
    "print(v1 * v2)"
   ]
  },
  {
   "cell_type": "code",
   "execution_count": 25,
   "id": "5d885aef",
   "metadata": {},
   "outputs": [
    {
     "name": "stdout",
     "output_type": "stream",
     "text": [
      "1i + 4j + 6k\n",
      "1i + 6j + 9k\n"
     ]
    }
   ],
   "source": [
    "# problem 6\n",
    "\n",
    "# write __str__ () method to print the vector as follows\n",
    "\n",
    "# 7i + 8j + 10k\n",
    "\n",
    "# assume vector of dimension 3 for this problem\n",
    "\n",
    "\n",
    "class vector:\n",
    "    def __init__(self, vec):\n",
    "        self.vec = vec\n",
    "        \n",
    "    def __str__(self):\n",
    "        return f\"{self.vec[0]}i + {self.vec[1]}j + {self.vec[2]}k\"\n",
    "    \n",
    "v1 = vector([1, 4, 6])\n",
    "v2 = vector([1, 6, 9])\n",
    "print(v1)\n",
    "print(v2)"
   ]
  },
  {
   "cell_type": "code",
   "execution_count": 27,
   "id": "1618dc3e",
   "metadata": {},
   "outputs": [
    {
     "name": "stdout",
     "output_type": "stream",
     "text": [
      "3\n",
      "4\n",
      " 2a0 + 10a1 + 15a2 \n",
      "79\n"
     ]
    }
   ],
   "source": [
    "# problem 7\n",
    "\n",
    "# override the __len__() method on vector of problem 5 to display the dimension of the vector \n",
    "\n",
    "class vector:\n",
    "    def __init__(self, vec):\n",
    "        self.vec = vec\n",
    "        \n",
    "    def __str__(self):\n",
    "        str1 = \"\"\n",
    "        index = 0\n",
    "        for i in self.vec:\n",
    "            str1 += f\" {i}a{index} +\"\n",
    "            index +=1\n",
    "        return str1[:-1]\n",
    "    \n",
    "    def __add__(self, vec2):\n",
    "        newlist = []\n",
    "        for i in range(len(self.vec)):\n",
    "            newlist.append(self.vec[i] + vec2.vec[i])\n",
    "        return vector(newlist)\n",
    "    \n",
    "    def __mul__(self, vec2):\n",
    "        sum = 0\n",
    "        for i in range(len(self.vec)):\n",
    "            sum += self.vec[i] * vec2.vec[i]\n",
    "        return sum\n",
    "    \n",
    "    def __len__(self):\n",
    "        return len(self.vec)\n",
    "    \n",
    "    \n",
    "v1 = vector([1, 4, 6])\n",
    "v2 = vector([1, 6, 9 ,7])\n",
    "print(len(v1))\n",
    "print(len(v2))\n",
    "print(v1 + v2)\n",
    "print(v1 * v2)"
   ]
  },
  {
   "cell_type": "code",
   "execution_count": null,
   "id": "aba5170a",
   "metadata": {},
   "outputs": [],
   "source": []
  }
 ],
 "metadata": {
  "kernelspec": {
   "display_name": "Python 3 (ipykernel)",
   "language": "python",
   "name": "python3"
  },
  "language_info": {
   "codemirror_mode": {
    "name": "ipython",
    "version": 3
   },
   "file_extension": ".py",
   "mimetype": "text/x-python",
   "name": "python",
   "nbconvert_exporter": "python",
   "pygments_lexer": "ipython3",
   "version": "3.10.9"
  }
 },
 "nbformat": 4,
 "nbformat_minor": 5
}
