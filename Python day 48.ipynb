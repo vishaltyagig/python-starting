{
 "cells": [
  {
   "cell_type": "markdown",
   "id": "670dd743",
   "metadata": {},
   "source": [
    "# Taking input in Python"
   ]
  },
  {
   "cell_type": "code",
   "execution_count": 1,
   "id": "e0cb212e",
   "metadata": {},
   "outputs": [
    {
     "name": "stdout",
     "output_type": "stream",
     "text": [
      "Enter your value: 123\n",
      "123\n"
     ]
    }
   ],
   "source": [
    "# Python program showing  \n",
    "# a use of input() \n",
    "  \n",
    "val = input(\"Enter your value: \") \n",
    "print(val) "
   ]
  },
  {
   "cell_type": "code",
   "execution_count": 2,
   "id": "135244d4",
   "metadata": {},
   "outputs": [
    {
     "name": "stdout",
     "output_type": "stream",
     "text": [
      "What is your name?\n",
      "Dadda Tyagi\n",
      "Dadda Tyagi\n"
     ]
    }
   ],
   "source": [
    "name = input('What is your name?\\n')     # \\n ---> newline  ---> It causes a line break \n",
    "print(name)"
   ]
  },
  {
   "cell_type": "code",
   "execution_count": 3,
   "id": "bbf35e6f",
   "metadata": {},
   "outputs": [
    {
     "name": "stdout",
     "output_type": "stream",
     "text": [
      "Enter number :123\n",
      "123\n",
      "Enter name : DADDA TYAGI\n",
      "DADDA TYAGI\n",
      "type of number <class 'str'>\n",
      "type of name <class 'str'>\n"
     ]
    }
   ],
   "source": [
    "# Program to check input  \n",
    "# type in Python \n",
    "  \n",
    "num = input (\"Enter number :\") \n",
    "print(num) \n",
    "name1 = input(\"Enter name : \") \n",
    "print(name1) \n",
    "  \n",
    "# Printing type of input value \n",
    "print (\"type of number\", type(num)) \n",
    "print (\"type of name\", type(name1)) "
   ]
  },
  {
   "cell_type": "code",
   "execution_count": 8,
   "id": "e8c74cea",
   "metadata": {},
   "outputs": [
    {
     "name": "stdout",
     "output_type": "stream",
     "text": [
      "Enter your name : Dadda Tyagi\n",
      "Dadda Tyagi\n"
     ]
    }
   ],
   "source": [
    "# Python program showing \n",
    "# a use of raw_input() \n",
    "\n",
    "g = input(\"Enter your name : \") \n",
    "print(g)"
   ]
  },
  {
   "cell_type": "code",
   "execution_count": 9,
   "id": "691e67a1",
   "metadata": {},
   "outputs": [
    {
     "name": "stdout",
     "output_type": "stream",
     "text": [
      "Enter a number: 25\n",
      "25   <class 'int'>\n",
      "Enter a decimal number: 25.0\n",
      "25.0   <class 'float'>\n"
     ]
    }
   ],
   "source": [
    "num = int(input(\"Enter a number: \")) \n",
    "print(num, \" \", type(num)) \n",
    "  \n",
    "            \n",
    "floatNum = float(input(\"Enter a decimal number: \")) \n",
    "print(floatNum, \" \", type(floatNum)) "
   ]
  },
  {
   "cell_type": "markdown",
   "id": "42d29447",
   "metadata": {},
   "source": [
    "# Python input() Function"
   ]
  },
  {
   "cell_type": "code",
   "execution_count": 1,
   "id": "f4046ba6",
   "metadata": {},
   "outputs": [
    {
     "name": "stdout",
     "output_type": "stream",
     "text": [
      "What color is rose?: red\n",
      "red\n",
      "How many roses?: 20\n",
      "20\n",
      "Price of each rose?: 10\n",
      "10.0\n"
     ]
    }
   ],
   "source": [
    "# Taking input as string\n",
    "color = input(\"What color is rose?: \")\n",
    "print(color)\n",
    " \n",
    "# Taking input as int\n",
    "# Typecasting to int\n",
    "n = int(input(\"How many roses?: \"))\n",
    "print(n)\n",
    " \n",
    "# Taking input as float\n",
    "# Typecasting to float\n",
    "price = float(input(\"Price of each rose?: \"))\n",
    "print(price)"
   ]
  },
  {
   "cell_type": "code",
   "execution_count": 2,
   "id": "4f8478d1",
   "metadata": {},
   "outputs": [
    {
     "name": "stdout",
     "output_type": "stream",
     "text": [
      "What color is rose?: Red\n",
      "Red\n"
     ]
    }
   ],
   "source": [
    "# Taking input as string\n",
    "color = input(\"What color is rose?: \")\n",
    "print(color)"
   ]
  },
  {
   "cell_type": "code",
   "execution_count": 3,
   "id": "34574134",
   "metadata": {},
   "outputs": [
    {
     "name": "stdout",
     "output_type": "stream",
     "text": [
      "How many roses?: 50\n",
      "50\n"
     ]
    }
   ],
   "source": [
    "# Taking input as int\n",
    "# Typecasting to int\n",
    "n = int(input(\"How many roses?: \"))\n",
    "print(n)"
   ]
  },
  {
   "cell_type": "code",
   "execution_count": 4,
   "id": "dc24b2c8",
   "metadata": {},
   "outputs": [
    {
     "name": "stdout",
     "output_type": "stream",
     "text": [
      "Price of each rose?: 10\n",
      "10.0\n"
     ]
    }
   ],
   "source": [
    "# Taking input as float\n",
    "# Typecasting to float\n",
    "price = float(input(\"Price of each rose?: \"))\n",
    "print(price)"
   ]
  },
  {
   "cell_type": "code",
   "execution_count": 5,
   "id": "13c890d8",
   "metadata": {},
   "outputs": [
    {
     "name": "stdout",
     "output_type": "stream",
     "text": [
      "Please Enter Your Name: Dadda Tyagi\n",
      "Please Enter Your Age: 23\n",
      "Name & Age:  Dadda Tyagi 23\n"
     ]
    }
   ],
   "source": [
    "# Taking name of the user as input\n",
    "# and storing it name variable\n",
    "name = input(\"Please Enter Your Name: \")\n",
    " \n",
    "# taking age of the user as input and\n",
    "# storing in into variable age\n",
    "age = input(\"Please Enter Your Age: \")\n",
    " \n",
    "print(\"Name & Age: \", name, age)"
   ]
  },
  {
   "cell_type": "code",
   "execution_count": 6,
   "id": "24525677",
   "metadata": {},
   "outputs": [
    {
     "name": "stdout",
     "output_type": "stream",
     "text": [
      "Please Enter First Number: 15\n",
      "Please Enter Second Number: 10\n",
      "The sum of the two given numbers is 25 \n"
     ]
    }
   ],
   "source": [
    "# Taking number 1 from user as int\n",
    "num1 = int(input(\"Please Enter First Number: \"))\n",
    " \n",
    "# Taking number 2 from user as int\n",
    "num2 = int(input(\"Please Enter Second Number: \"))\n",
    " \n",
    "# adding num1 and num2 and storing them in\n",
    "# variable addition\n",
    "addition = num1 + num2\n",
    " \n",
    "# printing\n",
    "print(\"The sum of the two given numbers is {} \".format(addition))"
   ]
  },
  {
   "cell_type": "code",
   "execution_count": 7,
   "id": "073c995b",
   "metadata": {},
   "outputs": [
    {
     "name": "stdout",
     "output_type": "stream",
     "text": [
      "Please Enter Elements of list1: 4 6 8 9\n",
      "Please Enter Elements of list2: 58 4 54 7\n",
      "['4', ' ', '6', ' ', '8', ' ', '9', '5', '8', ' ', '4', ' ', '5', '4', ' ', '7']\n"
     ]
    }
   ],
   "source": [
    "# Taking list1 input from user as list\n",
    "list1 = list(input(\"Please Enter Elements of list1: \"))\n",
    " \n",
    "# Taking list2 input from user as list\n",
    "list2 = list(input(\"Please Enter Elements of list2: \"))\n",
    " \n",
    " \n",
    "# appending list2 into list1 using .append function\n",
    "for i in list2:\n",
    "    list1.append(i)\n",
    " \n",
    "# printing list1\n",
    "print(list1)"
   ]
  },
  {
   "cell_type": "code",
   "execution_count": 8,
   "id": "b28c1f5a",
   "metadata": {},
   "outputs": [
    {
     "name": "stdout",
     "output_type": "stream",
     "text": [
      "Please Enter Elements of list1: 84961\n",
      "Please Enter Elements of list2: 59689\n",
      "['8', '4', '9', '6', '1', '5', '9', '6', '8', '9']\n"
     ]
    }
   ],
   "source": [
    "# Taking list1 input from user as list\n",
    "list1 = list(input(\"Please Enter Elements of list1: \"))\n",
    " \n",
    "# Taking list2 input from user as list\n",
    "list2 = list(input(\"Please Enter Elements of list2: \"))\n",
    " \n",
    " \n",
    "# appending list2 into list1 using .append function\n",
    "for i in list2:\n",
    "    list1.append(i)\n",
    " \n",
    "# printing list1\n",
    "print(list1)"
   ]
  },
  {
   "cell_type": "code",
   "execution_count": 9,
   "id": "4ae09b86",
   "metadata": {},
   "outputs": [
    {
     "name": "stdout",
     "output_type": "stream",
     "text": [
      "Please Enter Elements of list1: 75757575\n",
      "Please Enter Elements of list2: 4545444\n",
      "['7', '5', '7', '5', '7', '5', '7', '5', '4', '5', '4', '5', '4', '4', '4']\n"
     ]
    }
   ],
   "source": [
    "# Taking list1 input from user as list\n",
    "list1 = list(input(\"Please Enter Elements of list1: \"))\n",
    " \n",
    "# Taking list2 input from user as list\n",
    "list2 = list(input(\"Please Enter Elements of list2: \"))\n",
    " \n",
    " \n",
    "# appending list2 into list1 using .append function\n",
    "for i in list2:\n",
    "    list1.append(i)\n",
    " \n",
    "# printing list1\n",
    "print(list1)"
   ]
  },
  {
   "cell_type": "code",
   "execution_count": null,
   "id": "44d54593",
   "metadata": {},
   "outputs": [],
   "source": []
  }
 ],
 "metadata": {
  "kernelspec": {
   "display_name": "Python 3 (ipykernel)",
   "language": "python",
   "name": "python3"
  },
  "language_info": {
   "codemirror_mode": {
    "name": "ipython",
    "version": 3
   },
   "file_extension": ".py",
   "mimetype": "text/x-python",
   "name": "python",
   "nbconvert_exporter": "python",
   "pygments_lexer": "ipython3",
   "version": "3.10.9"
  }
 },
 "nbformat": 4,
 "nbformat_minor": 5
}
