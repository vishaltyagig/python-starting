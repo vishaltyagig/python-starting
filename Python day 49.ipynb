{
 "cells": [
  {
   "cell_type": "markdown",
   "id": "d0bf9edc",
   "metadata": {},
   "source": [
    "# Taking input from console in Python"
   ]
  },
  {
   "cell_type": "code",
   "execution_count": 1,
   "id": "4d6f8234",
   "metadata": {},
   "outputs": [
    {
     "name": "stdout",
     "output_type": "stream",
     "text": [
      "5\n",
      "5\n"
     ]
    }
   ],
   "source": [
    "# input\n",
    "input1 = input()\n",
    " \n",
    "# output\n",
    "print(input1)"
   ]
  },
  {
   "cell_type": "code",
   "execution_count": 2,
   "id": "caf9d7fb",
   "metadata": {},
   "outputs": [
    {
     "name": "stdout",
     "output_type": "stream",
     "text": [
      "5\n",
      "6\n",
      "11\n"
     ]
    }
   ],
   "source": [
    "# input\n",
    "num1 = int(input())\n",
    "num2 = int(input())\n",
    " \n",
    "# printing the sum in integer\n",
    "print(num1 + num2)"
   ]
  },
  {
   "cell_type": "code",
   "execution_count": 4,
   "id": "ded13280",
   "metadata": {},
   "outputs": [
    {
     "name": "stdout",
     "output_type": "stream",
     "text": [
      "sdfg\n"
     ]
    },
    {
     "ename": "ValueError",
     "evalue": "invalid literal for int() with base 10: 'sdfg'",
     "output_type": "error",
     "traceback": [
      "\u001b[1;31m---------------------------------------------------------------------------\u001b[0m",
      "\u001b[1;31mValueError\u001b[0m                                Traceback (most recent call last)",
      "Cell \u001b[1;32mIn[4], line 4\u001b[0m\n\u001b[0;32m      1\u001b[0m \u001b[38;5;66;03m# it is only take integer value not any string\u001b[39;00m\n\u001b[0;32m      2\u001b[0m \n\u001b[0;32m      3\u001b[0m \u001b[38;5;66;03m# input\u001b[39;00m\n\u001b[1;32m----> 4\u001b[0m num1 \u001b[38;5;241m=\u001b[39m \u001b[38;5;28;43mint\u001b[39;49m\u001b[43m(\u001b[49m\u001b[38;5;28;43minput\u001b[39;49m\u001b[43m(\u001b[49m\u001b[43m)\u001b[49m\u001b[43m)\u001b[49m\n\u001b[0;32m      5\u001b[0m num2 \u001b[38;5;241m=\u001b[39m \u001b[38;5;28mint\u001b[39m(\u001b[38;5;28minput\u001b[39m())\n\u001b[0;32m      7\u001b[0m \u001b[38;5;66;03m# printing the sum in integer\u001b[39;00m\n",
      "\u001b[1;31mValueError\u001b[0m: invalid literal for int() with base 10: 'sdfg'"
     ]
    }
   ],
   "source": [
    "# it is only take integer value not any string\n",
    "\n",
    "# input\n",
    "num1 = int(input())\n",
    "num2 = int(input())\n",
    " \n",
    "# printing the sum in integer\n",
    "print(num1 + num2)"
   ]
  },
  {
   "cell_type": "code",
   "execution_count": 6,
   "id": "ff7c4da5",
   "metadata": {},
   "outputs": [
    {
     "name": "stdout",
     "output_type": "stream",
     "text": [
      "696\n",
      "63\n",
      "759.0\n"
     ]
    }
   ],
   "source": [
    "# Typecasting the input to Float: To convert the input to float the following code will work out.\n",
    "\n",
    "# input\n",
    "num1 = float(input())\n",
    "num2 = float(input())\n",
    " \n",
    "# printing the sum in float\n",
    "print(num1 + num2)"
   ]
  },
  {
   "cell_type": "code",
   "execution_count": 7,
   "id": "32e85f4d",
   "metadata": {},
   "outputs": [
    {
     "name": "stdout",
     "output_type": "stream",
     "text": [
      "sdfghj\n",
      "sdfghj\n",
      "fcvbnm\n",
      "fcvbnm\n"
     ]
    }
   ],
   "source": [
    "# input\n",
    "string = str(input())\n",
    " \n",
    "# output\n",
    "print(string)\n",
    " \n",
    "# Or by default\n",
    "string_default = input()\n",
    " \n",
    "# output\n",
    "print(string_default)"
   ]
  },
  {
   "cell_type": "markdown",
   "id": "0332a667",
   "metadata": {},
   "source": [
    "# Python | Output using print() function"
   ]
  },
  {
   "cell_type": "code",
   "execution_count": 8,
   "id": "5b20a07d",
   "metadata": {},
   "outputs": [
    {
     "name": "stdout",
     "output_type": "stream",
     "text": [
      "Name: John\n",
      "Age: 30\n"
     ]
    }
   ],
   "source": [
    "name = \"John\"\n",
    "age = 30\n",
    " \n",
    "print(\"Name:\", name)\n",
    "print(\"Age:\", age)"
   ]
  },
  {
   "cell_type": "code",
   "execution_count": 9,
   "id": "b4a1384c",
   "metadata": {},
   "outputs": [
    {
     "name": "stdout",
     "output_type": "stream",
     "text": [
      "Hello, my name is Alice and I am 25 years old.\n"
     ]
    }
   ],
   "source": [
    "name = \"Alice\"\n",
    "age = 25\n",
    " \n",
    "print(\"Hello, my name is\", name, \"and I am\", age, \"years old.\")"
   ]
  },
  {
   "cell_type": "code",
   "execution_count": 10,
   "id": "088f50ad",
   "metadata": {},
   "outputs": [
    {
     "name": "stdout",
     "output_type": "stream",
     "text": [
      "GeeksforGeeks \n",
      " is best for DSA Content.\n"
     ]
    }
   ],
   "source": [
    "print(\"GeeksforGeeks \\n is best for DSA Content.\")"
   ]
  },
  {
   "cell_type": "code",
   "execution_count": 11,
   "id": "d82c4427",
   "metadata": {},
   "outputs": [
    {
     "name": "stdout",
     "output_type": "stream",
     "text": [
      "GeeksForGeeks is the best platform for DSA content\n",
      "GeeksForGeeks is the best platform for DSA content**Welcome to GFG\n"
     ]
    }
   ],
   "source": [
    "# This line will automatically add a new line before the\n",
    "# next print statement\n",
    "print (\"GeeksForGeeks is the best platform for DSA content\")\n",
    " \n",
    "# This print() function ends with \"**\" as set in the end argument.\n",
    "print (\"GeeksForGeeks is the best platform for DSA content\", end= \"**\")\n",
    "print(\"Welcome to GFG\")"
   ]
  },
  {
   "cell_type": "code",
   "execution_count": 12,
   "id": "6352c40a",
   "metadata": {},
   "outputs": [
    {
     "name": "stdout",
     "output_type": "stream",
     "text": [
      "GeeksforGeeks is a Wonderful Website.\n"
     ]
    }
   ],
   "source": [
    "print('GeeksforGeeks is a Wonderful ' + 'Website.')"
   ]
  },
  {
   "cell_type": "code",
   "execution_count": 13,
   "id": "979d816f",
   "metadata": {},
   "outputs": [
    {
     "name": "stdout",
     "output_type": "stream",
     "text": [
      "The value of a is 10 and b is 1000\n"
     ]
    }
   ],
   "source": [
    "a,b,=10,1000\n",
    "print('The value of a is {} and b is {}'.format(a,b))"
   ]
  },
  {
   "cell_type": "code",
   "execution_count": 14,
   "id": "37e22a13",
   "metadata": {},
   "outputs": [
    {
     "name": "stdout",
     "output_type": "stream",
     "text": [
      "Enter the Number: 45\n",
      "Number Entered by User: 45\n",
      "<class 'str'>\n"
     ]
    }
   ],
   "source": [
    "n = input('Enter the Number: ')\n",
    " \n",
    "print('Number Entered by User:',n)\n",
    " \n",
    "print(type(n))"
   ]
  },
  {
   "cell_type": "code",
   "execution_count": 15,
   "id": "96c3938a",
   "metadata": {},
   "outputs": [
    {
     "name": "stdout",
     "output_type": "stream",
     "text": [
      "Enter the Number: 75\n",
      "Number Entered by User: 75\n",
      "<class 'int'>\n"
     ]
    }
   ],
   "source": [
    "n = int(input('Enter the Number: '))\n",
    " \n",
    "print('Number Entered by User:',n)\n",
    " \n",
    "print(type(n))"
   ]
  },
  {
   "cell_type": "code",
   "execution_count": 16,
   "id": "a44444e3",
   "metadata": {},
   "outputs": [
    {
     "name": "stdout",
     "output_type": "stream",
     "text": [
      "3>>>2>>>1>>>Start\n"
     ]
    }
   ],
   "source": [
    "import time\n",
    " \n",
    "count_seconds = 3\n",
    "for i in reversed(range(count_seconds + 1)):\n",
    "    if i > 0:\n",
    "        print(i, end='>>>')\n",
    "        time.sleep(1)\n",
    "    else:\n",
    "        print('Start')"
   ]
  },
  {
   "cell_type": "code",
   "execution_count": 17,
   "id": "c1ee52ac",
   "metadata": {},
   "outputs": [
    {
     "name": "stdout",
     "output_type": "stream",
     "text": [
      "20>>>19>>>18>>>17>>>16>>>15>>>14>>>13>>>12>>>11>>>10>>>9>>>8>>>7>>>6>>>5>>>4>>>3>>>2>>>1>>>Start\n"
     ]
    }
   ],
   "source": [
    "import time\n",
    " \n",
    "count_seconds = 20\n",
    "for i in reversed(range(count_seconds + 1)):\n",
    "    if i > 0:\n",
    "        print(i, end='>>>')\n",
    "        time.sleep(1)\n",
    "    else:\n",
    "        print('Start')"
   ]
  },
  {
   "cell_type": "code",
   "execution_count": 19,
   "id": "0bbf28fa",
   "metadata": {},
   "outputs": [
    {
     "name": "stdout",
     "output_type": "stream",
     "text": [
      "10>>> 9>>> 8>>> 7>>> 6>>> 5>>> 4>>> 3>>> 2>>> 1>>> End\n"
     ]
    }
   ],
   "source": [
    "import time\n",
    "\n",
    "count_seconds = 10\n",
    "for i in reversed(range(count_seconds + 1)):\n",
    "    if i > 0:\n",
    "        print(i, end = '>>> ')\n",
    "        time.sleep(1)\n",
    "    else:\n",
    "        print('End')"
   ]
  },
  {
   "cell_type": "code",
   "execution_count": 20,
   "id": "1e9c4c05",
   "metadata": {},
   "outputs": [
    {
     "name": "stdout",
     "output_type": "stream",
     "text": [
      "3>>>2>>>1>>>Start\n"
     ]
    }
   ],
   "source": [
    "import time\n",
    " \n",
    "count_seconds = 3\n",
    "for i in reversed(range(count_seconds + 1)):\n",
    "    if i > 0:\n",
    "        print(i, end='>>>', flush = True)\n",
    "        time.sleep(1)\n",
    "    else:\n",
    "        print('Start')"
   ]
  },
  {
   "cell_type": "code",
   "execution_count": 21,
   "id": "607e79ec",
   "metadata": {},
   "outputs": [
    {
     "name": "stdout",
     "output_type": "stream",
     "text": [
      "12-12-2022\n"
     ]
    }
   ],
   "source": [
    "a=12\n",
    "b=12\n",
    "c=2022\n",
    "print(a,b,c,sep=\"-\")"
   ]
  },
  {
   "cell_type": "code",
   "execution_count": 22,
   "id": "02e2aa0c",
   "metadata": {},
   "outputs": [
    {
     "name": "stdout",
     "output_type": "stream",
     "text": [
      "12/12/2022\n"
     ]
    }
   ],
   "source": [
    "a=12\n",
    "b=12\n",
    "c=2022\n",
    "print(a,b,c,sep=\"/\")"
   ]
  },
  {
   "cell_type": "code",
   "execution_count": 24,
   "id": "4995bf8c",
   "metadata": {},
   "outputs": [
    {
     "name": "stdout",
     "output_type": "stream",
     "text": [
      "12\\12\\2022\n"
     ]
    }
   ],
   "source": [
    "a=12\n",
    "b=12\n",
    "c=2022\n",
    "print(a,b,c,sep=\"\\\\\")"
   ]
  },
  {
   "cell_type": "code",
   "execution_count": 26,
   "id": "ed7decb4",
   "metadata": {},
   "outputs": [
    {
     "ename": "SyntaxError",
     "evalue": "positional argument follows keyword argument (3280071863.py, line 1)",
     "output_type": "error",
     "traceback": [
      "\u001b[1;36m  Cell \u001b[1;32mIn[26], line 1\u001b[1;36m\u001b[0m\n\u001b[1;33m    print(10, 20, sep=' - ',30)\u001b[0m\n\u001b[1;37m                              ^\u001b[0m\n\u001b[1;31mSyntaxError\u001b[0m\u001b[1;31m:\u001b[0m positional argument follows keyword argument\n"
     ]
    }
   ],
   "source": [
    "print(10, 20, sep=' - ',30)"
   ]
  },
  {
   "cell_type": "code",
   "execution_count": 27,
   "id": "89ae18d2",
   "metadata": {},
   "outputs": [
    {
     "name": "stdout",
     "output_type": "stream",
     "text": [
      "Hello Geeks!!\n",
      "\n"
     ]
    }
   ],
   "source": [
    "import io\n",
    " \n",
    "# declare a dummy file\n",
    "dummy_file = io.StringIO()\n",
    " \n",
    "# add message to the dummy file\n",
    "print('Hello Geeks!!', file=dummy_file)\n",
    " \n",
    "# get the value from dummy file\n",
    "print(dummy_file.getvalue())"
   ]
  },
  {
   "cell_type": "code",
   "execution_count": 28,
   "id": "4c212de5",
   "metadata": {},
   "outputs": [],
   "source": [
    "print('Welcome to GeeksforGeeks Python world.!!', file=open('Testfile.txt', 'w'))\n"
   ]
  },
  {
   "cell_type": "code",
   "execution_count": null,
   "id": "51d0e395",
   "metadata": {},
   "outputs": [],
   "source": []
  }
 ],
 "metadata": {
  "kernelspec": {
   "display_name": "Python 3 (ipykernel)",
   "language": "python",
   "name": "python3"
  },
  "language_info": {
   "codemirror_mode": {
    "name": "ipython",
    "version": 3
   },
   "file_extension": ".py",
   "mimetype": "text/x-python",
   "name": "python",
   "nbconvert_exporter": "python",
   "pygments_lexer": "ipython3",
   "version": "3.10.9"
  }
 },
 "nbformat": 4,
 "nbformat_minor": 5
}
