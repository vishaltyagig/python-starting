{
 "cells": [
  {
   "cell_type": "code",
   "execution_count": 2,
   "id": "227ac6fb",
   "metadata": {},
   "outputs": [],
   "source": [
    "# 4 a file contains word twinkle multiple times u need to wap with replace #### by updating the same file\n",
    "\n",
    "with open('poem.txt') as f:\n",
    "    content = f.read()\n",
    "\n",
    "content = content.replace('twinkle', '####')\n",
    "\n",
    "with open('poem.txt', 'w') as f:\n",
    "    f.write(content)"
   ]
  },
  {
   "cell_type": "code",
   "execution_count": 6,
   "id": "61d00f62",
   "metadata": {},
   "outputs": [
    {
     "name": "stdout",
     "output_type": "stream",
     "text": [
      "YES, timer is present\n"
     ]
    }
   ],
   "source": [
    "# wap to prime a log file and find out weather it contains python\n",
    "\n",
    "with open ('log.txt') as f:\n",
    "    content = f.read()\n",
    "    \n",
    "if 'timer' in content:\n",
    "    print(\"YES, timer is present\")\n",
    "else:\n",
    "    print(\"NO, timer is not present\")"
   ]
  },
  {
   "cell_type": "code",
   "execution_count": 7,
   "id": "407c707f",
   "metadata": {},
   "outputs": [
    {
     "name": "stdout",
     "output_type": "stream",
     "text": [
      "03/22 08:51:06 INFO   :....mailslot_create: creating mailslot for timer\n",
      "\n",
      "YES, timer is present\n",
      "21\n",
      "03/22 08:51:06 INFO   :...mailbox_register: mailbox allocated for timer\n",
      "\n",
      "YES, timer is present\n",
      "22\n",
      "03/22 08:52:51 TRACE  :........flow_timer_start: started T1\n",
      "\n",
      "YES, timer is present\n",
      "167\n",
      "03/22 08:52:52 TRACE  :........flow_timer_stop: stopped T1\n",
      "\n",
      "YES, timer is present\n",
      "206\n",
      "03/22 08:52:52 TRACE  :........flow_timer_stop: Stop T4\n",
      "\n",
      "YES, timer is present\n",
      "207\n",
      "03/22 08:52:52 TRACE  :........flow_timer_start: started T1\n",
      "\n",
      "YES, timer is present\n",
      "208\n",
      "03/22 08:52:52 TRACE  :........flow_timer_start: Start T4\n",
      "\n",
      "YES, timer is present\n",
      "209\n",
      "03/22 08:53:07 TRACE  :.....event_timerT1_expire: T1 expired\n",
      "\n",
      "YES, timer is present\n",
      "214\n",
      "03/22 08:53:07 TRACE  :.......flow_timer_start: started T1\n",
      "\n",
      "YES, timer is present\n",
      "222\n",
      "03/22 08:53:22 TRACE  :........flow_timer_stop: Stop T4\n",
      "\n",
      "YES, timer is present\n",
      "232\n",
      "03/22 08:53:22 TRACE  :........flow_timer_start: Start T4\n",
      "\n",
      "YES, timer is present\n",
      "233\n",
      "03/22 08:53:22 TRACE  :.....event_timerT1_expire: T1 expired\n",
      "\n",
      "YES, timer is present\n",
      "236\n",
      "03/22 08:53:22 TRACE  :.......flow_timer_start: started T1\n",
      "\n",
      "YES, timer is present\n",
      "244\n",
      "03/22 08:53:38 TRACE  :.....event_timerT1_expire: T1 expired\n",
      "\n",
      "YES, timer is present\n",
      "248\n",
      "03/22 08:53:38 TRACE  :.......flow_timer_start: started T1\n",
      "\n",
      "YES, timer is present\n",
      "258\n",
      "03/22 08:53:52 TRACE  :........flow_timer_stop: Stop T4\n",
      "\n",
      "YES, timer is present\n",
      "267\n",
      "03/22 08:53:52 TRACE  :........flow_timer_start: Start T4\n",
      "\n",
      "YES, timer is present\n",
      "268\n",
      "03/22 08:53:53 TRACE  :.....event_timerT1_expire: T1 expired\n",
      "\n",
      "YES, timer is present\n",
      "271\n",
      "03/22 08:53:53 TRACE  :.......flow_timer_start: started T1\n",
      "\n",
      "YES, timer is present\n",
      "279\n",
      "03/22 08:54:09 TRACE  :.....event_timerT1_expire: T1 expired\n",
      "\n",
      "YES, timer is present\n",
      "283\n",
      "03/22 08:54:09 TRACE  :.......flow_timer_start: started T1\n",
      "\n",
      "YES, timer is present\n",
      "291\n",
      "03/22 08:54:22 TRACE  :........flow_timer_stop: Stop T4\n",
      "\n",
      "YES, timer is present\n",
      "300\n",
      "03/22 08:54:22 TRACE  :........flow_timer_start: Start T4\n",
      "\n",
      "YES, timer is present\n",
      "301\n",
      "03/22 08:54:24 TRACE  :.....event_timerT1_expire: T1 expired\n",
      "\n",
      "YES, timer is present\n",
      "304\n",
      "03/22 08:54:24 TRACE  :.......flow_timer_start: started T1\n",
      "\n",
      "YES, timer is present\n",
      "314\n",
      "03/22 08:54:35 TRACE  :........flow_timer_stop: stopped T1\n",
      "\n",
      "YES, timer is present\n",
      "341\n",
      "03/22 08:54:35 TRACE  :........flow_timer_stop: Stop T4\n",
      "\n",
      "YES, timer is present\n",
      "342\n"
     ]
    }
   ],
   "source": [
    "# wap to find out the line number where timer is present acording to upper question\n",
    "\n",
    "content = True\n",
    "i = 1\n",
    "with open ('log.txt') as f:\n",
    "    \n",
    "    while content:\n",
    "        \n",
    "        content = f.readline()\n",
    "        \n",
    "    \n",
    "        if 'timer' in content:\n",
    "            print(content)\n",
    "            print(\"YES, timer is present\")\n",
    "            print(i)\n",
    "        i += 1 "
   ]
  },
  {
   "cell_type": "code",
   "execution_count": 8,
   "id": "4883d61e",
   "metadata": {},
   "outputs": [],
   "source": [
    "# wap to make a copy of a text file \"this.txt\"\n",
    "\n",
    "with open(\"this.txt\") as f:\n",
    "    content = f.read()\n",
    "    \n",
    "with open(\"copy.txt\", 'w') as f:\n",
    "    f.write(content)"
   ]
  },
  {
   "cell_type": "code",
   "execution_count": 9,
   "id": "46ecca15",
   "metadata": {},
   "outputs": [
    {
     "name": "stdout",
     "output_type": "stream",
     "text": [
      "files are identical\n"
     ]
    }
   ],
   "source": [
    "# wap to find out weather a file is identical & matches the content of another file\n",
    "\n",
    "file1 = \"copy.txt\"\n",
    "file2 = \"this.txt\"\n",
    "\n",
    "with open(file1) as f:\n",
    "    f1 = f.read()\n",
    "    \n",
    "with open(file2) as f:\n",
    "    f2 = f.read()\n",
    "    \n",
    "if f1 == f2:\n",
    "    print(\"files are identical\")\n",
    "else:\n",
    "    print(\"files are not identical\")"
   ]
  },
  {
   "cell_type": "code",
   "execution_count": null,
   "id": "c8554dbe",
   "metadata": {},
   "outputs": [],
   "source": [
    "# wap to wipe out the content of a file using python\n",
    "\n",
    "filename = \"....?\"\n",
    "with open(filename, \"w\") as f:\n",
    "    f1 = f.write(\"\")"
   ]
  },
  {
   "cell_type": "code",
   "execution_count": 10,
   "id": "124715c5",
   "metadata": {},
   "outputs": [],
   "source": [
    "# wap to rename a file to \"renamed_by_python.txt\"\n",
    "\n",
    "import os\n",
    "\n",
    "oldname = \"sample2.txt\"\n",
    "newname = \"renamed_by_python.txt\"\n",
    "with open(oldname) as f:\n",
    "    content = f.read()\n",
    "    \n",
    "with open(newname, \"w\") as f:\n",
    "    f.write(content)\n",
    "    \n",
    "os.remove(oldname)"
   ]
  },
  {
   "cell_type": "code",
   "execution_count": null,
   "id": "00111bde",
   "metadata": {},
   "outputs": [],
   "source": []
  }
 ],
 "metadata": {
  "kernelspec": {
   "display_name": "Python 3 (ipykernel)",
   "language": "python",
   "name": "python3"
  },
  "language_info": {
   "codemirror_mode": {
    "name": "ipython",
    "version": 3
   },
   "file_extension": ".py",
   "mimetype": "text/x-python",
   "name": "python",
   "nbconvert_exporter": "python",
   "pygments_lexer": "ipython3",
   "version": "3.10.9"
  }
 },
 "nbformat": 4,
 "nbformat_minor": 5
}
