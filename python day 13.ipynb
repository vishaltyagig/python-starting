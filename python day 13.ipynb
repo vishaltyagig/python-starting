{
 "cells": [
  {
   "cell_type": "code",
   "execution_count": 1,
   "id": "b1d8d7ab",
   "metadata": {},
   "outputs": [
    {
     "name": "stdout",
     "output_type": "stream",
     "text": [
      "Hello world\n"
     ]
    }
   ],
   "source": [
    "print(\"Hello world\")"
   ]
  },
  {
   "cell_type": "code",
   "execution_count": 2,
   "id": "ce666b95",
   "metadata": {},
   "outputs": [],
   "source": [
    "import os"
   ]
  },
  {
   "cell_type": "code",
   "execution_count": 4,
   "id": "b0d540b1",
   "metadata": {},
   "outputs": [],
   "source": [
    "import tensorflow"
   ]
  },
  {
   "cell_type": "markdown",
   "id": "b56961e0",
   "metadata": {},
   "source": [
    "## comments"
   ]
  },
  {
   "cell_type": "code",
   "execution_count": 5,
   "id": "c6515e28",
   "metadata": {},
   "outputs": [],
   "source": [
    "# comments"
   ]
  },
  {
   "cell_type": "code",
   "execution_count": 9,
   "id": "009ab326",
   "metadata": {},
   "outputs": [
    {
     "data": {
      "text/plain": [
       "'\\nit is use for multiline comments\\n\\nsuch as example that\\n'"
      ]
     },
     "execution_count": 9,
     "metadata": {},
     "output_type": "execute_result"
    }
   ],
   "source": [
    "'''\n",
    "it is use for multiline comments\n",
    "\n",
    "such as example that\n",
    "'''"
   ]
  },
  {
   "cell_type": "code",
   "execution_count": 10,
   "id": "62ad6bd9",
   "metadata": {},
   "outputs": [
    {
     "name": "stdout",
     "output_type": "stream",
     "text": [
      "Twinkle twinkle little star.\n",
      "How I wonder what you are.\n",
      "Up above the world so high.\n",
      "Like a diamond in the sky.\n",
      "Twinkle twinkle little star.\n",
      "How I wonder what you are.\n"
     ]
    }
   ],
   "source": [
    "# wap to write a poem\n",
    "\n",
    "print('''Twinkle twinkle little star.\n",
    "How I wonder what you are.\n",
    "Up above the world so high.\n",
    "Like a diamond in the sky.\n",
    "Twinkle twinkle little star.\n",
    "How I wonder what you are.''')"
   ]
  },
  {
   "cell_type": "code",
   "execution_count": 11,
   "id": "e108b27a",
   "metadata": {},
   "outputs": [
    {
     "name": "stdout",
     "output_type": "stream",
     "text": [
      "5\n",
      "10\n",
      "15\n",
      "20\n",
      "25\n",
      "30\n",
      "35\n",
      "40\n",
      "45\n",
      "50\n"
     ]
    }
   ],
   "source": [
    "# print table of 5 by using repl\n",
    "\n",
    "print(5*1)\n",
    "print(5*2)\n",
    "print(5*3)\n",
    "print(5*4)\n",
    "print(5*5)\n",
    "print(5*6)\n",
    "print(5*7)\n",
    "print(5*8)\n",
    "print(5*9)\n",
    "print(5*10)"
   ]
  },
  {
   "cell_type": "code",
   "execution_count": 12,
   "id": "89e7f269",
   "metadata": {},
   "outputs": [
    {
     "name": "stdout",
     "output_type": "stream",
     "text": [
      "['.ipynb_checkpoints', 'data collection day 7.ipynb', 'data collection day 8.ipynb', 'Dictonary day 10.ipynb', 'function questions.ipynb', 'function.ipynb', 'if_else_condition day 5.ipynb', 'list day 9.ipynb', 'loop day 6.ipynb', 'Project Bank mang. System.ipynb', 'python day 11.ipynb', 'python day 12 revision.ipynb', 'python day 13.ipynb', 'python day 2 .ipynb', 'python day 3.ipynb', 'python day 4.ipynb', 'python day1.ipynb', 'python test questions.ipynb', 'Tuple day 9.ipynb']\n"
     ]
    }
   ],
   "source": [
    "import os\n",
    "print(os.listdir())"
   ]
  },
  {
   "cell_type": "markdown",
   "id": "57e046e0",
   "metadata": {},
   "source": [
    "## variables and datatype"
   ]
  },
  {
   "cell_type": "code",
   "execution_count": 15,
   "id": "75caab64",
   "metadata": {},
   "outputs": [
    {
     "name": "stdout",
     "output_type": "stream",
     "text": [
      "<class 'str'>\n",
      "<class 'int'>\n",
      "<class 'float'>\n",
      "<class 'type'>\n",
      "<class 'NoneType'>\n"
     ]
    }
   ],
   "source": [
    "a = \"Vishal\" # string\n",
    "b = 345      # integer\n",
    "c = 45.32    # float\n",
    "d = bool     # boolean\n",
    "e = None     # none\n",
    "# print the type\n",
    "\n",
    "print(type(a))\n",
    "print(type(b))\n",
    "print(type(c))\n",
    "print(type(d))\n",
    "print(type(e))"
   ]
  },
  {
   "cell_type": "markdown",
   "id": "fa263394",
   "metadata": {},
   "source": [
    "## operators in python"
   ]
  },
  {
   "cell_type": "code",
   "execution_count": 17,
   "id": "28797f0b",
   "metadata": {},
   "outputs": [
    {
     "name": "stdout",
     "output_type": "stream",
     "text": [
      "The value of 3+4 is  7\n",
      "The value of 3-4 is  -1\n",
      "The value of 3*4 is  12\n",
      "The value of 3/4 is  0.75\n"
     ]
    }
   ],
   "source": [
    "a = 3\n",
    "b = 4\n",
    "\n",
    "# arithmatic operator\n",
    "\n",
    "print(\"The value of 3+4 is \", 3+4)\n",
    "print(\"The value of 3-4 is \", 3-4)\n",
    "print(\"The value of 3*4 is \", 3*4)\n",
    "print(\"The value of 3/4 is \", 3/4)"
   ]
  },
  {
   "cell_type": "code",
   "execution_count": 18,
   "id": "9285839d",
   "metadata": {},
   "outputs": [
    {
     "name": "stdout",
     "output_type": "stream",
     "text": [
      "36\n"
     ]
    }
   ],
   "source": [
    "# assignmet operators\n",
    "\n",
    "a = 34\n",
    "a += 2\n",
    "print(a)"
   ]
  },
  {
   "cell_type": "code",
   "execution_count": 19,
   "id": "201617fa",
   "metadata": {},
   "outputs": [
    {
     "name": "stdout",
     "output_type": "stream",
     "text": [
      "32\n"
     ]
    }
   ],
   "source": [
    "a = 34\n",
    "a -= 2\n",
    "print(a)"
   ]
  },
  {
   "cell_type": "code",
   "execution_count": 20,
   "id": "21bcded0",
   "metadata": {},
   "outputs": [
    {
     "name": "stdout",
     "output_type": "stream",
     "text": [
      "68\n"
     ]
    }
   ],
   "source": [
    "a = 34\n",
    "a *= 2\n",
    "print(a)"
   ]
  },
  {
   "cell_type": "code",
   "execution_count": 22,
   "id": "3c6c0a11",
   "metadata": {},
   "outputs": [
    {
     "name": "stdout",
     "output_type": "stream",
     "text": [
      "17.0\n"
     ]
    }
   ],
   "source": [
    "a = 34\n",
    "a /= 2\n",
    "print(a)"
   ]
  },
  {
   "cell_type": "code",
   "execution_count": 23,
   "id": "ee25c768",
   "metadata": {},
   "outputs": [
    {
     "name": "stdout",
     "output_type": "stream",
     "text": [
      "34.0\n"
     ]
    }
   ],
   "source": [
    "a = 34\n",
    "a += 2\n",
    "a -= 2\n",
    "a *= 2\n",
    "a /= 2\n",
    "print(a)"
   ]
  },
  {
   "cell_type": "code",
   "execution_count": 25,
   "id": "8fdfdd00",
   "metadata": {},
   "outputs": [
    {
     "name": "stdout",
     "output_type": "stream",
     "text": [
      "False\n"
     ]
    }
   ],
   "source": [
    "# comperision operator\n",
    "\n",
    "b = (4>7)\n",
    "print(b)"
   ]
  },
  {
   "cell_type": "code",
   "execution_count": 26,
   "id": "2af6432f",
   "metadata": {},
   "outputs": [
    {
     "data": {
      "text/plain": [
       "False"
      ]
     },
     "execution_count": 26,
     "metadata": {},
     "output_type": "execute_result"
    }
   ],
   "source": [
    "b = (4>7)\n",
    "b"
   ]
  },
  {
   "cell_type": "code",
   "execution_count": 27,
   "id": "afda2da3",
   "metadata": {},
   "outputs": [
    {
     "name": "stdout",
     "output_type": "stream",
     "text": [
      "True\n"
     ]
    }
   ],
   "source": [
    "b = (14>=7)\n",
    "print(b)"
   ]
  },
  {
   "cell_type": "code",
   "execution_count": 28,
   "id": "b23b1f8a",
   "metadata": {},
   "outputs": [
    {
     "name": "stdout",
     "output_type": "stream",
     "text": [
      "False\n"
     ]
    }
   ],
   "source": [
    "b = (4==7)\n",
    "print(b)"
   ]
  },
  {
   "cell_type": "code",
   "execution_count": 29,
   "id": "465e54da",
   "metadata": {},
   "outputs": [
    {
     "name": "stdout",
     "output_type": "stream",
     "text": [
      "True\n"
     ]
    }
   ],
   "source": [
    "b = (4!=7)\n",
    "print(b)"
   ]
  },
  {
   "cell_type": "code",
   "execution_count": null,
   "id": "4b87b721",
   "metadata": {},
   "outputs": [],
   "source": [
    "# logical operator\n",
    "\n",
    "# and, or, not\n",
    "\n",
    "bool1 = True\n",
    "bool2 = False\n",
    "print(\"The value of bool1 and bool2 is\",(bool1 and bool2))\n",
    "print(\"The value of bool1 or bool2 is\",(bool1 or bool2))\n",
    "print(\"The value of not bool2 is\",(not bool2))"
   ]
  },
  {
   "cell_type": "markdown",
   "id": "b236871b",
   "metadata": {},
   "source": [
    "## typecasting or typeconversion"
   ]
  },
  {
   "cell_type": "code",
   "execution_count": 32,
   "id": "e319bbdf",
   "metadata": {},
   "outputs": [
    {
     "name": "stdout",
     "output_type": "stream",
     "text": [
      "<class 'int'>\n",
      "3459\n"
     ]
    }
   ],
   "source": [
    "a = \"3456\"\n",
    "a =int(a)\n",
    "print(type(a))\n",
    "print(a+3)"
   ]
  },
  {
   "cell_type": "code",
   "execution_count": 33,
   "id": "36cb2bfb",
   "metadata": {},
   "outputs": [
    {
     "name": "stdout",
     "output_type": "stream",
     "text": [
      "enter your nameVishal\n"
     ]
    }
   ],
   "source": [
    "# input function\n",
    "\n",
    "a = input(\"enter your name\") # its always gives an integer"
   ]
  },
  {
   "cell_type": "code",
   "execution_count": 34,
   "id": "f327391c",
   "metadata": {},
   "outputs": [
    {
     "name": "stdout",
     "output_type": "stream",
     "text": [
      "The sum of a and b is 8\n"
     ]
    }
   ],
   "source": [
    "# wap add two numbers\n",
    "a = 3\n",
    "b = 5\n",
    "print(\"The sum of a and b is\", a+b)"
   ]
  },
  {
   "cell_type": "code",
   "execution_count": 35,
   "id": "52318202",
   "metadata": {},
   "outputs": [
    {
     "name": "stdout",
     "output_type": "stream",
     "text": [
      "The remainder when a is divided by b is 1\n"
     ]
    }
   ],
   "source": [
    "# wap to find remainders when a number is divided by 2\n",
    "\n",
    "a = 45\n",
    "b = 4\n",
    "print(\"The remainder when a is divided by b is\", a%b)"
   ]
  },
  {
   "cell_type": "code",
   "execution_count": 36,
   "id": "fe53cecf",
   "metadata": {},
   "outputs": [
    {
     "data": {
      "text/plain": [
       "False"
      ]
     },
     "execution_count": 36,
     "metadata": {},
     "output_type": "execute_result"
    }
   ],
   "source": [
    "# use comperision operator to find out weather a givin variable a is greater than b or not.\n",
    "# take a = 34 and b = 80\n",
    "\n",
    "a = 34\n",
    "b = 80\n",
    "a>b"
   ]
  },
  {
   "cell_type": "code",
   "execution_count": 37,
   "id": "cfc5850b",
   "metadata": {},
   "outputs": [
    {
     "data": {
      "text/plain": [
       "True"
      ]
     },
     "execution_count": 37,
     "metadata": {},
     "output_type": "execute_result"
    }
   ],
   "source": [
    "b>a"
   ]
  },
  {
   "cell_type": "code",
   "execution_count": 38,
   "id": "4df1e788",
   "metadata": {},
   "outputs": [
    {
     "name": "stdout",
     "output_type": "stream",
     "text": [
      "Enter a number5\n",
      "Enter a number7\n",
      "6.0\n"
     ]
    }
   ],
   "source": [
    "# wap to find average of two numbers entered by user\n",
    "\n",
    "a = int(input(\"Enter a number \"))\n",
    "b = int(input(\"Enter a number \"))\n",
    "average = (a+b)/2\n",
    "print(average)"
   ]
  },
  {
   "cell_type": "code",
   "execution_count": 42,
   "id": "1e1f23f5",
   "metadata": {},
   "outputs": [
    {
     "name": "stdout",
     "output_type": "stream",
     "text": [
      "Enter a number 5\n",
      "The squre of a no. is  25\n"
     ]
    }
   ],
   "source": [
    "# wap to calculate squre of a number entered by the user\n",
    "\n",
    "a = int(input(\"Enter a number \"))\n",
    "squre = a*a\n",
    "print(\"The squre of a no. is \", squre)"
   ]
  },
  {
   "cell_type": "markdown",
   "id": "d3ce5cf7",
   "metadata": {},
   "source": [
    "## string"
   ]
  },
  {
   "cell_type": "code",
   "execution_count": 43,
   "id": "c776d994",
   "metadata": {},
   "outputs": [
    {
     "data": {
      "text/plain": [
       "\"tyagi's\""
      ]
     },
     "execution_count": 43,
     "metadata": {},
     "output_type": "execute_result"
    }
   ],
   "source": [
    "# it is a data type in python\n",
    "# '' single quoted string\n",
    "# \"\" double quoted string\n",
    "# '''''' trpile quoted string\n",
    "\n",
    "a = \"tyagi's\" #use double quotes if single quots in our string\n",
    "a"
   ]
  },
  {
   "cell_type": "markdown",
   "id": "e6a42a65",
   "metadata": {},
   "source": [
    "## string slicing"
   ]
  },
  {
   "cell_type": "code",
   "execution_count": 44,
   "id": "81fae228",
   "metadata": {},
   "outputs": [
    {
     "name": "stdout",
     "output_type": "stream",
     "text": [
      "Good morning, Vishal\n"
     ]
    }
   ],
   "source": [
    "greeting = \"Good morning, \"\n",
    "name = \"Vishal\"\n",
    "print(greeting + name) # concating 2 strings"
   ]
  },
  {
   "cell_type": "code",
   "execution_count": 45,
   "id": "0370ccf7",
   "metadata": {},
   "outputs": [
    {
     "name": "stdout",
     "output_type": "stream",
     "text": [
      "V\n"
     ]
    }
   ],
   "source": [
    "name = \"Vishal\"\n",
    "print(name[0]) # we only show that particular item. but can't change"
   ]
  },
  {
   "cell_type": "code",
   "execution_count": 46,
   "id": "66ce5379",
   "metadata": {},
   "outputs": [
    {
     "name": "stdout",
     "output_type": "stream",
     "text": [
      "Vish\n"
     ]
    }
   ],
   "source": [
    "print(name[0:4]) # string starts with 0 to length-1. \n",
    "# or it is use as[:4]"
   ]
  },
  {
   "cell_type": "code",
   "execution_count": 47,
   "id": "c68f2e0f",
   "metadata": {},
   "outputs": [
    {
     "name": "stdout",
     "output_type": "stream",
     "text": [
      "a\n"
     ]
    }
   ],
   "source": [
    "# negative indecing\n",
    "\n",
    "name = \"Vishal\"\n",
    "print(name[-2])"
   ]
  },
  {
   "cell_type": "code",
   "execution_count": 49,
   "id": "3776110a",
   "metadata": {},
   "outputs": [
    {
     "name": "stdout",
     "output_type": "stream",
     "text": [
      "sha\n"
     ]
    }
   ],
   "source": [
    "name = \"Vishal\"\n",
    "print(name[-4:-1])"
   ]
  },
  {
   "cell_type": "code",
   "execution_count": 50,
   "id": "014bbea4",
   "metadata": {},
   "outputs": [
    {
     "name": "stdout",
     "output_type": "stream",
     "text": [
      "Vsa\n"
     ]
    }
   ],
   "source": [
    "name = \"Vishal\"\n",
    "print(name[0:5:2])"
   ]
  },
  {
   "cell_type": "code",
   "execution_count": 51,
   "id": "69397b6d",
   "metadata": {},
   "outputs": [
    {
     "name": "stdout",
     "output_type": "stream",
     "text": [
      "87\n"
     ]
    }
   ],
   "source": [
    "story = \"once upon a time there was a youtuber named harry who uploded python course with notes.\"\n",
    "print(len(story))"
   ]
  },
  {
   "cell_type": "code",
   "execution_count": 52,
   "id": "3d2ca9c4",
   "metadata": {},
   "outputs": [
    {
     "name": "stdout",
     "output_type": "stream",
     "text": [
      "False\n"
     ]
    }
   ],
   "source": [
    "story = \"once upon a time there was a youtuber named harry who uploded python course with notes.\"\n",
    "print(story.endswith(\"notes\"))"
   ]
  },
  {
   "cell_type": "code",
   "execution_count": 53,
   "id": "b7caec5f",
   "metadata": {},
   "outputs": [
    {
     "name": "stdout",
     "output_type": "stream",
     "text": [
      "True\n"
     ]
    }
   ],
   "source": [
    "story = \"once upon a time there was a youtuber named harry who uploded python course with notes.\"\n",
    "print(story.endswith(\"notes.\"))"
   ]
  },
  {
   "cell_type": "code",
   "execution_count": 55,
   "id": "fe7b1987",
   "metadata": {},
   "outputs": [
    {
     "name": "stdout",
     "output_type": "stream",
     "text": [
      "5\n"
     ]
    }
   ],
   "source": [
    "story = \"once upon a time there was a youtuber named harry who uploded python course with notes.\"\n",
    "print(story.count(\"a\"))"
   ]
  },
  {
   "cell_type": "code",
   "execution_count": 57,
   "id": "3d44fa0b",
   "metadata": {},
   "outputs": [
    {
     "name": "stdout",
     "output_type": "stream",
     "text": [
      "Once upon a time there was a youtuber named harry who uploded python course with notes.\n"
     ]
    }
   ],
   "source": [
    "story = \"once upon a time there was a youtuber named harry who uploded python course with notes.\"\n",
    "print(story.capitalize())"
   ]
  },
  {
   "cell_type": "code",
   "execution_count": 58,
   "id": "5d48c37d",
   "metadata": {},
   "outputs": [
    {
     "name": "stdout",
     "output_type": "stream",
     "text": [
      "44\n"
     ]
    }
   ],
   "source": [
    "story = \"once upon a time there was a youtuber named harry who uploded python course with notes.\"\n",
    "print(story.find(\"harry\"))"
   ]
  },
  {
   "cell_type": "code",
   "execution_count": 59,
   "id": "714a026e",
   "metadata": {},
   "outputs": [
    {
     "name": "stdout",
     "output_type": "stream",
     "text": [
      "once upon a time there was a youtuber named Tyagi who uploded python course with notes.\n"
     ]
    }
   ],
   "source": [
    "story = \"once upon a time there was a youtuber named harry who uploded python course with notes.\"\n",
    "print(story.replace(\"harry\", \"Tyagi\"))"
   ]
  },
  {
   "cell_type": "markdown",
   "id": "869c3a19",
   "metadata": {},
   "source": [
    "## escapes sequence character"
   ]
  },
  {
   "cell_type": "code",
   "execution_count": 62,
   "id": "65c6f48e",
   "metadata": {},
   "outputs": [
    {
     "name": "stdout",
     "output_type": "stream",
     "text": [
      "harry is good\n",
      "he is very good\n"
     ]
    }
   ],
   "source": [
    "story = \"harry is good\\nhe is very good\"\n",
    "print(story)"
   ]
  },
  {
   "cell_type": "code",
   "execution_count": 63,
   "id": "4d4e919a",
   "metadata": {},
   "outputs": [
    {
     "name": "stdout",
     "output_type": "stream",
     "text": [
      "harry is good\n",
      "he\t is very good\n"
     ]
    }
   ],
   "source": [
    "story = \"harry is good\\nhe\\t is very good\"\n",
    "print(story)"
   ]
  },
  {
   "cell_type": "code",
   "execution_count": 64,
   "id": "60f25c19",
   "metadata": {},
   "outputs": [
    {
     "name": "stdout",
     "output_type": "stream",
     "text": [
      "harry is good'he is very good\n"
     ]
    }
   ],
   "source": [
    "story = \"harry is good\\'he is very good\"\n",
    "print(story)"
   ]
  },
  {
   "cell_type": "code",
   "execution_count": 65,
   "id": "5a822a93",
   "metadata": {},
   "outputs": [
    {
     "name": "stdout",
     "output_type": "stream",
     "text": [
      "harry is good\\he is very good\n"
     ]
    }
   ],
   "source": [
    "story = \"harry is good\\\\he is very good\"\n",
    "print(story)"
   ]
  },
  {
   "cell_type": "code",
   "execution_count": 66,
   "id": "f4cda630",
   "metadata": {},
   "outputs": [
    {
     "name": "stdout",
     "output_type": "stream",
     "text": [
      "Enter your name Vishal Tyagi\n",
      "Good Afternoon,Vishal Tyagi\n"
     ]
    }
   ],
   "source": [
    "# wap to display a user entered name followed by good afternoon using input() function\n",
    "\n",
    "name = input(\"Enter your name \")\n",
    "print(\"Good Afternoon,\"+ name)"
   ]
  },
  {
   "cell_type": "code",
   "execution_count": 67,
   "id": "f7c43884",
   "metadata": {},
   "outputs": [
    {
     "name": "stdout",
     "output_type": "stream",
     "text": [
      "Enter your name\n",
      " Vishal tyagi\n",
      "Good Afternoon,Vishal tyagi\n"
     ]
    }
   ],
   "source": [
    "name = input(\"Enter your name\\n \")\n",
    "print(\"Good Afternoon,\"+ name)"
   ]
  },
  {
   "cell_type": "code",
   "execution_count": 69,
   "id": "4714c07c",
   "metadata": {},
   "outputs": [
    {
     "name": "stdout",
     "output_type": "stream",
     "text": [
      " Dear<|Name|>,\n",
      "you are selected\n",
      "Date: <|Date|>\n"
     ]
    }
   ],
   "source": [
    "# wap to fill in a letter template given below name and date.\n",
    "# letter = dear <|name|>\n",
    "#                you are selected!\n",
    "#                <|date|>\n",
    "\n",
    "\n",
    "letter = ''' Dear<|Name|>,\n",
    "you are selected\n",
    "Date: <|Date|>'''\n",
    "print(letter)"
   ]
  },
  {
   "cell_type": "code",
   "execution_count": 73,
   "id": "fca64bf7",
   "metadata": {},
   "outputs": [
    {
     "name": "stdout",
     "output_type": "stream",
     "text": [
      "Enter your Name\n",
      "Vishal Tyagi\n",
      "Enter Date\n",
      "10 july\n",
      "DearVishal Tyagi,\n",
      "greeting from ABC coding house. I m happy to tell you about your selection \n",
      "you are selected\n",
      "Have a Great day ahead!\n",
      "Date: Vishal Tyagi\n"
     ]
    }
   ],
   "source": [
    "letter = '''Dear<|Name|>,\n",
    "greeting from ABC coding house. I m happy to tell you about your selection \n",
    "you are selected\n",
    "Have a Great day ahead!\n",
    "Date: <|Date|>'''\n",
    "\n",
    "name = input(\"Enter your Name\\n\")\n",
    "date = input(\"Enter Date\\n\")\n",
    "\n",
    "letter = letter.replace(\"<|Name|>\", name)\n",
    "letter = letter.replace(\"<|Date|>\", name)\n",
    "\n",
    "print(letter)"
   ]
  },
  {
   "cell_type": "code",
   "execution_count": 74,
   "id": "fdae52c8",
   "metadata": {},
   "outputs": [
    {
     "name": "stdout",
     "output_type": "stream",
     "text": [
      "30\n"
     ]
    }
   ],
   "source": [
    "# wap to delete double space in a string\n",
    "\n",
    "st = \"This is the string with double  spaces\"\n",
    "doublespaces = st.find(\"  \")\n",
    "print(doublespaces)"
   ]
  },
  {
   "cell_type": "code",
   "execution_count": 75,
   "id": "d4622ca3",
   "metadata": {},
   "outputs": [
    {
     "name": "stdout",
     "output_type": "stream",
     "text": [
      "30\n",
      "This is the string with double spaces\n"
     ]
    }
   ],
   "source": [
    "st = \"This is the string with double  spaces\"\n",
    "doublespaces = st.find(\"  \")\n",
    "print(doublespaces)\n",
    "st = st.replace(\"  \",\" \")\n",
    "print(st)"
   ]
  },
  {
   "cell_type": "code",
   "execution_count": 77,
   "id": "0e092d8a",
   "metadata": {},
   "outputs": [
    {
     "name": "stdout",
     "output_type": "stream",
     "text": [
      "dear harry, This python course is nice.Thanks!\n",
      "dear harry, \n",
      "\tThis python course is nice.\n",
      "Thanks!\n"
     ]
    }
   ],
   "source": [
    "# wap to format the following letter using escape sequence characters.\n",
    "# letter = \"dear harry, This python course is nice.Thanks!\"\n",
    "\n",
    "letter = \"dear harry, This python course is nice.Thanks!\"\n",
    "print(letter)\n",
    "\n",
    "formatted_letter = \"dear harry, \\n\\tThis python course is nice.\\nThanks!\"\n",
    "print(formatted_letter)"
   ]
  },
  {
   "cell_type": "markdown",
   "id": "22ec6b25",
   "metadata": {},
   "source": [
    "## lists"
   ]
  },
  {
   "cell_type": "code",
   "execution_count": 78,
   "id": "03f8cf4b",
   "metadata": {},
   "outputs": [
    {
     "data": {
      "text/plain": [
       "[1, 2, 3, 4, 45, 6]"
      ]
     },
     "execution_count": 78,
     "metadata": {},
     "output_type": "execute_result"
    }
   ],
   "source": [
    "a = [1,2,3,4,45,6]\n",
    "a"
   ]
  },
  {
   "cell_type": "code",
   "execution_count": 79,
   "id": "c56e26e3",
   "metadata": {},
   "outputs": [
    {
     "data": {
      "text/plain": [
       "1"
      ]
     },
     "execution_count": 79,
     "metadata": {},
     "output_type": "execute_result"
    }
   ],
   "source": [
    "a = [1,2,3,4,45,6]\n",
    "a[0]"
   ]
  },
  {
   "cell_type": "code",
   "execution_count": 80,
   "id": "58f06a60",
   "metadata": {},
   "outputs": [
    {
     "data": {
      "text/plain": [
       "4"
      ]
     },
     "execution_count": 80,
     "metadata": {},
     "output_type": "execute_result"
    }
   ],
   "source": [
    "a = [1,2,3,4,45,6]\n",
    "a[3]"
   ]
  },
  {
   "cell_type": "code",
   "execution_count": 81,
   "id": "d3035a47",
   "metadata": {},
   "outputs": [
    {
     "data": {
      "text/plain": [
       "[98, 2, 3, 4, 45, 6]"
      ]
     },
     "execution_count": 81,
     "metadata": {},
     "output_type": "execute_result"
    }
   ],
   "source": [
    "a = [1,2,3,4,45,6]\n",
    "a[0] = 98 # change the value of list\n",
    "a"
   ]
  },
  {
   "cell_type": "code",
   "execution_count": 83,
   "id": "a614018c",
   "metadata": {},
   "outputs": [
    {
     "data": {
      "text/plain": [
       "[45, 'Tyagi', False, 6.8]"
      ]
     },
     "execution_count": 83,
     "metadata": {},
     "output_type": "execute_result"
    }
   ],
   "source": [
    "# we can create a list with the different types\n",
    "\n",
    "a = [45,\"Tyagi\", False, 6.8]\n",
    "a"
   ]
  },
  {
   "cell_type": "code",
   "execution_count": 88,
   "id": "51fac769",
   "metadata": {},
   "outputs": [
    {
     "name": "stdout",
     "output_type": "stream",
     "text": [
      "[1, 2, 7, 8, 15, 21]\n"
     ]
    }
   ],
   "source": [
    "# list methods\n",
    "\n",
    "l1 = [1,8,7,2,21,15]\n",
    "l1.sort()\n",
    "print(l1)"
   ]
  },
  {
   "cell_type": "code",
   "execution_count": null,
   "id": "1d28c537",
   "metadata": {},
   "outputs": [],
   "source": []
  }
 ],
 "metadata": {
  "kernelspec": {
   "display_name": "Python 3 (ipykernel)",
   "language": "python",
   "name": "python3"
  },
  "language_info": {
   "codemirror_mode": {
    "name": "ipython",
    "version": 3
   },
   "file_extension": ".py",
   "mimetype": "text/x-python",
   "name": "python",
   "nbconvert_exporter": "python",
   "pygments_lexer": "ipython3",
   "version": "3.10.9"
  }
 },
 "nbformat": 4,
 "nbformat_minor": 5
}
