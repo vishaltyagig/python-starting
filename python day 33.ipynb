{
 "cells": [
  {
   "cell_type": "code",
   "execution_count": 8,
   "id": "f0d0db46",
   "metadata": {},
   "outputs": [
    {
     "name": "stdout",
     "output_type": "stream",
     "text": [
      "5 x 1 = 5\n",
      "5 x 2 = 10\n",
      "5 x 3 = 15\n",
      "5 x 4 = 20\n",
      "5 x 5 = 25\n",
      "5 x 6 = 30\n",
      "5 x 7 = 35\n",
      "5 x 8 = 40\n",
      "5 x 9 = 45\n",
      "5 x 10 = 50\n"
     ]
    }
   ],
   "source": [
    "# table of 5\n",
    "num = 5\n",
    "for i in range(1,11):\n",
    "    print(num, 'x', i, '=', num*i)"
   ]
  },
  {
   "cell_type": "code",
   "execution_count": 9,
   "id": "29abba41",
   "metadata": {},
   "outputs": [
    {
     "name": "stdout",
     "output_type": "stream",
     "text": [
      "11 x 1 = 11\n",
      "11 x 2 = 22\n",
      "11 x 3 = 33\n",
      "11 x 4 = 44\n",
      "11 x 5 = 55\n",
      "11 x 6 = 66\n",
      "11 x 7 = 77\n",
      "11 x 8 = 88\n",
      "11 x 9 = 99\n",
      "11 x 10 = 110\n"
     ]
    }
   ],
   "source": [
    "# table of 11\n",
    "\n",
    "num = 11\n",
    "for i in range(1,11):\n",
    "    print(num,'x',i,\"=\",num*i)"
   ]
  },
  {
   "cell_type": "code",
   "execution_count": 11,
   "id": "f0e3ab88",
   "metadata": {},
   "outputs": [
    {
     "name": "stdout",
     "output_type": "stream",
     "text": [
      "Enter a number\n",
      "Enter a number x 1 = Enter a number\n",
      "Enter a number x 2 = Enter a numberEnter a number\n",
      "Enter a number x 3 = Enter a numberEnter a numberEnter a number\n",
      "Enter a number x 4 = Enter a numberEnter a numberEnter a numberEnter a number\n",
      "Enter a number x 5 = Enter a numberEnter a numberEnter a numberEnter a numberEnter a number\n",
      "Enter a number x 6 = Enter a numberEnter a numberEnter a numberEnter a numberEnter a numberEnter a number\n",
      "Enter a number x 7 = Enter a numberEnter a numberEnter a numberEnter a numberEnter a numberEnter a numberEnter a number\n",
      "Enter a number x 8 = Enter a numberEnter a numberEnter a numberEnter a numberEnter a numberEnter a numberEnter a numberEnter a number\n",
      "Enter a number x 9 = Enter a numberEnter a numberEnter a numberEnter a numberEnter a numberEnter a numberEnter a numberEnter a numberEnter a number\n",
      "Enter a number x 10 = Enter a numberEnter a numberEnter a numberEnter a numberEnter a numberEnter a numberEnter a numberEnter a numberEnter a numberEnter a number\n"
     ]
    }
   ],
   "source": [
    "# table of 39\n",
    "\n",
    "num=(\"Enter a number\")\n",
    "print(num)\n",
    "for i in range(1,11):\n",
    "    print(num,'x',i,'=',num*i)   # first i m doing that....."
   ]
  },
  {
   "cell_type": "code",
   "execution_count": 12,
   "id": "ee36fb9b",
   "metadata": {},
   "outputs": [
    {
     "name": "stdout",
     "output_type": "stream",
     "text": [
      "Enter a number39\n",
      "39 x 1 = 39\n",
      "39 x 2 = 3939\n",
      "39 x 3 = 393939\n",
      "39 x 4 = 39393939\n",
      "39 x 5 = 3939393939\n",
      "39 x 6 = 393939393939\n",
      "39 x 7 = 39393939393939\n",
      "39 x 8 = 3939393939393939\n",
      "39 x 9 = 393939393939393939\n",
      "39 x 10 = 39393939393939393939\n"
     ]
    }
   ],
   "source": [
    "# table of 39\n",
    "\n",
    "num= input(\"Enter a number\")\n",
    "for i in range(1,11):\n",
    "    print(num,'x',i,'=',num*i) # after i m doing that for print a given number multiplication......"
   ]
  },
  {
   "cell_type": "code",
   "execution_count": 14,
   "id": "5a195fad",
   "metadata": {},
   "outputs": [
    {
     "name": "stdout",
     "output_type": "stream",
     "text": [
      "Enter a number39\n",
      "39 x 1 = 39\n",
      "39 x 2 = 78\n",
      "39 x 3 = 117\n",
      "39 x 4 = 156\n",
      "39 x 5 = 195\n",
      "39 x 6 = 234\n",
      "39 x 7 = 273\n",
      "39 x 8 = 312\n",
      "39 x 9 = 351\n",
      "39 x 10 = 390\n"
     ]
    }
   ],
   "source": [
    "# table of given number\n",
    "\n",
    "num= int(input(\"Enter a number\"))\n",
    "for i in range(1,11):\n",
    "    print(num,'x',i,'=',num*i)     # after i m doing that for print a given number multiplication......"
   ]
  },
  {
   "cell_type": "code",
   "execution_count": null,
   "id": "2df989c3",
   "metadata": {},
   "outputs": [],
   "source": []
  }
 ],
 "metadata": {
  "kernelspec": {
   "display_name": "Python 3 (ipykernel)",
   "language": "python",
   "name": "python3"
  },
  "language_info": {
   "codemirror_mode": {
    "name": "ipython",
    "version": 3
   },
   "file_extension": ".py",
   "mimetype": "text/x-python",
   "name": "python",
   "nbconvert_exporter": "python",
   "pygments_lexer": "ipython3",
   "version": "3.10.9"
  }
 },
 "nbformat": 4,
 "nbformat_minor": 5
}
