{
 "cells": [
  {
   "cell_type": "markdown",
   "id": "e1891ab5",
   "metadata": {},
   "source": [
    "# How to set an input time limit in Python?"
   ]
  },
  {
   "cell_type": "code",
   "execution_count": 1,
   "id": "a6c33782",
   "metadata": {},
   "outputs": [
    {
     "name": "stdout",
     "output_type": "stream",
     "text": [
      "Requirement already satisfied: inputimeout in c:\\users\\hp\\anaconda3\\lib\\site-packages (1.0.4)\n",
      "Note: you may need to restart the kernel to use updated packages.\n"
     ]
    },
    {
     "name": "stderr",
     "output_type": "stream",
     "text": [
      "\n",
      "[notice] A new release of pip is available: 23.2.1 -> 24.0\n",
      "[notice] To update, run: python.exe -m pip install --upgrade pip\n"
     ]
    }
   ],
   "source": [
    "pip install inputimeout"
   ]
  },
  {
   "cell_type": "code",
   "execution_count": 2,
   "id": "cfce15f4",
   "metadata": {},
   "outputs": [
    {
     "name": "stdout",
     "output_type": "stream",
     "text": [
      "Note: you may need to restart the kernel to use updated packages.\n"
     ]
    },
    {
     "name": "stderr",
     "output_type": "stream",
     "text": [
      "ERROR: Could not find a version that satisfies the requirement upgrade (from versions: none)\n",
      "ERROR: No matching distribution found for upgrade\n",
      "\n",
      "[notice] A new release of pip is available: 23.2.1 -> 24.0\n",
      "[notice] To update, run: python.exe -m pip install --upgrade pip\n"
     ]
    }
   ],
   "source": [
    "pip install upgrade pip"
   ]
  },
  {
   "cell_type": "code",
   "execution_count": 3,
   "id": "06a265eb",
   "metadata": {},
   "outputs": [
    {
     "name": "stdout",
     "output_type": "stream",
     "text": [
      "Name your best friend:\n",
      "Your time is over!\n"
     ]
    }
   ],
   "source": [
    "# Import the libraries inputimeout, TimeoutOccurred \n",
    "from inputimeout import inputimeout \n",
    "  \n",
    "# Try block of code \n",
    "# and handle errors \n",
    "try: \n",
    "  \n",
    "    # Take timed input using inputimeout() function \n",
    "    time_over = inputimeout(prompt='Name your best friend:', timeout=3) \n",
    "\n",
    "# Catch the timeout error \n",
    "except Exception: \n",
    "  \n",
    "    # Declare the timeout statement \n",
    "    time_over = 'Your time is over!'\n",
    "    print(time_over) \n",
    "\n",
    "    # Print the statement on timeoutprint(time_over) "
   ]
  },
  {
   "cell_type": "code",
   "execution_count": 4,
   "id": "36c1ee2f",
   "metadata": {},
   "outputs": [
    {
     "name": "stdout",
     "output_type": "stream",
     "text": [
      "Name your best friend:\n",
      "Your time is over!\n"
     ]
    }
   ],
   "source": [
    "# Import the libraries inputimeout, TimeoutOccurred \n",
    "from inputimeout import inputimeout \n",
    "  \n",
    "# Try block of code \n",
    "# and handle errors \n",
    "try: \n",
    "  \n",
    "    # Take timed input using inputimeout() function \n",
    "    time_over = inputimeout(prompt='Name your best friend:', timeout=10) \n",
    "\n",
    "# Catch the timeout error \n",
    "except Exception: \n",
    "  \n",
    "    # Declare the timeout statement \n",
    "    time_over = 'Your time is over!'\n",
    "    print(time_over) \n",
    "\n",
    "    # Print the statement on timeoutprint(time_over) "
   ]
  },
  {
   "cell_type": "code",
   "execution_count": 6,
   "id": "7989fd98",
   "metadata": {},
   "outputs": [
    {
     "name": "stdout",
     "output_type": "stream",
     "text": [
      "Note: you may need to restart the kernel to use updated packages.\n"
     ]
    },
    {
     "name": "stderr",
     "output_type": "stream",
     "text": [
      "ERROR: Could not find a version that satisfies the requirement select (from versions: none)\n",
      "ERROR: No matching distribution found for select\n",
      "\n",
      "[notice] A new release of pip is available: 23.2.1 -> 24.0\n",
      "[notice] To update, run: python.exe -m pip install --upgrade pip\n"
     ]
    }
   ],
   "source": [
    "pip install select\n"
   ]
  },
  {
   "cell_type": "code",
   "execution_count": 8,
   "id": "6de23c50",
   "metadata": {},
   "outputs": [
    {
     "name": "stdout",
     "output_type": "stream",
     "text": [
      "Who is your best friend?\n",
      "\n",
      "You have ten seconds to answer!\n"
     ]
    },
    {
     "ename": "OSError",
     "evalue": "[WinError 10038] An operation was attempted on something that is not a socket",
     "output_type": "error",
     "traceback": [
      "\u001b[1;31m---------------------------------------------------------------------------\u001b[0m",
      "\u001b[1;31mOSError\u001b[0m                                   Traceback (most recent call last)",
      "Cell \u001b[1;32mIn[8], line 10\u001b[0m\n\u001b[0;32m      6\u001b[0m \u001b[38;5;28mprint\u001b[39m(\u001b[38;5;124m\"\u001b[39m\u001b[38;5;130;01m\\n\u001b[39;00m\u001b[38;5;124mYou have ten seconds to answer!\u001b[39m\u001b[38;5;124m\"\u001b[39m) \n\u001b[0;32m      8\u001b[0m \u001b[38;5;66;03m# Return 3 new list containing subset of content \u001b[39;00m\n\u001b[0;32m      9\u001b[0m \u001b[38;5;66;03m# with timeout after which statement returns \u001b[39;00m\n\u001b[1;32m---> 10\u001b[0m a, b, c \u001b[38;5;241m=\u001b[39m \u001b[43mselect\u001b[49m\u001b[38;5;241;43m.\u001b[39;49m\u001b[43mselect\u001b[49m\u001b[43m(\u001b[49m\u001b[43m[\u001b[49m\u001b[43msys\u001b[49m\u001b[38;5;241;43m.\u001b[39;49m\u001b[43mstdin\u001b[49m\u001b[43m]\u001b[49m\u001b[43m,\u001b[49m\u001b[43m \u001b[49m\u001b[43m[\u001b[49m\u001b[43m]\u001b[49m\u001b[43m,\u001b[49m\u001b[43m \u001b[49m\u001b[43m[\u001b[49m\u001b[43m]\u001b[49m\u001b[43m,\u001b[49m\u001b[43m \u001b[49m\u001b[38;5;241;43m10\u001b[39;49m\u001b[43m)\u001b[49m \n\u001b[0;32m     12\u001b[0m \u001b[38;5;66;03m# Run if statement till the time is running \u001b[39;00m\n\u001b[0;32m     13\u001b[0m \u001b[38;5;28;01mif\u001b[39;00m (a): \n\u001b[0;32m     14\u001b[0m   \n\u001b[0;32m     15\u001b[0m     \u001b[38;5;66;03m# Read the input and print result \u001b[39;00m\n",
      "\u001b[1;31mOSError\u001b[0m: [WinError 10038] An operation was attempted on something that is not a socket"
     ]
    }
   ],
   "source": [
    "import sys \n",
    "import select \n",
    "  \n",
    "# Print the question or any line you want \n",
    "print(\"Who is your best friend?\") \n",
    "print(\"\\nYou have ten seconds to answer!\") \n",
    "  \n",
    "# Return 3 new list containing subset of content \n",
    "# with timeout after which statement returns \n",
    "a, b, c = select.select([sys.stdin], [], [], 10) \n",
    "  \n",
    "# Run if statement till the time is running \n",
    "if (a): \n",
    "  \n",
    "    # Read the input and print result \n",
    "    print(\"\\nYou stated your best friend name as: \", \n",
    "          sys.stdin.readline().strip()) \n",
    "\n",
    "# Run else when time is over \n",
    "else: \n",
    "  \n",
    "    # Print the timeout statement \n",
    "    print(\"\\nYour time got over\") "
   ]
  },
  {
   "cell_type": "code",
   "execution_count": 9,
   "id": "47b39511",
   "metadata": {},
   "outputs": [
    {
     "name": "stdout",
     "output_type": "stream",
     "text": [
      "Who is your best friend?\n",
      "\n",
      "You have ten seconds to answer!\n",
      "\n",
      "Your time is up.\n"
     ]
    }
   ],
   "source": [
    "import msvcrt\n",
    "import time\n",
    "\n",
    "# Print the question or any line you want\n",
    "print(\"Who is your best friend?\")\n",
    "print(\"\\nYou have ten seconds to answer!\")\n",
    "\n",
    "start_time = time.time()\n",
    "\n",
    "# Loop until either 10 seconds pass or user input is received\n",
    "while True:\n",
    "    if msvcrt.kbhit():\n",
    "        # If there's input from the user, read it and print the result\n",
    "        user_input = input(\"\\nYou stated your best friend's name as: \")\n",
    "        break\n",
    "    elif time.time() - start_time > 10:\n",
    "        # If 10 seconds have passed without input, print timeout message and exit the loop\n",
    "        print(\"\\nYour time is up.\")\n",
    "        break\n"
   ]
  },
  {
   "cell_type": "code",
   "execution_count": 10,
   "id": "fd39e985",
   "metadata": {},
   "outputs": [
    {
     "name": "stdout",
     "output_type": "stream",
     "text": [
      "Note: you may need to restart the kernel to use updated packages.\n"
     ]
    },
    {
     "name": "stderr",
     "output_type": "stream",
     "text": [
      "ERROR: Could not find a version that satisfies the requirement signal (from versions: none)\n",
      "ERROR: No matching distribution found for signal\n",
      "\n",
      "[notice] A new release of pip is available: 23.2.1 -> 24.0\n",
      "[notice] To update, run: python.exe -m pip install --upgrade pip\n"
     ]
    }
   ],
   "source": [
    "pip install signal"
   ]
  },
  {
   "cell_type": "code",
   "execution_count": 11,
   "id": "bd2830c2",
   "metadata": {},
   "outputs": [
    {
     "ename": "AttributeError",
     "evalue": "module 'signal' has no attribute 'SIGALRM'",
     "output_type": "error",
     "traceback": [
      "\u001b[1;31m---------------------------------------------------------------------------\u001b[0m",
      "\u001b[1;31mAttributeError\u001b[0m                            Traceback (most recent call last)",
      "Cell \u001b[1;32mIn[11], line 5\u001b[0m\n\u001b[0;32m      2\u001b[0m \u001b[38;5;28;01mimport\u001b[39;00m \u001b[38;5;21;01msignal\u001b[39;00m \n\u001b[0;32m      4\u001b[0m \u001b[38;5;66;03m# Define an alarm clock for delivery of signal \u001b[39;00m\n\u001b[1;32m----> 5\u001b[0m signal\u001b[38;5;241m.\u001b[39msignal(\u001b[43msignal\u001b[49m\u001b[38;5;241;43m.\u001b[39;49m\u001b[43mSIGALRM\u001b[49m, \u001b[38;5;28;01mlambda\u001b[39;00m signum, \n\u001b[0;32m      6\u001b[0m               frame: \u001b[38;5;28mprint\u001b[39m(\u001b[38;5;124m'\u001b[39m\u001b[38;5;130;01m\\n\u001b[39;00m\u001b[38;5;124mYour time got over\u001b[39m\u001b[38;5;124m'\u001b[39m)) \n\u001b[0;32m      9\u001b[0m \u001b[38;5;66;03m# Create a function to input \u001b[39;00m\n\u001b[0;32m     10\u001b[0m \u001b[38;5;28;01mdef\u001b[39;00m \u001b[38;5;21mraw_input\u001b[39m(): \n\u001b[0;32m     11\u001b[0m     \u001b[38;5;66;03m# Create a try block to take the input \u001b[39;00m\n",
      "\u001b[1;31mAttributeError\u001b[0m: module 'signal' has no attribute 'SIGALRM'"
     ]
    }
   ],
   "source": [
    "# Import the library signal \n",
    "import signal \n",
    "  \n",
    "# Define an alarm clock for delivery of signal \n",
    "signal.signal(signal.SIGALRM, lambda signum, \n",
    "              frame: print('\\nYour time got over')) \n",
    "  \n",
    "\n",
    "# Create a function to input \n",
    "def raw_input(): \n",
    "    # Create a try block to take the input \n",
    "    try: \n",
    "  \n",
    "        # Print the question or line of choice \n",
    "        print(\"Who is your best friend?\") \n",
    "        print(\"You have ten seconds to answer!\") \n",
    "  \n",
    "        # Take input from user \n",
    "        foo = input(\"Enter your name!!\") \n",
    "  \n",
    "        # Return the input to print result \n",
    "        return foo \n",
    "  \n",
    "    # Define except block to catch timeout exception \n",
    "    except Exception: \n",
    "        return\n",
    "  \n",
    "  \n",
    "# Create an alarm using alarm function \n",
    "# with timer \n",
    "signal.alarm(10) \n",
    "  \n",
    "# Run the function to \n",
    "# capture the input of user \n",
    "user_input = raw_input() \n",
    "  \n",
    "# Disable the alarm after success \n",
    "signal.alarm(0) \n",
    "  \n",
    "# Print the result input by user \n",
    "print('You stated your best friend name as: ', user_input) "
   ]
  },
  {
   "cell_type": "code",
   "execution_count": 12,
   "id": "b3aad9e8",
   "metadata": {},
   "outputs": [
    {
     "name": "stdout",
     "output_type": "stream",
     "text": [
      "Who is your best friend?\n",
      "You have ten seconds to answer!\n"
     ]
    },
    {
     "name": "stderr",
     "output_type": "stream",
     "text": [
      "Exception in thread Thread-13:\n",
      "Traceback (most recent call last):\n",
      "  File \"C:\\Users\\hp\\anaconda3\\lib\\threading.py\", line 1016, in _bootstrap_inner\n",
      "    self.run()\n",
      "  File \"C:\\Users\\hp\\anaconda3\\lib\\threading.py\", line 1378, in run\n",
      "    self.function(*self.args, **self.kwargs)\n",
      "  File \"C:\\Users\\hp\\AppData\\Local\\Temp\\ipykernel_10192\\2009826971.py\", line 18, in timeout\n",
      "AttributeError: 'Timer' object has no attribute 'interrupt_main'\n"
     ]
    },
    {
     "name": "stdout",
     "output_type": "stream",
     "text": [
      "\n",
      "Your time is up!\n",
      "Enter your name: Dadda Tyagi\n",
      "You stated your best friend's name as: Dadda Tyagi\n"
     ]
    }
   ],
   "source": [
    "# if signal model is not working then we use threading model\n",
    "\n",
    "import threading\n",
    "\n",
    "# Define a function to get user input\n",
    "def get_input():\n",
    "    try:\n",
    "        print(\"Who is your best friend?\")\n",
    "        print(\"You have ten seconds to answer!\")\n",
    "        foo = input(\"Enter your name: \")\n",
    "        return foo\n",
    "    except KeyboardInterrupt:  # Catch Ctrl+C interrupt\n",
    "        return None\n",
    "\n",
    "# Define a function to handle timeout\n",
    "def timeout():\n",
    "    print(\"\\nYour time is up!\")\n",
    "    threading.current_thread().interrupt_main()  # Raise KeyboardInterrupt\n",
    "\n",
    "# Create a timer thread\n",
    "timer = threading.Timer(10, timeout)\n",
    "\n",
    "try:\n",
    "    timer.start()\n",
    "    user_input = get_input()\n",
    "finally:\n",
    "    timer.cancel()  # Cancel the timer\n",
    "\n",
    "# Print the user input\n",
    "if user_input is not None:\n",
    "    print(\"You stated your best friend's name as:\", user_input)\n",
    "else:\n",
    "    print(\"No input received.\")"
   ]
  },
  {
   "cell_type": "code",
   "execution_count": null,
   "id": "ca93c4f1",
   "metadata": {},
   "outputs": [],
   "source": []
  }
 ],
 "metadata": {
  "kernelspec": {
   "display_name": "Python 3 (ipykernel)",
   "language": "python",
   "name": "python3"
  },
  "language_info": {
   "codemirror_mode": {
    "name": "ipython",
    "version": 3
   },
   "file_extension": ".py",
   "mimetype": "text/x-python",
   "name": "python",
   "nbconvert_exporter": "python",
   "pygments_lexer": "ipython3",
   "version": "3.10.9"
  }
 },
 "nbformat": 4,
 "nbformat_minor": 5
}
