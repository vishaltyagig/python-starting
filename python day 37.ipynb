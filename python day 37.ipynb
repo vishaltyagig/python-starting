{
 "cells": [
  {
   "cell_type": "code",
   "execution_count": 1,
   "id": "a5928a88",
   "metadata": {},
   "outputs": [
    {
     "name": "stdout",
     "output_type": "stream",
     "text": [
      "The list of keywords is : \n",
      "['False', 'None', 'True', 'and', 'as', 'assert', 'async', 'await', 'break', 'class', 'continue', 'def', 'del', 'elif', 'else', 'except', 'finally', 'for', 'from', 'global', 'if', 'import', 'in', 'is', 'lambda', 'nonlocal', 'not', 'or', 'pass', 'raise', 'return', 'try', 'while', 'with', 'yield']\n"
     ]
    }
   ],
   "source": [
    "import keyword\n",
    " \n",
    "# printing all keywords at once using \"kwlist()\"\n",
    "print(\"The list of keywords is : \")\n",
    "print(keyword.kwlist)"
   ]
  },
  {
   "cell_type": "code",
   "execution_count": 2,
   "id": "53f9a717",
   "metadata": {},
   "outputs": [
    {
     "name": "stdout",
     "output_type": "stream",
     "text": [
      "True\n",
      "True\n",
      "3\n",
      "1\n",
      "False\n",
      "False\n"
     ]
    }
   ],
   "source": [
    "print(False == 0)\n",
    "print(True == 1)\n",
    "\n",
    "print(True + True + True)\n",
    "print(True + False + False)\n",
    "\n",
    "print(None == 0)\n",
    "print(None == [])\n"
   ]
  },
  {
   "cell_type": "code",
   "execution_count": 3,
   "id": "75ba2f1b",
   "metadata": {},
   "outputs": [
    {
     "name": "stdout",
     "output_type": "stream",
     "text": [
      "True\n",
      "False\n",
      "3\n",
      "1\n",
      "False\n",
      "False\n"
     ]
    }
   ],
   "source": [
    "print(False == 0)\n",
    "print(True == 0)\n",
    "\n",
    "print(True + True + True)\n",
    "print(True + False + False)\n",
    "\n",
    "print(None == 0)\n",
    "print(None == [])\n",
    "# print(None == 1)"
   ]
  },
  {
   "cell_type": "code",
   "execution_count": 4,
   "id": "b3f8e946",
   "metadata": {},
   "outputs": [
    {
     "name": "stdout",
     "output_type": "stream",
     "text": [
      "True\n",
      "False\n",
      "3\n",
      "1\n",
      "False\n",
      "False\n",
      "False\n"
     ]
    }
   ],
   "source": [
    "print(False == 0)\n",
    "print(True == 0)\n",
    "\n",
    "print(True + True + True)\n",
    "print(True + False + False)\n",
    "\n",
    "print(None == 0)\n",
    "print(None == [])\n",
    "print(None == 1)"
   ]
  },
  {
   "cell_type": "code",
   "execution_count": 5,
   "id": "00bfc548",
   "metadata": {},
   "outputs": [
    {
     "name": "stdout",
     "output_type": "stream",
     "text": [
      "True\n",
      "False\n",
      "3\n",
      "2\n",
      "False\n",
      "False\n"
     ]
    }
   ],
   "source": [
    "print(False == 0)\n",
    "print(True == 0)\n",
    "\n",
    "print(True + True + True)\n",
    "print(True + True + False)\n",
    "\n",
    "print(None == 0)\n",
    "print(None == [])\n",
    "# print(None == 1)"
   ]
  },
  {
   "cell_type": "code",
   "execution_count": 6,
   "id": "fb4554bd",
   "metadata": {},
   "outputs": [
    {
     "name": "stdout",
     "output_type": "stream",
     "text": [
      "True\n",
      "False\n",
      "3\n",
      "2\n"
     ]
    }
   ],
   "source": [
    "print(False == 0)\n",
    "print(True == 0)\n",
    "\n",
    "print(True + True + True)\n",
    "print(True + True + False)"
   ]
  },
  {
   "cell_type": "code",
   "execution_count": 7,
   "id": "760094f8",
   "metadata": {},
   "outputs": [
    {
     "name": "stdout",
     "output_type": "stream",
     "text": [
      "True\n",
      "False\n"
     ]
    }
   ],
   "source": [
    "print(False == 0)\n",
    "print(True == 0)\n"
   ]
  },
  {
   "cell_type": "code",
   "execution_count": 8,
   "id": "53800eba",
   "metadata": {},
   "outputs": [
    {
     "name": "stdout",
     "output_type": "stream",
     "text": [
      "True\n",
      "True\n"
     ]
    }
   ],
   "source": [
    "print(False == 0)\n",
    "print(True == 1)"
   ]
  },
  {
   "cell_type": "code",
   "execution_count": 9,
   "id": "3b23085e",
   "metadata": {},
   "outputs": [
    {
     "name": "stdout",
     "output_type": "stream",
     "text": [
      "True\n",
      "False\n",
      "False\n",
      "s is part of geeksforgeeks\n",
      "g e e k s f o r g e e k s \r\n",
      "True\n",
      "False\n"
     ]
    },
    {
     "name": "stderr",
     "output_type": "stream",
     "text": [
      "<>:12: SyntaxWarning: \"is\" with a literal. Did you mean \"==\"?\n",
      "<>:12: SyntaxWarning: \"is\" with a literal. Did you mean \"==\"?\n",
      "C:\\Users\\hp\\AppData\\Local\\Temp\\ipykernel_20392\\3843326190.py:12: SyntaxWarning: \"is\" with a literal. Did you mean \"==\"?\n",
      "  print(' ' is ' ')\n"
     ]
    }
   ],
   "source": [
    "print(True or False)\n",
    "print(False and True)\n",
    "print(not True)\n",
    "if 's' in 'geeksforgeeks':\n",
    "    print(\"s is part of geeksforgeeks\")\n",
    "else:\n",
    "    print(\"s is not part of geeksforgeeks\")\n",
    "for i in 'geeksforgeeks':\n",
    "    print(i, end=\" \")\n",
    " \n",
    "print(\"\\r\")\n",
    "print(' ' is ' ')\n",
    "print({} is {})"
   ]
  },
  {
   "cell_type": "code",
   "execution_count": 10,
   "id": "9039b3e1",
   "metadata": {},
   "outputs": [
    {
     "name": "stdout",
     "output_type": "stream",
     "text": [
      "True\n",
      "False\n",
      "False\n"
     ]
    }
   ],
   "source": [
    "print(True or False)\n",
    "print(False and True)\n",
    "print(not True)"
   ]
  },
  {
   "cell_type": "code",
   "execution_count": 11,
   "id": "df165815",
   "metadata": {},
   "outputs": [
    {
     "name": "stdout",
     "output_type": "stream",
     "text": [
      "s is part of geeksforgeeks\n",
      "g e e k s f o r g e e k s \r\n",
      "True\n",
      "False\n"
     ]
    },
    {
     "name": "stderr",
     "output_type": "stream",
     "text": [
      "<>:9: SyntaxWarning: \"is\" with a literal. Did you mean \"==\"?\n",
      "<>:9: SyntaxWarning: \"is\" with a literal. Did you mean \"==\"?\n",
      "C:\\Users\\hp\\AppData\\Local\\Temp\\ipykernel_20392\\1157196140.py:9: SyntaxWarning: \"is\" with a literal. Did you mean \"==\"?\n",
      "  print(' ' is ' ')\n"
     ]
    }
   ],
   "source": [
    "if 's' in 'geeksforgeeks':\n",
    "    print(\"s is part of geeksforgeeks\")\n",
    "else:\n",
    "    print(\"s is not part of geeksforgeeks\")\n",
    "for i in 'geeksforgeeks':\n",
    "    print(i, end=\" \")\n",
    " \n",
    "print(\"\\r\")\n",
    "print(' ' is ' ')\n",
    "print({} is {})"
   ]
  },
  {
   "cell_type": "code",
   "execution_count": 16,
   "id": "b1ccc7a9",
   "metadata": {},
   "outputs": [
    {
     "name": "stdout",
     "output_type": "stream",
     "text": [
      "s is part of geeksforgeeks\n",
      "g e e k s f o r g e e k s \r\n",
      "True\n",
      "False\n"
     ]
    }
   ],
   "source": [
    "if 's' in 'geeksforgeeks':\n",
    "    print(\"s is part of geeksforgeeks\")\n",
    "else:\n",
    "    print(\"s is not part of geeksforgeeks\")\n",
    "for i in 'geeksforgeeks':\n",
    "    print(i, end=\" \")\n",
    "print(\"\\r\")\n",
    "print(' ' == ' ')\n",
    "print({} is {})"
   ]
  },
  {
   "cell_type": "code",
   "execution_count": 17,
   "id": "902a40ef",
   "metadata": {},
   "outputs": [
    {
     "name": "stdout",
     "output_type": "stream",
     "text": [
      "g e e k s f o r g e e k s "
     ]
    }
   ],
   "source": [
    "for i in 'geeksforgeeks':\n",
    "    print(i, end=\" \")"
   ]
  },
  {
   "cell_type": "code",
   "execution_count": 18,
   "id": "6813baea",
   "metadata": {},
   "outputs": [
    {
     "name": "stdout",
     "output_type": "stream",
     "text": [
      "True\n"
     ]
    }
   ],
   "source": [
    "print(' ' == ' ')"
   ]
  },
  {
   "cell_type": "code",
   "execution_count": 19,
   "id": "a1795eb6",
   "metadata": {},
   "outputs": [
    {
     "name": "stdout",
     "output_type": "stream",
     "text": [
      "False\n"
     ]
    }
   ],
   "source": [
    "print({} is {})"
   ]
  },
  {
   "cell_type": "code",
   "execution_count": 20,
   "id": "968e40dd",
   "metadata": {},
   "outputs": [
    {
     "name": "stdout",
     "output_type": "stream",
     "text": [
      "0 1 2 3 4 5 6 \n",
      "0 1 2 3 4 5 7 8 9 "
     ]
    }
   ],
   "source": [
    "for i in range(10):\n",
    " \n",
    "    print(i, end=\" \")\n",
    "    if i == 6:\n",
    "        break\n",
    " \n",
    "print()\n",
    "i = 0\n",
    "while i < 10:\n",
    "    if i == 6:\n",
    "        i += 1\n",
    "        continue\n",
    "    else:\n",
    "        print(i, end=\" \")\n",
    " \n",
    "    i += 1"
   ]
  },
  {
   "cell_type": "code",
   "execution_count": 21,
   "id": "2b51a078",
   "metadata": {},
   "outputs": [
    {
     "name": "stdout",
     "output_type": "stream",
     "text": [
      "0 1 2 3 4 5 6 \n",
      "0 1 2 3 4 5 7 8 9 "
     ]
    }
   ],
   "source": [
    "for i in range(10):\n",
    "    print(i, end=\" \")\n",
    "    if i == 6:\n",
    "        break\n",
    "print()\n",
    "i = 0\n",
    "while i < 10:\n",
    "    if i == 6:\n",
    "        i += 1\n",
    "        continue\n",
    "    else:\n",
    "        print(i, end=\" \")\n",
    "    i += 1"
   ]
  },
  {
   "cell_type": "code",
   "execution_count": null,
   "id": "727109d6",
   "metadata": {},
   "outputs": [],
   "source": []
  }
 ],
 "metadata": {
  "kernelspec": {
   "display_name": "Python 3 (ipykernel)",
   "language": "python",
   "name": "python3"
  },
  "language_info": {
   "codemirror_mode": {
    "name": "ipython",
    "version": 3
   },
   "file_extension": ".py",
   "mimetype": "text/x-python",
   "name": "python",
   "nbconvert_exporter": "python",
   "pygments_lexer": "ipython3",
   "version": "3.10.9"
  }
 },
 "nbformat": 4,
 "nbformat_minor": 5
}
