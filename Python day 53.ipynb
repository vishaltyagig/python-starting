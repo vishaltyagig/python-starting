{
 "cells": [
  {
   "cell_type": "code",
   "execution_count": 1,
   "id": "5dd8f988",
   "metadata": {},
   "outputs": [
    {
     "name": "stdout",
     "output_type": "stream",
     "text": [
      "Note: you may need to restart the kernel to use updated packages.\n"
     ]
    },
    {
     "name": "stderr",
     "output_type": "stream",
     "text": [
      "ERROR: Could not find a version that satisfies the requirement threading (from versions: none)\n",
      "ERROR: No matching distribution found for threading\n",
      "\n",
      "[notice] A new release of pip is available: 23.2.1 -> 24.0\n",
      "[notice] To update, run: python.exe -m pip install --upgrade pip\n"
     ]
    }
   ],
   "source": [
    "pip install threading"
   ]
  },
  {
   "cell_type": "code",
   "execution_count": 2,
   "id": "17cf4d6a",
   "metadata": {},
   "outputs": [
    {
     "name": "stdout",
     "output_type": "stream",
     "text": [
      "Set time limit in seconds: 5\n",
      "Who is your best friend?\n",
      "You have 5  seconds to write the answer\n",
      "ibnniobibiu\n"
     ]
    }
   ],
   "source": [
    "# Import the libraries \n",
    "from threading import Timer \n",
    "  \n",
    "# Take seconds as integer input \n",
    "# for the time limit per question \n",
    "input_time = int(input(\"Set time limit in seconds: \")) \n",
    "  \n",
    "# Print the question to display \n",
    "print(\"Who is your best friend?\") \n",
    "  \n",
    "# Set the timer for the specified time and call the \n",
    "# function to print the message when time is over \n",
    "t = Timer(input_time, lambda: print( \n",
    "    \"\\nYour writing time is over!!\\nEnter / to quit the program\")) \n",
    "  \n",
    "# Start the timer \n",
    "t.start() \n",
    "  \n",
    "# Print a message for user specifying number of seconds \n",
    "print(\"You have\", str(input_time), \" seconds to write the answer\") \n",
    "  \n",
    "# Get value from user \n",
    "answer = input() \n",
    "  \n",
    "# Stop the timer \n",
    "t.cancel() "
   ]
  },
  {
   "cell_type": "markdown",
   "id": "0ae05c2b",
   "metadata": {},
   "source": [
    "# Take input from stdin in Python"
   ]
  },
  {
   "cell_type": "code",
   "execution_count": 4,
   "id": "f28c4240",
   "metadata": {},
   "outputs": [
    {
     "name": "stdout",
     "output_type": "stream",
     "text": [
      "Exit\n"
     ]
    }
   ],
   "source": [
    "import sys\n",
    " \n",
    "for line in sys.stdin:\n",
    "    if 'q' == line.rstrip():\n",
    "        break\n",
    "    print(f'Input : {line}')\n",
    "\n",
    "print(\"Exit\")"
   ]
  },
  {
   "cell_type": "code",
   "execution_count": 6,
   "id": "08b90071",
   "metadata": {},
   "outputs": [
    {
     "name": "stdout",
     "output_type": "stream",
     "text": [
      "Type anything: Tyagi G\n",
      "Tyagi G\n"
     ]
    }
   ],
   "source": [
    "# this accepts the user's input\n",
    "# and stores in inp\n",
    "inp = input(\"Type anything: \")\n",
    " \n",
    "# prints inp\n",
    "print(inp)"
   ]
  },
  {
   "cell_type": "code",
   "execution_count": 7,
   "id": "2a8c9f6b",
   "metadata": {},
   "outputs": [
    {
     "ename": "FileNotFoundError",
     "evalue": "[Errno 2] No such file or directory: 'sample.txt'",
     "output_type": "error",
     "traceback": [
      "\u001b[1;31m---------------------------------------------------------------------------\u001b[0m",
      "\u001b[1;31mFileNotFoundError\u001b[0m                         Traceback (most recent call last)",
      "Cell \u001b[1;32mIn[7], line 4\u001b[0m\n\u001b[0;32m      1\u001b[0m \u001b[38;5;28;01mimport\u001b[39;00m \u001b[38;5;21;01mfileinput\u001b[39;00m\n\u001b[0;32m      3\u001b[0m \u001b[38;5;28;01mwith\u001b[39;00m fileinput\u001b[38;5;241m.\u001b[39minput(files\u001b[38;5;241m=\u001b[39m(\u001b[38;5;124m'\u001b[39m\u001b[38;5;124msample.txt\u001b[39m\u001b[38;5;124m'\u001b[39m, \u001b[38;5;124m'\u001b[39m\u001b[38;5;124mno.txt\u001b[39m\u001b[38;5;124m'\u001b[39m)) \u001b[38;5;28;01mas\u001b[39;00m f:\n\u001b[1;32m----> 4\u001b[0m     \u001b[38;5;28;01mfor\u001b[39;00m line \u001b[38;5;129;01min\u001b[39;00m f:\n\u001b[0;32m      5\u001b[0m         \u001b[38;5;28mprint\u001b[39m(line)\n",
      "File \u001b[1;32m~\\anaconda3\\lib\\fileinput.py:256\u001b[0m, in \u001b[0;36mFileInput.__next__\u001b[1;34m(self)\u001b[0m\n\u001b[0;32m    254\u001b[0m \u001b[38;5;28;01mdef\u001b[39;00m \u001b[38;5;21m__next__\u001b[39m(\u001b[38;5;28mself\u001b[39m):\n\u001b[0;32m    255\u001b[0m     \u001b[38;5;28;01mwhile\u001b[39;00m \u001b[38;5;28;01mTrue\u001b[39;00m:\n\u001b[1;32m--> 256\u001b[0m         line \u001b[38;5;241m=\u001b[39m \u001b[38;5;28;43mself\u001b[39;49m\u001b[38;5;241;43m.\u001b[39;49m\u001b[43m_readline\u001b[49m\u001b[43m(\u001b[49m\u001b[43m)\u001b[49m\n\u001b[0;32m    257\u001b[0m         \u001b[38;5;28;01mif\u001b[39;00m line:\n\u001b[0;32m    258\u001b[0m             \u001b[38;5;28mself\u001b[39m\u001b[38;5;241m.\u001b[39m_filelineno \u001b[38;5;241m+\u001b[39m\u001b[38;5;241m=\u001b[39m \u001b[38;5;241m1\u001b[39m\n",
      "File \u001b[1;32m~\\anaconda3\\lib\\fileinput.py:390\u001b[0m, in \u001b[0;36mFileInput._readline\u001b[1;34m(self)\u001b[0m\n\u001b[0;32m    387\u001b[0m                 \u001b[38;5;28mself\u001b[39m\u001b[38;5;241m.\u001b[39m_file \u001b[38;5;241m=\u001b[39m \u001b[38;5;28mself\u001b[39m\u001b[38;5;241m.\u001b[39m_openhook(\n\u001b[0;32m    388\u001b[0m                     \u001b[38;5;28mself\u001b[39m\u001b[38;5;241m.\u001b[39m_filename, \u001b[38;5;28mself\u001b[39m\u001b[38;5;241m.\u001b[39m_mode, encoding\u001b[38;5;241m=\u001b[39m\u001b[38;5;28mself\u001b[39m\u001b[38;5;241m.\u001b[39m_encoding, errors\u001b[38;5;241m=\u001b[39m\u001b[38;5;28mself\u001b[39m\u001b[38;5;241m.\u001b[39m_errors)\n\u001b[0;32m    389\u001b[0m         \u001b[38;5;28;01melse\u001b[39;00m:\n\u001b[1;32m--> 390\u001b[0m             \u001b[38;5;28mself\u001b[39m\u001b[38;5;241m.\u001b[39m_file \u001b[38;5;241m=\u001b[39m \u001b[38;5;28;43mopen\u001b[39;49m\u001b[43m(\u001b[49m\u001b[38;5;28;43mself\u001b[39;49m\u001b[38;5;241;43m.\u001b[39;49m\u001b[43m_filename\u001b[49m\u001b[43m,\u001b[49m\u001b[43m \u001b[49m\u001b[38;5;28;43mself\u001b[39;49m\u001b[38;5;241;43m.\u001b[39;49m\u001b[43m_mode\u001b[49m\u001b[43m,\u001b[49m\u001b[43m \u001b[49m\u001b[43mencoding\u001b[49m\u001b[38;5;241;43m=\u001b[39;49m\u001b[43mencoding\u001b[49m\u001b[43m,\u001b[49m\u001b[43m \u001b[49m\u001b[43merrors\u001b[49m\u001b[38;5;241;43m=\u001b[39;49m\u001b[38;5;28;43mself\u001b[39;49m\u001b[38;5;241;43m.\u001b[39;49m\u001b[43m_errors\u001b[49m\u001b[43m)\u001b[49m\n\u001b[0;32m    391\u001b[0m \u001b[38;5;28mself\u001b[39m\u001b[38;5;241m.\u001b[39m_readline \u001b[38;5;241m=\u001b[39m \u001b[38;5;28mself\u001b[39m\u001b[38;5;241m.\u001b[39m_file\u001b[38;5;241m.\u001b[39mreadline  \u001b[38;5;66;03m# hide FileInput._readline\u001b[39;00m\n\u001b[0;32m    392\u001b[0m \u001b[38;5;28;01mreturn\u001b[39;00m \u001b[38;5;28mself\u001b[39m\u001b[38;5;241m.\u001b[39m_readline()\n",
      "\u001b[1;31mFileNotFoundError\u001b[0m: [Errno 2] No such file or directory: 'sample.txt'"
     ]
    }
   ],
   "source": [
    "import fileinput\n",
    " \n",
    "with fileinput.input(files=('sample.txt', 'no.txt')) as f:\n",
    "    for line in f:\n",
    "        print(line)"
   ]
  },
  {
   "cell_type": "code",
   "execution_count": 8,
   "id": "5dfdc372",
   "metadata": {},
   "outputs": [
    {
     "name": "stdout",
     "output_type": "stream",
     "text": [
      "gikjnblj\n",
      "<class 'str'>\n"
     ]
    },
    {
     "ename": "ValueError",
     "evalue": "invalid literal for int() with base 10: 'gikjnblj'",
     "output_type": "error",
     "traceback": [
      "\u001b[1;31m---------------------------------------------------------------------------\u001b[0m",
      "\u001b[1;31mValueError\u001b[0m                                Traceback (most recent call last)",
      "Cell \u001b[1;32mIn[8], line 8\u001b[0m\n\u001b[0;32m      5\u001b[0m \u001b[38;5;28mprint\u001b[39m(\u001b[38;5;28mtype\u001b[39m(input_a))\n\u001b[0;32m      7\u001b[0m \u001b[38;5;66;03m# type cast into integer\u001b[39;00m\n\u001b[1;32m----> 8\u001b[0m input_a \u001b[38;5;241m=\u001b[39m \u001b[38;5;28;43mint\u001b[39;49m\u001b[43m(\u001b[49m\u001b[43minput_a\u001b[49m\u001b[43m)\u001b[49m\n\u001b[0;32m     10\u001b[0m \u001b[38;5;66;03m# print data type\u001b[39;00m\n\u001b[0;32m     11\u001b[0m \u001b[38;5;28mprint\u001b[39m(\u001b[38;5;28mtype\u001b[39m(input_a))\n",
      "\u001b[1;31mValueError\u001b[0m: invalid literal for int() with base 10: 'gikjnblj'"
     ]
    }
   ],
   "source": [
    "# take input from user\n",
    "input_a = input()\n",
    " \n",
    "# print data type\n",
    "print(type(input_a))\n",
    " \n",
    "# type cast into integer\n",
    "input_a = int(input_a)\n",
    " \n",
    "# print data type\n",
    "print(type(input_a))"
   ]
  },
  {
   "cell_type": "code",
   "execution_count": 9,
   "id": "49d9fa17",
   "metadata": {},
   "outputs": [
    {
     "name": "stdout",
     "output_type": "stream",
     "text": [
      "4165962\n",
      "<class 'str'>\n",
      "<class 'int'>\n"
     ]
    }
   ],
   "source": [
    "# take input from user\n",
    "input_a = input()\n",
    " \n",
    "# print data type\n",
    "print(type(input_a))\n",
    " \n",
    "# type cast into integer\n",
    "input_a = int(input_a)\n",
    " \n",
    "# print data type\n",
    "print(type(input_a))"
   ]
  },
  {
   "cell_type": "code",
   "execution_count": 10,
   "id": "dcc88a2f",
   "metadata": {},
   "outputs": [
    {
     "name": "stdout",
     "output_type": "stream",
     "text": [
      "152\n",
      "<class 'str'>\n",
      "125\n",
      "<class 'int'>\n"
     ]
    }
   ],
   "source": [
    "# string input\n",
    "input_a = input()\n",
    " \n",
    "# print type\n",
    "print(type(input_a))\n",
    " \n",
    "# integer input\n",
    "input_b = int(input())\n",
    " \n",
    "# print type\n",
    "print(type(input_b))"
   ]
  },
  {
   "cell_type": "code",
   "execution_count": 11,
   "id": "d856e338",
   "metadata": {},
   "outputs": [
    {
     "name": "stdout",
     "output_type": "stream",
     "text": [
      "10 20 30 40 50\n",
      "array: ['10', '20', '30', '40', '50']\n",
      "20 10 30 40\n",
      "array: [20, 10, 30, 40]\n"
     ]
    }
   ],
   "source": [
    "# take multiple inputs in array\n",
    "input_str_array = input().split()\n",
    " \n",
    "print(\"array:\", input_str_array)\n",
    " \n",
    "# take multiple inputs in array\n",
    "input_int_array = [int(x) for x in input().split()]\n",
    " \n",
    "print(\"array:\", input_int_array)"
   ]
  },
  {
   "cell_type": "code",
   "execution_count": 12,
   "id": "98f4c812",
   "metadata": {},
   "outputs": [
    {
     "name": "stdout",
     "output_type": "stream",
     "text": [
      "Enter the size of list : 5\n",
      "Enter the integer elements of list(Space-Separated): 45 85 96 41 25\n",
      "The list is: [45, 85, 96, 41, 25]\n"
     ]
    }
   ],
   "source": [
    "# Python program to take integer input  in Python\n",
    " \n",
    "# input size of the list\n",
    "n = int(input(\"Enter the size of list : \"))\n",
    "# store integers in a list using map, split and strip functions\n",
    "lst = list(map(int, input(\n",
    "    \"Enter the integer elements of list(Space-Separated): \").strip().split()))[:n]\n",
    "print('The list is:', lst)   # printing the list"
   ]
  },
  {
   "cell_type": "code",
   "execution_count": 13,
   "id": "e6f02eef",
   "metadata": {},
   "outputs": [
    {
     "name": "stdout",
     "output_type": "stream",
     "text": [
      "Enter the name: Dadda Tyagi\n",
      "<class 'str'>\n",
      "Dadda Tyagi\n",
      "Enter the number: 7\n",
      "<class 'str'>\n",
      "<class 'int'>\n",
      "7\n"
     ]
    }
   ],
   "source": [
    "# Python program to demonstrate\n",
    "# input() function in Python3.x\n",
    " \n",
    " \n",
    "val1 = input(\"Enter the name: \")\n",
    " \n",
    "# print the type of input value\n",
    "print(type(val1))\n",
    "print(val1)\n",
    " \n",
    " \n",
    "val2 = input(\"Enter the number: \")\n",
    "print(type(val2))\n",
    " \n",
    "val2 = int(val2)\n",
    "print(type(val2))\n",
    "print(val2)"
   ]
  },
  {
   "cell_type": "code",
   "execution_count": 14,
   "id": "4d6284c5",
   "metadata": {},
   "outputs": [
    {
     "name": "stdout",
     "output_type": "stream",
     "text": [
      "Enter the name: Dadda Tyagi\n",
      "<class 'str'>\n",
      "Dadda Tyagi\n",
      "Enter the number: 4\n",
      "<class 'str'>\n",
      "4\n"
     ]
    }
   ],
   "source": [
    "# Python program to demonstrate\n",
    "# input() function in Python2.x\n",
    " \n",
    " \n",
    "val1 = input(\"Enter the name: \")\n",
    "print(type(val1))\n",
    "print(val1)\n",
    " \n",
    "val2 = input(\"Enter the number: \")\n",
    "print(type(val2))\n",
    "print(val2)"
   ]
  },
  {
   "cell_type": "code",
   "execution_count": null,
   "id": "8a185820",
   "metadata": {},
   "outputs": [],
   "source": []
  }
 ],
 "metadata": {
  "kernelspec": {
   "display_name": "Python 3 (ipykernel)",
   "language": "python",
   "name": "python3"
  },
  "language_info": {
   "codemirror_mode": {
    "name": "ipython",
    "version": 3
   },
   "file_extension": ".py",
   "mimetype": "text/x-python",
   "name": "python",
   "nbconvert_exporter": "python",
   "pygments_lexer": "ipython3",
   "version": "3.10.9"
  }
 },
 "nbformat": 4,
 "nbformat_minor": 5
}
