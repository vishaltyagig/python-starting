{
 "cells": [
  {
   "cell_type": "markdown",
   "id": "a00a3cc0",
   "metadata": {},
   "source": [
    "## oops"
   ]
  },
  {
   "cell_type": "code",
   "execution_count": 1,
   "id": "3df57389",
   "metadata": {},
   "outputs": [
    {
     "name": "stdout",
     "output_type": "stream",
     "text": [
      "46\n"
     ]
    }
   ],
   "source": [
    "# add two numbers....\n",
    "# a = 12\n",
    "# b = 34\n",
    "\n",
    "# print(\"the sum of a and b is\", a +b)\n",
    "\n",
    "# by using oops\n",
    "\n",
    "class Number:\n",
    "    def sum(self):\n",
    "        return self.a + self.b\n",
    "    \n",
    "num = Number()\n",
    "num.a = 12\n",
    "num.b = 34\n",
    "s = num.sum()\n",
    "print(s)"
   ]
  },
  {
   "cell_type": "code",
   "execution_count": 2,
   "id": "7abcaea7",
   "metadata": {},
   "outputs": [
    {
     "name": "stdout",
     "output_type": "stream",
     "text": [
      "Name is Harry\n",
      "train is superfast\n"
     ]
    }
   ],
   "source": [
    "class RailwayForm:\n",
    "    fromType = \"RailwayForm\"\n",
    "    def printdata(self):\n",
    "        print(f\"Name is {self.name}\")\n",
    "        print(f\"train is {self.train}\")\n",
    "        \n",
    "harrysApplication = RailwayForm()\n",
    "harrysApplication.name = \"Harry\"\n",
    "harrysApplication.train = \"superfast\"\n",
    "harrysApplication.printdata()"
   ]
  },
  {
   "cell_type": "code",
   "execution_count": 4,
   "id": "2e56d4ed",
   "metadata": {},
   "outputs": [
    {
     "ename": "AttributeError",
     "evalue": "'Remote' object has no attribute 'isLeftpressed'",
     "output_type": "error",
     "traceback": [
      "\u001b[1;31m---------------------------------------------------------------------------\u001b[0m",
      "\u001b[1;31mAttributeError\u001b[0m                            Traceback (most recent call last)",
      "Cell \u001b[1;32mIn[4], line 17\u001b[0m\n\u001b[0;32m     14\u001b[0m remote1 \u001b[38;5;241m=\u001b[39m Remote()\n\u001b[0;32m     15\u001b[0m player1 \u001b[38;5;241m=\u001b[39m Player()\n\u001b[1;32m---> 17\u001b[0m \u001b[38;5;28;01mif\u001b[39;00m(\u001b[43mremote1\u001b[49m\u001b[38;5;241;43m.\u001b[39;49m\u001b[43misLeftpressed\u001b[49m()):\n\u001b[0;32m     18\u001b[0m     player\u001b[38;5;241m.\u001b[39mmoveLeft()\n",
      "\u001b[1;31mAttributeError\u001b[0m: 'Remote' object has no attribute 'isLeftpressed'"
     ]
    }
   ],
   "source": [
    "class Remote():\n",
    "    pass\n",
    "\n",
    "class Player():\n",
    "    def moveRight(self):\n",
    "        pass\n",
    "    \n",
    "    def moveLeft(self):\n",
    "        pass\n",
    "    \n",
    "    def moveTop(self):\n",
    "        pass\n",
    "    \n",
    "remote1 = Remote()\n",
    "player1 = Player()\n",
    "\n",
    "if(remote1.isLeftpressed()):\n",
    "    player.moveLeft()"
   ]
  },
  {
   "cell_type": "code",
   "execution_count": 9,
   "id": "f38e7199",
   "metadata": {},
   "outputs": [
    {
     "name": "stdout",
     "output_type": "stream",
     "text": [
      "google\n",
      "google\n",
      "youtube\n",
      "youtube\n"
     ]
    }
   ],
   "source": [
    "class employee:\n",
    "    company = \"google\"\n",
    "    \n",
    "harry = employee()\n",
    "rajni = employee()\n",
    "print(harry.company)\n",
    "print(rajni.company)\n",
    "employee.company = \"youtube\"\n",
    "print(harry.company)\n",
    "print(rajni.company)"
   ]
  },
  {
   "cell_type": "code",
   "execution_count": 10,
   "id": "ec5cf5ad",
   "metadata": {},
   "outputs": [
    {
     "name": "stdout",
     "output_type": "stream",
     "text": [
      "google\n",
      "google\n",
      "youtube\n",
      "youtube\n",
      "300\n",
      "400\n"
     ]
    }
   ],
   "source": [
    "class employee:\n",
    "    company = \"google\"\n",
    "    \n",
    "harry = employee()\n",
    "rajni = employee()\n",
    "harry.salary = 300\n",
    "rajni.salary = 400\n",
    "\n",
    "print(harry.company)\n",
    "print(rajni.company)\n",
    "employee.company = \"youtube\"\n",
    "print(harry.company)\n",
    "print(rajni.company)\n",
    "\n",
    "print(harry.salary)\n",
    "print(rajni.salary)"
   ]
  },
  {
   "cell_type": "code",
   "execution_count": 11,
   "id": "8c81fcf8",
   "metadata": {},
   "outputs": [
    {
     "name": "stdout",
     "output_type": "stream",
     "text": [
      "google\n",
      "google\n",
      "youtube\n",
      "youtube\n",
      "300\n",
      "400\n"
     ]
    }
   ],
   "source": [
    "class employee:\n",
    "    company = \"google\"\n",
    "    salary = 100\n",
    "    \n",
    "harry = employee()\n",
    "rajni = employee()\n",
    "\n",
    "# create instance attributessalary for both the objects\n",
    "harry.salary = 300\n",
    "rajni.salary = 400\n",
    "\n",
    "print(harry.company)\n",
    "print(rajni.company)\n",
    "employee.company = \"youtube\"\n",
    "print(harry.company)\n",
    "print(rajni.company)\n",
    "\n",
    "print(harry.salary)\n",
    "print(rajni.salary)\n",
    "\n",
    "# below line throws an error as address is not present in instance class\n",
    "print(rajni.address)"
   ]
  },
  {
   "cell_type": "code",
   "execution_count": 27,
   "id": "0f53155c",
   "metadata": {},
   "outputs": [
    {
     "ename": "TypeError",
     "evalue": "'employee' object is not callable",
     "output_type": "error",
     "traceback": [
      "\u001b[1;31m---------------------------------------------------------------------------\u001b[0m",
      "\u001b[1;31mTypeError\u001b[0m                                 Traceback (most recent call last)",
      "Cell \u001b[1;32mIn[27], line 9\u001b[0m\n\u001b[0;32m      6\u001b[0m         \u001b[38;5;28mprint\u001b[39m(\u001b[38;5;124m\"\u001b[39m\u001b[38;5;124msalary is 100k\u001b[39m\u001b[38;5;124m\"\u001b[39m)\n\u001b[0;32m      8\u001b[0m harry \u001b[38;5;241m=\u001b[39m Employees()\n\u001b[1;32m----> 9\u001b[0m \u001b[43mharry\u001b[49m\u001b[38;5;241;43m.\u001b[39;49m\u001b[43mgetSalary\u001b[49m\u001b[43m(\u001b[49m\u001b[43m)\u001b[49m\n\u001b[0;32m     10\u001b[0m \u001b[38;5;28mprint\u001b[39m(\u001b[38;5;124m\"\u001b[39m\u001b[38;5;124msalary is 100k\u001b[39m\u001b[38;5;124m\"\u001b[39m)\n",
      "Cell \u001b[1;32mIn[27], line 6\u001b[0m, in \u001b[0;36mEmployees.getSalary\u001b[1;34m(self)\u001b[0m\n\u001b[0;32m      5\u001b[0m \u001b[38;5;28;01mdef\u001b[39;00m \u001b[38;5;21mgetSalary\u001b[39m(\u001b[38;5;28mself\u001b[39m):\n\u001b[1;32m----> 6\u001b[0m     \u001b[38;5;28;43mprint\u001b[39;49m\u001b[43m(\u001b[49m\u001b[38;5;124;43m\"\u001b[39;49m\u001b[38;5;124;43msalary is 100k\u001b[39;49m\u001b[38;5;124;43m\"\u001b[39;49m\u001b[43m)\u001b[49m\n",
      "\u001b[1;31mTypeError\u001b[0m: 'employee' object is not callable"
     ]
    }
   ],
   "source": [
    "# for class self\n",
    "\n",
    "class Employees:\n",
    "    company = \"google\"\n",
    "    def getSalary(self):\n",
    "        print(\"salary is 100k\")\n",
    "        \n",
    "harry = Employees()\n",
    "harry.getSalary() \n",
    "\n",
    "# this code is easily run in python day 27....file\n",
    "\n"
   ]
  },
  {
   "cell_type": "code",
   "execution_count": null,
   "id": "177756e2",
   "metadata": {},
   "outputs": [],
   "source": []
  }
 ],
 "metadata": {
  "kernelspec": {
   "display_name": "Python 3 (ipykernel)",
   "language": "python",
   "name": "python3"
  },
  "language_info": {
   "codemirror_mode": {
    "name": "ipython",
    "version": 3
   },
   "file_extension": ".py",
   "mimetype": "text/x-python",
   "name": "python",
   "nbconvert_exporter": "python",
   "pygments_lexer": "ipython3",
   "version": "3.10.9"
  }
 },
 "nbformat": 4,
 "nbformat_minor": 5
}
