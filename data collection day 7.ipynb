{
 "cells": [
  {
   "cell_type": "code",
   "execution_count": 1,
   "id": "3af3a80f",
   "metadata": {},
   "outputs": [
    {
     "name": "stdout",
     "output_type": "stream",
     "text": [
      "[34, 56, 78, 90, 12, -9, 37, 43, 67, 87, 65]\n"
     ]
    }
   ],
   "source": [
    "#it can also take string flotingpoint no. or etc.\n",
    "x = [34,56,78,90,12,-9,37,43,67,87,65]\n",
    "print(x)"
   ]
  },
  {
   "cell_type": "code",
   "execution_count": 4,
   "id": "4558b7e7",
   "metadata": {},
   "outputs": [
    {
     "data": {
      "text/plain": [
       "list"
      ]
     },
     "execution_count": 4,
     "metadata": {},
     "output_type": "execute_result"
    }
   ],
   "source": [
    "type(x)"
   ]
  },
  {
   "cell_type": "code",
   "execution_count": 1,
   "id": "336563cc",
   "metadata": {},
   "outputs": [
    {
     "name": "stdout",
     "output_type": "stream",
     "text": [
      "[1, 2, 3, 4, 'ML', 'hello', True, 45.67, 89.3]\n"
     ]
    }
   ],
   "source": [
    "x = [1,2,3,4,'ML', 'hello',True,45.67,89.3]\n",
    "print(x)"
   ]
  },
  {
   "cell_type": "code",
   "execution_count": 3,
   "id": "2d2e7a9e",
   "metadata": {},
   "outputs": [
    {
     "name": "stdout",
     "output_type": "stream",
     "text": [
      "[34, 54, 24, 54, 58]\n",
      "[34, 54, 24, 54, 58]\n",
      "[34, 54, 24, 54, 58]\n",
      "[34, 54, 24, 54, 58]\n",
      "[34, 54, 24, 54, 58]\n"
     ]
    }
   ],
   "source": [
    "#wap to add no. in a list....>\n",
    "\n",
    "x = [34,54,24,54,58]\n",
    "for i in x:\n",
    "    print (x)"
   ]
  },
  {
   "cell_type": "code",
   "execution_count": 4,
   "id": "859889a7",
   "metadata": {},
   "outputs": [
    {
     "name": "stdout",
     "output_type": "stream",
     "text": [
      "1\n",
      "3\n",
      "6\n",
      "10\n"
     ]
    }
   ],
   "source": [
    "x = [1,2,3,4]\n",
    "y = 0\n",
    "for i in x:\n",
    "    y = i+y\n",
    "    print(y)"
   ]
  },
  {
   "cell_type": "code",
   "execution_count": 5,
   "id": "e71d9031",
   "metadata": {},
   "outputs": [
    {
     "name": "stdout",
     "output_type": "stream",
     "text": [
      "10\n"
     ]
    }
   ],
   "source": [
    "x = [1,2,3,4]\n",
    "y = 0\n",
    "for i in x:\n",
    "    y = i+y\n",
    "print(y)"
   ]
  },
  {
   "cell_type": "code",
   "execution_count": null,
   "id": "25967139",
   "metadata": {},
   "outputs": [],
   "source": []
  }
 ],
 "metadata": {
  "kernelspec": {
   "display_name": "Python 3 (ipykernel)",
   "language": "python",
   "name": "python3"
  },
  "language_info": {
   "codemirror_mode": {
    "name": "ipython",
    "version": 3
   },
   "file_extension": ".py",
   "mimetype": "text/x-python",
   "name": "python",
   "nbconvert_exporter": "python",
   "pygments_lexer": "ipython3",
   "version": "3.9.12"
  }
 },
 "nbformat": 4,
 "nbformat_minor": 5
}
