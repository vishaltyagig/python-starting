{
 "cells": [
  {
   "cell_type": "code",
   "execution_count": 1,
   "id": "0771d2f6",
   "metadata": {},
   "outputs": [
    {
     "name": "stdout",
     "output_type": "stream",
     "text": [
      "[56, 4, 45, 23, 6, 64, 74, 72]\n"
     ]
    }
   ],
   "source": [
    "# maximum of no. in list\n",
    "\n",
    "x = [56,4,45,23,6,64,74,72]\n",
    "print(x)"
   ]
  },
  {
   "cell_type": "code",
   "execution_count": 5,
   "id": "1760c7ad",
   "metadata": {},
   "outputs": [
    {
     "name": "stdout",
     "output_type": "stream",
     "text": [
      "74\n"
     ]
    }
   ],
   "source": [
    "x = [56,4,45,23,6,64,74,72]\n",
    "print(max(x))"
   ]
  },
  {
   "cell_type": "code",
   "execution_count": 6,
   "id": "12295eb7",
   "metadata": {},
   "outputs": [
    {
     "name": "stdout",
     "output_type": "stream",
     "text": [
      "4\n"
     ]
    }
   ],
   "source": [
    "# minimum of a no. in list\n",
    "x = [56,4,45,23,6,64,74,72]\n",
    "print(min(x))"
   ]
  },
  {
   "cell_type": "code",
   "execution_count": 20,
   "id": "e0d8a2d0",
   "metadata": {},
   "outputs": [
    {
     "name": "stdout",
     "output_type": "stream",
     "text": [
      "74\n"
     ]
    }
   ],
   "source": [
    "# maximum of no. in list\n",
    "\n",
    "x = [56,4,45,23,6,64,74,72]\n",
    "y = 0\n",
    "for i in x:\n",
    "    if i>y:\n",
    "        y = i\n",
    "print(y)"
   ]
  },
  {
   "cell_type": "code",
   "execution_count": 28,
   "id": "b6fd8c7e",
   "metadata": {},
   "outputs": [
    {
     "name": "stdout",
     "output_type": "stream",
     "text": [
      "4\n"
     ]
    }
   ],
   "source": [
    " # minimum of a no. in list\n",
    "x = [56,4,45,23,6,64,74,72]\n",
    "y = 56\n",
    "for i in x:\n",
    "    if i<y:\n",
    "        y = i\n",
    "print(y)"
   ]
  },
  {
   "cell_type": "code",
   "execution_count": 31,
   "id": "fb4b69f6",
   "metadata": {},
   "outputs": [
    {
     "name": "stdout",
     "output_type": "stream",
     "text": [
      "[72, 74, 64, 6, 23, 45, 4, 56]\n"
     ]
    }
   ],
   "source": [
    "# reverse a list\n",
    "x = [56,4,45,23,6,64,74,72]\n",
    "i = x[::-1]\n",
    "print(i)"
   ]
  },
  {
   "cell_type": "code",
   "execution_count": 29,
   "id": "8181bdeb",
   "metadata": {},
   "outputs": [
    {
     "name": "stdout",
     "output_type": "stream",
     "text": [
      "4\n"
     ]
    }
   ],
   "source": [
    " # minimum of a no. in list\n",
    "x = [56,4,45,23,6,64,74,72]\n",
    "y = x[0]\n",
    "for i in x:\n",
    "    if i<y:\n",
    "        y = i\n",
    "print(y)"
   ]
  },
  {
   "cell_type": "code",
   "execution_count": null,
   "id": "7e746059",
   "metadata": {},
   "outputs": [],
   "source": [
    "# reverse a list\n",
    "x = [56,4,45,23,6,64,74,72]\n"
   ]
  },
  {
   "cell_type": "code",
   "execution_count": 32,
   "id": "8a5aed92",
   "metadata": {},
   "outputs": [
    {
     "name": "stdout",
     "output_type": "stream",
     "text": [
      "120\n"
     ]
    }
   ],
   "source": [
    "#multiply all the no. in a list....>\n",
    "\n",
    "x = [1,2,3,4,5]\n",
    "y = 1\n",
    "for i in x:\n",
    "    y = y*i\n",
    "print(y)"
   ]
  },
  {
   "cell_type": "code",
   "execution_count": null,
   "id": "e4e5ec9d",
   "metadata": {},
   "outputs": [],
   "source": [
    "# #wap to find or count even or odd\n",
    "\n",
    "# x = [45,56,34,76,87,36,89,48]\n",
    "# count_even = 0\n",
    "# count_odd = 0\n",
    "# for i in x:\n",
    "#     if i%2 == 0:\n",
    "#         print(\"even\",i)\n",
    "#         count_even = count_even+1\n",
    "        "
   ]
  },
  {
   "cell_type": "code",
   "execution_count": 33,
   "id": "3a0a2dd6",
   "metadata": {},
   "outputs": [
    {
     "name": "stdout",
     "output_type": "stream",
     "text": [
      "+ve 56\n",
      "-ve -4\n",
      "-ve -45\n",
      "+ve 23\n",
      "+ve 6\n",
      "-ve -64\n",
      "+ve 74\n",
      "+ve 72\n"
     ]
    }
   ],
   "source": [
    "#positive and integer\n",
    "\n",
    "x = [56,-4,-45,23,6,-64,74,72]\n",
    "for i in x:\n",
    "    if i>0:\n",
    "        print(\"+ve\", i)\n",
    "    else:\n",
    "        print(\"-ve\", i)"
   ]
  },
  {
   "cell_type": "code",
   "execution_count": 38,
   "id": "1864767c",
   "metadata": {},
   "outputs": [
    {
     "name": "stdout",
     "output_type": "stream",
     "text": [
      "olleh \n"
     ]
    }
   ],
   "source": [
    "# palindrome\n",
    "x = \"hello\"\n",
    "y = \" \"\n",
    "for i in x:\n",
    "    y = i+y\n",
    "print(y)"
   ]
  },
  {
   "cell_type": "code",
   "execution_count": 41,
   "id": "178e029b",
   "metadata": {},
   "outputs": [
    {
     "name": "stdout",
     "output_type": "stream",
     "text": [
      "np\n"
     ]
    }
   ],
   "source": [
    "x = \"aaa\"\n",
    "y = \" \"\n",
    "for i in x:\n",
    "    y = i+y\n",
    "if x==y:\n",
    "    print(\"p\")\n",
    "else:\n",
    "    print(\"np\")"
   ]
  },
  {
   "cell_type": "code",
   "execution_count": null,
   "id": "2c4c1f8a",
   "metadata": {},
   "outputs": [],
   "source": []
  }
 ],
 "metadata": {
  "kernelspec": {
   "display_name": "Python 3 (ipykernel)",
   "language": "python",
   "name": "python3"
  },
  "language_info": {
   "codemirror_mode": {
    "name": "ipython",
    "version": 3
   },
   "file_extension": ".py",
   "mimetype": "text/x-python",
   "name": "python",
   "nbconvert_exporter": "python",
   "pygments_lexer": "ipython3",
   "version": "3.9.12"
  }
 },
 "nbformat": 4,
 "nbformat_minor": 5
}
