{
 "cells": [
  {
   "cell_type": "markdown",
   "id": "2ecc5cca",
   "metadata": {},
   "source": [
    "## function"
   ]
  },
  {
   "cell_type": "code",
   "execution_count": 3,
   "id": "ec07920b",
   "metadata": {},
   "outputs": [
    {
     "name": "stdout",
     "output_type": "stream",
     "text": [
      "87.75 90.0\n"
     ]
    }
   ],
   "source": [
    "def percent(marks):\n",
    "    p = ((marks[0] + marks[1] + marks[2] + marks[3])/400)*100\n",
    "    return p\n",
    "marks1 = [86, 78, 89, 98]\n",
    "percentage1 = percent(marks1)\n",
    "\n",
    "marks2 = [86, 87, 89, 98]\n",
    "percentage2 = percent(marks2)\n",
    "\n",
    "print(percentage1, percentage2)"
   ]
  },
  {
   "cell_type": "code",
   "execution_count": 4,
   "id": "221ee8ad",
   "metadata": {},
   "outputs": [
    {
     "name": "stdout",
     "output_type": "stream",
     "text": [
      "Good Day, harry\n"
     ]
    }
   ],
   "source": [
    "# wap to greet a user with \"Good day\" using function \n",
    "\n",
    "def greet(name):\n",
    "    print(\"Good Day, \"+ name)\n",
    "    \n",
    "greet(\"harry\")"
   ]
  },
  {
   "cell_type": "code",
   "execution_count": 6,
   "id": "6ac689b4",
   "metadata": {},
   "outputs": [
    {
     "name": "stdout",
     "output_type": "stream",
     "text": [
      "Good Day, harry\n",
      "Good Day, stranger\n"
     ]
    }
   ],
   "source": [
    "# default perameter value\n",
    "\n",
    "def greet(name = \"stranger\"): # this stranger is work as a default perameter value\n",
    "    print(\"Good Day, \"+ name)\n",
    "    \n",
    "greet(\"harry\")\n",
    "greet()"
   ]
  },
  {
   "cell_type": "code",
   "execution_count": null,
   "id": "0dea5608",
   "metadata": {},
   "outputs": [],
   "source": []
  }
 ],
 "metadata": {
  "kernelspec": {
   "display_name": "Python 3 (ipykernel)",
   "language": "python",
   "name": "python3"
  },
  "language_info": {
   "codemirror_mode": {
    "name": "ipython",
    "version": 3
   },
   "file_extension": ".py",
   "mimetype": "text/x-python",
   "name": "python",
   "nbconvert_exporter": "python",
   "pygments_lexer": "ipython3",
   "version": "3.10.9"
  }
 },
 "nbformat": 4,
 "nbformat_minor": 5
}
