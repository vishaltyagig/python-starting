{
 "cells": [
  {
   "cell_type": "code",
   "execution_count": 5,
   "id": "c34c0f82",
   "metadata": {},
   "outputs": [
    {
     "name": "stdout",
     "output_type": "stream",
     "text": [
      "0\n",
      "2\n",
      "4\n",
      "6\n",
      "8\n",
      "10\n",
      "12\n",
      "14\n",
      "16\n",
      "18\n",
      "20\n",
      "22\n",
      "24\n",
      "26\n",
      "28\n",
      "30\n",
      "32\n",
      "34\n",
      "36\n",
      "38\n",
      "40\n",
      "42\n",
      "44\n",
      "46\n",
      "48\n",
      "50\n"
     ]
    }
   ],
   "source": [
    "# wap to find odd and even no. from 0 _ 50\n",
    "\n",
    "for i in range(51):\n",
    "    if i%2 ==0:\n",
    "        print(i)"
   ]
  },
  {
   "cell_type": "code",
   "execution_count": 6,
   "id": "d8132121",
   "metadata": {},
   "outputs": [
    {
     "name": "stdout",
     "output_type": "stream",
     "text": [
      "1\n",
      "3\n",
      "5\n",
      "7\n",
      "9\n",
      "11\n",
      "13\n",
      "15\n",
      "17\n",
      "19\n",
      "21\n",
      "23\n",
      "25\n",
      "27\n",
      "29\n",
      "31\n",
      "33\n",
      "35\n",
      "37\n",
      "39\n",
      "41\n",
      "43\n",
      "45\n",
      "47\n",
      "49\n"
     ]
    }
   ],
   "source": [
    "for i in range(51):\n",
    "    if i%2 !=0:\n",
    "        print(i)"
   ]
  },
  {
   "cell_type": "code",
   "execution_count": 7,
   "id": "f6c328f3",
   "metadata": {},
   "outputs": [
    {
     "name": "stdout",
     "output_type": "stream",
     "text": [
      "0\n",
      "1\n",
      "2\n",
      "3\n",
      "4\n",
      "5\n",
      "6\n",
      "7\n",
      "8\n",
      "9\n"
     ]
    }
   ],
   "source": [
    "# while loop\n",
    "# initilization\n",
    "#condition\n",
    "# increment/decrement\n",
    "\n",
    "#0 to 10\n",
    "\n",
    "x = 0\n",
    "while x<10:\n",
    "    print(x)\n",
    "    x = x+1"
   ]
  },
  {
   "cell_type": "code",
   "execution_count": 1,
   "id": "a480bd69",
   "metadata": {},
   "outputs": [
    {
     "name": "stdout",
     "output_type": "stream",
     "text": [
      "enter a no.56\n",
      "Even no.\n"
     ]
    }
   ],
   "source": [
    "# Write a program to check whether a person is eligible for voting or not. (accept age from user)\n",
    "a = int(input(\"enter a no.\"))\n",
    "if a%2 == 0:\n",
    "    print(\"Even no.\")\n",
    "else:\n",
    "    print(\"odd no.\")"
   ]
  },
  {
   "cell_type": "code",
   "execution_count": 4,
   "id": "3883f58e",
   "metadata": {},
   "outputs": [
    {
     "name": "stdout",
     "output_type": "stream",
     "text": [
      "enter your age18\n",
      "you are eligible for voting\n"
     ]
    }
   ],
   "source": [
    "# Write a program to check whether a number entered by user is even or odd.\n",
    "age = int(input(\"enter your age\"))\n",
    "if age>=18:\n",
    "    print(\"you are eligible for voting\")\n",
    "else:\n",
    "    print(\"you are not eligible for voting\")"
   ]
  },
  {
   "cell_type": "code",
   "execution_count": 7,
   "id": "407e75c9",
   "metadata": {},
   "outputs": [
    {
     "name": "stdout",
     "output_type": "stream",
     "text": [
      "enter a number9879699\n",
      "no. is not divisible by 7\n"
     ]
    }
   ],
   "source": [
    "# Write a program to check whether a number is divisible by 7 or not.\n",
    "num = int(input(\"enter a number\"))\n",
    "if num%7 == 0:\n",
    "    print(\"no. is divisible by 7\")\n",
    "else:\n",
    "    print(\"no. is not divisible by 7\")"
   ]
  },
  {
   "cell_type": "code",
   "execution_count": 9,
   "id": "cc435237",
   "metadata": {},
   "outputs": [
    {
     "name": "stdout",
     "output_type": "stream",
     "text": [
      "enter a no.55\n",
      "hello\n"
     ]
    }
   ],
   "source": [
    "# Write a program to display \"Hello\" if a number entered by user is a multiple of five , \n",
    "# otherwise print \"Bye\".\n",
    "num = int(input(\"enter a no.\"))\n",
    "if num%5 == 0:\n",
    "    print(\"hello\")\n",
    "else:\n",
    "    print(\"bye\")"
   ]
  },
  {
   "cell_type": "code",
   "execution_count": 1,
   "id": "c919eaac",
   "metadata": {},
   "outputs": [
    {
     "name": "stdout",
     "output_type": "stream",
     "text": [
      "enter your bill unit350\n",
      "1500\n"
     ]
    }
   ],
   "source": [
    "# Write a program to calculate the electricity bill (accept number of unit from user) according to the following criteria :\n",
    "#              Unit                                                     Price  \n",
    "# First 100 units                                               no charge\n",
    "# Next 100 units                                              Rs 5 per unit\n",
    "# After 200 units                                             Rs 10 per unit\n",
    "unit = int(input(\"enter your bill unit\"))\n",
    "if unit<=100:\n",
    "    print(\"No charge\")\n",
    "if unit>100 and unit<=200:\n",
    "    bill = (unit-100)*5\n",
    "    print(bill)\n",
    "if unit>200:\n",
    "    bill = (unit-200)*10\n",
    "    print(bill)"
   ]
  },
  {
   "cell_type": "code",
   "execution_count": 2,
   "id": "f4334d4d",
   "metadata": {},
   "outputs": [
    {
     "name": "stdout",
     "output_type": "stream",
     "text": [
      "enter a no.89\n",
      "last digit of no. is 9\n"
     ]
    }
   ],
   "source": [
    "#  Write a program to display the last digit of a number.\n",
    "# (hint : any number % 10 will return the last digit)\n",
    "\n",
    "num = int(input(\"enter a no.\"))\n",
    "print(\"last digit of no. is\",num%10)"
   ]
  },
  {
   "cell_type": "code",
   "execution_count": 4,
   "id": "83959066",
   "metadata": {},
   "outputs": [
    {
     "name": "stdout",
     "output_type": "stream",
     "text": [
      "enter a number34\n",
      "last digit of no. is not divisible by 3\n"
     ]
    }
   ],
   "source": [
    "#  Write a program to check whether the last digit of a number( entered by user ) is \n",
    "# divisible by 3 or not.\n",
    "\n",
    "num = int(input(\"enter a number\"))\n",
    "last_no_is = num%10\n",
    "if last_no_is%3 == 0:\n",
    "    print(\"last digit of no. is divisible by 3\")\n",
    "else:\n",
    "    print(\"last digit of no. is not divisible by 3\")"
   ]
  },
  {
   "cell_type": "code",
   "execution_count": 12,
   "id": "54196e7d",
   "metadata": {},
   "outputs": [
    {
     "name": "stdout",
     "output_type": "stream",
     "text": [
      "enter your percentage56\n",
      "Grade D\n"
     ]
    }
   ],
   "source": [
    "#  Write a program to accept percentage from the user and display the grade according to the following criteria:\n",
    "\n",
    "#          Marks                                    Grade\n",
    "#          > 90                                         A\n",
    "#          > 80 and <= 90                       B\n",
    "#          >= 60 and <= 80                       C\n",
    "#          below 60                                  D\n",
    "\n",
    "percentage = int(input(\"enter your percentage\"))\n",
    "if percentage>90:\n",
    "    print(\"Grade A\")\n",
    "elif percentage > 80 and percentage<= 90:\n",
    "    print(\"Grade B\")\n",
    "elif percentage >=60 and percentage<= 80:\n",
    "    print(\"Grade C\")\n",
    "elif percentage <=60:\n",
    "    print(\"Grade D\")\n"
   ]
  },
  {
   "cell_type": "code",
   "execution_count": 22,
   "id": "ecdf1d8f",
   "metadata": {},
   "outputs": [
    {
     "name": "stdout",
     "output_type": "stream",
     "text": [
      "enter a yaer2004\n",
      "year is a leap year\n"
     ]
    }
   ],
   "source": [
    "#  Write a program to check whether an years is leap year or not.\n",
    "\n",
    "year = int(input(\"enter a yaer\"))\n",
    "if year%100 == 0: \n",
    "    if year%400 == 0:\n",
    "        print(\"year is a leap year\")\n",
    "    else:\n",
    "        print(\"year is not a leap year\")\n",
    "else:\n",
    "    if year%4 == 0:\n",
    "        print(\"year is a leap year\")\n",
    "    else:\n",
    "        print(\"year is not a leap year\")\n",
    "\n"
   ]
  },
  {
   "cell_type": "code",
   "execution_count": 1,
   "id": "8790f48d",
   "metadata": {},
   "outputs": [
    {
     "name": "stdout",
     "output_type": "stream",
     "text": [
      "Enter a number in between 1 to 7 ----->  6\n",
      "it's friday\n"
     ]
    }
   ],
   "source": [
    "# Write a program to accept a number from 1 to 7 and display the name of the day like 1 for Sunday , 2 for Monday and so on.\n",
    "\n",
    "num = int(input(\"Enter a number in between 1 to 7 ----->  \"))\n",
    "if num ==1:\n",
    "    print(\" it's sunday\")\n",
    "elif num == 2:\n",
    "    print(\"it's monday\")\n",
    "elif num == 3:\n",
    "    print(\"it's tuesday\")\n",
    "elif num == 4:\n",
    "    print(\"it's wednesday\")\n",
    "elif num == 5:\n",
    "    print(\"it's thursday\")\n",
    "elif num == 6:\n",
    "    print(\"it's friday\")\n",
    "elif num == 7:\n",
    "    print(\"it's saturday\")"
   ]
  },
  {
   "cell_type": "code",
   "execution_count": 3,
   "id": "05b97267",
   "metadata": {},
   "outputs": [
    {
     "name": "stdout",
     "output_type": "stream",
     "text": [
      "enter the temperature of water-->100\n",
      "water is not boling\n"
     ]
    }
   ],
   "source": [
    "# Accept the temperature in degree Celsius of water and check whether it is boiling or not (boiling point of water in 100 oC.\n",
    "\n",
    "temp = int(input(\"enter the temperature of water-->\"))\n",
    "if temp>100:\n",
    "    print(\"water is boling\")\n",
    "else:\n",
    "    print(\"water is not boling\")"
   ]
  },
  {
   "cell_type": "code",
   "execution_count": 5,
   "id": "c251fe06",
   "metadata": {},
   "outputs": [
    {
     "name": "stdout",
     "output_type": "stream",
     "text": [
      "Enter your age66\n",
      "Enter your age56\n",
      "Enter your age65\n",
      "Enter your age64\n",
      "b is youngest\n"
     ]
    }
   ],
   "source": [
    "# Accept the age of 4 people and display the youngest one?\n",
    "a = int(input(\"Enter your age-->\"))\n",
    "b = int(input(\"Enter your age-->\"))\n",
    "c = int(input(\"Enter your age-->\"))\n",
    "d = int(input(\"Enter your age-->\"))\n",
    "if a<b and a<c and a<d:\n",
    "    print(\"a is youngest\")\n",
    "elif b<a and b<c and b<d:\n",
    "    print(\"b is youngest\")\n",
    "elif c<a and c<b and c<d:\n",
    "    print(\"c is youngest\")\n",
    "elif d:\n",
    "    print(\"d is youngest\")"
   ]
  },
  {
   "cell_type": "code",
   "execution_count": 7,
   "id": "ecbc7cf0",
   "metadata": {},
   "outputs": [
    {
     "name": "stdout",
     "output_type": "stream",
     "text": [
      "Enter a no.37\n",
      "no. is prime no.\n"
     ]
    }
   ],
   "source": [
    "# #  Write a program to check whether a number  is prime or not.\n",
    "\n",
    "# num = int(input(\"Enter a no.\"))\n",
    "# if num%1 == 0 and num%num == 0:\n",
    "#     print(\"no. is prime no.\")\n",
    "# else:\n",
    "#     print(\"no. is not prime no.\")"
   ]
  },
  {
   "cell_type": "code",
   "execution_count": 12,
   "id": "f5fea777",
   "metadata": {},
   "outputs": [
    {
     "name": "stdout",
     "output_type": "stream",
     "text": [
      "enter a charactero\n",
      "o character is vowel\n"
     ]
    }
   ],
   "source": [
    "# Write a program to check a character is vowel or not.\n",
    "\n",
    "char = input(\"enter a character\")\n",
    "vowel = \"aeiouAEIOU\"\n",
    "if char in vowel:\n",
    "    print(char,\"character is vowel\")\n",
    "else:\n",
    "    print(char,\"character is not a vowel\")"
   ]
  },
  {
   "cell_type": "code",
   "execution_count": 15,
   "id": "97f7a6ab",
   "metadata": {},
   "outputs": [
    {
     "name": "stdout",
     "output_type": "stream",
     "text": [
      "Enter the total days of classes100\n",
      "Enter the classes you attend67\n",
      "67.0 %\n",
      "you are not able to attend the exam\n"
     ]
    }
   ],
   "source": [
    "#  Accept the following from the user and calculate the percentage of class attended:\n",
    "\n",
    "# a.     Total number of working days\n",
    "\n",
    "# b.     Total number of days for absent\n",
    "\n",
    "#     After calculating percentage show that, If the percentage is less than 75, than student will not be able to sit in exam.\n",
    "\n",
    "a = int(input(\"Enter the total days of classes\"))\n",
    "b = int(input(\"Enter the classes you attend\"))\n",
    "percentage = (b/a)*100\n",
    "print(percentage,\"%\")\n",
    "if percentage>=75:\n",
    "    print(\"you are able to attend the exam\")\n",
    "else:\n",
    "    print(\"you are not able to attend the exam\")"
   ]
  },
  {
   "cell_type": "code",
   "execution_count": 24,
   "id": "41497545",
   "metadata": {},
   "outputs": [
    {
     "name": "stdout",
     "output_type": "stream",
     "text": [
      "Enter your service year :-34\n",
      "Enter your salary :-5856354\n",
      "585635.4 6441989.4\n"
     ]
    }
   ],
   "source": [
    "# A company decided to give bonus to employee according to following criteria:\n",
    "\n",
    "#     Time period of Service                Bonus\n",
    "\n",
    "#     More than 10 years             10%\n",
    "\n",
    "#     >=6 and <=10                   8%\n",
    "\n",
    "#     Less than 6 years              5%\n",
    "\n",
    "#     Ask user for their salary and years of service and print the net bonus amount.\n",
    "\n",
    "a = int(input(\"Enter your service year :-\"))\n",
    "b = int(input(\"Enter your salary :-\"))\n",
    "if a>10:\n",
    "    bonus = 10/100*b\n",
    "if a>=6 and a<=10:\n",
    "    bonus = 8/100*b\n",
    "if a<6:\n",
    "    bonus = 5/100*b\n",
    "print(bonus, bonus+b)\n"
   ]
  },
  {
   "cell_type": "code",
   "execution_count": 31,
   "id": "8964d3f4",
   "metadata": {},
   "outputs": [
    {
     "name": "stdout",
     "output_type": "stream",
     "text": [
      "first side of triangle5\n",
      "second side of triangle4\n",
      "third side of a triangle4\n",
      "Triangle is isosceles\n"
     ]
    }
   ],
   "source": [
    "# Accept three sides of a triangle and check whether it is an equilateral, isosceles or scalene triangle.\n",
    "\n",
    "# Note :\n",
    "\n",
    "# An equilateral triangle is a triangle in which all three sides are equal.\n",
    "\n",
    "# A scalene triangle is a triangle that has three unequal sides.\n",
    "\n",
    "# An isosceles triangle is a triangle with (at least) two equal sides.\n",
    "\n",
    "a = int(input(\"first side of triangle\"))\n",
    "b = int(input(\"second side of triangle\"))\n",
    "c = int(input(\"third side of a triangle\"))\n",
    "if a == b and b == c and c == a:\n",
    "    print(\"Triangle is equilateral\")\n",
    "elif a != b and a != c and b != c and a != c:\n",
    "    print(\"Triangle is scalene\")\n",
    "elif (a==b and b!=c) or (b==c and b!=a) or (a==c and a!=b):\n",
    "    print(\"Triangle is isosceles\")"
   ]
  },
  {
   "cell_type": "code",
   "execution_count": null,
   "id": "29ee3dd1",
   "metadata": {},
   "outputs": [],
   "source": []
  }
 ],
 "metadata": {
  "kernelspec": {
   "display_name": "Python 3 (ipykernel)",
   "language": "python",
   "name": "python3"
  },
  "language_info": {
   "codemirror_mode": {
    "name": "ipython",
    "version": 3
   },
   "file_extension": ".py",
   "mimetype": "text/x-python",
   "name": "python",
   "nbconvert_exporter": "python",
   "pygments_lexer": "ipython3",
   "version": "3.9.12"
  }
 },
 "nbformat": 4,
 "nbformat_minor": 5
}
