{
 "cells": [
  {
   "cell_type": "code",
   "execution_count": 1,
   "id": "6ac2e840",
   "metadata": {},
   "outputs": [
    {
     "name": "stdout",
     "output_type": "stream",
     "text": [
      "20\n",
      "GeeksForGeeks\n"
     ]
    },
    {
     "ename": "NameError",
     "evalue": "name 'my_variable1' is not defined",
     "output_type": "error",
     "traceback": [
      "\u001b[1;31m---------------------------------------------------------------------------\u001b[0m",
      "\u001b[1;31mNameError\u001b[0m                                 Traceback (most recent call last)",
      "Cell \u001b[1;32mIn[1], line 7\u001b[0m\n\u001b[0;32m      5\u001b[0m \u001b[38;5;28;01mdel\u001b[39;00m my_variable1\n\u001b[0;32m      6\u001b[0m \u001b[38;5;28;01mdel\u001b[39;00m my_variable2\n\u001b[1;32m----> 7\u001b[0m \u001b[38;5;28mprint\u001b[39m(\u001b[43mmy_variable1\u001b[49m)\n\u001b[0;32m      8\u001b[0m \u001b[38;5;28mprint\u001b[39m(my_variable2)\n\u001b[0;32m     10\u001b[0m \u001b[38;5;66;03m#it raises name error\u001b[39;00m\n",
      "\u001b[1;31mNameError\u001b[0m: name 'my_variable1' is not defined"
     ]
    }
   ],
   "source": [
    "my_variable1 = 20\n",
    "my_variable2 = \"GeeksForGeeks\"\n",
    "print(my_variable1)\n",
    "print(my_variable2)\n",
    "del my_variable1\n",
    "del my_variable2\n",
    "print(my_variable1)\n",
    "print(my_variable2)\n",
    "\n",
    "#it raises name error"
   ]
  },
  {
   "cell_type": "code",
   "execution_count": 2,
   "id": "ef84f0a8",
   "metadata": {},
   "outputs": [
    {
     "name": "stdout",
     "output_type": "stream",
     "text": [
      "25\n",
      "20\n"
     ]
    }
   ],
   "source": [
    "#Global and local keywords \n",
    "\n",
    "#it is globally keyword......\n",
    "a = 15\n",
    "b = 10\n",
    "def add():\n",
    "    c = a + b\n",
    "    print(c)\n",
    "add()\n",
    "def fun():\n",
    "    \n",
    "#it is locally keyword......\n",
    "    var1 = 10\n",
    " \n",
    "    def gun():\n",
    "        nonlocal var1\n",
    "         \n",
    "        var1 = var1 + 10\n",
    "        print(var1)\n",
    " \n",
    "    gun()\n",
    "fun()"
   ]
  },
  {
   "cell_type": "code",
   "execution_count": 3,
   "id": "9aca035a",
   "metadata": {},
   "outputs": [
    {
     "name": "stdout",
     "output_type": "stream",
     "text": [
      "example of True, False, and, or, not keywords\n",
      "True\n",
      "True\n",
      "True\n",
      "False\n"
     ]
    }
   ],
   "source": [
    "#python keywords\n",
    "\n",
    "print(\"example of True, False, and, or, not keywords\")\n",
    " \n",
    "#  compare two operands using and operator\n",
    "print(True and True)\n",
    " \n",
    "# compare two operands using or operator\n",
    "print(True or False)\n",
    " \n",
    "# use of not operator\n",
    "print(not False)\n",
    "\n",
    "# use of not operator\n",
    "print(not True)"
   ]
  },
  {
   "cell_type": "code",
   "execution_count": 4,
   "id": "00fbb9b7",
   "metadata": {},
   "outputs": [
    {
     "name": "stdout",
     "output_type": "stream",
     "text": [
      "example of True, False, and, or, not keywords\n",
      "True\n",
      "False\n",
      "True\n",
      "True\n",
      "True\n",
      "False\n"
     ]
    }
   ],
   "source": [
    "#python keywords\n",
    "\n",
    "print(\"example of True, False, and, or, not keywords\")\n",
    " \n",
    "#  compare two operands using and operator\n",
    "print(True and True)\n",
    "\n",
    " #  compare two operands using and operator\n",
    "print(False and False)\n",
    " \n",
    "# compare two operands using or operator\n",
    "print(True or False)\n",
    "\n",
    "# compare two operands using or operator\n",
    "print(False or True)\n",
    " \n",
    "# use of not operator\n",
    "print(not False)\n",
    "\n",
    "# use of not operator\n",
    "print(not True)"
   ]
  },
  {
   "cell_type": "code",
   "execution_count": 5,
   "id": "dda23f5d",
   "metadata": {},
   "outputs": [
    {
     "name": "stdout",
     "output_type": "stream",
     "text": [
      "1\n",
      "2\n",
      "3\n",
      "4\n",
      "5\n"
     ]
    }
   ],
   "source": [
    "# execute for loop\n",
    "for i in range(1, 11):\n",
    "     \n",
    "    # print the value of i\n",
    "    print(i)\n",
    "     \n",
    "    # check the value of i is less than 5\n",
    "    # if i lessthan 5 then continue loop\n",
    "    if i < 5:  \n",
    "        continue\n",
    "         \n",
    "    # if i greater than 5 then break loop\n",
    "    else:  \n",
    "        break"
   ]
  },
  {
   "cell_type": "code",
   "execution_count": 6,
   "id": "e5a5ab40",
   "metadata": {},
   "outputs": [
    {
     "name": "stdout",
     "output_type": "stream",
     "text": [
      "1\n",
      "2\n",
      "3\n",
      "4\n",
      "5\n",
      "6\n",
      "7\n",
      "8\n"
     ]
    }
   ],
   "source": [
    "# execute for loop\n",
    "for i in range(1, 11):\n",
    "     \n",
    "    # print the value of i\n",
    "    print(i)\n",
    "     \n",
    "    # check the value of i is less than 9\n",
    "    # if i lessthan 9 then continue loop\n",
    "    if i < 8:  \n",
    "        continue\n",
    "         \n",
    "    # if i greater than 8 then break loop\n",
    "    else:  \n",
    "        break"
   ]
  },
  {
   "cell_type": "code",
   "execution_count": 7,
   "id": "0fab6972",
   "metadata": {},
   "outputs": [
    {
     "name": "stdout",
     "output_type": "stream",
     "text": [
      "1\n",
      "1\n",
      "1\n",
      "1\n"
     ]
    }
   ],
   "source": [
    "for i in range(1,5):\n",
    "    print(1)"
   ]
  },
  {
   "cell_type": "code",
   "execution_count": 8,
   "id": "da7a775e",
   "metadata": {},
   "outputs": [
    {
     "name": "stdout",
     "output_type": "stream",
     "text": [
      "1\n",
      "1\n",
      "1\n",
      "1\n",
      "1\n"
     ]
    }
   ],
   "source": [
    "for i in range(1,11):\n",
    "    print(1)\n",
    "    if i < 5 :\n",
    "        continue\n",
    "    else:\n",
    "        break"
   ]
  },
  {
   "cell_type": "code",
   "execution_count": 9,
   "id": "a5cdafa7",
   "metadata": {},
   "outputs": [
    {
     "name": "stdout",
     "output_type": "stream",
     "text": [
      "1\n",
      "2\n",
      "3\n",
      "4\n"
     ]
    }
   ],
   "source": [
    "for i in range(1,5):\n",
    "    print(i)"
   ]
  },
  {
   "cell_type": "code",
   "execution_count": 10,
   "id": "ef182ec9",
   "metadata": {},
   "outputs": [
    {
     "name": "stdout",
     "output_type": "stream",
     "text": [
      "1\n",
      "2\n",
      "3\n",
      "4\n",
      "5\n"
     ]
    }
   ],
   "source": [
    "for i in range(1,11):\n",
    "    print(i)\n",
    "    if i < 5 :\n",
    "        continue\n",
    "    else:\n",
    "        break"
   ]
  },
  {
   "cell_type": "code",
   "execution_count": 11,
   "id": "468b1648",
   "metadata": {},
   "outputs": [
    {
     "name": "stdout",
     "output_type": "stream",
     "text": [
      "One\n",
      "Two\n",
      "else block execute\n",
      "else block execute\n"
     ]
    }
   ],
   "source": [
    "# example of for, in, if, elif, and else keywords.\n",
    "\n",
    "# run for loop\n",
    "for t in range(1, 5):\n",
    "  # print one of t ==1\n",
    "    if t == 1:\n",
    "        print('One')\n",
    "   # print two if t ==2\n",
    "    elif t == 2:\n",
    "        print('Two')\n",
    "    else:\n",
    "        print('else block execute')"
   ]
  },
  {
   "cell_type": "code",
   "execution_count": 12,
   "id": "ac2b1904",
   "metadata": {},
   "outputs": [
    {
     "name": "stdout",
     "output_type": "stream",
     "text": [
      "enter a number6\n",
      "6\n",
      "enter a number2\n",
      "2\n",
      "else block execute\n",
      "else block execute\n"
     ]
    }
   ],
   "source": [
    "for t in range(1, 5):\n",
    "  # print one of t ==1\n",
    "    if t == 1:\n",
    "        print(input(\"enter a number\"))\n",
    "   # print two if t ==2\n",
    "    elif t == 2:\n",
    "        print(input(\"enter a number\"))\n",
    "    else:\n",
    "        print('else block execute')"
   ]
  },
  {
   "cell_type": "code",
   "execution_count": 13,
   "id": "e2aa6621",
   "metadata": {},
   "outputs": [
    {
     "name": "stdout",
     "output_type": "stream",
     "text": [
      "given number is even\n"
     ]
    }
   ],
   "source": [
    "# define GFG() function using def keyword\n",
    "def GFG():\n",
    "    i=20\n",
    "    # check i is odd or not \n",
    "    # using if and else keyword\n",
    "    if(i % 2 == 0):\n",
    "        print(\"given number is even\")\n",
    "    else:\n",
    "        print(\"given number is odd\")    \n",
    "     \n",
    "# call GFG() function    \n",
    "GFG()"
   ]
  },
  {
   "cell_type": "code",
   "execution_count": 14,
   "id": "00a7b6fe",
   "metadata": {},
   "outputs": [
    {
     "name": "stdout",
     "output_type": "stream",
     "text": [
      "enter a number11\n",
      "given number is odd\n"
     ]
    }
   ],
   "source": [
    "# define GFG() function using def keyword\n",
    "def GFG():\n",
    "    i= int(input(\"enter a number\"))\n",
    "    # check i is odd or not \n",
    "    # using if and else keyword\n",
    "    if(i % 2 == 0):\n",
    "        print(\"given number is even\")\n",
    "    else:\n",
    "        print(\"given number is odd\")    \n",
    "     \n",
    "# call GFG() function    \n",
    "GFG()"
   ]
  },
  {
   "cell_type": "code",
   "execution_count": 15,
   "id": "6fcf0a7c",
   "metadata": {},
   "outputs": [
    {
     "name": "stdout",
     "output_type": "stream",
     "text": [
      "enter a number56\n",
      "56 number is even\n"
     ]
    }
   ],
   "source": [
    "i= int(input(\"enter a number\"))\n",
    "    # check i is odd or not \n",
    "    # using if and else keyword\n",
    "if(i % 2 == 0):\n",
    "    print(i, \"number is even\")\n",
    "else:\n",
    "    print(i, \"number is odd\") "
   ]
  },
  {
   "cell_type": "code",
   "execution_count": 16,
   "id": "3777f822",
   "metadata": {},
   "outputs": [
    {
     "name": "stdout",
     "output_type": "stream",
     "text": [
      "enter a number42589\n",
      "42589 number is odd\n"
     ]
    }
   ],
   "source": [
    "i= int(input(\"enter a number\"))\n",
    "    # check i is odd or not \n",
    "    # using if and else keyword\n",
    "if(i % 2 == 0):\n",
    "    print(i, \"number is even\")\n",
    "else:\n",
    "    print(i, \"number is odd\") "
   ]
  },
  {
   "cell_type": "code",
   "execution_count": 17,
   "id": "2fe04b05",
   "metadata": {},
   "outputs": [
    {
     "name": "stdout",
     "output_type": "stream",
     "text": [
      "0.1\n",
      "Exception raises\n",
      "None\n"
     ]
    }
   ],
   "source": [
    "#  Example of try, except, raise.\n",
    "def fun(num):\n",
    "    try:\n",
    "        r = 1.0/num\n",
    "    except:\n",
    "        print('Exception raises')\n",
    "        return\n",
    "    return r\n",
    " \n",
    "print(fun(10))\n",
    "print(fun(0))"
   ]
  },
  {
   "cell_type": "code",
   "execution_count": null,
   "id": "6be7bc9f",
   "metadata": {},
   "outputs": [],
   "source": []
  }
 ],
 "metadata": {
  "kernelspec": {
   "display_name": "Python 3 (ipykernel)",
   "language": "python",
   "name": "python3"
  },
  "language_info": {
   "codemirror_mode": {
    "name": "ipython",
    "version": 3
   },
   "file_extension": ".py",
   "mimetype": "text/x-python",
   "name": "python",
   "nbconvert_exporter": "python",
   "pygments_lexer": "ipython3",
   "version": "3.10.9"
  }
 },
 "nbformat": 4,
 "nbformat_minor": 5
}
