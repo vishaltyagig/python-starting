{
 "cells": [
  {
   "cell_type": "code",
   "execution_count": 1,
   "id": "87553797",
   "metadata": {},
   "outputs": [
    {
     "name": "stdout",
     "output_type": "stream",
     "text": [
      "salary is 100k\n"
     ]
    }
   ],
   "source": [
    "class Employees:\n",
    "    company = \"google\"\n",
    "    def getSalary(self):\n",
    "        print(\"salary is 100k\")\n",
    "        \n",
    "harry = Employees()\n",
    "harry.getSalary()"
   ]
  },
  {
   "cell_type": "code",
   "execution_count": 5,
   "id": "46ab7179",
   "metadata": {},
   "outputs": [
    {
     "name": "stdout",
     "output_type": "stream",
     "text": [
      "salary is 100k\n",
      "good morning, sir\n",
      "this time is 9am in the morning\n"
     ]
    }
   ],
   "source": [
    "# staticmethod\n",
    "\n",
    "class Employees:\n",
    "    company = \"google\"\n",
    "    def getSalary(self):\n",
    "        print(\"salary is 100k\")\n",
    "        \n",
    "    @staticmethod    \n",
    "    def greet():  # if we dont wanna use self we use @staticmethod....\n",
    "        print(\"good morning, sir\")\n",
    "        \n",
    "    @staticmethod    \n",
    "    def time():  # if we dont wanna use self we use @staticmethod....\n",
    "        print(\"this time is 9am in the morning\")\n",
    "        \n",
    "harry = Employees()\n",
    "harry.getSalary()\n",
    "harry.greet()\n",
    "harry.time()"
   ]
  },
  {
   "cell_type": "markdown",
   "id": "d1b25c0d",
   "metadata": {},
   "source": [
    "## constructor"
   ]
  },
  {
   "cell_type": "code",
   "execution_count": 6,
   "id": "177c559a",
   "metadata": {},
   "outputs": [
    {
     "name": "stdout",
     "output_type": "stream",
     "text": [
      "employee is created\n"
     ]
    }
   ],
   "source": [
    "#   __init__()\n",
    "\n",
    "class Employees:\n",
    "    company = \"google\"\n",
    "    \n",
    "    def __init__(self): # it is constructor... its directly print any print function given\n",
    "        print(\"employee is created\")\n",
    "    \n",
    "    def getSalary(self):\n",
    "        print(\"salary is 100k\")\n",
    "        \n",
    "    @staticmethod    \n",
    "    def greet():  # if we dont wanna use self we use @staticmethod....\n",
    "        print(\"good morning, sir\")\n",
    "        \n",
    "    @staticmethod    \n",
    "    def time():  # if we dont wanna use self we use @staticmethod....\n",
    "        print(\"this time is 9am in the morning\")\n",
    "        \n",
    "harry = Employees()"
   ]
  },
  {
   "cell_type": "code",
   "execution_count": 9,
   "id": "a179a8ea",
   "metadata": {},
   "outputs": [
    {
     "name": "stdout",
     "output_type": "stream",
     "text": [
      "employee is created\n",
      "the name of the employee is harry\n",
      "the salary of the employee is 100\n",
      "the subunit of the employee is youtube\n"
     ]
    }
   ],
   "source": [
    "# problem 1\n",
    "\n",
    "class Employees:\n",
    "    company = \"google\"\n",
    "    \n",
    "    def __init__(self, name, salary, subunit):# it is constructor... its directly print any print function given\n",
    "        self.name = name\n",
    "        self.salary = salary\n",
    "        self.subunit = subunit\n",
    "        print(\"employee is created\")\n",
    "        \n",
    "    def getdetails(self):\n",
    "        print(f\"the name of the employee is {self.name}\")\n",
    "        print(f\"the salary of the employee is {self.salary}\")\n",
    "        print(f\"the subunit of the employee is {self.subunit}\")\n",
    "\n",
    "        \n",
    "harry = Employees(\"harry\", 100, \"youtube\")\n",
    "harry.getdetails()"
   ]
  },
  {
   "cell_type": "code",
   "execution_count": 11,
   "id": "5bff5b1e",
   "metadata": {},
   "outputs": [
    {
     "name": "stdout",
     "output_type": "stream",
     "text": [
      "the name of microsoft is Harry and the product is skype\n",
      "the name of microsoft is alka and the product is github\n"
     ]
    }
   ],
   "source": [
    "# create a class programmer for storing info. of few programmers working at microsoft\n",
    "\n",
    "class programmer:\n",
    "    company = \"microsoft\"\n",
    "    \n",
    "    def __init__(self, name, product):\n",
    "        self.name = name\n",
    "        self.product = product\n",
    "        \n",
    "    def getinfo(self):\n",
    "        print(f\"the name of {self.company} is {self.name} and the product is {self.product}\")\n",
    "        \n",
    "harry = programmer(\"Harry\", \"skype\")\n",
    "alka = programmer(\"alka\", \"github\")\n",
    "harry.getinfo()\n",
    "alka.getinfo()"
   ]
  },
  {
   "cell_type": "code",
   "execution_count": 13,
   "id": "da14afe4",
   "metadata": {},
   "outputs": [
    {
     "name": "stdout",
     "output_type": "stream",
     "text": [
      "the value of 9 squre is 81\n",
      "the value of 9 cube is 729\n",
      "the value of 9 squreroot is 3.0\n"
     ]
    }
   ],
   "source": [
    "#problem 2\n",
    "\n",
    "# wa class calculate capable of finding squre, cube, and squreroot of a number'\n",
    "\n",
    "class calculator:\n",
    "    def __init__(self, num):\n",
    "        self.number = num\n",
    "        \n",
    "    def squre(self):\n",
    "        print(f\"the value of {self.number} squre is {self.number **2}\")\n",
    "    \n",
    "    def cube(self):\n",
    "        print(f\"the value of {self.number} cube is {self.number **3}\")\n",
    "    \n",
    "    def squreroot(self):\n",
    "        print(f\"the value of {self.number} squreroot is {self.number **0.5}\")\n",
    "\n",
    "a = calculator(9)\n",
    "a.squre()\n",
    "a.cube()\n",
    "a.squreroot()"
   ]
  },
  {
   "cell_type": "code",
   "execution_count": 14,
   "id": "a5124ba7",
   "metadata": {},
   "outputs": [
    {
     "name": "stdout",
     "output_type": "stream",
     "text": [
      "harry\n",
      "vicky\n"
     ]
    }
   ],
   "source": [
    "# problem 3\n",
    "\n",
    "# create a class with a class attribute a; create an object from it and set a directly\n",
    "# using object a = 0 does this change the class attribute\n",
    "\n",
    "class sample:\n",
    "    a = \"harry\"\n",
    "    \n",
    "obj = sample()\n",
    "obj.a = \"vicky\"\n",
    "\n",
    "print(sample.a)\n",
    "print(obj.a)         # no it does't change"
   ]
  },
  {
   "cell_type": "code",
   "execution_count": 15,
   "id": "136fd4fc",
   "metadata": {},
   "outputs": [
    {
     "name": "stdout",
     "output_type": "stream",
     "text": [
      "vicky\n",
      "vicky\n"
     ]
    }
   ],
   "source": [
    "class sample:\n",
    "    a = \"harry\"\n",
    "    \n",
    "obj = sample()\n",
    "obj.a = \"vicky\"\n",
    "sample.a = \"vicky\"\n",
    "\n",
    "print(sample.a)\n",
    "print(obj.a) "
   ]
  },
  {
   "cell_type": "code",
   "execution_count": 17,
   "id": "e85489b1",
   "metadata": {},
   "outputs": [
    {
     "name": "stdout",
     "output_type": "stream",
     "text": [
      "******Hello there welcome to the best calculator of the world*****\n",
      "the value of 9 squre is 81\n",
      "the value of 9 cube is 729\n",
      "the value of 9 squreroot is 3.0\n"
     ]
    }
   ],
   "source": [
    "# problem 4\n",
    "\n",
    "# add a static method in problem 2 to greet the user with hello\n",
    "\n",
    "class calculator:\n",
    "    def __init__(self, num):\n",
    "        self.number = num\n",
    "        \n",
    "    def squre(self):\n",
    "        print(f\"the value of {self.number} squre is {self.number **2}\")\n",
    "    \n",
    "    def cube(self):\n",
    "        print(f\"the value of {self.number} cube is {self.number **3}\")\n",
    "    \n",
    "    def squreroot(self):\n",
    "        print(f\"the value of {self.number} squreroot is {self.number **0.5}\")\n",
    "    \n",
    "    @staticmethod\n",
    "    def greet():\n",
    "        print(\"******Hello there welcome to the best calculator of the world*****\")\n",
    "    \n",
    "a = calculator(9)\n",
    "a.greet()\n",
    "a.squre()\n",
    "a.cube()\n",
    "a.squreroot()"
   ]
  },
  {
   "cell_type": "code",
   "execution_count": 24,
   "id": "ca75df4f",
   "metadata": {},
   "outputs": [
    {
     "name": "stdout",
     "output_type": "stream",
     "text": [
      "the name of the train is intercity express: 14015\n",
      "the seats available in the train are 300\n",
      "*********************\n",
      "the price of the ticket is rs. 90\n",
      "*****************\n",
      "your ticket has been booked! your seat num is 300\n",
      "your ticket has been booked! your seat num is 299\n",
      "the name of the train is intercity express: 14015\n",
      "the seats available in the train are 298\n",
      "*********************\n"
     ]
    }
   ],
   "source": [
    "# problem 5\n",
    "\n",
    "# wa class train which has method to book a ticket, get status(no. of seat) and get fare info.\n",
    "# of trains running under Indian railways.\n",
    "\n",
    "class train:\n",
    "    def __init__(self, name, fare, seats):\n",
    "        self.name = name\n",
    "        self.fare = fare\n",
    "        self.seats = seats\n",
    "    \n",
    "    def getstatus(self):\n",
    "        print(f\"the name of the train is {self.name}\")\n",
    "        print(f\"the seats available in the train are {self.seats}\")\n",
    "        print(\"*********************\")\n",
    "        \n",
    "    def fareinfo(self):\n",
    "        print(f\"the price of the ticket is rs. {self.fare}\")\n",
    "        print(\"*****************\")\n",
    "        \n",
    "        \n",
    "    def bookticket(self):\n",
    "        if(self.seats>0):\n",
    "            print(f\"your ticket has been booked! your seat num is {self.seats}\")\n",
    "            self.seats = self.seats - 1\n",
    "        else:\n",
    "            print(\"sorry this train this full kindly try in tatkal\")\n",
    "            \n",
    "intercity = train(\"intercity express: 14015\", 90, 300)\n",
    "intercity.getstatus()\n",
    "intercity.fareinfo()\n",
    "intercity.bookticket()\n",
    "intercity.bookticket()\n",
    "intercity.getstatus()"
   ]
  },
  {
   "cell_type": "code",
   "execution_count": 26,
   "id": "f09b18df",
   "metadata": {},
   "outputs": [
    {
     "name": "stdout",
     "output_type": "stream",
     "text": [
      "the name of the train is intercity express: 14015\n",
      "the seats available in the train are 2\n",
      "*********************\n",
      "the price of the ticket is rs. 90\n",
      "*****************\n",
      "your ticket has been booked! your seat num is 2\n",
      "your ticket has been booked! your seat num is 1\n",
      "sorry this train this full kindly try in tatkal\n",
      "the name of the train is intercity express: 14015\n",
      "the seats available in the train are 0\n",
      "*********************\n"
     ]
    }
   ],
   "source": [
    "class train:\n",
    "    def __init__(self, name, fare, seats):\n",
    "        self.name = name\n",
    "        self.fare = fare\n",
    "        self.seats = seats\n",
    "    \n",
    "    def getstatus(self):\n",
    "        print(f\"the name of the train is {self.name}\")\n",
    "        print(f\"the seats available in the train are {self.seats}\")\n",
    "        print(\"*********************\")\n",
    "        \n",
    "    def fareinfo(self):\n",
    "        print(f\"the price of the ticket is rs. {self.fare}\")\n",
    "        print(\"*****************\")\n",
    "        \n",
    "        \n",
    "    def bookticket(self):\n",
    "        if(self.seats>0):\n",
    "            print(f\"your ticket has been booked! your seat num is {self.seats}\")\n",
    "            self.seats = self.seats - 1\n",
    "        else:\n",
    "            print(\"sorry this train this full kindly try in tatkal\")\n",
    "            \n",
    "intercity = train(\"intercity express: 14015\", 90, 2) # in this i change seat no.\n",
    "intercity.getstatus()\n",
    "intercity.fareinfo()\n",
    "intercity.bookticket()\n",
    "intercity.bookticket()\n",
    "intercity.bookticket()\n",
    "intercity.getstatus()"
   ]
  },
  {
   "cell_type": "code",
   "execution_count": 27,
   "id": "6a2a8382",
   "metadata": {},
   "outputs": [
    {
     "name": "stdout",
     "output_type": "stream",
     "text": [
      "harry\n"
     ]
    }
   ],
   "source": [
    "# problem 6\n",
    "\n",
    "# can u change the self perameter inside a class to something else (say \"harry\"). try changing self to \n",
    "# to 'self' or 'harry' and see the effects. \n",
    "\n",
    "class sample:\n",
    "    def __init__(self, name):\n",
    "        self.name = name\n",
    "    \n",
    "obj = sample(\"harry\")\n",
    "print(obj.name)          # yes we can change self in any other obj u can seen the below code"
   ]
  },
  {
   "cell_type": "code",
   "execution_count": 28,
   "id": "c217e8c0",
   "metadata": {},
   "outputs": [
    {
     "name": "stdout",
     "output_type": "stream",
     "text": [
      "harry\n"
     ]
    }
   ],
   "source": [
    "class sample:\n",
    "    def __init__(slf, name):\n",
    "        slf.name = name\n",
    "    \n",
    "obj = sample(\"harry\")\n",
    "print(obj.name)"
   ]
  },
  {
   "cell_type": "code",
   "execution_count": null,
   "id": "19daf2fc",
   "metadata": {},
   "outputs": [],
   "source": []
  }
 ],
 "metadata": {
  "kernelspec": {
   "display_name": "Python 3 (ipykernel)",
   "language": "python",
   "name": "python3"
  },
  "language_info": {
   "codemirror_mode": {
    "name": "ipython",
    "version": 3
   },
   "file_extension": ".py",
   "mimetype": "text/x-python",
   "name": "python",
   "nbconvert_exporter": "python",
   "pygments_lexer": "ipython3",
   "version": "3.10.9"
  }
 },
 "nbformat": 4,
 "nbformat_minor": 5
}
