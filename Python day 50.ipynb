{
 "cells": [
  {
   "cell_type": "markdown",
   "id": "d87b07e9",
   "metadata": {},
   "source": [
    "# Python | Output Formatting"
   ]
  },
  {
   "cell_type": "code",
   "execution_count": 1,
   "id": "703cc33f",
   "metadata": {},
   "outputs": [
    {
     "name": "stdout",
     "output_type": "stream",
     "text": [
      "Geeks :  1, Portal :  5.33\n",
      "Total students : 240, Boys : 120\n",
      "    031\n",
      " 3.561E+02\n"
     ]
    }
   ],
   "source": [
    "# Python program showing how to use string modulo operator(%)\n",
    " \n",
    "print(\"Geeks : %2d, Portal : %5.2f\" % (1, 05.333)) \n",
    " \n",
    "print(\"Total students : %3d, Boys : %2d\" % (240, 120))   # print integer value\n",
    " \n",
    "print(\"%7.3o\" % (25))   # print octal value\n",
    " \n",
    "print(\"%10.3E\" % (356.08977))   # print exponential value"
   ]
  },
  {
   "cell_type": "code",
   "execution_count": 2,
   "id": "6d46adbd",
   "metadata": {},
   "outputs": [
    {
     "name": "stdout",
     "output_type": "stream",
     "text": [
      "I love Geeks for \"Geeks!\"\n",
      "Geeks and Portal\n",
      "Portal and Geeks\n",
      "I love Geeks for \"Geeks!\"\n",
      "Geeks and Portal\n"
     ]
    }
   ],
   "source": [
    "print('I love {} for \"{}!\"'.format('Geeks', 'Geeks'))\n",
    " \n",
    "# using format() method and referring a position of the object\n",
    "print('{0} and {1}'.format('Geeks', 'Portal'))\n",
    " \n",
    "print('{1} and {0}'.format('Geeks', 'Portal'))\n",
    " \n",
    "print(f\"I love {'Geeks'} for \\\"{'Geeks'}!\\\"\")\n",
    " \n",
    "# using format() method and referring a position of the object\n",
    "print(f\"{'Geeks'} and {'Portal'}\")"
   ]
  },
  {
   "cell_type": "code",
   "execution_count": 3,
   "id": "ba7e653b",
   "metadata": {},
   "outputs": [
    {
     "name": "stdout",
     "output_type": "stream",
     "text": [
      "Number one portal is Geeks, For, and Geeks.\n",
      "Geeks :12, Portal :    0.55\n",
      "Second argument:  11, first one:   47.42\n",
      "Geeks:   453,  Portal:    59.06\n"
     ]
    }
   ],
   "source": [
    "# combining positional and keyword arguments\n",
    "print('Number one portal is {0}, {1}, and {other}.'\n",
    "     .format('Geeks', 'For', other ='Geeks'))\n",
    " \n",
    "# using format() method with number \n",
    "print(\"Geeks :{0:2d}, Portal :{1:8.2f}\".\n",
    "      format(12, 00.546))\n",
    " \n",
    "# Changing positional argument\n",
    "print(\"Second argument: {1:3d}, first one: {0:7.2f}\".\n",
    "      format(47.42, 11))\n",
    " \n",
    "print(\"Geeks: {a:5d},  Portal: {p:8.2f}\".\n",
    "     format(a = 453, p = 59.058))"
   ]
  },
  {
   "cell_type": "code",
   "execution_count": 4,
   "id": "5727128f",
   "metadata": {},
   "outputs": [
    {
     "name": "stdout",
     "output_type": "stream",
     "text": [
      "Geeks: 4127; For: 4098; Geeks: 8637678\n",
      "I love GeeksForGeeks computer Portal\n"
     ]
    }
   ],
   "source": [
    "tab = {'geeks': 4127, 'for': 4098, 'geek': 8637678}\n",
    " \n",
    "# using format() in dictionary\n",
    "print('Geeks: {0[geeks]:d}; For: {0[for]:d}; '\n",
    "    'Geeks: {0[geek]:d}'.format(tab))\n",
    " \n",
    "data = dict(fun =\"GeeksForGeeks\", adj =\"Portal\")\n",
    " \n",
    "print(\"I love {fun} computer {adj}\".format(**data))"
   ]
  },
  {
   "cell_type": "code",
   "execution_count": 7,
   "id": "899d11d6",
   "metadata": {},
   "outputs": [
    {
     "name": "stdout",
     "output_type": "stream",
     "text": [
      "Center aligned string with fillchr: \n",
      "##########I love geeksforgeeks##########\n",
      "The left aligned string is : \n",
      "I love geeksforgeeks--------------------\n",
      "The right aligned string is : \n",
      "--------------------I love geeksforgeeks\n"
     ]
    }
   ],
   "source": [
    "cstr = \"I love geeksforgeeks\"\n",
    "\n",
    "# Printing the center aligned string with fillchr\n",
    "print(\"Center aligned string with fillchr: \")\n",
    "print(cstr.center(40, '#'))\n",
    "\n",
    "# Printing the left aligned string with \"-\" padding\n",
    "print(\"The left aligned string is : \")\n",
    "print(cstr.ljust(40, '-'))\n",
    "\n",
    "# Printing the right aligned string with \"-\" padding\n",
    "print(\"The right aligned string is : \")\n",
    "print(cstr.rjust(40, '-'))\n"
   ]
  },
  {
   "cell_type": "code",
   "execution_count": null,
   "id": "5dc6bff0",
   "metadata": {},
   "outputs": [],
   "source": []
  }
 ],
 "metadata": {
  "kernelspec": {
   "display_name": "Python 3 (ipykernel)",
   "language": "python",
   "name": "python3"
  },
  "language_info": {
   "codemirror_mode": {
    "name": "ipython",
    "version": 3
   },
   "file_extension": ".py",
   "mimetype": "text/x-python",
   "name": "python",
   "nbconvert_exporter": "python",
   "pygments_lexer": "ipython3",
   "version": "3.10.9"
  }
 },
 "nbformat": 4,
 "nbformat_minor": 5
}
