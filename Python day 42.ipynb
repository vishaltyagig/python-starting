{
 "cells": [
  {
   "cell_type": "code",
   "execution_count": 1,
   "id": "2a02f7b0",
   "metadata": {},
   "outputs": [
    {
     "name": "stdout",
     "output_type": "stream",
     "text": [
      "Welcome geeks\n"
     ]
    }
   ],
   "source": [
    "def f():\n",
    "    s = \"Welcome geeks\"\n",
    "    print(s)\n",
    " \n",
    " \n",
    "f()"
   ]
  },
  {
   "cell_type": "code",
   "execution_count": 2,
   "id": "d1118a40",
   "metadata": {},
   "outputs": [],
   "source": [
    "def f():\n",
    "    s = \"Welcome geeks\"\n",
    "    print(s)"
   ]
  },
  {
   "cell_type": "code",
   "execution_count": 3,
   "id": "341cc4ab",
   "metadata": {},
   "outputs": [
    {
     "name": "stdout",
     "output_type": "stream",
     "text": [
      "Welcome geeks\n"
     ]
    }
   ],
   "source": [
    "s = \"Welcome geeks\"\n",
    "print(s)"
   ]
  },
  {
   "cell_type": "code",
   "execution_count": 4,
   "id": "d1723f8a",
   "metadata": {},
   "outputs": [
    {
     "name": "stdout",
     "output_type": "stream",
     "text": [
      "I love Geeksforgeeks\n"
     ]
    }
   ],
   "source": [
    "# This function has a variable with\n",
    "# name same as s\n",
    "def f():\n",
    "    print(s)\n",
    "\n",
    "# Global scope\n",
    "s = \"I love Geeksforgeeks\"\n",
    "f()"
   ]
  },
  {
   "cell_type": "code",
   "execution_count": 5,
   "id": "8fb99048",
   "metadata": {},
   "outputs": [
    {
     "name": "stdout",
     "output_type": "stream",
     "text": [
      "Value of x inside a function : 20\n",
      "Value of x outside a function : 20\n"
     ]
    }
   ],
   "source": [
    "x = 15\n",
    " \n",
    "def change():\n",
    " \n",
    "    # using a global keyword\n",
    "    global x\n",
    " \n",
    "    # increment value of a by 5\n",
    "    x = x + 5\n",
    "    print(\"Value of x inside a function :\", x)\n",
    " \n",
    " \n",
    "change()\n",
    "print(\"Value of x outside a function :\", x)"
   ]
  },
  {
   "cell_type": "code",
   "execution_count": 6,
   "id": "1e689d92",
   "metadata": {},
   "outputs": [
    {
     "name": "stdout",
     "output_type": "stream",
     "text": [
      "Numeric data :  123\n",
      "String with the use of Single Quotes: \n",
      "Welcome to the Geeks World\n",
      "<class 'bool'>\n",
      "<class 'bool'>\n",
      "\n",
      "Set with the use of String: \n",
      "{'k', 'G', 'o', 'F', 'r', 'e', 's'}\n",
      "\n",
      "Dictionary with the use of Integer Keys: \n",
      "{1: 'Geeks', 2: 'For', 3: 'Geeks'}\n"
     ]
    }
   ],
   "source": [
    "#built a data type in python\n",
    "\n",
    "# numberic\n",
    "var = 123\n",
    "print(\"Numeric data : \", var)\n",
    " \n",
    "# Sequence Type\n",
    "String1 = 'Welcome to the Geeks World'\n",
    "print(\"String with the use of Single Quotes: \")\n",
    "print(String1)\n",
    " \n",
    "# Boolean\n",
    "print(type(True))\n",
    "print(type(False))\n",
    " \n",
    "# Creating a Set with\n",
    "# the use of a String\n",
    "set1 = set(\"GeeksForGeeks\")\n",
    "print(\"\\nSet with the use of String: \")\n",
    "print(set1)\n",
    " \n",
    "# Creating a Dictionary\n",
    "# with Integer Keys\n",
    "Dict = {1: 'Geeks', 2: 'For', 3: 'Geeks'}\n",
    "print(\"\\nDictionary with the use of Integer Keys: \")\n",
    "print(Dict)"
   ]
  },
  {
   "cell_type": "code",
   "execution_count": 7,
   "id": "4474d6a2",
   "metadata": {},
   "outputs": [
    {
     "name": "stdout",
     "output_type": "stream",
     "text": [
      "cse\n",
      "cse\n",
      "101\n",
      "cse\n"
     ]
    }
   ],
   "source": [
    "class CSStudent:\n",
    "    # Class Variable\n",
    "    stream = 'cse'\n",
    "    # The init method or constructor\n",
    "    def __init__(self, roll):\n",
    "        # Instance Variable\n",
    "        self.roll = roll\n",
    "\n",
    "# Objects of CSStudent class\n",
    "a = CSStudent(101)\n",
    "b = CSStudent(102)\n",
    " \n",
    "print(a.stream)  # prints \"cse\"\n",
    "print(b.stream)  # prints \"cse\"\n",
    "print(a.roll)    # prints 101\n",
    " \n",
    "# Class variables can be accessed using class\n",
    "# name also\n",
    "print(CSStudent.stream)  # prints \"cse\""
   ]
  },
  {
   "cell_type": "code",
   "execution_count": 8,
   "id": "65b947aa",
   "metadata": {},
   "outputs": [],
   "source": [
    "my_variable = 42  # Integer\n",
    "my_variable = \"Hello, Python!\"  # String"
   ]
  },
  {
   "cell_type": "code",
   "execution_count": 9,
   "id": "75afd21e",
   "metadata": {},
   "outputs": [
    {
     "name": "stdout",
     "output_type": "stream",
     "text": [
      "Type of a:  <class 'int'>\n",
      "\n",
      "Type of b:  <class 'float'>\n",
      "\n",
      "Type of c:  <class 'complex'>\n"
     ]
    }
   ],
   "source": [
    "a = 5\n",
    "print(\"Type of a: \", type(a)) \n",
    "  \n",
    "b = 5.0\n",
    "print(\"\\nType of b: \", type(b)) \n",
    "  \n",
    "c = 2 + 4j\n",
    "print(\"\\nType of c: \", type(c)) "
   ]
  },
  {
   "cell_type": "code",
   "execution_count": 10,
   "id": "1927b461",
   "metadata": {},
   "outputs": [
    {
     "name": "stdout",
     "output_type": "stream",
     "text": [
      "Type of a:  <class 'int'>\n",
      "Type of b:  <class 'float'>\n",
      "Type of c:  <class 'complex'>\n"
     ]
    }
   ],
   "source": [
    "a = 5\n",
    "print(\"Type of a: \", type(a)) \n",
    "  \n",
    "b = 5.0\n",
    "print(\"Type of b: \", type(b)) \n",
    "  \n",
    "c = 2 + 4j\n",
    "print(\"Type of c: \", type(c)) "
   ]
  },
  {
   "cell_type": "code",
   "execution_count": 11,
   "id": "a123fd20",
   "metadata": {},
   "outputs": [
    {
     "name": "stdout",
     "output_type": "stream",
     "text": [
      "String with the use of Single Quotes: \n",
      "Welcome to the Geeks World\n",
      "\n",
      "String with the use of Double Quotes: \n",
      "I'm a Geek\n",
      "<class 'str'>\n",
      "\n",
      "String with the use of Triple Quotes: \n",
      "I'm a Geek and I live in a world of \"Geeks\"\n",
      "<class 'str'>\n",
      "\n",
      "Creating a multiline String: \n",
      "Geeks  \n",
      "            For  \n",
      "            Life\n"
     ]
    }
   ],
   "source": [
    "String1 = 'Welcome to the Geeks World'\n",
    "print(\"String with the use of Single Quotes: \") \n",
    "print(String1) \n",
    "String1 = \"I'm a Geek\"\n",
    "print(\"\\nString with the use of Double Quotes: \") \n",
    "print(String1) \n",
    "print(type(String1)) \n",
    "String1 = '''I'm a Geek and I live in a world of \"Geeks\"'''\n",
    "print(\"\\nString with the use of Triple Quotes: \") \n",
    "print(String1) \n",
    "print(type(String1)) \n",
    "  \n",
    "String1 = '''Geeks  \n",
    "            For  \n",
    "            Life'''\n",
    "print(\"\\nCreating a multiline String: \") \n",
    "print(String1) "
   ]
  },
  {
   "cell_type": "code",
   "execution_count": 12,
   "id": "f7c25e1a",
   "metadata": {},
   "outputs": [
    {
     "name": "stdout",
     "output_type": "stream",
     "text": [
      "String with the use of Single Quotes: \n",
      "Welcome to the Geeks World\n"
     ]
    }
   ],
   "source": [
    "String1 = 'Welcome to the Geeks World'\n",
    "print(\"String with the use of Single Quotes: \") \n",
    "print(String1) "
   ]
  },
  {
   "cell_type": "code",
   "execution_count": 13,
   "id": "db3aa1f9",
   "metadata": {},
   "outputs": [
    {
     "name": "stdout",
     "output_type": "stream",
     "text": [
      "\n",
      "String with the use of Double Quotes: \n",
      "I'm a Geek\n",
      "<class 'str'>\n"
     ]
    }
   ],
   "source": [
    "String1 = \"I'm a Geek\"\n",
    "print(\"\\nString with the use of Double Quotes: \") \n",
    "print(String1) \n",
    "print(type(String1)) "
   ]
  },
  {
   "cell_type": "code",
   "execution_count": 14,
   "id": "af998fb4",
   "metadata": {},
   "outputs": [
    {
     "name": "stdout",
     "output_type": "stream",
     "text": [
      "\n",
      "String with the use of Triple Quotes: \n",
      "I'm a Geek and I live in a world of \"Geeks\"\n",
      "<class 'str'>\n"
     ]
    }
   ],
   "source": [
    "String1 = '''I'm a Geek and I live in a world of \"Geeks\"'''\n",
    "print(\"\\nString with the use of Triple Quotes: \") \n",
    "print(String1) \n",
    "print(type(String1)) "
   ]
  },
  {
   "cell_type": "code",
   "execution_count": 16,
   "id": "d1e6582d",
   "metadata": {},
   "outputs": [
    {
     "name": "stdout",
     "output_type": "stream",
     "text": [
      "\n",
      "Creating a multiline String: \n",
      "Geeks  \n",
      "For  \n",
      "Life\n"
     ]
    }
   ],
   "source": [
    "String1 = '''Geeks  \n",
    "For  \n",
    "Life'''\n",
    "print(\"\\nCreating a multiline String: \") \n",
    "print(String1) "
   ]
  },
  {
   "cell_type": "code",
   "execution_count": 17,
   "id": "c06f7668",
   "metadata": {},
   "outputs": [
    {
     "name": "stdout",
     "output_type": "stream",
     "text": [
      "String with the use of Single Quotes: \n",
      "Welcome to the Geeks World\n",
      "\n",
      "String with the use of Double Quotes: \n",
      "I'm a Geek\n",
      "<class 'str'>\n",
      "\n",
      "String with the use of Triple Quotes: \n",
      "I'm a Geek and I live in a world of \"Geeks\"\n",
      "<class 'str'>\n",
      "\n",
      "Creating a multiline String: \n",
      "Geeks  \n",
      "For  \n",
      "Life\n"
     ]
    }
   ],
   "source": [
    "String1 = 'Welcome to the Geeks World'\n",
    "print(\"String with the use of Single Quotes: \") \n",
    "print(String1) \n",
    "String1 = \"I'm a Geek\"\n",
    "print(\"\\nString with the use of Double Quotes: \") \n",
    "print(String1) \n",
    "print(type(String1)) \n",
    "String1 = '''I'm a Geek and I live in a world of \"Geeks\"'''\n",
    "print(\"\\nString with the use of Triple Quotes: \") \n",
    "print(String1) \n",
    "print(type(String1)) \n",
    "  \n",
    "String1 = '''Geeks  \n",
    "For  \n",
    "Life'''\n",
    "print(\"\\nCreating a multiline String: \") \n",
    "print(String1) "
   ]
  },
  {
   "cell_type": "code",
   "execution_count": 18,
   "id": "d9acdb95",
   "metadata": {},
   "outputs": [
    {
     "name": "stdout",
     "output_type": "stream",
     "text": [
      "Initial String: \n",
      "GeeksForGeeks\n",
      "\n",
      "First character of String is: \n",
      "G\n",
      "\n",
      "Last character of String is: \n",
      "s\n"
     ]
    }
   ],
   "source": [
    "String1 = \"GeeksForGeeks\"\n",
    "print(\"Initial String: \") \n",
    "print(String1) \n",
    "print(\"\\nFirst character of String is: \") \n",
    "print(String1[0]) \n",
    "print(\"\\nLast character of String is: \") \n",
    "print(String1[-1]) "
   ]
  },
  {
   "cell_type": "code",
   "execution_count": 19,
   "id": "1e01bd6f",
   "metadata": {},
   "outputs": [
    {
     "name": "stdout",
     "output_type": "stream",
     "text": [
      "Initial blank List: \n",
      "[]\n",
      "\n",
      "List with the use of String: \n",
      "['GeeksForGeeks']\n",
      "\n",
      "List containing multiple values: \n",
      "Geeks\n",
      "Geeks\n",
      "\n",
      "Multi-Dimensional List: \n",
      "[['Geeks', 'For'], ['Geeks']]\n"
     ]
    }
   ],
   "source": [
    "List = [] \n",
    "print(\"Initial blank List: \") \n",
    "print(List) \n",
    "List = ['GeeksForGeeks'] \n",
    "print(\"\\nList with the use of String: \") \n",
    "print(List) \n",
    "List = [\"Geeks\", \"For\", \"Geeks\"] \n",
    "print(\"\\nList containing multiple values: \") \n",
    "print(List[0]) \n",
    "print(List[2]) \n",
    "List = [['Geeks', 'For'], ['Geeks']] \n",
    "print(\"\\nMulti-Dimensional List: \") \n",
    "print(List) "
   ]
  },
  {
   "cell_type": "code",
   "execution_count": 24,
   "id": "d83ffbb0",
   "metadata": {},
   "outputs": [
    {
     "name": "stdout",
     "output_type": "stream",
     "text": [
      "Initial blank List: \n",
      "[]\n",
      "\n",
      "List with the use of string: \n",
      "['GeeksforGeeks']\n",
      "\n",
      "List containing multiple values: \n",
      "Geeks\n"
     ]
    }
   ],
   "source": [
    "List = []\n",
    "print(\"Initial blank List: \")\n",
    "print(List)\n",
    "List = ['GeeksforGeeks']\n",
    "print(\"\\nList with the use of string: \")\n",
    "print(List)\n",
    "List = [\"Geeks\", \"For\", \"Geeks\"] \n",
    "print(\"\\nList containing multiple values: \") \n",
    "\n",
    "print(List[0])"
   ]
  },
  {
   "cell_type": "code",
   "execution_count": null,
   "id": "67c28e48",
   "metadata": {},
   "outputs": [],
   "source": []
  }
 ],
 "metadata": {
  "kernelspec": {
   "display_name": "Python 3 (ipykernel)",
   "language": "python",
   "name": "python3"
  },
  "language_info": {
   "codemirror_mode": {
    "name": "ipython",
    "version": 3
   },
   "file_extension": ".py",
   "mimetype": "text/x-python",
   "name": "python",
   "nbconvert_exporter": "python",
   "pygments_lexer": "ipython3",
   "version": "3.10.9"
  }
 },
 "nbformat": 4,
 "nbformat_minor": 5
}
