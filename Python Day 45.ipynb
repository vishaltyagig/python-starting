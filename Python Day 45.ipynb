{
 "cells": [
  {
   "cell_type": "markdown",
   "id": "8901d3d6",
   "metadata": {},
   "source": [
    "# Operators"
   ]
  },
  {
   "cell_type": "code",
   "execution_count": 1,
   "id": "c3b612a7",
   "metadata": {},
   "outputs": [
    {
     "name": "stdout",
     "output_type": "stream",
     "text": [
      "1.0\n",
      "5.0\n",
      "-5.0\n",
      "10.0\n"
     ]
    }
   ],
   "source": [
    "print(5/5) \n",
    "print(10/2) \n",
    "print(-10/2) \n",
    "print(20.0/2) "
   ]
  },
  {
   "cell_type": "code",
   "execution_count": 2,
   "id": "18d8f48d",
   "metadata": {},
   "outputs": [
    {
     "name": "stdout",
     "output_type": "stream",
     "text": [
      "3\n",
      "-3\n",
      "2.0\n",
      "-3.0\n"
     ]
    }
   ],
   "source": [
    "print(10//3) \n",
    "print (-5//2) \n",
    "print (5.0//2) \n",
    "print (-5.0//2)"
   ]
  },
  {
   "cell_type": "code",
   "execution_count": 3,
   "id": "bd3556e5",
   "metadata": {},
   "outputs": [
    {
     "name": "stdout",
     "output_type": "stream",
     "text": [
      "13\n",
      "5\n",
      "36\n",
      "1\n",
      "6561\n"
     ]
    }
   ],
   "source": [
    "a = 9\n",
    "b = 4\n",
    "add = a + b \n",
    "  \n",
    "sub = a - b \n",
    "  \n",
    "mul = a * b \n",
    "  \n",
    "mod = a % b \n",
    "  \n",
    "p = a ** b \n",
    "print(add) \n",
    "print(sub) \n",
    "print(mul) \n",
    "print(mod) \n",
    "print(p) "
   ]
  },
  {
   "cell_type": "code",
   "execution_count": 4,
   "id": "26e576e4",
   "metadata": {},
   "outputs": [
    {
     "name": "stdout",
     "output_type": "stream",
     "text": [
      "False\n",
      "True\n",
      "False\n",
      "True\n",
      "False\n",
      "True\n"
     ]
    }
   ],
   "source": [
    "a = 13\n",
    "b = 33\n",
    "  \n",
    "print(a > b) \n",
    "print(a < b) \n",
    "print(a == b) \n",
    "print(a != b) \n",
    "print(a >= b) \n",
    "print(a <= b) "
   ]
  },
  {
   "cell_type": "code",
   "execution_count": 5,
   "id": "d94e01df",
   "metadata": {},
   "outputs": [
    {
     "name": "stdout",
     "output_type": "stream",
     "text": [
      "False\n",
      "True\n",
      "False\n"
     ]
    }
   ],
   "source": [
    "a = True\n",
    "b = False\n",
    "print(a and b) \n",
    "print(a or b) \n",
    "print(not a) "
   ]
  },
  {
   "cell_type": "code",
   "execution_count": 6,
   "id": "489eca6a",
   "metadata": {},
   "outputs": [
    {
     "name": "stdout",
     "output_type": "stream",
     "text": [
      "0\n",
      "14\n",
      "-11\n",
      "14\n",
      "2\n",
      "40\n"
     ]
    }
   ],
   "source": [
    "a = 10\n",
    "b = 4\n",
    "print(a & b) \n",
    "print(a | b) \n",
    "print(~a) \n",
    "print(a ^ b) \n",
    "print(a >> 2) \n",
    "print(a << 2) "
   ]
  },
  {
   "cell_type": "code",
   "execution_count": 7,
   "id": "7fabec20",
   "metadata": {},
   "outputs": [
    {
     "name": "stdout",
     "output_type": "stream",
     "text": [
      "10\n",
      "20\n",
      "10\n",
      "100\n",
      "102400\n"
     ]
    }
   ],
   "source": [
    "a = 10\n",
    "b = a \n",
    "print(b) \n",
    "b += a \n",
    "print(b) \n",
    "b -= a \n",
    "print(b) \n",
    "b *= a \n",
    "print(b) \n",
    "b <<= a \n",
    "print(b)"
   ]
  },
  {
   "cell_type": "code",
   "execution_count": 8,
   "id": "71b1b82d",
   "metadata": {},
   "outputs": [
    {
     "name": "stdout",
     "output_type": "stream",
     "text": [
      "True\n",
      "True\n"
     ]
    }
   ],
   "source": [
    "a = 10\n",
    "b = 20\n",
    "c = a \n",
    "  \n",
    "print(a is not b) \n",
    "print(a is c)"
   ]
  },
  {
   "cell_type": "code",
   "execution_count": 10,
   "id": "8492fa6a",
   "metadata": {},
   "outputs": [
    {
     "name": "stdout",
     "output_type": "stream",
     "text": [
      "x is NOT present in given list\n",
      "y is present in given list\n"
     ]
    }
   ],
   "source": [
    "x = 24\n",
    "y = 20\n",
    "list = [10, 20, 30, 40, 50] \n",
    "  \n",
    "if (x not in list): \n",
    "    print(\"x is NOT present in given list\") \n",
    "else: \n",
    "    print(\"x is present in given list\") \n",
    "\n",
    "if (y in list): \n",
    "    print(\"y is present in given list\") \n",
    "else: \n",
    "    print(\"y is NOT present in given list\") "
   ]
  },
  {
   "cell_type": "code",
   "execution_count": 11,
   "id": "2277141f",
   "metadata": {},
   "outputs": [
    {
     "name": "stdout",
     "output_type": "stream",
     "text": [
      "10\n"
     ]
    }
   ],
   "source": [
    "a, b = 10, 20\n",
    "min = a if a < b else b \n",
    "  \n",
    "print(min) "
   ]
  },
  {
   "cell_type": "code",
   "execution_count": 12,
   "id": "046d4b13",
   "metadata": {},
   "outputs": [
    {
     "name": "stdout",
     "output_type": "stream",
     "text": [
      "610\n",
      "Hello! Welcome.\n"
     ]
    }
   ],
   "source": [
    "expr = 10 + 20 * 30\n",
    "print(expr) \n",
    "name = \"Alex\"\n",
    "age = 0\n",
    "  \n",
    "if name == \"Alex\" or name == \"John\" and age >= 2: \n",
    "    print(\"Hello! Welcome.\") \n",
    "else: \n",
    "    print(\"Good Bye!!\") "
   ]
  },
  {
   "cell_type": "code",
   "execution_count": 13,
   "id": "e0b78bcf",
   "metadata": {},
   "outputs": [
    {
     "name": "stdout",
     "output_type": "stream",
     "text": [
      "610\n"
     ]
    }
   ],
   "source": [
    "expr = 10 + 20 * 30\n",
    "print(expr) "
   ]
  },
  {
   "cell_type": "code",
   "execution_count": 14,
   "id": "d8420054",
   "metadata": {},
   "outputs": [
    {
     "name": "stdout",
     "output_type": "stream",
     "text": [
      "100.0\n",
      "6\n",
      "0\n",
      "512\n"
     ]
    }
   ],
   "source": [
    "print(100 / 10 * 10) \n",
    "print(5 - 2 + 3) \n",
    "print(5 - (2 + 3)) \n",
    "print(2 ** 3 ** 2) "
   ]
  },
  {
   "cell_type": "code",
   "execution_count": 15,
   "id": "36825340",
   "metadata": {},
   "outputs": [
    {
     "name": "stdout",
     "output_type": "stream",
     "text": [
      "Sum: 20\n",
      "Difference: 10\n",
      "Product: 75\n",
      "Quotient: 3.0\n",
      "Remainder: 0\n"
     ]
    }
   ],
   "source": [
    "num1 = 15\n",
    "num2 = 5\n",
    "sum = num1 + num2 \n",
    "difference = num1 - num2 \n",
    "product = num1 * num2 \n",
    "quotient = num1 / num2  \n",
    "remainder = num1 % num2 \n",
    "print(\"Sum:\", sum) \n",
    "print(\"Difference:\", difference) \n",
    "print(\"Product:\", product) \n",
    "print(\"Quotient:\", quotient) \n",
    "print(\"Remainder:\", remainder)"
   ]
  },
  {
   "cell_type": "code",
   "execution_count": 16,
   "id": "c7e51c8a",
   "metadata": {},
   "outputs": [
    {
     "name": "stdout",
     "output_type": "stream",
     "text": [
      "The second number is greater.\n"
     ]
    }
   ],
   "source": [
    "um1 = 30\n",
    "num2 = 35\n",
    "if num1 > num2: \n",
    "    print(\"The first number is greater.\") \n",
    "elif num1 < num2: \n",
    "    print(\"The second number is greater.\") \n",
    "else: \n",
    "    print(\"The numbers are equal.\")"
   ]
  },
  {
   "cell_type": "code",
   "execution_count": null,
   "id": "01e81196",
   "metadata": {},
   "outputs": [],
   "source": []
  }
 ],
 "metadata": {
  "kernelspec": {
   "display_name": "Python 3 (ipykernel)",
   "language": "python",
   "name": "python3"
  },
  "language_info": {
   "codemirror_mode": {
    "name": "ipython",
    "version": 3
   },
   "file_extension": ".py",
   "mimetype": "text/x-python",
   "name": "python",
   "nbconvert_exporter": "python",
   "pygments_lexer": "ipython3",
   "version": "3.10.9"
  }
 },
 "nbformat": 4,
 "nbformat_minor": 5
}
