{
 "cells": [
  {
   "cell_type": "code",
   "execution_count": 1,
   "id": "f2e7128e",
   "metadata": {},
   "outputs": [
    {
     "name": "stdout",
     "output_type": "stream",
     "text": [
      "0 1 2 3 4 5 6 \n",
      "0 1 2 3 4 5 7 8 9 "
     ]
    }
   ],
   "source": [
    "for i in range(10):\n",
    " \n",
    "    print(i, end=\" \")\n",
    "    if i == 6:\n",
    "        break\n",
    " \n",
    "print()\n",
    "i = 0\n",
    "while i < 10:\n",
    "    if i == 6:\n",
    "        i += 1\n",
    "        continue\n",
    "    else:\n",
    "        print(i, end=\" \")\n",
    " \n",
    "    i += 1"
   ]
  },
  {
   "cell_type": "code",
   "execution_count": 2,
   "id": "68ce9f0c",
   "metadata": {},
   "outputs": [
    {
     "name": "stdout",
     "output_type": "stream",
     "text": [
      "i is 20\n"
     ]
    }
   ],
   "source": [
    "i = 20\n",
    "if (i == 10):\n",
    "    print(\"i is 10\")\n",
    "elif (i == 20):\n",
    "    print(\"i is 20\")\n",
    "else:\n",
    "    print(\"i is not present\")"
   ]
  },
  {
   "cell_type": "code",
   "execution_count": 6,
   "id": "632b2974",
   "metadata": {},
   "outputs": [
    {
     "name": "stdout",
     "output_type": "stream",
     "text": [
      "Enter a Number: 22\n",
      "Enter b Number: 22\n",
      "num1 == num2\n"
     ]
    }
   ],
   "source": [
    "num1 = int(input(\"Enter a Number: \"))\n",
    "num2 = int(input(\"Enter b Number: \"))\n",
    "\n",
    "if (num1 != num2):\n",
    "    print(\"num1 is not num2\")\n",
    "elif (num1 == num2):\n",
    "    print(\"num1 == num2\")\n",
    "else:\n",
    "    print(\"num is not Present\")"
   ]
  },
  {
   "cell_type": "code",
   "execution_count": 7,
   "id": "459d863d",
   "metadata": {},
   "outputs": [
    {
     "name": "stdout",
     "output_type": "stream",
     "text": [
      "Enter a Number: 25\n",
      "Enter b Number: 23\n",
      "num1 is not num2\n"
     ]
    }
   ],
   "source": [
    "num1 = int(input(\"Enter a Number: \"))\n",
    "num2 = int(input(\"Enter b Number: \"))\n",
    "\n",
    "if (num1 != num2):\n",
    "    print(\"num1 is not num2\")\n",
    "elif (num1 == num2):\n",
    "    print(\"num1 == num2\")\n",
    "else:\n",
    "    print(\"num is not Present\")"
   ]
  },
  {
   "cell_type": "code",
   "execution_count": 9,
   "id": "6ad5f02d",
   "metadata": {},
   "outputs": [
    {
     "name": "stdout",
     "output_type": "stream",
     "text": [
      "Enter a Number: 0\n",
      "Enter b Number: 15\n",
      "num1 is not num2\n"
     ]
    }
   ],
   "source": [
    "num1 = int(input(\"Enter a Number: \"))\n",
    "num2 = int(input(\"Enter b Number: \"))\n",
    "\n",
    "if (num1 != num2):\n",
    "    print(\"num1 is not num2\")\n",
    "elif (num1 == num2):\n",
    "    print(\"num1 == num2\")\n",
    "else:\n",
    "    print(\"num is not Present\")"
   ]
  },
  {
   "cell_type": "code",
   "execution_count": 10,
   "id": "1f7012ff",
   "metadata": {},
   "outputs": [
    {
     "name": "stdout",
     "output_type": "stream",
     "text": [
      "Inside Function\n"
     ]
    }
   ],
   "source": [
    "def fun():\n",
    "    print(\"Inside Function\")\n",
    "\n",
    "fun()"
   ]
  },
  {
   "cell_type": "code",
   "execution_count": 12,
   "id": "2ab8da34",
   "metadata": {},
   "outputs": [
    {
     "name": "stdout",
     "output_type": "stream",
     "text": [
      "animal\n",
      "I'm a animal\n",
      "I'm a dog\n"
     ]
    }
   ],
   "source": [
    "class Dog:\n",
    "    attr1 = \"animal\"\n",
    "    attr2 = \"dog\"\n",
    " \n",
    "    def fun(self):\n",
    "        print(\"I'm a\", self.attr1)\n",
    "        print(\"I'm a\", self.attr2)\n",
    " \n",
    "Rodger = Dog()\n",
    "print(Rodger.attr1)\n",
    "Rodger.fun()"
   ]
  },
  {
   "cell_type": "code",
   "execution_count": 14,
   "id": "6411070d",
   "metadata": {},
   "outputs": [
    {
     "name": "stdout",
     "output_type": "stream",
     "text": [
      "Animal\n",
      "Black\n",
      "loyal\n",
      "Dog is Animal\n",
      "Dog is Black\n",
      "Dog is loyal\n"
     ]
    }
   ],
   "source": [
    "class Dog:\n",
    "    attr1 = \"Animal\"\n",
    "    attr2 = \"Black\"\n",
    "    attr3 = \"loyal\"\n",
    "    \n",
    "    def fun(self):\n",
    "        print(\"Dog is\", self.attr1)\n",
    "        print(\"Dog is\", self.attr2)\n",
    "        print(\"Dog is\", self.attr3)\n",
    "Sonu = Dog()\n",
    "print(Sonu.attr1)\n",
    "print(Sonu.attr2)\n",
    "print(Sonu.attr3)\n",
    "Sonu.fun()"
   ]
  },
  {
   "cell_type": "code",
   "execution_count": 15,
   "id": "cbffb2f3",
   "metadata": {},
   "outputs": [
    {
     "name": "stdout",
     "output_type": "stream",
     "text": [
      "Dog is Animal\n",
      "Dog is Black\n",
      "Dog is loyal\n",
      "Animal\n",
      "Black\n",
      "loyal\n"
     ]
    }
   ],
   "source": [
    "class Dog:\n",
    "    attr1 = \"Animal\"\n",
    "    attr2 = \"Black\"\n",
    "    attr3 = \"loyal\"\n",
    "    \n",
    "    def fun(self):\n",
    "        print(\"Dog is\", self.attr1)\n",
    "        print(\"Dog is\", self.attr2)\n",
    "        print(\"Dog is\", self.attr3)\n",
    "Sonu = Dog()\n",
    "Sonu.fun()\n",
    "print(Sonu.attr1)\n",
    "print(Sonu.attr2)\n",
    "print(Sonu.attr3)\n"
   ]
  },
  {
   "cell_type": "code",
   "execution_count": 16,
   "id": "3c0eb8a6",
   "metadata": {},
   "outputs": [
    {
     "name": "stdout",
     "output_type": "stream",
     "text": [
      "Dog is Animal\n",
      "Dog is Black\n",
      "Dog is loyal\n"
     ]
    }
   ],
   "source": [
    "class Dog:\n",
    "    attr1 = \"Animal\"\n",
    "    attr2 = \"Black\"\n",
    "    attr3 = \"loyal\"\n",
    "    \n",
    "    def fun(self):\n",
    "        print(\"Dog is\", self.attr1)\n",
    "        print(\"Dog is\", self.attr2)\n",
    "        print(\"Dog is\", self.attr3)\n",
    "Sonu = Dog()\n",
    "Sonu.fun()"
   ]
  },
  {
   "cell_type": "code",
   "execution_count": 17,
   "id": "a3d98d75",
   "metadata": {},
   "outputs": [],
   "source": [
    "# using with statement\n",
    "with open('file_path', 'w') as file:\n",
    "    file.write('hello world !')"
   ]
  },
  {
   "cell_type": "code",
   "execution_count": 18,
   "id": "71137853",
   "metadata": {},
   "outputs": [
    {
     "name": "stdout",
     "output_type": "stream",
     "text": [
      "120\n"
     ]
    }
   ],
   "source": [
    "import math as gfg\n",
    " \n",
    "print(gfg.factorial(5))"
   ]
  },
  {
   "cell_type": "code",
   "execution_count": 20,
   "id": "502738fe",
   "metadata": {},
   "outputs": [
    {
     "name": "stdout",
     "output_type": "stream",
     "text": [
      "3628800\n"
     ]
    }
   ],
   "source": [
    "import math as math\n",
    " \n",
    "print(math.factorial(10))"
   ]
  },
  {
   "cell_type": "code",
   "execution_count": 21,
   "id": "29dee711",
   "metadata": {},
   "outputs": [],
   "source": [
    "n = 10\n",
    "for i in range(n):\n",
    " \n",
    "    # pass can be used as placeholder\n",
    "    # when code is to added later\n",
    "    pass"
   ]
  },
  {
   "cell_type": "code",
   "execution_count": null,
   "id": "e9f45611",
   "metadata": {},
   "outputs": [],
   "source": []
  }
 ],
 "metadata": {
  "kernelspec": {
   "display_name": "Python 3 (ipykernel)",
   "language": "python",
   "name": "python3"
  },
  "language_info": {
   "codemirror_mode": {
    "name": "ipython",
    "version": 3
   },
   "file_extension": ".py",
   "mimetype": "text/x-python",
   "name": "python",
   "nbconvert_exporter": "python",
   "pygments_lexer": "ipython3",
   "version": "3.10.9"
  }
 },
 "nbformat": 4,
 "nbformat_minor": 5
}
