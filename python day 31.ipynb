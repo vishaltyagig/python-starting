{
 "cells": [
  {
   "cell_type": "markdown",
   "id": "807938a9",
   "metadata": {},
   "source": [
    "## variables"
   ]
  },
  {
   "cell_type": "code",
   "execution_count": 1,
   "id": "d18e17ae",
   "metadata": {},
   "outputs": [
    {
     "name": "stdout",
     "output_type": "stream",
     "text": [
      "The remainder when a is devided by b is 0\n"
     ]
    }
   ],
   "source": [
    "a = 45\n",
    "b = 15\n",
    "\n",
    "print(\"The remainder when a is devided by b is\", a%b)"
   ]
  },
  {
   "cell_type": "code",
   "execution_count": 2,
   "id": "b3d30348",
   "metadata": {},
   "outputs": [
    {
     "name": "stdout",
     "output_type": "stream",
     "text": [
      "The remainder when a is devided by b is 9\n"
     ]
    }
   ],
   "source": [
    "a = 459\n",
    "b = 15\n",
    "\n",
    "print(\"The remainder when a is devided by b is\", a%b)"
   ]
  },
  {
   "cell_type": "code",
   "execution_count": 4,
   "id": "62432279",
   "metadata": {},
   "outputs": [
    {
     "name": "stdout",
     "output_type": "stream",
     "text": [
      "enter a number45\n"
     ]
    }
   ],
   "source": [
    "a = input(\"enter a number\")"
   ]
  },
  {
   "cell_type": "code",
   "execution_count": 5,
   "id": "190dd888",
   "metadata": {},
   "outputs": [
    {
     "data": {
      "text/plain": [
       "str"
      ]
     },
     "execution_count": 5,
     "metadata": {},
     "output_type": "execute_result"
    }
   ],
   "source": [
    "type(a)"
   ]
  },
  {
   "cell_type": "code",
   "execution_count": 6,
   "id": "b7ceb94d",
   "metadata": {},
   "outputs": [
    {
     "name": "stdout",
     "output_type": "stream",
     "text": [
      "enter somethinghvsbvbvsobvos\n"
     ]
    }
   ],
   "source": [
    "a = input(\"enter something\")"
   ]
  },
  {
   "cell_type": "code",
   "execution_count": 7,
   "id": "84b3e7ed",
   "metadata": {},
   "outputs": [
    {
     "data": {
      "text/plain": [
       "str"
      ]
     },
     "execution_count": 7,
     "metadata": {},
     "output_type": "execute_result"
    }
   ],
   "source": [
    "type(a)"
   ]
  },
  {
   "cell_type": "code",
   "execution_count": 8,
   "id": "33873fa8",
   "metadata": {},
   "outputs": [
    {
     "name": "stdout",
     "output_type": "stream",
     "text": [
      "enter a number : 59\n"
     ]
    }
   ],
   "source": [
    "a = input(\"enter a number : \")"
   ]
  },
  {
   "cell_type": "code",
   "execution_count": 9,
   "id": "0c485b49",
   "metadata": {},
   "outputs": [
    {
     "name": "stdout",
     "output_type": "stream",
     "text": [
      "dfnodofbn\n"
     ]
    }
   ],
   "source": [
    "a= \"dfnodofbn\"\n",
    "print(a)"
   ]
  },
  {
   "cell_type": "code",
   "execution_count": 10,
   "id": "02c71e87",
   "metadata": {},
   "outputs": [
    {
     "data": {
      "text/plain": [
       "str"
      ]
     },
     "execution_count": 10,
     "metadata": {},
     "output_type": "execute_result"
    }
   ],
   "source": [
    "type(a)"
   ]
  },
  {
   "cell_type": "code",
   "execution_count": 11,
   "id": "fc6d326f",
   "metadata": {},
   "outputs": [
    {
     "name": "stdout",
     "output_type": "stream",
     "text": [
      "enter first number45\n",
      "enter second number10\n",
      "the average of a and b is 27.5\n"
     ]
    }
   ],
   "source": [
    "a = input(\"enter first number\")\n",
    "b = input(\"enter second number\")\n",
    "\n",
    "a = int(a)\n",
    "b = int(b)\n",
    "\n",
    "avg = (a+b)/2\n",
    "print(\"the average of a and b is\", avg)"
   ]
  },
  {
   "cell_type": "markdown",
   "id": "cb834081",
   "metadata": {},
   "source": [
    "## string"
   ]
  },
  {
   "cell_type": "code",
   "execution_count": 12,
   "id": "7944a619",
   "metadata": {},
   "outputs": [
    {
     "name": "stdout",
     "output_type": "stream",
     "text": [
      "34 harry\n",
      "<class 'str'>\n"
     ]
    }
   ],
   "source": [
    "a = 34\n",
    "b = \"harry\"\n",
    "print(a,b)\n",
    "print(type(b))"
   ]
  },
  {
   "cell_type": "code",
   "execution_count": 13,
   "id": "4df999cb",
   "metadata": {},
   "outputs": [
    {
     "name": "stdout",
     "output_type": "stream",
     "text": [
      "<class 'int'>\n"
     ]
    }
   ],
   "source": [
    "print(type(a))"
   ]
  },
  {
   "cell_type": "markdown",
   "id": "33ad7926",
   "metadata": {},
   "source": [
    "## slicing"
   ]
  },
  {
   "cell_type": "code",
   "execution_count": null,
   "id": "0845f2d8",
   "metadata": {},
   "outputs": [],
   "source": []
  }
 ],
 "metadata": {
  "kernelspec": {
   "display_name": "Python 3 (ipykernel)",
   "language": "python",
   "name": "python3"
  },
  "language_info": {
   "codemirror_mode": {
    "name": "ipython",
    "version": 3
   },
   "file_extension": ".py",
   "mimetype": "text/x-python",
   "name": "python",
   "nbconvert_exporter": "python",
   "pygments_lexer": "ipython3",
   "version": "3.10.9"
  }
 },
 "nbformat": 4,
 "nbformat_minor": 5
}
