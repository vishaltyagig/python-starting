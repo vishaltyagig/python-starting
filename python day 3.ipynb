{
 "cells": [
  {
   "cell_type": "code",
   "execution_count": 4,
   "id": "f4da8e91",
   "metadata": {},
   "outputs": [
    {
     "name": "stdout",
     "output_type": "stream",
     "text": [
      "enter the salary200000\n",
      "Enter yaer of service6\n",
      "10000.0\n",
      "210000.0\n"
     ]
    }
   ],
   "source": [
    "# a company decided to give bonus \n",
    "# bonus of 5% to employ\n",
    "# if his year of service is more then 5 years \n",
    "#and year of service and \n",
    "# print the net bonus amount.\n",
    "\n",
    "salary = int(input(\"enter the salary\"))\n",
    "yos = int(input(\"Enter yaer of service\"))\n",
    "if yos>5:\n",
    "    bonus = (salary*5)/100\n",
    "    print(bonus)\n",
    "    total_income = bonus+salary\n",
    "    print(total_income)\n",
    "else:\n",
    "    print(\"not bonus\")"
   ]
  },
  {
   "cell_type": "code",
   "execution_count": 6,
   "id": "74600761",
   "metadata": {},
   "outputs": [
    {
     "name": "stdout",
     "output_type": "stream",
     "text": [
      "squre\n"
     ]
    }
   ],
   "source": [
    "#take the value of length and breath of a rectangle\n",
    "#from user and check if it is squre or not.\n",
    "\n",
    "l = 2\n",
    "b = 2\n",
    "a = 2\n",
    "\n",
    "area_of_rec = l*b\n",
    "area_of_sq = a**2\n",
    "\n",
    "if area_of_rec == area_of_sq:\n",
    "    print(\"squre\")\n",
    "else:\n",
    "    print(\"rectangle\")"
   ]
  },
  {
   "cell_type": "code",
   "execution_count": 7,
   "id": "cfd310af",
   "metadata": {},
   "outputs": [
    {
     "name": "stdout",
     "output_type": "stream",
     "text": [
      "E grade\n"
     ]
    }
   ],
   "source": [
    "# a school has following rules for grading system:\n",
    "# below 25 - f\n",
    "# 25 to 45 - e\n",
    "# 45 to 50 - d\n",
    "# 50 to 60 - c\n",
    "# 60 to 80 - b\n",
    "# above to 80 - a\n",
    "# ask the user to enter marks print the correponding grade.\n",
    "\n",
    "marks = 45\n",
    "if marks > 80:\n",
    "    print(\"A grade\")\n",
    "elif marks > 60 and marks <=80:\n",
    "    print(\"B grade\")\n",
    "elif marks > 50 and marks <=60:\n",
    "    print(\"C grade\")\n",
    "elif marks > 45 and marks <=50:\n",
    "    print(\"D grade\")\n",
    "elif marks > 25 and marks <=45:\n",
    "    print(\"E grade\")\n",
    "elif marks<25:\n",
    "    print(\"F grade\")"
   ]
  },
  {
   "cell_type": "code",
   "execution_count": 9,
   "id": "d022770f",
   "metadata": {},
   "outputs": [
    {
     "name": "stdout",
     "output_type": "stream",
     "text": [
      "fizzbuzz\n"
     ]
    }
   ],
   "source": [
    "# wap to print fizz and buzz where the condition is if the no. is \n",
    "#divisivle by 3 print fizz but the no. is divivsele by 5 print buzz\n",
    "# and the no is divisivle by both 3 & 2 but not by 5.\n",
    "# then print fizzzbuzz\n",
    "\n",
    "num = 36\n",
    "if num%3 == 0 and num% 2 == 0 and num% 5 != 0:\n",
    "    print(\"fizzbuzz\")\n",
    "elif num % 3 ==0:\n",
    "    print(\"fizz\")\n",
    "elif num % 5 ==0:\n",
    "    print(\"buzz\")"
   ]
  },
  {
   "cell_type": "code",
   "execution_count": 3,
   "id": "77491aa6",
   "metadata": {},
   "outputs": [
    {
     "name": "stdout",
     "output_type": "stream",
     "text": [
      "enter the classes100\n",
      "enter the taken class75\n",
      "75.0\n",
      "allowed\n"
     ]
    }
   ],
   "source": [
    "# A student will not be allowed to sit in exam \n",
    "# if his/her attendance is less than 75%.\n",
    "# Take following input from user\n",
    "# Number of classes held\n",
    "# Number of classes attended.\n",
    "# And print\n",
    "# percentage of class attended\n",
    "# Is student is allowed to sit in exam or not.\n",
    "\n",
    "\n",
    "a = int(input(\"enter the classes\"))\n",
    "b = int(input(\"enter the taken class\"))\n",
    "percentage = (b/a)*100\n",
    "print(percentage)\n",
    "if percentage>75:\n",
    "    print(\"not allowed in exam\")\n",
    "else:\n",
    "    print(\"allowed\")"
   ]
  },
  {
   "cell_type": "code",
   "execution_count": 17,
   "id": "9cac3991",
   "metadata": {},
   "outputs": [
    {
     "name": "stdout",
     "output_type": "stream",
     "text": [
      "enter a number 1 to 106\n",
      "you are win!\n"
     ]
    }
   ],
   "source": [
    "# wap to guess the no. from th erange 1 to 10 your winning no is 6\n",
    "\n",
    "num = int(input(\"enter a number 1 to 10\"))\n",
    "if num>6:\n",
    "    print(\"use low num\")\n",
    "elif num<6:\n",
    "    print(\"use high num\")\n",
    "elif num ==6:\n",
    "    print(\"you are win!\")"
   ]
  },
  {
   "cell_type": "code",
   "execution_count": 3,
   "id": "93e5714c",
   "metadata": {},
   "outputs": [
    {
     "name": "stdout",
     "output_type": "stream",
     "text": [
      "-10\n",
      "-9\n",
      "-8\n",
      "-7\n",
      "-6\n",
      "-5\n",
      "-4\n",
      "-3\n",
      "-2\n",
      "-1\n",
      "0\n",
      "1\n",
      "2\n",
      "3\n",
      "4\n",
      "5\n",
      "6\n",
      "7\n",
      "8\n",
      "9\n",
      "10\n"
     ]
    }
   ],
   "source": [
    "for i in range(-10,11):\n",
    "    print(i)"
   ]
  },
  {
   "cell_type": "code",
   "execution_count": 5,
   "id": "b553bd7d",
   "metadata": {},
   "outputs": [
    {
     "name": "stdout",
     "output_type": "stream",
     "text": [
      "10\n",
      "9\n",
      "8\n",
      "7\n",
      "6\n",
      "5\n",
      "4\n",
      "3\n",
      "2\n",
      "1\n",
      "0\n",
      "-1\n",
      "-2\n",
      "-3\n",
      "-4\n",
      "-5\n",
      "-6\n",
      "-7\n",
      "-8\n",
      "-9\n",
      "-10\n"
     ]
    }
   ],
   "source": [
    "for i in range(10,-11,-1):\n",
    "    print(i)"
   ]
  },
  {
   "cell_type": "code",
   "execution_count": null,
   "id": "8b02d3d5",
   "metadata": {},
   "outputs": [],
   "source": []
  }
 ],
 "metadata": {
  "kernelspec": {
   "display_name": "Python 3 (ipykernel)",
   "language": "python",
   "name": "python3"
  },
  "language_info": {
   "codemirror_mode": {
    "name": "ipython",
    "version": 3
   },
   "file_extension": ".py",
   "mimetype": "text/x-python",
   "name": "python",
   "nbconvert_exporter": "python",
   "pygments_lexer": "ipython3",
   "version": "3.9.12"
  }
 },
 "nbformat": 4,
 "nbformat_minor": 5
}
