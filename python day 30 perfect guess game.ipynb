{
 "cells": [
  {
   "cell_type": "markdown",
   "id": "8bafd9f5",
   "metadata": {},
   "source": [
    "## the perfect guess game"
   ]
  },
  {
   "cell_type": "code",
   "execution_count": 14,
   "id": "0d07494b",
   "metadata": {},
   "outputs": [
    {
     "name": "stdout",
     "output_type": "stream",
     "text": [
      "87\n",
      "enter the guess: 84\n",
      "you guessed it wrong ! enter a larger number\n",
      "enter the guess: 90\n",
      "you guessed it wrong ! enter a smaller number\n",
      "enter the guess: 87\n",
      "you guessed it right! \n",
      "ypu guessed the number in 3 guesses\n"
     ]
    }
   ],
   "source": [
    "# we r write a prg that generates a random number and ask the user to guess it...\n",
    "# if the player guess is higher than the actual number, the program display \"lower num please\". similarly if the user's guess\n",
    "# is too low, the program prints \"higher num please\"\n",
    "# when the user guess the correct num, the program display the number of guesses the player used to arrive at the number\n",
    "\n",
    "\n",
    "import random\n",
    "randnumber = random.randint(1,100)\n",
    "print(randnumber)\n",
    "userguess = None\n",
    "guesses = 0\n",
    "\n",
    "while(userguess != randnumber):\n",
    "    userguess = int(input(\"enter the guess: \"))\n",
    "    guesses += 1\n",
    "    if(userguess == randnumber):\n",
    "        print(\"you guessed it right! \")\n",
    "    else:\n",
    "        if(userguess > randnumber):\n",
    "            print(\"you guessed it wrong ! enter a smaller number\")\n",
    "        else:\n",
    "            print(\"you guessed it wrong ! enter a larger number\")\n",
    "            \n",
    "print(f\"ypu guessed the number in {guesses} guesses\")"
   ]
  },
  {
   "cell_type": "code",
   "execution_count": 13,
   "id": "2c56dd74",
   "metadata": {},
   "outputs": [
    {
     "name": "stdout",
     "output_type": "stream",
     "text": [
      "enter the guess: 54\n",
      "you guessed it wrong ! enter a larger number\n",
      "enter the guess: 84\n",
      "you guessed it wrong ! enter a smaller number\n",
      "enter the guess: 74\n",
      "you guessed it wrong ! enter a larger number\n",
      "enter the guess: 80\n",
      "you guessed it wrong ! enter a smaller number\n",
      "enter the guess: 79\n",
      "you guessed it wrong ! enter a smaller number\n",
      "enter the guess: 78\n",
      "you guessed it right! \n",
      "ypu guessed the number in 6 guesses\n",
      "you have just broken the high score!\n"
     ]
    }
   ],
   "source": [
    "import random\n",
    "randnumber = random.randint(1,100)\n",
    "userguess = None\n",
    "guesses = 0\n",
    "\n",
    "while(userguess != randnumber):\n",
    "    userguess = int(input(\"enter the guess: \"))\n",
    "    guesses += 1\n",
    "    if(userguess == randnumber):\n",
    "        print(\"you guessed it right! \")\n",
    "    else:\n",
    "        if(userguess > randnumber):\n",
    "            print(\"you guessed it wrong ! enter a smaller number\")\n",
    "        else:\n",
    "            print(\"you guessed it wrong ! enter a larger number\")\n",
    "            \n",
    "print(f\"ypu guessed the number in {guesses} guesses\")\n",
    "\n",
    "with open(\"hiscore2.txt\",\"r\") as f:\n",
    "    hiscore = int(f.read())\n",
    "    \n",
    "if(guesses < hiscore):\n",
    "    print(\"you have just broken the high score!\")\n",
    "    \n",
    "    with open(\"hiscore2.txt\", \"w\") as f:\n",
    "        f.write(str(guesses))"
   ]
  },
  {
   "cell_type": "code",
   "execution_count": null,
   "id": "3115bf8c",
   "metadata": {},
   "outputs": [],
   "source": []
  }
 ],
 "metadata": {
  "kernelspec": {
   "display_name": "Python 3 (ipykernel)",
   "language": "python",
   "name": "python3"
  },
  "language_info": {
   "codemirror_mode": {
    "name": "ipython",
    "version": 3
   },
   "file_extension": ".py",
   "mimetype": "text/x-python",
   "name": "python",
   "nbconvert_exporter": "python",
   "pygments_lexer": "ipython3",
   "version": "3.10.9"
  }
 },
 "nbformat": 4,
 "nbformat_minor": 5
}
