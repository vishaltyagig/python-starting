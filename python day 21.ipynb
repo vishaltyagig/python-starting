{
 "cells": [
  {
   "cell_type": "markdown",
   "id": "ad72d138",
   "metadata": {},
   "source": [
    "## Recursion"
   ]
  },
  {
   "cell_type": "code",
   "execution_count": 2,
   "id": "e8baf2fa",
   "metadata": {},
   "outputs": [
    {
     "name": "stdout",
     "output_type": "stream",
     "text": [
      "120\n"
     ]
    }
   ],
   "source": [
    "n = 5\n",
    "product = 1\n",
    "for i in range(n):\n",
    "    product = product * (i+1)\n",
    "print(product)"
   ]
  },
  {
   "cell_type": "code",
   "execution_count": 4,
   "id": "946bafbd",
   "metadata": {},
   "outputs": [
    {
     "name": "stdout",
     "output_type": "stream",
     "text": [
      "120\n"
     ]
    }
   ],
   "source": [
    "def factorial_iter(n):\n",
    "    product = 1\n",
    "    for i in range(n):\n",
    "        product = product * (i+1)\n",
    "    return product\n",
    "\n",
    "print(factorial_iter(5))"
   ]
  },
  {
   "cell_type": "code",
   "execution_count": 5,
   "id": "f9db2121",
   "metadata": {},
   "outputs": [
    {
     "name": "stdout",
     "output_type": "stream",
     "text": [
      "120\n"
     ]
    }
   ],
   "source": [
    "def factorial_iter(n):\n",
    "    product = 1\n",
    "    for i in range(n):\n",
    "        product = product * (i+1)\n",
    "    return product\n",
    "\n",
    "f = factorial_iter(5)\n",
    "print(f)"
   ]
  },
  {
   "cell_type": "code",
   "execution_count": 6,
   "id": "24c7a090",
   "metadata": {},
   "outputs": [
    {
     "name": "stdout",
     "output_type": "stream",
     "text": [
      "120\n"
     ]
    }
   ],
   "source": [
    "def factorial_iter(n):\n",
    "    product = 1\n",
    "    for i in range(n):\n",
    "        product = product * (i+1)\n",
    "    return product\n",
    "\n",
    "def factorial_recursive(n):\n",
    "    if n == 1 or n == 0:\n",
    "        return 1\n",
    "    return n * factorial_recursive(n-1)\n",
    "\n",
    "f = factorial_recursive(5)\n",
    "print(f)"
   ]
  },
  {
   "cell_type": "code",
   "execution_count": null,
   "id": "a3a7ad38",
   "metadata": {},
   "outputs": [],
   "source": []
  }
 ],
 "metadata": {
  "kernelspec": {
   "display_name": "Python 3 (ipykernel)",
   "language": "python",
   "name": "python3"
  },
  "language_info": {
   "codemirror_mode": {
    "name": "ipython",
    "version": 3
   },
   "file_extension": ".py",
   "mimetype": "text/x-python",
   "name": "python",
   "nbconvert_exporter": "python",
   "pygments_lexer": "ipython3",
   "version": "3.10.9"
  }
 },
 "nbformat": 4,
 "nbformat_minor": 5
}
