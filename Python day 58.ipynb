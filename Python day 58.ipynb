{
 "cells": [
  {
   "cell_type": "markdown",
   "id": "6194d1e9",
   "metadata": {},
   "source": [
    "# DSA"
   ]
  },
  {
   "cell_type": "code",
   "execution_count": 1,
   "id": "f2ea227a",
   "metadata": {},
   "outputs": [
    {
     "name": "stdout",
     "output_type": "stream",
     "text": [
      "In feb this much extra was spent compared to jan: 150\n"
     ]
    }
   ],
   "source": [
    "# 1. Let us say your expense for every month are listed below,\n",
    "# \t1. January -  2200\n",
    "#  \t2. February - 2350\n",
    "#     3. March - 2600\n",
    "#     4. April - 2130\n",
    "#     5. May - 2190\n",
    "#\n",
    "# Create a list to store these monthly expenses and using that find out,\n",
    "#\n",
    "# 1. In Feb, how many dollars you spent extra compare to January?\n",
    "# 2. Find out your total expense in first quarter (first three months) of the year.\n",
    "# 3. Find out if you spent exactly 2000 dollars in any month\n",
    "# 4. June month just finished and your expense is 1980 dollar. Add this item to our monthly expense list\n",
    "# 5. You returned an item that you bought in a month of April and\n",
    "# got a refund of 200$. Make a correction to your monthly expense list\n",
    "# based on this\n",
    "\n",
    "exp = [2200,2350,2600,2130,2190]\n",
    "\n",
    "# 1. In Feb, how many dollars you spent extra compare to January?\n",
    "print(\"In feb this much extra was spent compared to jan:\",exp[1]-exp[0]) # 150"
   ]
  },
  {
   "cell_type": "code",
   "execution_count": 2,
   "id": "63c73093",
   "metadata": {},
   "outputs": [
    {
     "name": "stdout",
     "output_type": "stream",
     "text": [
      "Expense for first quarter: 7150\n"
     ]
    }
   ],
   "source": [
    "# 2. Find out your total expense in first quarter (first three months) of the year\n",
    "print(\"Expense for first quarter:\",exp[0]+exp[1]+exp[2]) # 7150\n"
   ]
  },
  {
   "cell_type": "code",
   "execution_count": 3,
   "id": "d623b64b",
   "metadata": {},
   "outputs": [
    {
     "name": "stdout",
     "output_type": "stream",
     "text": [
      "Did I spent 2000$ in any month?  False\n"
     ]
    }
   ],
   "source": [
    "# 3. Find out if you spent exactly 2000 dollars in any month\n",
    "print(\"Did I spent 2000$ in any month? \", 2000 in exp) # False"
   ]
  },
  {
   "cell_type": "code",
   "execution_count": 4,
   "id": "e12047cf",
   "metadata": {},
   "outputs": [
    {
     "name": "stdout",
     "output_type": "stream",
     "text": [
      "Expenses at the end of June: [2200, 2350, 2600, 2130, 2190, 1980]\n"
     ]
    }
   ],
   "source": [
    "# 4. June month just finished and your expense is 1980 dollar. Add this item to our monthly expense list\n",
    "exp.append(1980)\n",
    "print(\"Expenses at the end of June:\",exp) # [2200, 2350, 2600, 2130, 2190, 1980]"
   ]
  },
  {
   "cell_type": "code",
   "execution_count": 5,
   "id": "5052d3ec",
   "metadata": {},
   "outputs": [
    {
     "name": "stdout",
     "output_type": "stream",
     "text": [
      "Expenses after 200$ return in April: [2200, 2350, 2600, 1930, 2190, 1980]\n"
     ]
    }
   ],
   "source": [
    "# 5. You returned an item that you bought in a month of April and\n",
    "# got a refund of 200$. Make a correction to your monthly expense list\n",
    "# based on this\n",
    "exp[3] = exp[3] - 200\n",
    "print(\"Expenses after 200$ return in April:\",exp) # [2200, 2350, 2600, 1930, 2190, 1980]"
   ]
  },
  {
   "cell_type": "code",
   "execution_count": 6,
   "id": "3188b979",
   "metadata": {},
   "outputs": [
    {
     "name": "stdout",
     "output_type": "stream",
     "text": [
      "5\n"
     ]
    }
   ],
   "source": [
    "# 2. You have a list of your favourite marvel super heros\n",
    "# heros=['spider man','thor','hulk','iron man','captain america']\n",
    "# Using this list\n",
    "\n",
    "heros=['spider man','thor','hulk','iron man','captain america']\n",
    "# 1. Length of the list\n",
    "print(len(heros))"
   ]
  },
  {
   "cell_type": "code",
   "execution_count": 7,
   "id": "edb6bf16",
   "metadata": {},
   "outputs": [
    {
     "name": "stdout",
     "output_type": "stream",
     "text": [
      "['spider man', 'thor', 'hulk', 'iron man', 'captain america', 'black panther']\n"
     ]
    }
   ],
   "source": [
    "# 2. Add 'black panther' at the end of this list\n",
    "heros.append('black panther')\n",
    "print(heros)"
   ]
  },
  {
   "cell_type": "code",
   "execution_count": 8,
   "id": "ebeecd63",
   "metadata": {},
   "outputs": [
    {
     "name": "stdout",
     "output_type": "stream",
     "text": [
      "['spider man', 'thor', 'hulk', 'black panther', 'iron man', 'captain america']\n"
     ]
    }
   ],
   "source": [
    "# 3. You realize that you need to add 'black panther' after 'hulk',\n",
    "# so remove it from the list first and then add it after 'hulk'\n",
    "heros.remove('black panther')\n",
    "heros.insert(3,'black panther')\n",
    "print(heros)"
   ]
  },
  {
   "cell_type": "code",
   "execution_count": 9,
   "id": "4a3274ee",
   "metadata": {},
   "outputs": [
    {
     "name": "stdout",
     "output_type": "stream",
     "text": [
      "['spider man', 'doctor strange', 'black panther', 'iron man', 'captain america']\n",
      "['black panther', 'captain america', 'doctor strange', 'iron man', 'spider man']\n"
     ]
    }
   ],
   "source": [
    "# 4. Now you don't like thor and hulk because they get angry easily :)\n",
    "#    So you want to remove thor and hulk from list and replace them with doctor strange (because he is cool).\n",
    "#    Do that with one line of code.\n",
    "heros[1:3]=['doctor strange']\n",
    "print(heros)\n",
    "# 5. Sort the list in alphabetical order\n",
    "heros.sort()\n",
    "print(heros)"
   ]
  },
  {
   "cell_type": "code",
   "execution_count": null,
   "id": "445b4ed1",
   "metadata": {},
   "outputs": [],
   "source": []
  }
 ],
 "metadata": {
  "kernelspec": {
   "display_name": "Python 3 (ipykernel)",
   "language": "python",
   "name": "python3"
  },
  "language_info": {
   "codemirror_mode": {
    "name": "ipython",
    "version": 3
   },
   "file_extension": ".py",
   "mimetype": "text/x-python",
   "name": "python",
   "nbconvert_exporter": "python",
   "pygments_lexer": "ipython3",
   "version": "3.10.9"
  }
 },
 "nbformat": 4,
 "nbformat_minor": 5
}
