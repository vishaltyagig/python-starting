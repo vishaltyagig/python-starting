{
 "cells": [
  {
   "cell_type": "code",
   "execution_count": 1,
   "id": "3e848c59",
   "metadata": {},
   "outputs": [
    {
     "name": "stdout",
     "output_type": "stream",
     "text": [
      "0\n",
      "1\n",
      "2\n",
      "3\n",
      "4\n"
     ]
    }
   ],
   "source": [
    "for step in range(5):     \n",
    "   print(step)"
   ]
  },
  {
   "cell_type": "code",
   "execution_count": 6,
   "id": "1f4480a7",
   "metadata": {},
   "outputs": [
    {
     "name": "stdout",
     "output_type": "stream",
     "text": [
      "0\n",
      "1\n",
      "2\n",
      "3\n",
      "4\n"
     ]
    }
   ],
   "source": [
    "for step in range(5):\n",
    "    print(step)"
   ]
  },
  {
   "cell_type": "code",
   "execution_count": 7,
   "id": "32e7dd4a",
   "metadata": {},
   "outputs": [
    {
     "name": "stdout",
     "output_type": "stream",
     "text": [
      "0\n",
      "1\n",
      "2\n",
      "3\n",
      "4\n"
     ]
    }
   ],
   "source": [
    "step=0\n",
    "while (step<5):\n",
    "    print(step)\n",
    "    step= step+1"
   ]
  },
  {
   "cell_type": "code",
   "execution_count": 8,
   "id": "2f5d8bf6",
   "metadata": {},
   "outputs": [
    {
     "name": "stdout",
     "output_type": "stream",
     "text": [
      "0\n",
      "1\n",
      "2\n",
      "3\n",
      "4\n"
     ]
    }
   ],
   "source": [
    "# while loop\n",
    "\n",
    "step=0\n",
    "while (step<5):\n",
    "    print (step)\n",
    "    step = step+1\n"
   ]
  },
  {
   "cell_type": "code",
   "execution_count": 2,
   "id": "02282194",
   "metadata": {},
   "outputs": [
    {
     "name": "stdout",
     "output_type": "stream",
     "text": [
      "0\n",
      "1\n",
      "2\n",
      "3\n",
      "4\n"
     ]
    }
   ],
   "source": [
    "step = 0\n",
    "while(step < 5): \n",
    "    print(step) \n",
    "    step = step+1"
   ]
  },
  {
   "cell_type": "code",
   "execution_count": 3,
   "id": "1cb901a3",
   "metadata": {},
   "outputs": [
    {
     "name": "stdout",
     "output_type": "stream",
     "text": [
      "85.0\n"
     ]
    }
   ],
   "source": [
    "# math module \n",
    "import math \n",
    "   \n",
    "def Main(): \n",
    "   num = -85\n",
    "   \n",
    "   # fabs is used to get the absolute  \n",
    "   # value of a decimal \n",
    "   num = math.fabs(num) \n",
    "   print(num) \n",
    "       \n",
    "       \n",
    "if __name__==\"__main__\": \n",
    "   Main()"
   ]
  },
  {
   "cell_type": "code",
   "execution_count": 5,
   "id": "d20460e5",
   "metadata": {},
   "outputs": [
    {
     "name": "stdout",
     "output_type": "stream",
     "text": [
      "85.0\n"
     ]
    }
   ],
   "source": [
    "import math\n",
    "\n",
    "def main():\n",
    "    num = -85\n",
    "    num = math.fabs(num)\n",
    "    print(num)\n",
    "    \n",
    "if __name__==\"__main__\":\n",
    "    main()"
   ]
  },
  {
   "cell_type": "code",
   "execution_count": null,
   "id": "c8bc825d",
   "metadata": {},
   "outputs": [],
   "source": []
  }
 ],
 "metadata": {
  "kernelspec": {
   "display_name": "Python 3 (ipykernel)",
   "language": "python",
   "name": "python3"
  },
  "language_info": {
   "codemirror_mode": {
    "name": "ipython",
    "version": 3
   },
   "file_extension": ".py",
   "mimetype": "text/x-python",
   "name": "python",
   "nbconvert_exporter": "python",
   "pygments_lexer": "ipython3",
   "version": "3.10.9"
  }
 },
 "nbformat": 4,
 "nbformat_minor": 5
}
