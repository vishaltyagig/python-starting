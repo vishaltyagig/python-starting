{
 "cells": [
  {
   "cell_type": "markdown",
   "id": "4dd1fe49",
   "metadata": {},
   "source": [
    "## conditional expression"
   ]
  },
  {
   "cell_type": "code",
   "execution_count": 1,
   "id": "8dfcee7d",
   "metadata": {},
   "outputs": [
    {
     "name": "stdout",
     "output_type": "stream",
     "text": [
      "The value of a is greater than 3\n"
     ]
    }
   ],
   "source": [
    "a  = 45\n",
    "if(a>3):\n",
    "    print(\"The value of a is greater than 3\")\n",
    "elif(a>7):\n",
    "    print(\"The value of a is greater than 7\")\n",
    "else:\n",
    "    print(\"the value is not greater than 3 or 7\")"
   ]
  },
  {
   "cell_type": "code",
   "execution_count": 2,
   "id": "677f8aee",
   "metadata": {},
   "outputs": [
    {
     "name": "stdout",
     "output_type": "stream",
     "text": [
      "greater\n"
     ]
    }
   ],
   "source": [
    "a = 22\n",
    "if (a>9):\n",
    "    print(\"greater\")\n",
    "else:\n",
    "    print(\"lesser\")"
   ]
  },
  {
   "cell_type": "code",
   "execution_count": 5,
   "id": "9d7a2bf1",
   "metadata": {},
   "outputs": [
    {
     "name": "stdout",
     "output_type": "stream",
     "text": [
      "enter your age18\n",
      "yes\n"
     ]
    }
   ],
   "source": [
    "age = int(input(\"enter your age\"))\n",
    "if (age>=18):\n",
    "    print(\"yes\")\n",
    "else:\n",
    "    print(\"no\")"
   ]
  },
  {
   "cell_type": "code",
   "execution_count": 10,
   "id": "6b9896b4",
   "metadata": {},
   "outputs": [
    {
     "name": "stdout",
     "output_type": "stream",
     "text": [
      "Enter a number: 34\n",
      "Enter a number: 54\n",
      "Enter a number: 55\n",
      "Enter a number: 45\n",
      "55 is greatest\n"
     ]
    }
   ],
   "source": [
    "# wap to find greatest of four numbers entered by the user\n",
    "\n",
    "num1 = int(input(\"Enter a number: \"))\n",
    "num2 = int(input(\"Enter a number: \"))\n",
    "num3 = int(input(\"Enter a number: \"))\n",
    "num4 = int(input(\"Enter a number: \"))\n",
    "\n",
    "if (num1>num4):\n",
    "    f1 = num1\n",
    "else:\n",
    "    f1 = num4\n",
    "    \n",
    "if (num2>num3):\n",
    "    f2 = num2\n",
    "else:\n",
    "    f2 = num3\n",
    "    \n",
    "if (f1>f2):\n",
    "    print(str(f1) + \" is greatest\")\n",
    "else:\n",
    "    print(str(f2) + \" is greatest\")"
   ]
  },
  {
   "cell_type": "code",
   "execution_count": 13,
   "id": "6572b014",
   "metadata": {},
   "outputs": [
    {
     "name": "stdout",
     "output_type": "stream",
     "text": [
      "enter the marks98\n",
      "enter the marks68\n",
      "enter the marks87\n",
      "congatulation! you passed the exam\n"
     ]
    }
   ],
   "source": [
    "# wap to find out weather a student is pass or fail if it requires total 40% and at least 33% in each subject to pass. \n",
    "# assume 3 subjects and take marks from the user\n",
    "\n",
    "sub1 = int(input(\"enter the marks\"))\n",
    "sub2 = int(input(\"enter the marks\"))\n",
    "sub3 = int(input(\"enter the marks\"))\n",
    "\n",
    "if (sub1<33 or sub2<33 or sub3<33):\n",
    "    print(\"you are fail bcz u have less then 33% marks\")\n",
    "    \n",
    "elif(sub1+sub2+sub3)/3 < 40:\n",
    "    print(\"you r fail bcz ur total percentage is less than 40%\")\n",
    "    \n",
    "else:\n",
    "    print(\"congatulation! you passed the exam\")"
   ]
  },
  {
   "cell_type": "code",
   "execution_count": null,
   "id": "854bba87",
   "metadata": {},
   "outputs": [],
   "source": [
    "# a spam comment is defineded as a text containing following keywords"
   ]
  }
 ],
 "metadata": {
  "kernelspec": {
   "display_name": "Python 3 (ipykernel)",
   "language": "python",
   "name": "python3"
  },
  "language_info": {
   "codemirror_mode": {
    "name": "ipython",
    "version": 3
   },
   "file_extension": ".py",
   "mimetype": "text/x-python",
   "name": "python",
   "nbconvert_exporter": "python",
   "pygments_lexer": "ipython3",
   "version": "3.10.9"
  }
 },
 "nbformat": 4,
 "nbformat_minor": 5
}
