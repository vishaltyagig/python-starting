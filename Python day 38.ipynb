{
 "cells": [
  {
   "cell_type": "code",
   "execution_count": 1,
   "id": "17f0a07c",
   "metadata": {},
   "outputs": [
    {
     "name": "stdout",
     "output_type": "stream",
     "text": [
      "45\n"
     ]
    }
   ],
   "source": [
    "# Return keyword\n",
    "def fun():\n",
    "    S = 0\n",
    " \n",
    "    for i in range(10):\n",
    "        S += i\n",
    "    return S\n",
    " \n",
    "print(fun())\n",
    " \n"
   ]
  },
  {
   "cell_type": "code",
   "execution_count": 2,
   "id": "d2f6ad30",
   "metadata": {},
   "outputs": [
    {
     "name": "stdout",
     "output_type": "stream",
     "text": [
      "0\n",
      "1\n",
      "3\n",
      "6\n",
      "10\n",
      "15\n",
      "21\n",
      "28\n",
      "36\n",
      "45\n"
     ]
    }
   ],
   "source": [
    "# Yield Keyword\n",
    " \n",
    "def fun():\n",
    "    S = 0\n",
    " \n",
    "    for i in range(10):\n",
    "        S += i\n",
    "        yield S\n",
    " \n",
    " \n",
    "for i in fun():\n",
    "    print(i)"
   ]
  },
  {
   "cell_type": "code",
   "execution_count": 3,
   "id": "1d7c07be",
   "metadata": {},
   "outputs": [
    {
     "name": "stdout",
     "output_type": "stream",
     "text": [
      "55\n"
     ]
    }
   ],
   "source": [
    "# Return keyword\n",
    "def fun():\n",
    "    S = 0\n",
    " \n",
    "    for i in range(11):\n",
    "        S += i\n",
    "    return S\n",
    " \n",
    "print(fun())\n",
    " \n"
   ]
  },
  {
   "cell_type": "code",
   "execution_count": 4,
   "id": "41f2ef14",
   "metadata": {},
   "outputs": [
    {
     "name": "stdout",
     "output_type": "stream",
     "text": [
      "55\n"
     ]
    }
   ],
   "source": [
    "def fun():\n",
    "    S = 0\n",
    "    for i in range(11):\n",
    "        S += i\n",
    "    return S\n",
    "print(fun())"
   ]
  },
  {
   "cell_type": "code",
   "execution_count": 13,
   "id": "cbd0e0e5",
   "metadata": {},
   "outputs": [
    {
     "name": "stdout",
     "output_type": "stream",
     "text": [
      "Enter a number5\n",
      "15\n"
     ]
    }
   ],
   "source": [
    "num = int(input(\"Enter a number\"))\n",
    "    #w = 0\n",
    "for i in range(num):\n",
    "    num += i\n",
    "    #return num\n",
    "print(num)"
   ]
  },
  {
   "cell_type": "code",
   "execution_count": 14,
   "id": "e8fec311",
   "metadata": {},
   "outputs": [
    {
     "name": "stdout",
     "output_type": "stream",
     "text": [
      "Enter a number10\n",
      "55\n"
     ]
    }
   ],
   "source": [
    "num = int(input(\"Enter a number\"))\n",
    "for i in range(num):\n",
    "    num += i\n",
    "print(num)"
   ]
  },
  {
   "cell_type": "code",
   "execution_count": 17,
   "id": "fe0b458c",
   "metadata": {},
   "outputs": [
    {
     "name": "stdout",
     "output_type": "stream",
     "text": [
      "Enter a number:- 9\n",
      "45\n"
     ]
    }
   ],
   "source": [
    "num = int(input(\"Enter a number:- \"))\n",
    "    #w = 0\n",
    "for i in range(num):\n",
    "    num += i\n",
    "    #return num\n",
    "print(num)"
   ]
  },
  {
   "cell_type": "code",
   "execution_count": 18,
   "id": "8c470786",
   "metadata": {},
   "outputs": [
    {
     "name": "stdout",
     "output_type": "stream",
     "text": [
      "3628800\n",
      "3628800\n"
     ]
    }
   ],
   "source": [
    "# import keyword\n",
    "from math import factorial\n",
    "import math\n",
    "print(math.factorial(10))\n",
    " \n",
    "# from keyword\n",
    "print(factorial(10))"
   ]
  },
  {
   "cell_type": "code",
   "execution_count": 2,
   "id": "9ed77ecc",
   "metadata": {},
   "outputs": [
    {
     "name": "stdout",
     "output_type": "stream",
     "text": [
      "3628800\n"
     ]
    }
   ],
   "source": [
    "# from keyword\n",
    "from math import factorial\n",
    "print(factorial(10))"
   ]
  },
  {
   "cell_type": "code",
   "execution_count": 4,
   "id": "6ea67877",
   "metadata": {},
   "outputs": [
    {
     "name": "stdout",
     "output_type": "stream",
     "text": [
      "3628800\n"
     ]
    }
   ],
   "source": [
    "# import keyword\n",
    "\n",
    "import math\n",
    "print(math.factorial(10))"
   ]
  },
  {
   "cell_type": "code",
   "execution_count": 5,
   "id": "279cc1e0",
   "metadata": {},
   "outputs": [
    {
     "name": "stdout",
     "output_type": "stream",
     "text": [
      "120\n"
     ]
    }
   ],
   "source": [
    "# import keyword\n",
    "\n",
    "import math\n",
    "print(math.factorial(5))"
   ]
  },
  {
   "cell_type": "code",
   "execution_count": 8,
   "id": "bc07dffc",
   "metadata": {},
   "outputs": [
    {
     "name": "stdout",
     "output_type": "stream",
     "text": [
      "Can't divide by zero\n",
      "This is always executed\n",
      "The value of a / b is : \n"
     ]
    },
    {
     "ename": "AssertionError",
     "evalue": "Divide by 0 error",
     "output_type": "error",
     "traceback": [
      "\u001b[1;31m---------------------------------------------------------------------------\u001b[0m",
      "\u001b[1;31mAssertionError\u001b[0m                            Traceback (most recent call last)",
      "Cell \u001b[1;32mIn[8], line 14\u001b[0m\n\u001b[0;32m     11\u001b[0m     \u001b[38;5;28mprint\u001b[39m(\u001b[38;5;124m'\u001b[39m\u001b[38;5;124mThis is always executed\u001b[39m\u001b[38;5;124m'\u001b[39m)\n\u001b[0;32m     13\u001b[0m     \u001b[38;5;28mprint\u001b[39m(\u001b[38;5;124m\"\u001b[39m\u001b[38;5;124mThe value of a / b is : \u001b[39m\u001b[38;5;124m\"\u001b[39m)\n\u001b[1;32m---> 14\u001b[0m \u001b[38;5;28;01massert\u001b[39;00m b \u001b[38;5;241m!=\u001b[39m \u001b[38;5;241m0\u001b[39m, \u001b[38;5;124m\"\u001b[39m\u001b[38;5;124mDivide by 0 error\u001b[39m\u001b[38;5;124m\"\u001b[39m\n\u001b[0;32m     15\u001b[0m \u001b[38;5;28mprint\u001b[39m(a \u001b[38;5;241m/\u001b[39m b)\n\u001b[0;32m     17\u001b[0m temp \u001b[38;5;241m=\u001b[39m \u001b[38;5;124m\"\u001b[39m\u001b[38;5;124mgeeks for geeks\u001b[39m\u001b[38;5;124m\"\u001b[39m\n",
      "\u001b[1;31mAssertionError\u001b[0m: Divide by 0 error"
     ]
    }
   ],
   "source": [
    "#try, except, raise, finally, and assert Keywords\n",
    "a = 4\n",
    "b = 0\n",
    "try:\n",
    "    k = a//b\n",
    "    print(k)\n",
    "except ZeroDivisionError:\n",
    "    print(\"Can't divide by zero\")\n",
    "    \n",
    "finally:\n",
    "    print('This is always executed')\n",
    " \n",
    "    print(\"The value of a / b is : \")\n",
    "assert b != 0, \"Divide by 0 error\"\n",
    "print(a / b)\n",
    " \n",
    "temp = \"geeks for geeks\"\n",
    "if temp != \"geeks\":\n",
    "    raise TypeError(\"Both the strings are different.\")"
   ]
  },
  {
   "cell_type": "code",
   "execution_count": 10,
   "id": "acf53b87",
   "metadata": {},
   "outputs": [
    {
     "ename": "TypeError",
     "evalue": "Both the strings are different.",
     "output_type": "error",
     "traceback": [
      "\u001b[1;31m---------------------------------------------------------------------------\u001b[0m",
      "\u001b[1;31mTypeError\u001b[0m                                 Traceback (most recent call last)",
      "Cell \u001b[1;32mIn[10], line 3\u001b[0m\n\u001b[0;32m      1\u001b[0m temp \u001b[38;5;241m=\u001b[39m \u001b[38;5;124m\"\u001b[39m\u001b[38;5;124mgeeks for geeks\u001b[39m\u001b[38;5;124m\"\u001b[39m\n\u001b[0;32m      2\u001b[0m \u001b[38;5;28;01mif\u001b[39;00m temp \u001b[38;5;241m!=\u001b[39m \u001b[38;5;124m\"\u001b[39m\u001b[38;5;124mgeeks\u001b[39m\u001b[38;5;124m\"\u001b[39m:\n\u001b[1;32m----> 3\u001b[0m     \u001b[38;5;28;01mraise\u001b[39;00m \u001b[38;5;167;01mTypeError\u001b[39;00m(\u001b[38;5;124m\"\u001b[39m\u001b[38;5;124mBoth the strings are different.\u001b[39m\u001b[38;5;124m\"\u001b[39m)\n",
      "\u001b[1;31mTypeError\u001b[0m: Both the strings are different."
     ]
    }
   ],
   "source": [
    "temp = \"geeks for geeks\"\n",
    "if temp != \"geeks\":\n",
    "    raise TypeError(\"Both the strings are different.\")"
   ]
  },
  {
   "cell_type": "code",
   "execution_count": 11,
   "id": "2ceaa5d4",
   "metadata": {},
   "outputs": [],
   "source": [
    "temp = \"geeks for geeks\"\n",
    "if temp != \"geeks for geeks\":\n",
    "    raise TypeError(\"Both the strings are different.\")"
   ]
  },
  {
   "cell_type": "code",
   "execution_count": null,
   "id": "50ae1b31",
   "metadata": {},
   "outputs": [],
   "source": []
  }
 ],
 "metadata": {
  "kernelspec": {
   "display_name": "Python 3 (ipykernel)",
   "language": "python",
   "name": "python3"
  },
  "language_info": {
   "codemirror_mode": {
    "name": "ipython",
    "version": 3
   },
   "file_extension": ".py",
   "mimetype": "text/x-python",
   "name": "python",
   "nbconvert_exporter": "python",
   "pygments_lexer": "ipython3",
   "version": "3.10.9"
  }
 },
 "nbformat": 4,
 "nbformat_minor": 5
}
