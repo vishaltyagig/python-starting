{
 "cells": [
  {
   "cell_type": "code",
   "execution_count": 4,
   "id": "d21041c3",
   "metadata": {},
   "outputs": [
    {
     "name": "stdout",
     "output_type": "stream",
     "text": [
      "Enter the number5\n",
      "the sum is  15\n"
     ]
    }
   ],
   "source": [
    "# wap to find the sum of first n natural numbers using while loop\n",
    "num = int(input(\"Enter the number\"))\n",
    "\n",
    "if num <0:\n",
    "    print(\"Enter a positive number\")\n",
    "else:\n",
    "    sum = 0\n",
    "    while(num > 0):\n",
    "        sum += num\n",
    "        num -= 1\n",
    "    print(\"the sum is \", sum)"
   ]
  },
  {
   "cell_type": "code",
   "execution_count": 5,
   "id": "b102e0d5",
   "metadata": {},
   "outputs": [
    {
     "name": "stdout",
     "output_type": "stream",
     "text": [
      "Enter a number : 4\n",
      "The factorial of 4 number is 24\n"
     ]
    }
   ],
   "source": [
    "# wap to calculate the factorial of a given number using for loop \n",
    "\n",
    "# n! = 1 x 2 x 3 x 4 x 5. . . . . . . x n\n",
    "\n",
    "num = int(input(\"Enter a number : \"))\n",
    "factorial = 1\n",
    "for i in range(1, num+1):\n",
    "    factorial = factorial * i\n",
    "print(f\"The factorial of {num} number is {factorial}\") # in this line i use f-string"
   ]
  },
  {
   "cell_type": "code",
   "execution_count": 6,
   "id": "f305ba9c",
   "metadata": {},
   "outputs": [
    {
     "name": "stdout",
     "output_type": "stream",
     "text": [
      "\n",
      "*\n",
      "**\n",
      "***\n"
     ]
    }
   ],
   "source": [
    "# wap to print the star pattern \n",
    "#   *\n",
    "#   ** \n",
    "#   ***\n",
    "\n",
    "n = 4\n",
    "\n",
    "for i in range(4):\n",
    "    print(\"*\" * i)"
   ]
  },
  {
   "cell_type": "code",
   "execution_count": 7,
   "id": "2520a5af",
   "metadata": {},
   "outputs": [
    {
     "name": "stdout",
     "output_type": "stream",
     "text": [
      "*\n",
      "**\n",
      "***\n",
      "****\n"
     ]
    }
   ],
   "source": [
    "n = 4\n",
    "\n",
    "for i in range(4): # bcz range is starts with 0 \n",
    "    print(\"*\" * (i+1))"
   ]
  },
  {
   "cell_type": "code",
   "execution_count": 8,
   "id": "2700c7f1",
   "metadata": {},
   "outputs": [
    {
     "name": "stdout",
     "output_type": "stream",
     "text": [
      "  *  \n",
      " *** \n",
      "*****\n"
     ]
    }
   ],
   "source": [
    "# wap to print the star pattern \n",
    "#     *\n",
    "#    *** \n",
    "#   *****\n",
    "\n",
    "n = 3\n",
    "for i in range(3):\n",
    "    print(\" \" * (n-i-1), end=\"\")\n",
    "    print(\"*\" * (2*i+1), end=\"\")\n",
    "    print(\" \" * (n-i-1))"
   ]
  },
  {
   "cell_type": "code",
   "execution_count": 9,
   "id": "e6381084",
   "metadata": {},
   "outputs": [
    {
     "name": "stdout",
     "output_type": "stream",
     "text": [
      "Enter the table: 9\n",
      "Enter the ending : 10\n",
      "10 * 9 = 90\n",
      "9 * 9 = 81\n",
      "8 * 9 = 72\n",
      "7 * 9 = 63\n",
      "6 * 9 = 54\n",
      "5 * 9 = 45\n",
      "4 * 9 = 36\n",
      "3 * 9 = 27\n",
      "2 * 9 = 18\n",
      "1 * 9 = 9\n"
     ]
    }
   ],
   "source": [
    "# Reverse Multiplication Table using For Loop in Python\n",
    "\n",
    "table = int(input(\"Enter the table: \"))\n",
    "\n",
    "limit = int(input(\"Enter the ending : \"))\n",
    "\n",
    "for i in range(limit,0,-1):\n",
    "    print(i,\"*\",table,\"=\",i*table)"
   ]
  },
  {
   "cell_type": "code",
   "execution_count": null,
   "id": "78f357e5",
   "metadata": {},
   "outputs": [],
   "source": []
  }
 ],
 "metadata": {
  "kernelspec": {
   "display_name": "Python 3 (ipykernel)",
   "language": "python",
   "name": "python3"
  },
  "language_info": {
   "codemirror_mode": {
    "name": "ipython",
    "version": 3
   },
   "file_extension": ".py",
   "mimetype": "text/x-python",
   "name": "python",
   "nbconvert_exporter": "python",
   "pygments_lexer": "ipython3",
   "version": "3.10.9"
  }
 },
 "nbformat": 4,
 "nbformat_minor": 5
}
