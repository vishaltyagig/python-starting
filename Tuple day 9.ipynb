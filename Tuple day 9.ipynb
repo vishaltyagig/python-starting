{
 "cells": [
  {
   "cell_type": "code",
   "execution_count": 6,
   "id": "a0940da1",
   "metadata": {},
   "outputs": [
    {
     "data": {
      "text/plain": [
       "4"
      ]
     },
     "execution_count": 6,
     "metadata": {},
     "output_type": "execute_result"
    }
   ],
   "source": [
    "# Q.= 8\n",
    "\n",
    "x = (3,4,5,6,7,8)\n",
    "x.index(7)"
   ]
  },
  {
   "cell_type": "code",
   "execution_count": 14,
   "id": "6397fb45",
   "metadata": {},
   "outputs": [
    {
     "name": "stdout",
     "output_type": "stream",
     "text": [
      "[8, 7, 6, 5, 4, 3]\n",
      "(8, 7, 6, 5, 4, 3)\n"
     ]
    }
   ],
   "source": [
    "# Q. 9\n",
    "x = (3,4,5,6,7,8)\n",
    "b = list(x)\n",
    "b.reverse()\n",
    "print(b)\n",
    "c = tuple(b)\n",
    "print(c)"
   ]
  },
  {
   "cell_type": "code",
   "execution_count": 15,
   "id": "35a171b1",
   "metadata": {},
   "outputs": [
    {
     "name": "stdout",
     "output_type": "stream",
     "text": [
      "(8, 7, 6, 5, 4, 3)\n"
     ]
    }
   ],
   "source": [
    "# Q. 9\n",
    "x = (3,4,5,6,7,8)\n",
    "b = list(x)\n",
    "b.reverse()\n",
    "c = tuple(b)\n",
    "print(c)"
   ]
  },
  {
   "cell_type": "code",
   "execution_count": 16,
   "id": "066c7d2a",
   "metadata": {},
   "outputs": [
    {
     "data": {
      "text/plain": [
       "(8, 7, 6, 5, 4, 3)"
      ]
     },
     "execution_count": 16,
     "metadata": {},
     "output_type": "execute_result"
    }
   ],
   "source": [
    "x = (3,4,5,6,7,8)\n",
    "x[::-1]"
   ]
  },
  {
   "cell_type": "code",
   "execution_count": null,
   "id": "0502a590",
   "metadata": {},
   "outputs": [],
   "source": [
    "# Q.9\n"
   ]
  },
  {
   "cell_type": "code",
   "execution_count": null,
   "id": "1740ee09",
   "metadata": {},
   "outputs": [],
   "source": [
    "x = {\n",
    "    \n",
    "}"
   ]
  }
 ],
 "metadata": {
  "kernelspec": {
   "display_name": "Python 3 (ipykernel)",
   "language": "python",
   "name": "python3"
  },
  "language_info": {
   "codemirror_mode": {
    "name": "ipython",
    "version": 3
   },
   "file_extension": ".py",
   "mimetype": "text/x-python",
   "name": "python",
   "nbconvert_exporter": "python",
   "pygments_lexer": "ipython3",
   "version": "3.9.12"
  }
 },
 "nbformat": 4,
 "nbformat_minor": 5
}
