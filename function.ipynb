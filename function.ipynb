{
 "cells": [
  {
   "cell_type": "code",
   "execution_count": 1,
   "id": "8c92d96d",
   "metadata": {},
   "outputs": [
    {
     "data": {
      "text/plain": [
       "5"
      ]
     },
     "execution_count": 1,
     "metadata": {},
     "output_type": "execute_result"
    }
   ],
   "source": [
    "# wap to find max no. from three no. using function.\n",
    "\n",
    "def maxof(a,b,c):\n",
    "    if a>b and a>c:\n",
    "        return a\n",
    "    elif b>c and b>a:\n",
    "        return b\n",
    "    else:\n",
    "        return c\n",
    "maxof(3,5,4)"
   ]
  },
  {
   "cell_type": "code",
   "execution_count": null,
   "id": "ac7bb69f",
   "metadata": {},
   "outputs": [],
   "source": [
    "# wap to find min no. from three no. using function.\n"
   ]
  },
  {
   "cell_type": "code",
   "execution_count": 16,
   "id": "5323350d",
   "metadata": {},
   "outputs": [],
   "source": [
    "#wap sum all no. present in a list.\n",
    "\n",
    "def list1(a):\n",
    "    a = [1,2,3,4,5,6]\n",
    "    for i in a:\n",
    "        i = a+i\n",
    "        return list1()        "
   ]
  },
  {
   "cell_type": "code",
   "execution_count": 1,
   "id": "74e90366",
   "metadata": {},
   "outputs": [
    {
     "name": "stdout",
     "output_type": "stream",
     "text": [
      "30\n"
     ]
    }
   ],
   "source": [
    "def calculate (num1, num2=4):\n",
    "  res = num1 * num2\n",
    "  print(res)\n",
    "\n",
    "calculate(5, 6)"
   ]
  },
  {
   "cell_type": "code",
   "execution_count": 2,
   "id": "b5d8f7e4",
   "metadata": {},
   "outputs": [
    {
     "ename": "TypeError",
     "evalue": "'float' object cannot be interpreted as an integer",
     "output_type": "error",
     "traceback": [
      "\u001b[1;31m---------------------------------------------------------------------------\u001b[0m",
      "\u001b[1;31mTypeError\u001b[0m                                 Traceback (most recent call last)",
      "Input \u001b[1;32mIn [2]\u001b[0m, in \u001b[0;36m<cell line: 1>\u001b[1;34m()\u001b[0m\n\u001b[1;32m----> 1\u001b[0m \u001b[38;5;28;01mfor\u001b[39;00m x \u001b[38;5;129;01min\u001b[39;00m \u001b[38;5;28;43mrange\u001b[39;49m\u001b[43m(\u001b[49m\u001b[38;5;241;43m0.5\u001b[39;49m\u001b[43m,\u001b[49m\u001b[43m \u001b[49m\u001b[38;5;241;43m5.5\u001b[39;49m\u001b[43m,\u001b[49m\u001b[43m \u001b[49m\u001b[38;5;241;43m0.5\u001b[39;49m\u001b[43m)\u001b[49m:\n\u001b[0;32m      2\u001b[0m   \u001b[38;5;28mprint\u001b[39m(x)\n",
      "\u001b[1;31mTypeError\u001b[0m: 'float' object cannot be interpreted as an integer"
     ]
    }
   ],
   "source": [
    "for x in range(0.5, 5.5, 0.5):\n",
    "  print(x)"
   ]
  },
  {
   "cell_type": "code",
   "execution_count": 3,
   "id": "2ea6628f",
   "metadata": {},
   "outputs": [
    {
     "name": "stdout",
     "output_type": "stream",
     "text": [
      "Salary: 12000\n",
      "Salary: 8000\n"
     ]
    }
   ],
   "source": [
    "salary = 8000\n",
    "\n",
    "def printSalary():\n",
    "  salary = 12000\n",
    "  print(\"Salary:\", salary)\n",
    "  \n",
    "printSalary()\n",
    "print(\"Salary:\", salary)"
   ]
  },
  {
   "cell_type": "code",
   "execution_count": 4,
   "id": "e8f2e90e",
   "metadata": {},
   "outputs": [
    {
     "name": "stdout",
     "output_type": "stream",
     "text": [
      "10 20 30\n"
     ]
    }
   ],
   "source": [
    "p, q, r = 10, 20 ,30\n",
    "print(p, q, r)"
   ]
  },
  {
   "cell_type": "code",
   "execution_count": 5,
   "id": "d0b8d82f",
   "metadata": {},
   "outputs": [
    {
     "name": "stdout",
     "output_type": "stream",
     "text": [
      "JamesJamesJamesJamesJamesJames\n"
     ]
    }
   ],
   "source": [
    "var = \"James\" * 2  * 3\n",
    "print(var)"
   ]
  },
  {
   "cell_type": "code",
   "execution_count": 6,
   "id": "51ac3807",
   "metadata": {},
   "outputs": [
    {
     "ename": "TypeError",
     "evalue": "list.append() takes exactly one argument (2 given)",
     "output_type": "error",
     "traceback": [
      "\u001b[1;31m---------------------------------------------------------------------------\u001b[0m",
      "\u001b[1;31mTypeError\u001b[0m                                 Traceback (most recent call last)",
      "Input \u001b[1;32mIn [6]\u001b[0m, in \u001b[0;36m<cell line: 2>\u001b[1;34m()\u001b[0m\n\u001b[0;32m      1\u001b[0m sampleList \u001b[38;5;241m=\u001b[39m [\u001b[38;5;124m\"\u001b[39m\u001b[38;5;124mJon\u001b[39m\u001b[38;5;124m\"\u001b[39m, \u001b[38;5;124m\"\u001b[39m\u001b[38;5;124mKelly\u001b[39m\u001b[38;5;124m\"\u001b[39m, \u001b[38;5;124m\"\u001b[39m\u001b[38;5;124mJessa\u001b[39m\u001b[38;5;124m\"\u001b[39m]\n\u001b[1;32m----> 2\u001b[0m \u001b[43msampleList\u001b[49m\u001b[38;5;241;43m.\u001b[39;49m\u001b[43mappend\u001b[49m\u001b[43m(\u001b[49m\u001b[38;5;241;43m2\u001b[39;49m\u001b[43m,\u001b[49m\u001b[43m \u001b[49m\u001b[38;5;124;43m\"\u001b[39;49m\u001b[38;5;124;43mScott\u001b[39;49m\u001b[38;5;124;43m\"\u001b[39;49m\u001b[43m)\u001b[49m\n\u001b[0;32m      3\u001b[0m \u001b[38;5;28mprint\u001b[39m(sampleList)\n",
      "\u001b[1;31mTypeError\u001b[0m: list.append() takes exactly one argument (2 given)"
     ]
    }
   ],
   "source": [
    "sampleList = [\"Jon\", \"Kelly\", \"Jessa\"]\n",
    "sampleList.append(2, \"Scott\")\n",
    "print(sampleList)"
   ]
  },
  {
   "cell_type": "code",
   "execution_count": 7,
   "id": "3f1c2bf9",
   "metadata": {},
   "outputs": [
    {
     "name": "stdout",
     "output_type": "stream",
     "text": [
      "25\n",
      "125\n"
     ]
    }
   ],
   "source": [
    "valueOne = 5 ** 2\n",
    "valueTwo = 5 ** 3\n",
    "\n",
    "print(valueOne)\n",
    "print(valueTwo)"
   ]
  },
  {
   "cell_type": "code",
   "execution_count": 8,
   "id": "6c37d296",
   "metadata": {},
   "outputs": [
    {
     "name": "stdout",
     "output_type": "stream",
     "text": [
      "maJ\n"
     ]
    }
   ],
   "source": [
    "var= \"James Bond\"\n",
    "print(var[2::-1])\n"
   ]
  },
  {
   "cell_type": "code",
   "execution_count": 9,
   "id": "7af7a3b8",
   "metadata": {},
   "outputs": [
    {
     "name": "stdout",
     "output_type": "stream",
     "text": [
      "True\n",
      "False\n"
     ]
    }
   ],
   "source": [
    "listOne = [20, 40, 60, 80]\n",
    "listTwo = [20, 40, 60, 80]\n",
    "\n",
    "print(listOne == listTwo)\n",
    "print(listOne is listTwo)"
   ]
  },
  {
   "cell_type": "code",
   "execution_count": 10,
   "id": "a6993eb6",
   "metadata": {},
   "outputs": [
    {
     "ename": "TypeError",
     "evalue": "set.add() takes exactly one argument (2 given)",
     "output_type": "error",
     "traceback": [
      "\u001b[1;31m---------------------------------------------------------------------------\u001b[0m",
      "\u001b[1;31mTypeError\u001b[0m                                 Traceback (most recent call last)",
      "Input \u001b[1;32mIn [10]\u001b[0m, in \u001b[0;36m<cell line: 2>\u001b[1;34m()\u001b[0m\n\u001b[0;32m      1\u001b[0m sampleSet \u001b[38;5;241m=\u001b[39m {\u001b[38;5;124m\"\u001b[39m\u001b[38;5;124mJodi\u001b[39m\u001b[38;5;124m\"\u001b[39m, \u001b[38;5;124m\"\u001b[39m\u001b[38;5;124mEric\u001b[39m\u001b[38;5;124m\"\u001b[39m, \u001b[38;5;124m\"\u001b[39m\u001b[38;5;124mGarry\u001b[39m\u001b[38;5;124m\"\u001b[39m}\n\u001b[1;32m----> 2\u001b[0m \u001b[43msampleSet\u001b[49m\u001b[38;5;241;43m.\u001b[39;49m\u001b[43madd\u001b[49m\u001b[43m(\u001b[49m\u001b[38;5;241;43m1\u001b[39;49m\u001b[43m,\u001b[49m\u001b[43m \u001b[49m\u001b[38;5;124;43m\"\u001b[39;49m\u001b[38;5;124;43mVicki\u001b[39;49m\u001b[38;5;124;43m\"\u001b[39;49m\u001b[43m)\u001b[49m\n\u001b[0;32m      3\u001b[0m \u001b[38;5;28mprint\u001b[39m(sampleSet)\n",
      "\u001b[1;31mTypeError\u001b[0m: set.add() takes exactly one argument (2 given)"
     ]
    }
   ],
   "source": [
    "sampleSet = {\"Jodi\", \"Eric\", \"Garry\"}\n",
    "sampleSet.add(1, \"Vicki\")\n",
    "print(sampleSet)"
   ]
  },
  {
   "cell_type": "code",
   "execution_count": 11,
   "id": "eb9f5f95",
   "metadata": {},
   "outputs": [
    {
     "name": "stdout",
     "output_type": "stream",
     "text": [
      "1\n",
      "2\n",
      "3\n",
      "4\n",
      "this is else block statement\n"
     ]
    }
   ],
   "source": [
    "for i in range(1, 5):\n",
    "    print(i)\n",
    "else:\n",
    "    print(\"this is else block statement\" )"
   ]
  },
  {
   "cell_type": "code",
   "execution_count": 12,
   "id": "dfeba2d1",
   "metadata": {},
   "outputs": [
    {
     "name": "stdout",
     "output_type": "stream",
     "text": [
      "yn\n"
     ]
    }
   ],
   "source": [
    "str = \"pynative\"\n",
    "print (str[1:3])"
   ]
  },
  {
   "cell_type": "code",
   "execution_count": 13,
   "id": "68149ca8",
   "metadata": {},
   "outputs": [
    {
     "name": "stdout",
     "output_type": "stream",
     "text": [
      "182.0\n"
     ]
    }
   ],
   "source": [
    "x = 36 / 4 * (3 +  2) * 4 + 2\n",
    "print(x)"
   ]
  },
  {
   "cell_type": "code",
   "execution_count": 14,
   "id": "5e319f82",
   "metadata": {},
   "outputs": [
    {
     "ename": "TypeError",
     "evalue": "unsupported operand type(s) for +: 'int' and 'str'",
     "output_type": "error",
     "traceback": [
      "\u001b[1;31m---------------------------------------------------------------------------\u001b[0m",
      "\u001b[1;31mTypeError\u001b[0m                                 Traceback (most recent call last)",
      "Input \u001b[1;32mIn [14]\u001b[0m, in \u001b[0;36m<cell line: 5>\u001b[1;34m()\u001b[0m\n\u001b[0;32m      2\u001b[0m var2 \u001b[38;5;241m=\u001b[39m \u001b[38;5;241m2\u001b[39m\n\u001b[0;32m      3\u001b[0m var3 \u001b[38;5;241m=\u001b[39m \u001b[38;5;124m\"\u001b[39m\u001b[38;5;124m3\u001b[39m\u001b[38;5;124m\"\u001b[39m\n\u001b[1;32m----> 5\u001b[0m \u001b[38;5;28mprint\u001b[39m(\u001b[43mvar1\u001b[49m\u001b[43m \u001b[49m\u001b[38;5;241;43m+\u001b[39;49m\u001b[43m \u001b[49m\u001b[43mvar2\u001b[49m\u001b[43m \u001b[49m\u001b[38;5;241;43m+\u001b[39;49m\u001b[43m \u001b[49m\u001b[43mvar3\u001b[49m)\n",
      "\u001b[1;31mTypeError\u001b[0m: unsupported operand type(s) for +: 'int' and 'str'"
     ]
    }
   ],
   "source": [
    "var1 = 1\n",
    "var2 = 2\n",
    "var3 = \"3\"\n",
    "\n",
    "print(var1 + var2 + var3)"
   ]
  },
  {
   "cell_type": "code",
   "execution_count": 1,
   "id": "00b20c56",
   "metadata": {},
   "outputs": [
    {
     "name": "stdout",
     "output_type": "stream",
     "text": [
      "False\n"
     ]
    }
   ],
   "source": [
    "print(0.1 + 0.2 == 0.3)"
   ]
  },
  {
   "cell_type": "code",
   "execution_count": 2,
   "id": "c1cabf2e",
   "metadata": {},
   "outputs": [
    {
     "name": "stdout",
     "output_type": "stream",
     "text": [
      "33\n"
     ]
    }
   ],
   "source": [
    "print(0xA + 0xB + 0xC)"
   ]
  },
  {
   "cell_type": "code",
   "execution_count": null,
   "id": "8d31d40a",
   "metadata": {},
   "outputs": [],
   "source": []
  }
 ],
 "metadata": {
  "kernelspec": {
   "display_name": "Python 3 (ipykernel)",
   "language": "python",
   "name": "python3"
  },
  "language_info": {
   "codemirror_mode": {
    "name": "ipython",
    "version": 3
   },
   "file_extension": ".py",
   "mimetype": "text/x-python",
   "name": "python",
   "nbconvert_exporter": "python",
   "pygments_lexer": "ipython3",
   "version": "3.9.12"
  }
 },
 "nbformat": 4,
 "nbformat_minor": 5
}
