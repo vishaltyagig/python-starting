{
 "cells": [
  {
   "cell_type": "code",
   "execution_count": 4,
   "id": "8eb4ca60",
   "metadata": {},
   "outputs": [
    {
     "name": "stdout",
     "output_type": "stream",
     "text": [
      "The maximum num is 54\n"
     ]
    }
   ],
   "source": [
    "# wap using function to find greatest of three numbers\n",
    "\n",
    "def maximum(num1, num2, num3):\n",
    "    if (num1>num2):\n",
    "        if (num1>num3):\n",
    "            return num1\n",
    "        else:\n",
    "            return num3\n",
    "    else:\n",
    "        if (num2>num3):\n",
    "            return num2\n",
    "        else:\n",
    "            return num3\n",
    "        \n",
    "m = maximum(46, 54, 52)\n",
    "print(\"The maximum num is \" + str(m))"
   ]
  },
  {
   "cell_type": "code",
   "execution_count": 7,
   "id": "f53a96d3",
   "metadata": {},
   "outputs": [
    {
     "name": "stdout",
     "output_type": "stream",
     "text": [
      "farhenight temperature is 98.60000000000001\n"
     ]
    }
   ],
   "source": [
    "# wap to convert farhenight to celcius\n",
    "\n",
    "def farh(cel):\n",
    "    return (cel*(9/5))+ 32\n",
    "\n",
    "c = 37\n",
    "f = farh(c)\n",
    "print(\"farhenight temperature is \" + str(f))"
   ]
  },
  {
   "cell_type": "code",
   "execution_count": 8,
   "id": "84f6eddc",
   "metadata": {},
   "outputs": [
    {
     "name": "stdout",
     "output_type": "stream",
     "text": [
      "hello how are you "
     ]
    }
   ],
   "source": [
    "# wap how do you prevent a python print() function to print a new line at the end.\n",
    "\n",
    "print(\"hello\", end = \" \")\n",
    "print(\"how\", end = \" \")\n",
    "print(\"are\", end = \" \")\n",
    "print(\"you\", end = \" \")"
   ]
  },
  {
   "cell_type": "code",
   "execution_count": 9,
   "id": "34efd3df",
   "metadata": {},
   "outputs": [
    {
     "name": "stdout",
     "output_type": "stream",
     "text": [
      "15\n"
     ]
    }
   ],
   "source": [
    "# wap that a recursive function to calculate the sum of first n natural numbers.\n",
    "\n",
    "def factorial_iter(n):\n",
    "    product = 1\n",
    "    for i in range(n):\n",
    "        product = product * (i+1)\n",
    "    return product\n",
    "\n",
    "def factorial_recursive(n):\n",
    "    if n == 1 or n == 0:\n",
    "        return 1\n",
    "    return n + factorial_recursive(n-1)\n",
    "\n",
    "f = factorial_recursive(5)\n",
    "print(f)"
   ]
  },
  {
   "cell_type": "code",
   "execution_count": 12,
   "id": "7d500c17",
   "metadata": {},
   "outputs": [
    {
     "name": "stdout",
     "output_type": "stream",
     "text": [
      "***\n",
      "**\n",
      "*\n"
     ]
    }
   ],
   "source": [
    "# wa py function to print following pattern\n",
    "#   ***\n",
    "#   **\n",
    "#   *\n",
    "\n",
    "n = 3\n",
    "for i in range(n):\n",
    "    print(\"*\" * (n-i))  # print stars n-i times"
   ]
  },
  {
   "cell_type": "code",
   "execution_count": 18,
   "id": "754db641",
   "metadata": {},
   "outputs": [
    {
     "name": "stdout",
     "output_type": "stream",
     "text": [
      "15 inches of cm is = 38.1\n"
     ]
    }
   ],
   "source": [
    "# wap to convert inches into cms\n",
    "\n",
    "#  1 inch = 2.54 cm: 1 cm = 0.393 inch\n",
    "\n",
    "def inch(cm):\n",
    "    return (cm * 2.54)\n",
    "\n",
    "c = 15\n",
    "i = inch(c)\n",
    "print(str(c) +\" inches of cm is = \" + str(i))"
   ]
  },
  {
   "cell_type": "code",
   "execution_count": 19,
   "id": "4855904c",
   "metadata": {},
   "outputs": [
    {
     "name": "stdout",
     "output_type": "stream",
     "text": [
      "is good boy\n"
     ]
    }
   ],
   "source": [
    "# wa py func to remove a given word from a string and strip(remove extra spaces) it at the same time\n",
    "\n",
    "def remove_and_split(string, word):\n",
    "    newstr = string.replace(word, \"\")\n",
    "    return newstr.strip()\n",
    "\n",
    "this = \"    harry is good boy      \"\n",
    "n = remove_and_split(this,\"harry\")\n",
    "print(n)"
   ]
  },
  {
   "cell_type": "code",
   "execution_count": 23,
   "id": "730bbbef",
   "metadata": {},
   "outputs": [
    {
     "name": "stdout",
     "output_type": "stream",
     "text": [
      "399168000\n"
     ]
    }
   ],
   "source": [
    "# wa py func to print multiplication table of a given number\n",
    "num = int(input(\"enter a number\"))\n",
    "def table(n):\n",
    "    product = 10\n",
    "    for i in range(1,11):\n",
    "        product = product * (i+1)\n",
    "    return product\n",
    "\n",
    "print(table(5))"
   ]
  },
  {
   "cell_type": "code",
   "execution_count": 24,
   "id": "93b460cd",
   "metadata": {},
   "outputs": [
    {
     "name": "stdout",
     "output_type": "stream",
     "text": [
      "Please Enter a number to print its multiplication table:9\n",
      "9  x  1  =  9\n",
      "9  x  2  =  18\n",
      "9  x  3  =  27\n",
      "9  x  4  =  36\n",
      "9  x  5  =  45\n",
      "9  x  6  =  54\n",
      "9  x  7  =  63\n",
      "9  x  8  =  72\n",
      "9  x  9  =  81\n",
      "9  x  10  =  90\n"
     ]
    }
   ],
   "source": [
    "# wa py func to print multiplication table of a given number\n",
    "\n",
    "def print_table(num): \n",
    "    \"\"\" This function prints multiplication table of a given number\"\"\"\n",
    "    for i in range(1,11): \n",
    "        print(num,' x ', i, ' = ',num*i) \n",
    "# end of function table\n",
    "\n",
    "\n",
    "# input a number\n",
    "n = int(input(\"Please Enter a number to print its multiplication table:\"))\n",
    "\n",
    "# call the function tanle by passing actual parameter 'n' \n",
    "\n",
    "print_table(n)"
   ]
  },
  {
   "cell_type": "code",
   "execution_count": null,
   "id": "6c9a1512",
   "metadata": {},
   "outputs": [],
   "source": []
  }
 ],
 "metadata": {
  "kernelspec": {
   "display_name": "Python 3 (ipykernel)",
   "language": "python",
   "name": "python3"
  },
  "language_info": {
   "codemirror_mode": {
    "name": "ipython",
    "version": 3
   },
   "file_extension": ".py",
   "mimetype": "text/x-python",
   "name": "python",
   "nbconvert_exporter": "python",
   "pygments_lexer": "ipython3",
   "version": "3.10.9"
  }
 },
 "nbformat": 4,
 "nbformat_minor": 5
}
