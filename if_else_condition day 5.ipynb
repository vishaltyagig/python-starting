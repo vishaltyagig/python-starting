{
 "cells": [
  {
   "cell_type": "code",
   "execution_count": 1,
   "id": "1e90705b",
   "metadata": {},
   "outputs": [
    {
     "name": "stdout",
     "output_type": "stream",
     "text": [
      "Enter a number in between 1 to 7 ----->  6\n",
      "it's friday\n"
     ]
    }
   ],
   "source": [
    "# Write a program to accept a number from 1 to 7 and display the name of the day like 1 for Sunday , 2 for Monday and so on.\n",
    "\n",
    "num = int(input(\"Enter a number in between 1 to 7 ----->  \"))\n",
    "if num ==1:\n",
    "    print(\" it's sunday\")\n",
    "elif num == 2:\n",
    "    print(\"it's monday\")\n",
    "elif num == 3:\n",
    "    print(\"it's tuesday\")\n",
    "elif num == 4:\n",
    "    print(\"it's wednesday\")\n",
    "elif num == 5:\n",
    "    print(\"it's thursday\")\n",
    "elif num == 6:\n",
    "    print(\"it's friday\")\n",
    "elif num == 7:\n",
    "    print(\"it's saturday\")"
   ]
  },
  {
   "cell_type": "code",
   "execution_count": 2,
   "id": "1449db04",
   "metadata": {},
   "outputs": [
    {
     "name": "stdout",
     "output_type": "stream",
     "text": [
      "Enter a number in between 1 to 12 ----->  9\n",
      "it's september\n"
     ]
    }
   ],
   "source": [
    "# Write a program to accept a number from 1 to 12 and display name of the month and days in that \n",
    "# month like 1 for January and number of days 31 and so on\n",
    "\n",
    "num = int(input(\"Enter a number in between 1 to 12 ----->  \"))\n",
    "if num ==1:\n",
    "    print(\" it's january\")\n",
    "elif num == 2:\n",
    "    print(\"it's february\")\n",
    "elif num == 3:\n",
    "    print(\"it's march\")\n",
    "elif num == 4:\n",
    "    print(\"it's april\")\n",
    "elif num == 5:\n",
    "    print(\"it's may\")\n",
    "elif num == 6:\n",
    "    print(\"it's june\")\n",
    "elif num == 7:\n",
    "    print(\"it's july\")\n",
    "elif num == 8:\n",
    "    print(\"it's august\")\n",
    "elif num == 9:\n",
    "    print(\"it's september\")\n",
    "elif num == 10:\n",
    "    print(\"it's october\")\n",
    "elif num == 11:\n",
    "    print(\"it's november\")\n",
    "elif num == 12:\n",
    "    print(\"it's december\")"
   ]
  },
  {
   "cell_type": "code",
   "execution_count": null,
   "id": "24f8986a",
   "metadata": {},
   "outputs": [],
   "source": [
    " Write the logical expression for the following:\n",
    "A is greater than B and C is greater than D\n",
    "\n",
    "Ans. A > B and C < D\n"
   ]
  },
  {
   "cell_type": "code",
   "execution_count": 3,
   "id": "dec4a680",
   "metadata": {},
   "outputs": [
    {
     "name": "stdout",
     "output_type": "stream",
     "text": [
      "Enter a cityagra\n",
      "monument name is :- Taj Mahal\n"
     ]
    }
   ],
   "source": [
    "#  Accept any city from the user and display monument of that city.\n",
    "#                   City                                 Monument\n",
    "#                   Delhi                               Red Fort\n",
    "#                   Agra                                Taj Mahal\n",
    "#                   Jaipur                              Jal Mahal\n",
    "\n",
    "city = input(\"Enter a city\")\n",
    "if city == \"delhi\":\n",
    "    print(\"monument name is :- Red Fort\")\n",
    "elif city == \"agra\":\n",
    "    print(\"monument name is :- Taj Mahal\")\n",
    "elif city == \"jaipur\":\n",
    "    print(\"monument name is :- Jal Mahal\")\n"
   ]
  },
  {
   "cell_type": "code",
   "execution_count": 2,
   "id": "d6eb94f3",
   "metadata": {},
   "outputs": [
    {
     "name": "stdout",
     "output_type": "stream",
     "text": [
      "Enter your age19\n",
      "you are eligible for voting\n"
     ]
    }
   ],
   "source": [
    "# Write a program to check whether a person is eligible for voting or not.(voting age >=18)\n",
    "\n",
    "age = int(input(\"Enter your age\"))\n",
    "if age>= 18:\n",
    "    print(\"you are eligible for voting\")\n",
    "else:\n",
    "    print(\"you are not eligible for voting\")"
   ]
  },
  {
   "cell_type": "code",
   "execution_count": 3,
   "id": "f77c23eb",
   "metadata": {},
   "outputs": [
    {
     "name": "stdout",
     "output_type": "stream",
     "text": [
      "Enter your age60\n",
      "You are senior citizen\n"
     ]
    }
   ],
   "source": [
    "#  Write a program to check whether a person is senior citizen or not.\n",
    "\n",
    "age = int(input(\"Enter your age\"))\n",
    "if age>= 60:\n",
    "    print(\"You are senior citizen\")\n",
    "else:\n",
    "    print(\"You are not senior citizen\")"
   ]
  },
  {
   "cell_type": "code",
   "execution_count": 9,
   "id": "d0fdb7be",
   "metadata": {},
   "outputs": [
    {
     "name": "stdout",
     "output_type": "stream",
     "text": [
      "Enter first number12\n",
      "Enter second number11\n",
      "The lowest number is 11\n"
     ]
    }
   ],
   "source": [
    "# Write a program to find the lowest number out of two numbers excepted from user.\n",
    "\n",
    "num1 = int(input(\"Enter first number\"))\n",
    "num2 = int(input(\"Enter second number\"))\n",
    "if num1>num2:\n",
    "    print(\"The lowest number is\",num2)\n",
    "else:\n",
    "    print(\"the lowest number is\",num1)"
   ]
  },
  {
   "cell_type": "code",
   "execution_count": 10,
   "id": "faff2589",
   "metadata": {},
   "outputs": [
    {
     "name": "stdout",
     "output_type": "stream",
     "text": [
      "Enter first number5465\n",
      "Enter second number51\n",
      "the largest no. is 5465\n"
     ]
    }
   ],
   "source": [
    "# Write a program to find the largest number out of two numbers excepted from user.\n",
    "\n",
    "num1 = int(input(\"Enter first number\"))\n",
    "num2 = int(input(\"Enter second number\"))\n",
    "if num1>num2:\n",
    "    print(\"the largest no. is\",num1)\n",
    "else:\n",
    "    print(\"The largest no. is\",num2)"
   ]
  },
  {
   "cell_type": "code",
   "execution_count": 12,
   "id": "68822486",
   "metadata": {},
   "outputs": [
    {
     "name": "stdout",
     "output_type": "stream",
     "text": [
      "Enter a number-45\n",
      "no, is negative---> -45\n"
     ]
    }
   ],
   "source": [
    "#  Write a program to check whether a number (accepted from user) is positive or negative.\n",
    "\n",
    "num = int(input(\"Enter a number\"))\n",
    "if num>0:\n",
    "    print(\" no. is positive--->\",num)\n",
    "else:\n",
    "    print(\"no, is negative--->\",num)"
   ]
  },
  {
   "cell_type": "code",
   "execution_count": 16,
   "id": "7ae47ba1",
   "metadata": {},
   "outputs": [
    {
     "name": "stdout",
     "output_type": "stream",
     "text": [
      "Enter a number1\n",
      "number is odd 1\n"
     ]
    }
   ],
   "source": [
    "#  Write a program to check whether a number is even or odd.\n",
    "num = int(input(\"Enter a number\"))\n",
    "if num%2 == 0:\n",
    "    print(\"number is even\",num)\n",
    "else:\n",
    "    print(\"number is odd\",num)"
   ]
  },
  {
   "cell_type": "code",
   "execution_count": 19,
   "id": "bb91a46d",
   "metadata": {},
   "outputs": [
    {
     "name": "stdout",
     "output_type": "stream",
     "text": [
      "Enter a number48\n",
      "Number is divisible by 2 and 3 both 48\n"
     ]
    }
   ],
   "source": [
    "# Write a program to whether a number (accepted from user) is divisible by 2 and 3 both.\n",
    "\n",
    "num = int(input(\"Enter a number\"))\n",
    "if num%2 == 0 and num%3 == 0:\n",
    "    print(\"Number is divisible by 2 and 3 both\",num)\n",
    "else:\n",
    "    print(\"Number is not divisible by 2 and 3 both\",num)"
   ]
  },
  {
   "cell_type": "code",
   "execution_count": null,
   "id": "fcedccc2",
   "metadata": {},
   "outputs": [],
   "source": [
    "# Write a program to find the largest number out of three numbers excepted from user.\n",
    "\n",
    "a = int(input(\"Enter a no.\"))\n",
    "b = int(input(\"Enter a no.\"))\n",
    "c = int(input(\"Enter a no.\"))\n",
    "if a>b and a>c:\n",
    "    print(\"a is greater\",a)\n",
    "elif b>a and b>c:\n",
    "    print(\"b is greater\",b)\n",
    "elif c:\n",
    "    print(\"c is greater\",c)"
   ]
  },
  {
   "cell_type": "code",
   "execution_count": null,
   "id": "f7eb5377",
   "metadata": {},
   "outputs": [],
   "source": [
    "# Accept the temperature in degree Celsius of water and check whether it is boiling or not (boiling point of water in 100 oC.\n",
    "\n",
    "temp = int(input(\"enter the temperature of water\"))\n",
    "if temp>100:\n",
    "    print(\"water is boling\")\n",
    "else:\n",
    "    print(\"water is not boling\")"
   ]
  },
  {
   "cell_type": "code",
   "execution_count": 2,
   "id": "ac338ad1",
   "metadata": {},
   "outputs": [
    {
     "ename": "TypeError",
     "evalue": "unsupported operand type(s) for %: 'list' and 'int'",
     "output_type": "error",
     "traceback": [
      "\u001b[1;31m---------------------------------------------------------------------------\u001b[0m",
      "\u001b[1;31mTypeError\u001b[0m                                 Traceback (most recent call last)",
      "Input \u001b[1;32mIn [2]\u001b[0m, in \u001b[0;36m<cell line: 9>\u001b[1;34m()\u001b[0m\n\u001b[0;32m      1\u001b[0m \u001b[38;5;66;03m# Write a program to display only those numbers from a list that satisfy the following conditions\u001b[39;00m\n\u001b[0;32m      2\u001b[0m \n\u001b[0;32m      3\u001b[0m \u001b[38;5;66;03m# The number must be divisible by five\u001b[39;00m\n\u001b[0;32m      4\u001b[0m \u001b[38;5;66;03m# If the number is greater than 150, then skip it and move to the next number\u001b[39;00m\n\u001b[0;32m      5\u001b[0m \u001b[38;5;66;03m# If the number is greater than 500, then stop the loop\u001b[39;00m\n\u001b[0;32m      8\u001b[0m numbers \u001b[38;5;241m=\u001b[39m [\u001b[38;5;241m12\u001b[39m, \u001b[38;5;241m75\u001b[39m, \u001b[38;5;241m150\u001b[39m, \u001b[38;5;241m180\u001b[39m, \u001b[38;5;241m145\u001b[39m, \u001b[38;5;241m525\u001b[39m, \u001b[38;5;241m50\u001b[39m]\n\u001b[1;32m----> 9\u001b[0m \u001b[38;5;28;01mif\u001b[39;00m \u001b[43mnumbers\u001b[49m\u001b[38;5;241;43m%\u001b[39;49m\u001b[38;5;241;43m5\u001b[39;49m \u001b[38;5;241m==\u001b[39m \u001b[38;5;241m0\u001b[39m:\n\u001b[0;32m     10\u001b[0m     \u001b[38;5;28mprint\u001b[39m(numbers)\n",
      "\u001b[1;31mTypeError\u001b[0m: unsupported operand type(s) for %: 'list' and 'int'"
     ]
    }
   ],
   "source": [
    "# Write a program to display only those numbers from a list that satisfy the following conditions\n",
    "\n",
    "# The number must be divisible by five\n",
    "# If the number is greater than 150, then skip it and move to the next number\n",
    "# If the number is greater than 500, then stop the loop\n",
    "\n",
    "\n",
    "numbers = [12, 75, 150, 180, 145, 525, 50]\n",
    "if numbers%5 == 0:\n",
    "    print(numbers)"
   ]
  },
  {
   "cell_type": "code",
   "execution_count": null,
   "id": "1b86fff2",
   "metadata": {},
   "outputs": [],
   "source": []
  }
 ],
 "metadata": {
  "kernelspec": {
   "display_name": "Python 3 (ipykernel)",
   "language": "python",
   "name": "python3"
  },
  "language_info": {
   "codemirror_mode": {
    "name": "ipython",
    "version": 3
   },
   "file_extension": ".py",
   "mimetype": "text/x-python",
   "name": "python",
   "nbconvert_exporter": "python",
   "pygments_lexer": "ipython3",
   "version": "3.9.12"
  }
 },
 "nbformat": 4,
 "nbformat_minor": 5
}
