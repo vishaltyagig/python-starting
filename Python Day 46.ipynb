{
 "cells": [
  {
   "cell_type": "markdown",
   "id": "82a92712",
   "metadata": {},
   "source": [
    "# Expression\n"
   ]
  },
  {
   "cell_type": "code",
   "execution_count": 1,
   "id": "feb831c6",
   "metadata": {},
   "outputs": [
    {
     "name": "stdout",
     "output_type": "stream",
     "text": [
      "16.3\n"
     ]
    }
   ],
   "source": [
    "# Constant Expressions \n",
    "x = 15 + 1.3\n",
    "  \n",
    "print(x)"
   ]
  },
  {
   "cell_type": "code",
   "execution_count": 2,
   "id": "0f9d66d5",
   "metadata": {},
   "outputs": [
    {
     "name": "stdout",
     "output_type": "stream",
     "text": [
      "52\n",
      "28\n",
      "480\n",
      "3.3333333333333335\n"
     ]
    }
   ],
   "source": [
    "# Arithmetic Expressions \n",
    "x = 40\n",
    "y = 12\n",
    "  \n",
    "add = x + y \n",
    "sub = x - y \n",
    "pro = x * y \n",
    "div = x / y \n",
    "  \n",
    "print(add) \n",
    "print(sub) \n",
    "print(pro) \n",
    "print(div)"
   ]
  },
  {
   "cell_type": "code",
   "execution_count": 3,
   "id": "6cef03db",
   "metadata": {},
   "outputs": [
    {
     "name": "stdout",
     "output_type": "stream",
     "text": [
      "25\n"
     ]
    }
   ],
   "source": [
    "# Integral Expressions \n",
    "a = 13\n",
    "b = 12.0\n",
    "  \n",
    "c = a + int(b) \n",
    "print(c)"
   ]
  },
  {
   "cell_type": "code",
   "execution_count": 4,
   "id": "4d28087d",
   "metadata": {},
   "outputs": [
    {
     "name": "stdout",
     "output_type": "stream",
     "text": [
      "2.6\n"
     ]
    }
   ],
   "source": [
    "# Floating Expressions \n",
    "a = 13\n",
    "b = 5\n",
    "  \n",
    "c = a / b \n",
    "print(c)"
   ]
  },
  {
   "cell_type": "code",
   "execution_count": 5,
   "id": "cf22c6b0",
   "metadata": {},
   "outputs": [
    {
     "name": "stdout",
     "output_type": "stream",
     "text": [
      "True\n"
     ]
    }
   ],
   "source": [
    "# Relational Expressions \n",
    "a = 21\n",
    "b = 13\n",
    "c = 40\n",
    "d = 37\n",
    "  \n",
    "p = (a + b) >= (c - d) \n",
    "print(p)"
   ]
  },
  {
   "cell_type": "code",
   "execution_count": 6,
   "id": "1275b53a",
   "metadata": {},
   "outputs": [
    {
     "name": "stdout",
     "output_type": "stream",
     "text": [
      "False\n",
      "True\n",
      "True\n"
     ]
    }
   ],
   "source": [
    "P = (10 == 9) \n",
    "Q = (7 > 5) \n",
    "  \n",
    "# Logical Expressions \n",
    "R = P and Q \n",
    "S = P or Q \n",
    "T = not P \n",
    "  \n",
    "print(R) \n",
    "print(S) \n",
    "print(T)"
   ]
  },
  {
   "cell_type": "code",
   "execution_count": 7,
   "id": "b06d5f29",
   "metadata": {},
   "outputs": [
    {
     "name": "stdout",
     "output_type": "stream",
     "text": [
      "3 24\n"
     ]
    }
   ],
   "source": [
    "# Bitwise Expressions \n",
    "a = 12\n",
    "  \n",
    "x = a >> 2\n",
    "y = a << 1\n",
    "  \n",
    "print(x, y)"
   ]
  },
  {
   "cell_type": "code",
   "execution_count": 8,
   "id": "fdb4aa56",
   "metadata": {},
   "outputs": [
    {
     "name": "stdout",
     "output_type": "stream",
     "text": [
      "22\n"
     ]
    }
   ],
   "source": [
    "# Combinational Expressions \n",
    "a = 16\n",
    "b = 12\n",
    "  \n",
    "c = a + (b >> 1) \n",
    "print(c)"
   ]
  },
  {
   "cell_type": "code",
   "execution_count": 9,
   "id": "df4128e0",
   "metadata": {},
   "outputs": [
    {
     "name": "stdout",
     "output_type": "stream",
     "text": [
      "6\n"
     ]
    }
   ],
   "source": [
    "b = 12\n",
    "c = (b >> 1) \n",
    "print(c)"
   ]
  },
  {
   "cell_type": "code",
   "execution_count": 10,
   "id": "e8c30d26",
   "metadata": {},
   "outputs": [
    {
     "name": "stdout",
     "output_type": "stream",
     "text": [
      "22\n",
      "52\n",
      "22\n"
     ]
    }
   ],
   "source": [
    "# Multi-operator expression \n",
    "  \n",
    "a = 10 + 3 * 4\n",
    "print(a) \n",
    "  \n",
    "b = (10 + 3) * 4\n",
    "print(b) \n",
    "  \n",
    "c = 10 + (3 * 4) \n",
    "print(c)"
   ]
  },
  {
   "cell_type": "code",
   "execution_count": null,
   "id": "6b820d48",
   "metadata": {},
   "outputs": [],
   "source": []
  }
 ],
 "metadata": {
  "kernelspec": {
   "display_name": "Python 3 (ipykernel)",
   "language": "python",
   "name": "python3"
  },
  "language_info": {
   "codemirror_mode": {
    "name": "ipython",
    "version": 3
   },
   "file_extension": ".py",
   "mimetype": "text/x-python",
   "name": "python",
   "nbconvert_exporter": "python",
   "pygments_lexer": "ipython3",
   "version": "3.10.9"
  }
 },
 "nbformat": 4,
 "nbformat_minor": 5
}
