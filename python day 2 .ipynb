{
 "cells": [
  {
   "cell_type": "code",
   "execution_count": 1,
   "id": "55029425",
   "metadata": {},
   "outputs": [
    {
     "name": "stdout",
     "output_type": "stream",
     "text": [
      "1000.0\n"
     ]
    }
   ],
   "source": [
    "# a company decided to give bonus \n",
    "# bonus of 5% to employ\n",
    "# if his year of service is more then 5 years \n",
    "#and year of service and \n",
    "# print the net bonus amount.\n",
    "\n",
    "year_of_service = 7\n",
    "salary = 20000\n",
    "if year_of_service>5:\n",
    "    bonus = (salary*5)/100\n",
    "    print(bonus)\n",
    "else:\n",
    "    print(\"No bonus apna kaam kr\")"
   ]
  },
  {
   "cell_type": "code",
   "execution_count": 2,
   "id": "1d555ee5",
   "metadata": {},
   "outputs": [
    {
     "name": "stdout",
     "output_type": "stream",
     "text": [
      "Enter first number:9\n",
      "Enter second number:8\n",
      "17\n"
     ]
    }
   ],
   "source": [
    "#wap to add two no.\n",
    "a = int(input(\"Enter first number:\"))\n",
    "b = int(input(\"Enter second number:\"))\n",
    "sum = a + b\n",
    "print(sum)"
   ]
  },
  {
   "cell_type": "code",
   "execution_count": 8,
   "id": "7abbc1e9",
   "metadata": {},
   "outputs": [
    {
     "name": "stdout",
     "output_type": "stream",
     "text": [
      "enter a no.87\n",
      "enter a no.6584\n",
      "b is greater\n"
     ]
    }
   ],
   "source": [
    "# wap to find the max of two no....\n",
    "a = int(input(\"enter a no.\"))\n",
    "b = int(input(\"enter a no.\"))\n",
    "\n",
    "if a>b:\n",
    "    print(\"a is greater\")\n",
    "else:\n",
    "    print(\"b is greater\")"
   ]
  },
  {
   "cell_type": "code",
   "execution_count": 9,
   "id": "d392d796",
   "metadata": {},
   "outputs": [
    {
     "name": "stdout",
     "output_type": "stream",
     "text": [
      "twinkle twinkle little star,\n",
      " how i wonder what you are!\n",
      " up avobe the world so high,\n",
      " like a diamond in the sky.\n"
     ]
    }
   ],
   "source": [
    "print(\"\"\"twinkle twinkle, little star,\n",
    " how i wonder what you are!\n",
    " up avobe the world so high,\n",
    " like a diamond in the sky.\"\"\")"
   ]
  },
  {
   "cell_type": "code",
   "execution_count": 11,
   "id": "76a305ca",
   "metadata": {},
   "outputs": [
    {
     "name": "stdout",
     "output_type": "stream",
     "text": [
      "\ttwinkle twinkle, little star, \n",
      "\t how i wonder what you are!\n",
      "\t up avobe the world so high,\n",
      "\tlike a diamond in the sky.\n"
     ]
    }
   ],
   "source": [
    "print(\"\\ttwinkle twinkle, little star, \\n\\t how i wonder what you are!\\n\\t up avobe the world so high,\\n\\tlike a diamond in the sky.\")"
   ]
  },
  {
   "cell_type": "code",
   "execution_count": 12,
   "id": "19b5351f",
   "metadata": {},
   "outputs": [
    {
     "name": "stdout",
     "output_type": "stream",
     "text": [
      "python version\n",
      "3.9.12 (main, Apr  4 2022, 05:22:27) [MSC v.1916 64 bit (AMD64)]\n",
      "version info.\n",
      "sys.version_info(major=3, minor=9, micro=12, releaselevel='final', serial=0)\n"
     ]
    }
   ],
   "source": [
    "import sys\n",
    "print(\"python version\")\n",
    "print(sys.version)\n",
    "print(\"version info.\")\n",
    "print(sys.version_info)"
   ]
  },
  {
   "cell_type": "code",
   "execution_count": 15,
   "id": "8bde4719",
   "metadata": {},
   "outputs": [
    {
     "name": "stdout",
     "output_type": "stream",
     "text": [
      "input thhe radius of the circle :5\n",
      "the area of the circle with radiusis: 78.53981633974483\n"
     ]
    }
   ],
   "source": [
    "from math import pi\n",
    "r = float(input(\"input thhe radius of the circle :\"))\n",
    "print(\"the area of the circle with radius\" +  \"is: \" + str(pi * r**2))"
   ]
  },
  {
   "cell_type": "code",
   "execution_count": 20,
   "id": "67380912",
   "metadata": {},
   "outputs": [
    {
     "name": "stdout",
     "output_type": "stream",
     "text": [
      "Enter your first name:-Vishal \n",
      "enter your last name:-Tyagi\n",
      "Hello Tyagi Vishal \n"
     ]
    }
   ],
   "source": [
    "# wap which accept the user first & last name and print them in reverse order with space in between\n",
    "Fname = input(\"Enter your first name:-\")\n",
    "Lname = input(\"enter your last name:-\")\n",
    "print(\"Hello\"  \" \" + Lname +  \" \" + Fname)"
   ]
  },
  {
   "cell_type": "code",
   "execution_count": null,
   "id": "95d6d4c1",
   "metadata": {},
   "outputs": [],
   "source": []
  }
 ],
 "metadata": {
  "kernelspec": {
   "display_name": "Python 3 (ipykernel)",
   "language": "python",
   "name": "python3"
  },
  "language_info": {
   "codemirror_mode": {
    "name": "ipython",
    "version": 3
   },
   "file_extension": ".py",
   "mimetype": "text/x-python",
   "name": "python",
   "nbconvert_exporter": "python",
   "pygments_lexer": "ipython3",
   "version": "3.9.12"
  }
 },
 "nbformat": 4,
 "nbformat_minor": 5
}
