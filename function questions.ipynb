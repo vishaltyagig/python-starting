{
 "cells": [
  {
   "cell_type": "code",
   "execution_count": 6,
   "id": "def6b153",
   "metadata": {},
   "outputs": [
    {
     "name": "stdout",
     "output_type": "stream",
     "text": [
      "enter first no425\n",
      "enter second no565\n",
      "enter third no6556\n",
      "maximum number is :- 6556\n"
     ]
    }
   ],
   "source": [
    "#wap to find max no. from three numbers using function.\n",
    "\n",
    "def maximum(a,b,c):\n",
    "    list = [a,b,c]\n",
    "    return max(list)\n",
    "x = int(input(\"enter first no\"))\n",
    "y = int(input(\"enter second no\"))\n",
    "z = int(input(\"enter third no\"))\n",
    "print(\"maximum number is :-\",maximum(x,y,z))"
   ]
  },
  {
   "cell_type": "code",
   "execution_count": 7,
   "id": "d81e7db8",
   "metadata": {},
   "outputs": [
    {
     "name": "stdout",
     "output_type": "stream",
     "text": [
      "enter first no45\n",
      "enter second no54\n",
      "enter third no65\n",
      "minimum number is :- 45\n"
     ]
    }
   ],
   "source": [
    "#wap to find min no. from three numbers using function.\n",
    "def minimum(a,b,c):\n",
    "    list = [a,b,c]\n",
    "    return min(list)\n",
    "x = int(input(\"enter first no\"))\n",
    "y = int(input(\"enter second no\"))\n",
    "z = int(input(\"enter third no\"))\n",
    "print(\"minimum number is :-\",minimum(x,y,z))"
   ]
  },
  {
   "cell_type": "code",
   "execution_count": 10,
   "id": "65ec20b5",
   "metadata": {},
   "outputs": [
    {
     "ename": "SyntaxError",
     "evalue": "invalid syntax (3932877.py, line 4)",
     "output_type": "error",
     "traceback": [
      "\u001b[1;36m  Input \u001b[1;32mIn [10]\u001b[1;36m\u001b[0m\n\u001b[1;33m    for i in range[]\u001b[0m\n\u001b[1;37m                   ^\u001b[0m\n\u001b[1;31mSyntaxError\u001b[0m\u001b[1;31m:\u001b[0m invalid syntax\n"
     ]
    }
   ],
   "source": [
    "#Wap to sum all number present in a list.\n",
    "\n",
    "lst = [1,2,3,4,5,6]\n",
    "for i in range[]\n",
    "    i = i + lst\n",
    "print(i)"
   ]
  },
  {
   "cell_type": "code",
   "execution_count": null,
   "id": "725eeca5",
   "metadata": {},
   "outputs": [],
   "source": []
  }
 ],
 "metadata": {
  "kernelspec": {
   "display_name": "Python 3 (ipykernel)",
   "language": "python",
   "name": "python3"
  },
  "language_info": {
   "codemirror_mode": {
    "name": "ipython",
    "version": 3
   },
   "file_extension": ".py",
   "mimetype": "text/x-python",
   "name": "python",
   "nbconvert_exporter": "python",
   "pygments_lexer": "ipython3",
   "version": "3.9.12"
  }
 },
 "nbformat": 4,
 "nbformat_minor": 5
}
