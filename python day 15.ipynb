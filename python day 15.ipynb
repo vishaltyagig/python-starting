{
 "cells": [
  {
   "cell_type": "markdown",
   "id": "0ccee42a",
   "metadata": {},
   "source": [
    "## dictionary"
   ]
  },
  {
   "cell_type": "code",
   "execution_count": 1,
   "id": "5b7fc00f",
   "metadata": {},
   "outputs": [
    {
     "name": "stdout",
     "output_type": "stream",
     "text": [
      "in a quick manner\n"
     ]
    }
   ],
   "source": [
    "# it is collections of key and value pair\n",
    "\n",
    "mydict = {\n",
    "    \"fast\": \"in a quick manner\",\n",
    "    \"harry\": \"a coder\"\n",
    "}\n",
    "\n",
    "print(mydict['fast'])"
   ]
  },
  {
   "cell_type": "code",
   "execution_count": 9,
   "id": "1637d48c",
   "metadata": {},
   "outputs": [
    {
     "name": "stdout",
     "output_type": "stream",
     "text": [
      "['fast', 'harry', 'marks', 'anotherdict', 1]\n",
      "dict_values(['in a quick manner', 'a coder', [11, 15, 13], {'harry': 'player'}, 2])\n",
      "dict_items([('fast', 'in a quick manner'), ('harry', 'a coder'), ('marks', [11, 15, 13]), ('anotherdict', {'harry': 'player'}), (1, 2)])\n"
     ]
    }
   ],
   "source": [
    "# it is collections of key and value pair\n",
    "\n",
    "mydict = {\n",
    "    \"fast\": \"in a quick manner\",\n",
    "    \"harry\": \"a coder\",\n",
    "    \"marks\": [11, 15, 13],\n",
    "    \"anotherdict\":{'harry':'player'},\n",
    "    1 : 2\n",
    "}\n",
    "# dictonary methods\n",
    "print(list(mydict.keys()))\n",
    "print(mydict.values())\n",
    "print(mydict.items())"
   ]
  },
  {
   "cell_type": "code",
   "execution_count": 10,
   "id": "c30a97d3",
   "metadata": {},
   "outputs": [
    {
     "name": "stdout",
     "output_type": "stream",
     "text": [
      "{'fast': 'in a quick manner', 'harry': 'a coder', 'marks': [11, 15, 13], 'anotherdict': {'harry': 'player'}, 1: 2}\n",
      "{'fast': 'in a quick manner', 'harry': 'a coder', 'marks': [11, 15, 13], 'anotherdict': {'harry': 'player'}, 1: 2, 'Tyagi': 'friend'}\n"
     ]
    }
   ],
   "source": [
    "mydict = {\n",
    "    \"fast\": \"in a quick manner\",\n",
    "    \"harry\": \"a coder\",\n",
    "    \"marks\": [11, 15, 13],\n",
    "    \"anotherdict\":{'harry':'player'},\n",
    "    1 : 2\n",
    "}\n",
    "# dictonary methods\n",
    "print(mydict)\n",
    "updatedict = {\n",
    "    \"Tyagi\": \"friend\"\n",
    "}\n",
    "mydict.update(updatedict)\n",
    "print(mydict)"
   ]
  },
  {
   "cell_type": "code",
   "execution_count": null,
   "id": "c17480de",
   "metadata": {},
   "outputs": [],
   "source": [
    "mydict = {\n",
    "    \"fast\": \"in a quick manner\",\n",
    "    \"harry\": \"a coder\",\n",
    "    \"marks\": [11, 15, 13],\n",
    "    \"anotherdict\":{'harry':'player'},\n",
    "    1 : 2\n",
    "}\n",
    "# dictonary methods\n",
    "print(mydict)\n",
    "updatedict = {\n",
    "    \"Tyagi\": \"friend\"\n",
    "}\n",
    "mydict.update(updatedict)\n",
    "print(mydict.get(\"harry2\")) # if it is not presnt in dictonary then it gives none.... not a error\n",
    "print(mydict[\"harry\"])"
   ]
  },
  {
   "cell_type": "markdown",
   "id": "79e9ed59",
   "metadata": {},
   "source": [
    "## sets"
   ]
  },
  {
   "cell_type": "code",
   "execution_count": 16,
   "id": "1e9976ba",
   "metadata": {},
   "outputs": [
    {
     "name": "stdout",
     "output_type": "stream",
     "text": [
      "<class 'set'>\n",
      "{1, 5, 6, 7}\n"
     ]
    }
   ],
   "source": [
    "a = {1,5,7,6, 1} # it only shows a item in one time\n",
    "print(type(a))\n",
    "print(a)"
   ]
  },
  {
   "cell_type": "code",
   "execution_count": 19,
   "id": "e00d3f58",
   "metadata": {},
   "outputs": [
    {
     "name": "stdout",
     "output_type": "stream",
     "text": [
      "<class 'set'>\n"
     ]
    }
   ],
   "source": [
    "a = set() # it is an empty set\n",
    "print(type(a))"
   ]
  },
  {
   "cell_type": "code",
   "execution_count": 21,
   "id": "194a8c32",
   "metadata": {},
   "outputs": [
    {
     "name": "stdout",
     "output_type": "stream",
     "text": [
      "<class 'set'>\n",
      "{4, 5}\n"
     ]
    }
   ],
   "source": [
    "a = set() # it is an empty set\n",
    "print(type(a))\n",
    "a.add(4)\n",
    "a.add(5)\n",
    "print(a)"
   ]
  },
  {
   "cell_type": "code",
   "execution_count": 22,
   "id": "07389c33",
   "metadata": {},
   "outputs": [
    {
     "name": "stdout",
     "output_type": "stream",
     "text": [
      "<class 'set'>\n",
      "{1, 4, 6, 7}\n"
     ]
    }
   ],
   "source": [
    "a = {1,5,7,6, 1}\n",
    "print(type(a))\n",
    "a.add(4)\n",
    "a.remove(5)\n",
    "print(a)"
   ]
  },
  {
   "cell_type": "code",
   "execution_count": 24,
   "id": "899f4f00",
   "metadata": {},
   "outputs": [
    {
     "name": "stdout",
     "output_type": "stream",
     "text": [
      "<class 'set'>\n",
      "1\n",
      "{4, 5, 6, 7}\n"
     ]
    }
   ],
   "source": [
    "a = {1,5,7,6, 1}\n",
    "print(type(a))\n",
    "a.add(4)\n",
    "print(a.pop())\n",
    "print(a)"
   ]
  },
  {
   "cell_type": "code",
   "execution_count": 25,
   "id": "3120abb5",
   "metadata": {},
   "outputs": [
    {
     "name": "stdout",
     "output_type": "stream",
     "text": [
      "options are dict_keys(['pankha', 'dabba', 'vastu'])\n",
      "enter the hindi word\n",
      "dabba\n",
      "the meaning of your word is: box\n"
     ]
    }
   ],
   "source": [
    "# exercise \n",
    "\n",
    "# wap to create a dictonary of hindi words with values as their english translateion\n",
    "# provide user with an option to look it up!\n",
    "\n",
    "mydict = {\n",
    "    \"pankha\": \"fan\",\n",
    "    \"dabba\": \"box\",\n",
    "    \"vastu\": \"item\"\n",
    "}\n",
    "print('options are',mydict.keys())\n",
    "a = input(\"enter the hindi word\\n\")\n",
    "print(\"the meaning of your word is:\",mydict[a])"
   ]
  },
  {
   "cell_type": "code",
   "execution_count": 26,
   "id": "98772447",
   "metadata": {},
   "outputs": [
    {
     "name": "stdout",
     "output_type": "stream",
     "text": [
      "options are dict_keys(['pankha', 'dabba', 'vastu'])\n",
      "enter the hindi word\n",
      "sgsr\n",
      "the meaning of your word is: None\n"
     ]
    }
   ],
   "source": [
    "# wap to create a dictonary of hindi words with values as their english translateion\n",
    "# provide user with an option to look it up!\n",
    "\n",
    "mydict = {\n",
    "    \"pankha\": \"fan\",\n",
    "    \"dabba\": \"box\",\n",
    "    \"vastu\": \"item\"\n",
    "}\n",
    "print('options are',mydict.keys())\n",
    "a = input(\"enter the hindi word\\n\")\n",
    "# .get option is not through the output if item is not present in our dictionary\n",
    "print(\"the meaning of your word is:\",mydict.get(a))"
   ]
  },
  {
   "cell_type": "code",
   "execution_count": 27,
   "id": "82a99094",
   "metadata": {},
   "outputs": [
    {
     "name": "stdout",
     "output_type": "stream",
     "text": [
      "Enter number 1\n",
      " 5\n",
      "Enter number 2\n",
      " 6\n",
      "Enter number 3\n",
      " 4\n",
      "Enter number 4\n",
      " 5\n",
      "Enter number 5\n",
      " 7\n",
      "Enter number 6\n",
      " 8\n",
      "Enter number 7\n",
      " 5\n",
      "Enter number 8\n",
      " 9\n",
      "{4, 5, 6, 7, 8, 9}\n"
     ]
    }
   ],
   "source": [
    "# wap to input 8 no. from the user and display all the unique numbers(ones)\n",
    "\n",
    "num1 = int(input(\"Enter number 1\\n \"))\n",
    "num2 = int(input(\"Enter number 2\\n \"))\n",
    "num3 = int(input(\"Enter number 3\\n \"))\n",
    "num4 = int(input(\"Enter number 4\\n \"))\n",
    "num5 = int(input(\"Enter number 5\\n \"))\n",
    "num6 = int(input(\"Enter number 6\\n \"))\n",
    "num7 = int(input(\"Enter number 7\\n \"))\n",
    "num8 = int(input(\"Enter number 8\\n \"))\n",
    "\n",
    "# whenever a program use set it always gives unique vallues in output \n",
    "set = {num1, num2, num3, num4, num5, num6, num7, num8}\n",
    "print(set)"
   ]
  },
  {
   "cell_type": "code",
   "execution_count": 28,
   "id": "0dbb0726",
   "metadata": {},
   "outputs": [
    {
     "name": "stdout",
     "output_type": "stream",
     "text": [
      "{'18', 18}\n"
     ]
    }
   ],
   "source": [
    "# can we have a set with 18(int) amd 18(str) as a value in it ?\n",
    "\n",
    "s = {18, \"18\"}\n",
    "print(s) # yes it both values are seprated with each other"
   ]
  },
  {
   "cell_type": "code",
   "execution_count": 32,
   "id": "78d7ab24",
   "metadata": {},
   "outputs": [
    {
     "name": "stdout",
     "output_type": "stream",
     "text": [
      "(20, 20.0, '20')\n",
      "3\n"
     ]
    }
   ],
   "source": [
    "# what will be the length of following set s\n",
    "s = (20, 20.0, \"20\")\n",
    "print(s)\n",
    "print(len(s))"
   ]
  },
  {
   "cell_type": "code",
   "execution_count": 34,
   "id": "cb83263d",
   "metadata": {},
   "outputs": [
    {
     "name": "stdout",
     "output_type": "stream",
     "text": [
      "enter your favourite language tyagi\n",
      "python\n",
      "enter your favourite language pandit\n",
      "java\n",
      "enter your favourite language panday\n",
      "c\n",
      "enter your favourite language sharma\n",
      "ruby\n",
      "{'tyagi': 'python', 'pandit': 'java', 'panday': 'c', 'sharma': 'ruby'}\n"
     ]
    }
   ],
   "source": [
    "# create an empty dictonary allow 4 friend to enter their favourite language as values\n",
    "# and use keys as their names assume that the names r unique\n",
    "\n",
    "favlang = {}\n",
    "a = input(\"enter your favourite language tyagi\\n\")\n",
    "b = input(\"enter your favourite language pandit\\n\")\n",
    "c = input(\"enter your favourite language panday\\n\")\n",
    "d = input(\"enter your favourite language sharma\\n\")\n",
    "\n",
    "favlang['tyagi'] = a\n",
    "favlang['pandit'] = b\n",
    "favlang['panday'] = c\n",
    "favlang['sharma'] = d\n",
    "\n",
    "print(favlang)"
   ]
  },
  {
   "cell_type": "code",
   "execution_count": 35,
   "id": "b930f856",
   "metadata": {},
   "outputs": [
    {
     "name": "stdout",
     "output_type": "stream",
     "text": [
      "enter your favourite language tyagi\n",
      "python\n",
      "enter your favourite language pandit\n",
      "c++\n",
      "enter your favourite language panday\n",
      "java\n",
      "enter your favourite language sharma\n",
      "c\n",
      "{'tyagi': 'java', 'pandit': 'c++', 'sharma': 'c'}\n"
     ]
    }
   ],
   "source": [
    "# in upper program if names of 2 frds r shame what will happen in the program\n",
    "\n",
    "\n",
    "favlang = {}\n",
    "a = input(\"enter your favourite language tyagi\\n\")\n",
    "b = input(\"enter your favourite language pandit\\n\")\n",
    "c = input(\"enter your favourite language panday\\n\")\n",
    "d = input(\"enter your favourite language sharma\\n\")\n",
    "\n",
    "favlang['tyagi'] = a\n",
    "favlang['pandit'] = b\n",
    "favlang['tyagi'] = c\n",
    "favlang['sharma'] = d\n",
    "\n",
    "print(favlang) # it will produce last value in the program that r given by programmer"
   ]
  },
  {
   "cell_type": "code",
   "execution_count": null,
   "id": "8069e5ad",
   "metadata": {},
   "outputs": [],
   "source": [
    "# if lang is same what will happen\n",
    "\n",
    "\n",
    "favlang = {}\n",
    "a = input(\"enter your favourite language tyagi\\n\")\n",
    "b = input(\"enter your favourite language pandit\\n\")\n",
    "c = input(\"enter your favourite language panday\\n\")\n",
    "d = input(\"enter your favourite language sharma\\n\")\n",
    "\n",
    "favlang['tyagi'] = a\n",
    "favlang['pandit'] = b\n",
    "favlang['panday'] = c\n",
    "favlang['sharma'] = d\n",
    "\n",
    "print(favlang) # values can't be uni"
   ]
  }
 ],
 "metadata": {
  "kernelspec": {
   "display_name": "Python 3 (ipykernel)",
   "language": "python",
   "name": "python3"
  },
  "language_info": {
   "codemirror_mode": {
    "name": "ipython",
    "version": 3
   },
   "file_extension": ".py",
   "mimetype": "text/x-python",
   "name": "python",
   "nbconvert_exporter": "python",
   "pygments_lexer": "ipython3",
   "version": "3.10.9"
  }
 },
 "nbformat": 4,
 "nbformat_minor": 5
}
