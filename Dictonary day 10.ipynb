{
 "cells": [
  {
   "cell_type": "code",
   "execution_count": 2,
   "id": "b7bcf847",
   "metadata": {},
   "outputs": [
    {
     "data": {
      "text/plain": [
       "tuple"
      ]
     },
     "execution_count": 2,
     "metadata": {},
     "output_type": "execute_result"
    }
   ],
   "source": [
    "# 1.Write a Python program to create a tuple.\n",
    "\n",
    "x = (5,9,6,5,8)\n",
    "type(x)"
   ]
  },
  {
   "cell_type": "code",
   "execution_count": 3,
   "id": "db073d97",
   "metadata": {},
   "outputs": [
    {
     "data": {
      "text/plain": [
       "tuple"
      ]
     },
     "execution_count": 3,
     "metadata": {},
     "output_type": "execute_result"
    }
   ],
   "source": [
    "# 2.Write a Python program to create a tuple with \n",
    "# different data types.\n",
    "\n",
    "y = (1,3,6.7,\"hello\",\"Tyagi\",\"G\")\n",
    "type(y)"
   ]
  },
  {
   "cell_type": "code",
   "execution_count": 4,
   "id": "14aef920",
   "metadata": {},
   "outputs": [
    {
     "name": "stdout",
     "output_type": "stream",
     "text": [
      "5\n"
     ]
    }
   ],
   "source": [
    "# 3.Write a Python program to create a tuple with \n",
    "# numbers and print one item.\n",
    "\n",
    "x = (5,9,6,5,8)\n",
    "print(5)"
   ]
  },
  {
   "cell_type": "code",
   "execution_count": 5,
   "id": "46a74ae8",
   "metadata": {},
   "outputs": [],
   "source": [
    "# 4.Write a Python program to add an item in a tuple.\n",
    "\n",
    "x = (5,9,6,5,8)\n",
    "y = list(x)"
   ]
  },
  {
   "cell_type": "code",
   "execution_count": 6,
   "id": "d3941ce7",
   "metadata": {},
   "outputs": [],
   "source": [
    "#5 Write a Python program to convert a tuple to a string.\n",
    "x = (\"hello\",)\n",
    "y = str(x)"
   ]
  },
  {
   "cell_type": "code",
   "execution_count": 7,
   "id": "8fc0b843",
   "metadata": {},
   "outputs": [
    {
     "data": {
      "text/plain": [
       "\"('hello',)\""
      ]
     },
     "execution_count": 7,
     "metadata": {},
     "output_type": "execute_result"
    }
   ],
   "source": [
    "y"
   ]
  },
  {
   "cell_type": "code",
   "execution_count": 8,
   "id": "ed6c9038",
   "metadata": {},
   "outputs": [
    {
     "data": {
      "text/plain": [
       "str"
      ]
     },
     "execution_count": 8,
     "metadata": {},
     "output_type": "execute_result"
    }
   ],
   "source": [
    "type(y)"
   ]
  },
  {
   "cell_type": "code",
   "execution_count": 10,
   "id": "0ba7c5a1",
   "metadata": {},
   "outputs": [
    {
     "name": "stdout",
     "output_type": "stream",
     "text": [
      "div\n",
      "div\n",
      "div\n",
      "div\n",
      "not div\n"
     ]
    }
   ],
   "source": [
    "#6\n",
    "\n",
    "x = [(45,90,75,60,23)]\n",
    "k = 5\n",
    "for i in x:\n",
    "    for j in i:\n",
    "        if j%k == 0:\n",
    "            print(\"div\")\n",
    "        else:\n",
    "            print(\"not div\")"
   ]
  },
  {
   "cell_type": "code",
   "execution_count": 15,
   "id": "57930bb1",
   "metadata": {},
   "outputs": [
    {
     "name": "stdout",
     "output_type": "stream",
     "text": [
      "not similar\n",
      "not similar\n",
      "not similar\n",
      "not similar\n",
      "not similar\n",
      "not similar\n",
      "similar 2 2\n",
      "not similar\n",
      "not similar\n",
      "not similar\n",
      "not similar\n",
      "not similar\n",
      "not similar\n",
      "not similar\n",
      "not similar\n",
      "not similar\n"
     ]
    }
   ],
   "source": [
    "# 14. find the comman element from the list.\n",
    "# x = [1,2,3,4]\n",
    "# y = [45,78,2,90]\n",
    "\n",
    "x = [1,2,3,4]\n",
    "y = [45,78,2,90]\n",
    "for i in x:\n",
    "    for j in y:\n",
    "        if i == j:\n",
    "            print(\"similar\",i,j)\n",
    "        else:\n",
    "            print(\"not similar\")"
   ]
  },
  {
   "cell_type": "code",
   "execution_count": 19,
   "id": "832f7762",
   "metadata": {},
   "outputs": [
    {
     "name": "stdout",
     "output_type": "stream",
     "text": [
      "{1: 0}\n"
     ]
    },
    {
     "data": {
      "text/plain": [
       "dict"
      ]
     },
     "execution_count": 19,
     "metadata": {},
     "output_type": "execute_result"
    }
   ],
   "source": [
    "# wap to make single element dictonary\n",
    "\n",
    "x = {\n",
    "    1:0\n",
    "}\n",
    "print(x)\n",
    "type(x)"
   ]
  },
  {
   "cell_type": "code",
   "execution_count": 1,
   "id": "b91d8a7e",
   "metadata": {},
   "outputs": [
    {
     "data": {
      "text/plain": [
       "[3, 6, 9, 12]"
      ]
     },
     "execution_count": 1,
     "metadata": {},
     "output_type": "execute_result"
    }
   ],
   "source": [
    "x=[1,2,3,4]\n",
    "list(map(lambda a:a*3,x))\n",
    "\n"
   ]
  },
  {
   "cell_type": "code",
   "execution_count": 2,
   "id": "e788d8a4",
   "metadata": {},
   "outputs": [
    {
     "data": {
      "text/plain": [
       "[6, 12, 15, 201, 267, 21]"
      ]
     },
     "execution_count": 2,
     "metadata": {},
     "output_type": "execute_result"
    }
   ],
   "source": [
    "#wap  to triple all no of a given list of integers. Use python map.\n",
    "a= [2,4,5,67,89,7]\n",
    "\n",
    "def fun(a):\n",
    "    return a*3\n",
    "list(map(fun,a))"
   ]
  },
  {
   "cell_type": "code",
   "execution_count": 3,
   "id": "fbd35f22",
   "metadata": {},
   "outputs": [
    {
     "data": {
      "text/plain": [
       "3.0"
      ]
     },
     "execution_count": 3,
     "metadata": {},
     "output_type": "execute_result"
    }
   ],
   "source": [
    "a=lambda p,q,r,s,t:(p+q+r+s+t)/5\n",
    "a(1,2,3,4,5)\n"
   ]
  },
  {
   "cell_type": "code",
   "execution_count": 4,
   "id": "5dbe6aef",
   "metadata": {},
   "outputs": [
    {
     "data": {
      "text/plain": [
       "[48, 9, 80, 893, 37]"
      ]
     },
     "execution_count": 4,
     "metadata": {},
     "output_type": "execute_result"
    }
   ],
   "source": [
    "#wap to add three given list using python map & lambda.\n",
    "a= [45,6,77,890,34]\n",
    "\n",
    "def fun(a):\n",
    "    return a+3\n",
    "\n",
    "list(map(fun,a))\n"
   ]
  },
  {
   "cell_type": "code",
   "execution_count": null,
   "id": "7cb022b3",
   "metadata": {},
   "outputs": [],
   "source": []
  }
 ],
 "metadata": {
  "kernelspec": {
   "display_name": "Python 3 (ipykernel)",
   "language": "python",
   "name": "python3"
  },
  "language_info": {
   "codemirror_mode": {
    "name": "ipython",
    "version": 3
   },
   "file_extension": ".py",
   "mimetype": "text/x-python",
   "name": "python",
   "nbconvert_exporter": "python",
   "pygments_lexer": "ipython3",
   "version": "3.9.12"
  }
 },
 "nbformat": 4,
 "nbformat_minor": 5
}
